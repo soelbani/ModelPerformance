{
 "cells": [
  {
   "cell_type": "code",
   "execution_count": 63,
   "metadata": {},
   "outputs": [],
   "source": [
    "import pandas as pd\n",
    "import numpy as np"
   ]
  },
  {
   "cell_type": "code",
   "execution_count": 64,
   "metadata": {},
   "outputs": [],
   "source": [
    "def kd_adjust(data):        \n",
    "    station_KD = []\n",
    "    station_SD = []\n",
    "    for measurement in data['Measurement']:\n",
    "        if 'KD' in measurement:\n",
    "            kd_idx = measurement\n",
    "            station_KD = data['Station'][data['Measurement']==kd_idx]\n",
    "        if 'SD' in measurement:\n",
    "            sd_idx = measurement\n",
    "            station_SD = data['Station'][data['Measurement']==sd_idx]\n",
    "    for i in range(len(list(station_KD))):\n",
    "        if list(station_KD)[i] == list(station_SD)[i]:\n",
    "            data = data.drop(station_SD.index[i], axis = 0)\n",
    "    data.index = range(len(data))\n",
    "    return data"
   ]
  },
  {
   "cell_type": "code",
   "execution_count": 65,
   "metadata": {},
   "outputs": [
    {
     "name": "stderr",
     "output_type": "stream",
     "text": [
      "C:\\Users\\SONI\\AppData\\Local\\Continuum\\anaconda3\\lib\\site-packages\\ipykernel_launcher.py:32: SettingWithCopyWarning: \n",
      "A value is trying to be set on a copy of a slice from a DataFrame\n",
      "\n",
      "See the caveats in the documentation: http://pandas.pydata.org/pandas-docs/stable/indexing.html#indexing-view-versus-copy\n",
      "C:\\Users\\SONI\\AppData\\Local\\Continuum\\anaconda3\\lib\\site-packages\\ipykernel_launcher.py:36: SettingWithCopyWarning: \n",
      "A value is trying to be set on a copy of a slice from a DataFrame\n",
      "\n",
      "See the caveats in the documentation: http://pandas.pydata.org/pandas-docs/stable/indexing.html#indexing-view-versus-copy\n",
      "C:\\Users\\SONI\\AppData\\Local\\Continuum\\anaconda3\\lib\\site-packages\\ipykernel_launcher.py:34: SettingWithCopyWarning: \n",
      "A value is trying to be set on a copy of a slice from a DataFrame\n",
      "\n",
      "See the caveats in the documentation: http://pandas.pydata.org/pandas-docs/stable/indexing.html#indexing-view-versus-copy\n",
      "C:\\Users\\SONI\\AppData\\Local\\Continuum\\anaconda3\\lib\\site-packages\\pandas\\core\\frame.py:6692: FutureWarning: Sorting because non-concatenation axis is not aligned. A future version\n",
      "of pandas will change to not sort by default.\n",
      "\n",
      "To accept the future behavior, pass 'sort=False'.\n",
      "\n",
      "To retain the current behavior and silence the warning, pass 'sort=True'.\n",
      "\n",
      "  sort=sort)\n"
     ]
    }
   ],
   "source": [
    "## import excel files set define df\n",
    "ts_data = pd.read_excel(\"//dkcph1-stor2.dhi.dk/projects/11823492/03_MarineExplorer/Marine Explorer/MarineExplorerEco/Tools/Matlab/ModelPerformance/Performance_Plots/Ringkoebing Fjord/2020/23-Mar-2020_ModelPerformance_TS_2002_2016_misa_Ringkoebing Fjord.xlsx\")\n",
    "kd_data = pd.read_excel(\"//dkcph1-stor2.dhi.dk/projects/11823492/03_MarineExplorer/Marine Explorer/MarineExplorerEco/Tools/Matlab/ModelPerformance/Performance_Plots/Ringkoebing Fjord/2020/20-Mar-2020_ModelPerformance_KD_TS_2002_2016_misa_Ringkoebing Fjord.xlsx\")\n",
    "\n",
    "# define data frame\n",
    "df = pd.DataFrame(ts_data[ts_data.columns[0:8]])\n",
    "df = df.append(kd_data[kd_data.columns[0:8]], ignore_index=True)\n",
    "df['Percent_Bias']=np.absolute(df['Percent_Bias'])\n",
    "\n",
    "index_DO = []\n",
    "index_TN = []\n",
    "index_TP = []\n",
    "for i in range(len(df)):\n",
    "    if 'DO' in df['Measurement'][i]:\n",
    "        index_DO.append(i)\n",
    "    if 'TN' in df['Measurement'][i]:\n",
    "        index_TN.append(i)\n",
    "    if 'TP' in df['Measurement'][i]:\n",
    "        index_TP.append(i)\n",
    "\n",
    "stations_incl = df[\"Station\"][index_TN].unique()\n",
    "df_new = pd.DataFrame()\n",
    "for i in range(len(stations_incl)):\n",
    "    tmp1 = df.loc[df['Station']==stations_incl[i]]\n",
    "    df_new = df_new.append(tmp1, ignore_index = True)\n",
    "\n",
    "df_new['Standard']=0\n",
    "df_new['Summer']=0\n",
    "df_new['Winter']=0\n",
    "for i in range(len(df_new)):\n",
    "    if 'Standard' in df_new['Measurement'][i]:\n",
    "        df_new['Standard'][i]=1 \n",
    "    if 'Summer' in df_new['Measurement'][i]:\n",
    "        df_new['Summer'][i]=1 \n",
    "    if 'Winter' in df_new['Measurement'][i]:\n",
    "        df_new['Winter'][i]=1 \n",
    "\n",
    "df_year = df_new.loc[df_new['Standard']>0]\n",
    "df_summer = df_new.loc[df_new['Summer']>0]\n",
    "df_winter = df_new.loc[df_new['Winter']>0]\n",
    "\n",
    "df_year_adj = kd_adjust(df_year)\n",
    "df_summer_adj = kd_adjust(df_summer)\n",
    "\n",
    "df_sumwint = pd.DataFrame()\n",
    "df_sumwint = df_sumwint.append(df_summer_adj, ignore_index = True)\n",
    "df_sumwint = df_sumwint.append(df_winter, ignore_index = True)\n",
    "df_sumwint.append(df.loc[index_TN], ignore_index = True)\n",
    "df_sumwint.append(df.loc[index_TP], ignore_index = True)\n",
    "df_sumwint.append(df.loc[index_DO], ignore_index = True)\n",
    "\n",
    "df_all = df_year_adj\n",
    "df_all = df_all.append(df_summer_adj, ignore_index = True)\n",
    "df_all = df_all.append(df_winter, ignore_index = True)\n",
    "\n",
    "\n"
   ]
  },
  {
   "cell_type": "code",
   "execution_count": 66,
   "metadata": {},
   "outputs": [],
   "source": [
    "def Pbias_perform(dataframe):\n",
    "    perform_Pbias = []\n",
    "    for i in range(len(dataframe)):\n",
    "        if np.absolute(dataframe['Percent_Bias'][i]) <10:\n",
    "            perform_Pbias.append([dataframe['Station'][i],dataframe['Measurement'][i],dataframe['Percent_Bias'][i],dataframe['Total_Number_Of_Observations_1'][i],'Excellent', 'P_Bias'])\n",
    "        if np.absolute(dataframe['Percent_Bias'][i]) >=10 and np.absolute(dataframe['Percent_Bias'][i]) <=20:\n",
    "            perform_Pbias.append([dataframe['Station'][i],dataframe['Measurement'][i],dataframe['Percent_Bias'][i],dataframe['Total_Number_Of_Observations_1'][i],'Very good', 'P_Bias'])\n",
    "        if np.absolute(dataframe['Percent_Bias'][i]) >20 and np.absolute(dataframe['Percent_Bias'][i]) <=40:\n",
    "            perform_Pbias.append([dataframe['Station'][i],dataframe['Measurement'][i],dataframe['Percent_Bias'][i],dataframe['Total_Number_Of_Observations_1'][i],'Good', 'P_Bias'])    \n",
    "        if np.absolute(dataframe['Percent_Bias'][i]) >40:\n",
    "            perform_Pbias.append([dataframe['Station'][i],dataframe['Measurement'][i],dataframe['Percent_Bias'][i],dataframe['Total_Number_Of_Observations_1'][i],'Poor', 'P_Bias'])  \n",
    "    PerformPbias = pd.DataFrame(perform_Pbias)\n",
    "    PerformPbias.columns = ['Station','Measurement','Stat_Value','Total_No_Obs','Performance', 'QMeasure']\n",
    "    return PerformPbias\n",
    "    \n",
    "def SRC_perform(dataframe):\n",
    "    perform_SRC = []\n",
    "    for i in range(len(dataframe)):\n",
    "        if dataframe['Spearman_Rank_Correlation'][i] >0.9:\n",
    "            perform_SRC.append([dataframe['Station'][i],dataframe['Measurement'][i],dataframe['Spearman_Rank_Correlation'][i],dataframe['Total_Number_Of_Observations_1'][i],'Excellent','SRC'])\n",
    "        if dataframe['Spearman_Rank_Correlation'][i] <=0.9 and dataframe['Spearman_Rank_Correlation'][i] >=0.6:\n",
    "            perform_SRC.append([dataframe['Station'][i],dataframe['Measurement'][i],dataframe['Spearman_Rank_Correlation'][i],dataframe['Total_Number_Of_Observations_1'][i],'Very good','SRC'])\n",
    "        if dataframe['Spearman_Rank_Correlation'][i] <0.6 and dataframe['Spearman_Rank_Correlation'][i] >=0.3:\n",
    "            perform_SRC.append([dataframe['Station'][i],dataframe['Measurement'][i],dataframe['Spearman_Rank_Correlation'][i],dataframe['Total_Number_Of_Observations_1'][i],'Good','SRC'])    \n",
    "        if dataframe['Spearman_Rank_Correlation'][i] <0.3:\n",
    "            perform_SRC.append([dataframe['Station'][i],dataframe['Measurement'][i],dataframe['Spearman_Rank_Correlation'][i],dataframe['Total_Number_Of_Observations_1'][i],'Poor','SRC'])                                                                                                                                          \n",
    "    PerformSRC = pd.DataFrame(perform_SRC)\n",
    "    PerformSRC.columns = ['Station','Measurement','Stat_Value','Total_No_Obs','Performance', 'QMeasure']\n",
    "    return PerformSRC\n",
    "    \n",
    "def MEF_perform(dataframe):       \n",
    "    perform_MEF = []\n",
    "    for i in range(len(dataframe)):\n",
    "        if dataframe['Efficiency_Factor'][i] >0.8:\n",
    "            perform_MEF.append([dataframe['Station'][i],dataframe['Measurement'][i],dataframe['Efficiency_Factor'][i],dataframe['Total_Number_Of_Observations_1'][i],'Excellent','MEF'])\n",
    "        if dataframe['Efficiency_Factor'][i] <=0.8 and dataframe['Efficiency_Factor'][i] >=0.5:\n",
    "            perform_MEF.append([dataframe['Station'][i],dataframe['Measurement'][i],dataframe['Efficiency_Factor'][i],dataframe['Total_Number_Of_Observations_1'][i],'Very good','MEF'])\n",
    "        if dataframe['Efficiency_Factor'][i] <0.5 and dataframe['Efficiency_Factor'][i] >=0.2:\n",
    "            perform_MEF.append([dataframe['Station'][i],dataframe['Measurement'][i],dataframe['Efficiency_Factor'][i],dataframe['Total_Number_Of_Observations_1'][i],'Good','MEF'])    \n",
    "        if dataframe['Efficiency_Factor'][i] <0.2:\n",
    "            perform_MEF.append([dataframe['Station'][i],dataframe['Measurement'][i],dataframe['Efficiency_Factor'][i],dataframe['Total_Number_Of_Observations_1'][i],'Poor','MEF'])  \n",
    "    PerformMEF = pd.DataFrame(perform_MEF)\n",
    "    PerformMEF.columns = ['Station','Measurement','Stat_Value','Total_No_Obs','Performance', 'QMeasure']\n",
    "    return PerformMEF\n",
    "    \n",
    "\n",
    "def CF_perform(dataframe):\n",
    "    perform_CF = []\n",
    "    for i in range(len(dataframe)):\n",
    "        if dataframe['Cost_Function'][i] <=0.4:\n",
    "            perform_CF.append([dataframe['Station'][i],dataframe['Measurement'][i],dataframe['Cost_Function'][i],dataframe['Total_Number_Of_Observations_1'][i],'Excellent','CF'])\n",
    "        if dataframe['Cost_Function'][i] >0.4 and dataframe['Cost_Function'][i] <=1:\n",
    "            perform_CF.append([dataframe['Station'][i],dataframe['Measurement'][i],dataframe['Cost_Function'][i],dataframe['Total_Number_Of_Observations_1'][i],'Very good','CF'])\n",
    "        if dataframe['Cost_Function'][i] >1 and dataframe['Cost_Function'][i] <3:\n",
    "            perform_CF.append([dataframe['Station'][i],dataframe['Measurement'][i],dataframe['Cost_Function'][i],dataframe['Total_Number_Of_Observations_1'][i],'Good','CF'])    \n",
    "        if dataframe['Cost_Function'][i] >=3:\n",
    "            perform_CF.append([dataframe['Station'][i],dataframe['Measurement'][i],dataframe['Cost_Function'][i],dataframe['Total_Number_Of_Observations_1'][i],'Poor','CF'])  \n",
    "    PerformCF = pd.DataFrame(perform_CF)\n",
    "    PerformCF.columns = ['Station','Measurement','Stat_Value','Total_No_Obs','Performance', 'QMeasure']\n",
    "    return PerformCF\n",
    "    \n",
    "def R2_perform(dataframe):\n",
    "    perform_R2 = []\n",
    "    for i in range(len(dataframe)):\n",
    "        if dataframe['R2'][i] >0.65:\n",
    "            perform_R2.append([dataframe['Station'][i],dataframe['Measurement'][i],dataframe['R2'][i],dataframe['Total_Number_Of_Observations_1'][i],'Excellent','R2'])\n",
    "        if dataframe['R2'][i] <=0.65 and dataframe['R2'][i] >=0.35:\n",
    "            perform_R2.append([dataframe['Station'][i],dataframe['Measurement'][i],dataframe['R2'][i],dataframe['Total_Number_Of_Observations_1'][i],'Very good','R2'])\n",
    "        if dataframe['R2'][i] <0.35 and dataframe['R2'][i] >=0.175:\n",
    "            perform_R2.append([dataframe['Station'][i],dataframe['Measurement'][i],dataframe['R2'][i],dataframe['Total_Number_Of_Observations_1'][i],'Good','R2'])    \n",
    "        if dataframe['R2'][i] <0.175:\n",
    "            perform_R2.append([dataframe['Station'][i],dataframe['Measurement'][i],dataframe['R2'][i],dataframe['Total_Number_Of_Observations_1'][i],'Poor','R2'])  \n",
    "    PerformR2 = pd.DataFrame(perform_R2)\n",
    "    PerformR2.columns = ['Station','Measurement','Stat_Value','Total_No_Obs','Performance', 'QMeasure']\n",
    "    return PerformR2"
   ]
  },
  {
   "cell_type": "code",
   "execution_count": 67,
   "metadata": {},
   "outputs": [],
   "source": [
    "def collect_param_df(dataframe, param):\n",
    "    param_perform = pd.DataFrame()\n",
    "    for i in range(len(dataframe)):\n",
    "        if param in dataframe['Measurement'][i]:\n",
    "            tmp = pd.DataFrame(dataframe.loc[i]).T\n",
    "            param_perform = param_perform.append(tmp, ignore_index = True)\n",
    "    \n",
    "    return param_perform\n",
    "\n",
    "def distribution(data_stat, Qmeasure):\n",
    "    A = (len(data_stat[data_stat['Performance']=='Excellent'])/len(data_stat))*100\n",
    "    B = (len(data_stat[data_stat['Performance']=='Very good'])/len(data_stat))*100\n",
    "    C = (len(data_stat[data_stat['Performance']=='Good'])/len(data_stat))*100\n",
    "    D = (len(data_stat[data_stat['Performance']=='Poor'])/len(data_stat))*100\n",
    "    AbovePoor = (A+B+C)\n",
    "    Dist_stat = pd.DataFrame([round(A,1), round(B,1), round(C,1), round(D,1), round(AbovePoor,2), Qmeasure]).T\n",
    "    Dist_stat.columns = ['Excellent','Very good', 'Good','Poor', 'Above poor', 'Quality Measure']\n",
    "    return Dist_stat\n"
   ]
  },
  {
   "cell_type": "code",
   "execution_count": 68,
   "metadata": {},
   "outputs": [],
   "source": [
    "year_SRC = SRC_perform(df_year_adj)\n",
    "year_Pbias = Pbias_perform(df_year_adj)\n",
    "year_MEF = MEF_perform(df_year_adj)\n",
    "year_CF = CF_perform(df_year_adj)\n",
    "year_R2 = R2_perform(df_year_adj)\n",
    "\n",
    "sumwint_Pbias = Pbias_perform(df_sumwint)        \n",
    "sumwint_SRC = SRC_perform(df_sumwint)\n",
    "sumwint_MEF = MEF_perform(df_sumwint)\n",
    "sumwint_CF = CF_perform(df_sumwint)\n",
    "sumwint_R2 = R2_perform(df_sumwint)"
   ]
  },
  {
   "cell_type": "markdown",
   "metadata": {},
   "source": [
    "### Model Performance"
   ]
  },
  {
   "cell_type": "markdown",
   "metadata": {},
   "source": [
    "The model performance for all measurements evaluated against five quality measures is presented in the table below"
   ]
  },
  {
   "cell_type": "code",
   "execution_count": 69,
   "metadata": {},
   "outputs": [
    {
     "data": {
      "text/html": [
       "<style  type=\"text/css\" >\n",
       "</style><table id=\"T_596b3802_8ec6_11ea_9acc_4889e7f3390e\" ><thead>    <tr>        <th class=\"col_heading level0 col0\" >Excellent</th>        <th class=\"col_heading level0 col1\" >Very good</th>        <th class=\"col_heading level0 col2\" >Good</th>        <th class=\"col_heading level0 col3\" >Poor</th>        <th class=\"col_heading level0 col4\" >Above poor</th>        <th class=\"col_heading level0 col5\" >Quality Measure</th>    </tr></thead><tbody>\n",
       "                <tr>\n",
       "                                <td id=\"T_596b3802_8ec6_11ea_9acc_4889e7f3390erow0_col0\" class=\"data row0 col0\" >8.2</td>\n",
       "                        <td id=\"T_596b3802_8ec6_11ea_9acc_4889e7f3390erow0_col1\" class=\"data row0 col1\" >30.9</td>\n",
       "                        <td id=\"T_596b3802_8ec6_11ea_9acc_4889e7f3390erow0_col2\" class=\"data row0 col2\" >24.5</td>\n",
       "                        <td id=\"T_596b3802_8ec6_11ea_9acc_4889e7f3390erow0_col3\" class=\"data row0 col3\" >36.4</td>\n",
       "                        <td id=\"T_596b3802_8ec6_11ea_9acc_4889e7f3390erow0_col4\" class=\"data row0 col4\" >63.64</td>\n",
       "                        <td id=\"T_596b3802_8ec6_11ea_9acc_4889e7f3390erow0_col5\" class=\"data row0 col5\" >All Quality Measures</td>\n",
       "            </tr>\n",
       "    </tbody></table>"
      ],
      "text/plain": [
       "<pandas.io.formats.style.Styler at 0x1f250a14a90>"
      ]
     },
     "execution_count": 69,
     "metadata": {},
     "output_type": "execute_result"
    }
   ],
   "source": [
    "all_Pbias = Pbias_perform(df_all)\n",
    "all_SRC = SRC_perform(df_all)\n",
    "all_MEF = MEF_perform(df_all)\n",
    "all_CF = CF_perform(df_all)\n",
    "all_R2 = R2_perform(df_all)\n",
    "\n",
    "# all data all measures:\n",
    "all_stats = all_Pbias.append(all_SRC, ignore_index = True)\n",
    "all_stats = all_stats.append(all_MEF, ignore_index = True)\n",
    "all_stats = all_stats.append(all_CF, ignore_index = True)\n",
    "all_stats = all_stats.append(all_R2, ignore_index = True)\n",
    "\n",
    "# all stats performance measure:\n",
    "DistAll = distribution(all_stats,'All Quality Measures')\n",
    "DistAll.style.hide_index()"
   ]
  },
  {
   "cell_type": "markdown",
   "metadata": {},
   "source": [
    "### Model performance above poor for each quality measure\n",
    "\n",
    "Model performance for all measurements evaluated from each of the quality measure:"
   ]
  },
  {
   "cell_type": "code",
   "execution_count": 70,
   "metadata": {},
   "outputs": [
    {
     "data": {
      "text/html": [
       "<style  type=\"text/css\" >\n",
       "</style><table id=\"T_59701802_8ec6_11ea_aa51_4889e7f3390e\" ><thead>    <tr>        <th class=\"col_heading level0 col0\" >Excellent</th>        <th class=\"col_heading level0 col1\" >Very good</th>        <th class=\"col_heading level0 col2\" >Good</th>        <th class=\"col_heading level0 col3\" >Poor</th>        <th class=\"col_heading level0 col4\" >Above poor</th>        <th class=\"col_heading level0 col5\" >Quality Measure</th>    </tr></thead><tbody>\n",
       "                <tr>\n",
       "                                <td id=\"T_59701802_8ec6_11ea_aa51_4889e7f3390erow0_col0\" class=\"data row0 col0\" >13.6</td>\n",
       "                        <td id=\"T_59701802_8ec6_11ea_aa51_4889e7f3390erow0_col1\" class=\"data row0 col1\" >4.5</td>\n",
       "                        <td id=\"T_59701802_8ec6_11ea_aa51_4889e7f3390erow0_col2\" class=\"data row0 col2\" >45.5</td>\n",
       "                        <td id=\"T_59701802_8ec6_11ea_aa51_4889e7f3390erow0_col3\" class=\"data row0 col3\" >36.4</td>\n",
       "                        <td id=\"T_59701802_8ec6_11ea_aa51_4889e7f3390erow0_col4\" class=\"data row0 col4\" >63.64</td>\n",
       "                        <td id=\"T_59701802_8ec6_11ea_aa51_4889e7f3390erow0_col5\" class=\"data row0 col5\" >P_Bias</td>\n",
       "            </tr>\n",
       "            <tr>\n",
       "                                <td id=\"T_59701802_8ec6_11ea_aa51_4889e7f3390erow1_col0\" class=\"data row1 col0\" >0</td>\n",
       "                        <td id=\"T_59701802_8ec6_11ea_aa51_4889e7f3390erow1_col1\" class=\"data row1 col1\" >45.5</td>\n",
       "                        <td id=\"T_59701802_8ec6_11ea_aa51_4889e7f3390erow1_col2\" class=\"data row1 col2\" >18.2</td>\n",
       "                        <td id=\"T_59701802_8ec6_11ea_aa51_4889e7f3390erow1_col3\" class=\"data row1 col3\" >36.4</td>\n",
       "                        <td id=\"T_59701802_8ec6_11ea_aa51_4889e7f3390erow1_col4\" class=\"data row1 col4\" >63.64</td>\n",
       "                        <td id=\"T_59701802_8ec6_11ea_aa51_4889e7f3390erow1_col5\" class=\"data row1 col5\" >SRC</td>\n",
       "            </tr>\n",
       "            <tr>\n",
       "                                <td id=\"T_59701802_8ec6_11ea_aa51_4889e7f3390erow2_col0\" class=\"data row2 col0\" >0</td>\n",
       "                        <td id=\"T_59701802_8ec6_11ea_aa51_4889e7f3390erow2_col1\" class=\"data row2 col1\" >13.6</td>\n",
       "                        <td id=\"T_59701802_8ec6_11ea_aa51_4889e7f3390erow2_col2\" class=\"data row2 col2\" >13.6</td>\n",
       "                        <td id=\"T_59701802_8ec6_11ea_aa51_4889e7f3390erow2_col3\" class=\"data row2 col3\" >72.7</td>\n",
       "                        <td id=\"T_59701802_8ec6_11ea_aa51_4889e7f3390erow2_col4\" class=\"data row2 col4\" >27.27</td>\n",
       "                        <td id=\"T_59701802_8ec6_11ea_aa51_4889e7f3390erow2_col5\" class=\"data row2 col5\" >MEF</td>\n",
       "            </tr>\n",
       "            <tr>\n",
       "                                <td id=\"T_59701802_8ec6_11ea_aa51_4889e7f3390erow3_col0\" class=\"data row3 col0\" >0</td>\n",
       "                        <td id=\"T_59701802_8ec6_11ea_aa51_4889e7f3390erow3_col1\" class=\"data row3 col1\" >68.2</td>\n",
       "                        <td id=\"T_59701802_8ec6_11ea_aa51_4889e7f3390erow3_col2\" class=\"data row3 col2\" >31.8</td>\n",
       "                        <td id=\"T_59701802_8ec6_11ea_aa51_4889e7f3390erow3_col3\" class=\"data row3 col3\" >0</td>\n",
       "                        <td id=\"T_59701802_8ec6_11ea_aa51_4889e7f3390erow3_col4\" class=\"data row3 col4\" >100</td>\n",
       "                        <td id=\"T_59701802_8ec6_11ea_aa51_4889e7f3390erow3_col5\" class=\"data row3 col5\" >CF</td>\n",
       "            </tr>\n",
       "            <tr>\n",
       "                                <td id=\"T_59701802_8ec6_11ea_aa51_4889e7f3390erow4_col0\" class=\"data row4 col0\" >27.3</td>\n",
       "                        <td id=\"T_59701802_8ec6_11ea_aa51_4889e7f3390erow4_col1\" class=\"data row4 col1\" >22.7</td>\n",
       "                        <td id=\"T_59701802_8ec6_11ea_aa51_4889e7f3390erow4_col2\" class=\"data row4 col2\" >13.6</td>\n",
       "                        <td id=\"T_59701802_8ec6_11ea_aa51_4889e7f3390erow4_col3\" class=\"data row4 col3\" >36.4</td>\n",
       "                        <td id=\"T_59701802_8ec6_11ea_aa51_4889e7f3390erow4_col4\" class=\"data row4 col4\" >63.64</td>\n",
       "                        <td id=\"T_59701802_8ec6_11ea_aa51_4889e7f3390erow4_col5\" class=\"data row4 col5\" >R2</td>\n",
       "            </tr>\n",
       "    </tbody></table>"
      ],
      "text/plain": [
       "<pandas.io.formats.style.Styler at 0x1f250c756d8>"
      ]
     },
     "execution_count": 70,
     "metadata": {},
     "output_type": "execute_result"
    }
   ],
   "source": [
    "DistQmeas = distribution(all_Pbias,'P_Bias')\n",
    "tmp = distribution(all_SRC,'SRC')\n",
    "DistQmeas = DistQmeas.append(tmp, ignore_index = True)\n",
    "tmp = distribution(all_MEF,'MEF')\n",
    "DistQmeas = DistQmeas.append(tmp, ignore_index = True)\n",
    "tmp = distribution(all_CF,'CF')\n",
    "DistQmeas = DistQmeas.append(tmp, ignore_index = True)\n",
    "tmp = distribution(all_R2,'R2')\n",
    "DistQmeas = DistQmeas.append(tmp, ignore_index = True)\n",
    "DistQmeas.style.hide_index()"
   ]
  },
  {
   "cell_type": "markdown",
   "metadata": {},
   "source": [
    "### Model performance for each station\n",
    "\n",
    "Model performance for all quality measures for each station, percentage above poor:"
   ]
  },
  {
   "cell_type": "code",
   "execution_count": 71,
   "metadata": {},
   "outputs": [
    {
     "data": {
      "text/html": [
       "<style  type=\"text/css\" >\n",
       "</style><table id=\"T_59740b9a_8ec6_11ea_a1b3_4889e7f3390e\" ><thead>    <tr>        <th class=\"col_heading level0 col0\" >Excellent</th>        <th class=\"col_heading level0 col1\" >Very good</th>        <th class=\"col_heading level0 col2\" >Good</th>        <th class=\"col_heading level0 col3\" >Poor</th>        <th class=\"col_heading level0 col4\" >Above poor</th>        <th class=\"col_heading level0 col5\" >Quality Measure</th>        <th class=\"col_heading level0 col6\" >Station</th>    </tr></thead><tbody>\n",
       "                <tr>\n",
       "                                <td id=\"T_59740b9a_8ec6_11ea_a1b3_4889e7f3390erow0_col0\" class=\"data row0 col0\" >9.1</td>\n",
       "                        <td id=\"T_59740b9a_8ec6_11ea_a1b3_4889e7f3390erow0_col1\" class=\"data row0 col1\" >30.9</td>\n",
       "                        <td id=\"T_59740b9a_8ec6_11ea_a1b3_4889e7f3390erow0_col2\" class=\"data row0 col2\" >21.8</td>\n",
       "                        <td id=\"T_59740b9a_8ec6_11ea_a1b3_4889e7f3390erow0_col3\" class=\"data row0 col3\" >38.2</td>\n",
       "                        <td id=\"T_59740b9a_8ec6_11ea_a1b3_4889e7f3390erow0_col4\" class=\"data row0 col4\" >61.82</td>\n",
       "                        <td id=\"T_59740b9a_8ec6_11ea_a1b3_4889e7f3390erow0_col5\" class=\"data row0 col5\" >All Q measures</td>\n",
       "                        <td id=\"T_59740b9a_8ec6_11ea_a1b3_4889e7f3390erow0_col6\" class=\"data row0 col6\" >RKB1</td>\n",
       "            </tr>\n",
       "            <tr>\n",
       "                                <td id=\"T_59740b9a_8ec6_11ea_a1b3_4889e7f3390erow1_col0\" class=\"data row1 col0\" >7.3</td>\n",
       "                        <td id=\"T_59740b9a_8ec6_11ea_a1b3_4889e7f3390erow1_col1\" class=\"data row1 col1\" >30.9</td>\n",
       "                        <td id=\"T_59740b9a_8ec6_11ea_a1b3_4889e7f3390erow1_col2\" class=\"data row1 col2\" >27.3</td>\n",
       "                        <td id=\"T_59740b9a_8ec6_11ea_a1b3_4889e7f3390erow1_col3\" class=\"data row1 col3\" >34.5</td>\n",
       "                        <td id=\"T_59740b9a_8ec6_11ea_a1b3_4889e7f3390erow1_col4\" class=\"data row1 col4\" >65.45</td>\n",
       "                        <td id=\"T_59740b9a_8ec6_11ea_a1b3_4889e7f3390erow1_col5\" class=\"data row1 col5\" >All Q measures</td>\n",
       "                        <td id=\"T_59740b9a_8ec6_11ea_a1b3_4889e7f3390erow1_col6\" class=\"data row1 col6\" >RKB10</td>\n",
       "            </tr>\n",
       "    </tbody></table>"
      ],
      "text/plain": [
       "<pandas.io.formats.style.Styler at 0x1f250c33cf8>"
      ]
     },
     "execution_count": 71,
     "metadata": {},
     "output_type": "execute_result"
    }
   ],
   "source": [
    "stations = df_all['Station'].unique()\n",
    "DistStations = pd.DataFrame()\n",
    "for station in stations:\n",
    "    station_stats = all_stats[all_stats['Station']==station]\n",
    "    tmp1 = distribution(station_stats,'All Q measures')\n",
    "    tmp1['Station'] = station\n",
    "    DistStations = DistStations.append(tmp1, ignore_index = True)\n",
    "DistStations.style.hide_index()"
   ]
  },
  {
   "cell_type": "markdown",
   "metadata": {},
   "source": [
    "### Model performance, all parameters"
   ]
  },
  {
   "cell_type": "code",
   "execution_count": 72,
   "metadata": {},
   "outputs": [
    {
     "name": "stdout",
     "output_type": "stream",
     "text": [
      "Here you will find a summary of modelperformance. Use the drop down function to select the different stations used for calibration/validation\n"
     ]
    },
    {
     "data": {
      "application/vnd.jupyter.widget-view+json": {
       "model_id": "2f4d70efce77435b8f9b9d564b861565",
       "version_major": 2,
       "version_minor": 0
      },
      "text/plain": [
       "interactive(children=(Dropdown(description='Station', options=('RKB1', 'RKB10'), value='RKB1'), Output()), _do…"
      ]
     },
     "metadata": {},
     "output_type": "display_data"
    }
   ],
   "source": [
    "stations = df_all['Station'].unique()\n",
    "from ipywidgets import interact\n",
    "if len(df_all['Station'].unique()) <=5:\n",
    "    print('Here you will find a summary of modelperformance. Use the drop down function to select the different stations used for calibration/validation')\n",
    "    @interact\n",
    "    def show_ts(Station = stations):\n",
    "        station_table = df_all.loc[df_all['Station']==Station]\n",
    "        station_table = station_table.drop(['Station','Standard','Summer','Winter'], axis=1)\n",
    "        station_table['Percent_Bias'] = round(station_table['Percent_Bias'],1)\n",
    "        station_table['Spearman_Rank_Correlation'] = round(station_table['Spearman_Rank_Correlation'],2)\n",
    "        station_table['Efficiency_Factor'] = round(station_table['Efficiency_Factor'],2)\n",
    "        station_table['Cost_Function'] = round(station_table['Cost_Function'],2)\n",
    "        station_table['R2'] = round(station_table['R2'],2)\n",
    "\n",
    "        return station_table.style.hide_index()"
   ]
  },
  {
   "cell_type": "code",
   "execution_count": 73,
   "metadata": {},
   "outputs": [],
   "source": [
    "if len(df_all['Station'].unique()) >5:\n",
    "    Qmeas = ['Percent_Bias','Spearman_Rank_Correlation','Efficiency_Factor','Cost_Function','R2']\n",
    "    print('Here you will find a summary of modelperformance. Use the drop down function to select the different quality measure')\n",
    "    @interact\n",
    "    def show_ts(QMeasure=Qmeas):\n",
    "        station_Meas = df_all['Measurement'].unique()\n",
    "        Stat_table = pd.DataFrame()\n",
    "        for station in df_all['Station'].unique():\n",
    "            tmp = df_all.drop(['Standard','Summer','Winter'], axis=1)\n",
    "            station_tab = tmp.loc[tmp['Station']==station]\n",
    "            station_Obs = station_tab['Total_Number_Of_Observations_1']\n",
    "            station_stat = pd.DataFrame(station_tab[QMeasure]).T\n",
    "            station_stat.columns = station_Meas\n",
    "            min_obs = min(station_Obs)\n",
    "            max_obs= max(station_Obs)\n",
    "            station_stat['min. no. obs.'] = min_obs\n",
    "            station_stat['max. no. obs.'] = max_obs\n",
    "            station_stat['station'] = station\n",
    "            Stat_table = Stat_table.append(station_stat, ignore_index = True)\n",
    "        return Stat_table.style.hide_index()"
   ]
  },
  {
   "cell_type": "code",
   "execution_count": 74,
   "metadata": {},
   "outputs": [],
   "source": [
    "#Qmeas = ['Percent_Bias','Spearman_Rank_Correlation','Efficiency_Factor','Cost_Function','R2']\n",
    "#station_Meas = df_all['Measurement'].unique()\n",
    "\n",
    "#@interact\n",
    "#def show_ts(QMeasure=Qmeas):\n",
    "#    Stat_table = pd.DataFrame()\n",
    "#    for station in df_all['Station'].unique():\n",
    "#        tmp = df_all.drop(['Standard','Summer','Winter'], axis=1)\n",
    "#        station_tab = tmp.loc[tmp['Station']==station]\n",
    "#        station_Obs = station_tab['Total_Number_Of_Observations_1']\n",
    "#        station_stat = pd.DataFrame(round(station_tab[QMeasure],2)).T\n",
    "#        station_stat.columns = station_Meas\n",
    "#        min_obs = min(station_Obs)\n",
    "#        max_obs= max(station_Obs)\n",
    "#        station_stat['min. no. obs.'] = min_obs\n",
    "#        station_stat['max. no. obs.'] = max_obs\n",
    "#        station_stat['station'] = station\n",
    "#        Stat_table = Stat_table.append(station_stat, ignore_index = True)\n",
    "#    return Stat_table.style.hide_index()"
   ]
  },
  {
   "cell_type": "markdown",
   "metadata": {},
   "source": [
    "### Average model performance for each parameter"
   ]
  },
  {
   "cell_type": "code",
   "execution_count": 75,
   "metadata": {},
   "outputs": [],
   "source": [
    "def performance_param_dist(data):\n",
    "    qmeasure = data['QMeasure'].unique()\n",
    "    ave_perform = pd.DataFrame()\n",
    "    for i in range(len(qmeasure)):\n",
    "        data_QM = data[data['QMeasure']==qmeasure[i]]\n",
    "        #param_stat = collect_param_df(data_QM, param)\n",
    "        ave = np.mean(data_QM['Stat_Value'])\n",
    "        #ave = np.mean(param_stat['Stat_Value'])\n",
    "        if qmeasure[i] == 'P_Bias':\n",
    "            if ave <10:\n",
    "                tmp = pd.DataFrame([round(ave,1), 'Excellent', 'Ave_P_bias']).T\n",
    "                ave_perform = ave_perform.append(tmp, ignore_index = True)\n",
    "            if ave >=10 and ave <=20:\n",
    "                tmp = pd.DataFrame([round(ave,1), 'Very good', 'Ave_P_bias']).T\n",
    "                ave_perform = ave_perform.append(tmp, ignore_index = True)\n",
    "            if ave >20 and ave <=40:\n",
    "                tmp = pd.DataFrame([round(ave,1), 'Good', 'Ave_P_bias']).T\n",
    "                ave_perform = ave_perform.append(tmp, ignore_index = True)\n",
    "            if ave >40:\n",
    "                tmp = pd.DataFrame([round(ave,1), 'Poor', 'Ave_P_bias']).T\n",
    "                ave_perform = ave_perform.append(tmp, ignore_index = True)\n",
    "              \n",
    "        if qmeasure[i] == 'SRC':\n",
    "            if ave >0.9:\n",
    "                tmp = pd.DataFrame([round(ave,1), 'Excellent', 'Ave_SRC']).T\n",
    "                ave_perform = ave_perform.append(tmp, ignore_index = True)\n",
    "            if ave <=0.9 and ave >=0.6:\n",
    "                tmp = pd.DataFrame([round(ave,1), 'Very good', 'Ave_SRC']).T\n",
    "                ave_perform = ave_perform.append(tmp, ignore_index = True)\n",
    "            if ave <0.6 and ave >=0.3:\n",
    "                tmp = pd.DataFrame([round(ave,1), 'Good', 'Ave_SRC']).T\n",
    "                ave_perform = ave_perform.append(tmp, ignore_index = True) \n",
    "            if ave <0.3:\n",
    "                tmp = pd.DataFrame([round(ave,1), 'Poor', 'Ave_SRC']).T\n",
    "                ave_perform = ave_perform.append(tmp, ignore_index = True)\n",
    "                \n",
    "        if qmeasure[i] == 'MEF':\n",
    "            if ave >0.8:\n",
    "                tmp = pd.DataFrame([round(ave,1), 'Excellent', 'Ave_MEF']).T\n",
    "                ave_perform = ave_perform.append(tmp, ignore_index = True)\n",
    "            if ave <=0.8 and ave >=0.5:\n",
    "                tmp = pd.DataFrame([round(ave,1), 'Very good', 'Ave_MEF']).T\n",
    "                ave_perform = ave_perform.append(tmp, ignore_index = True)\n",
    "            if ave <0.5 and ave >=0.2:\n",
    "                tmp = pd.DataFrame([round(ave,1), 'Good', 'Ave_MEF']).T\n",
    "                ave_perform = ave_perform.append(tmp, ignore_index = True)\n",
    "            if ave <0.2:\n",
    "                tmp = pd.DataFrame([round(ave,1), 'Poor', 'Ave_MEF']).T\n",
    "                ave_perform = ave_perform.append(tmp, ignore_index = True)\n",
    "                \n",
    "        if qmeasure[i] == 'CF':\n",
    "            if ave <=0.4:\n",
    "                tmp = pd.DataFrame([round(ave,1), 'Excellent', 'Ave_CF']).T\n",
    "                ave_perform = ave_perform.append(tmp, ignore_index = True)\n",
    "            if ave >0.4 and ave <=1:\n",
    "                tmp = pd.DataFrame([round(ave,1), 'Very good', 'Ave_CF']).T\n",
    "                ave_perform = ave_perform.append(tmp, ignore_index = True)\n",
    "            if ave >1 and ave <3:\n",
    "                tmp = pd.DataFrame([round(ave,1), 'Good', 'Ave_CF']).T\n",
    "                ave_perform = ave_perform.append(tmp, ignore_index = True) \n",
    "            if ave >=3:\n",
    "                tmp = pd.DataFrame([round(ave,1), 'Poor', 'Ave_CF']).T\n",
    "                ave_perform = ave_perform.append(tmp, ignore_index = True)\n",
    "        #R2\n",
    "        if qmeasure[i] == 'R2':\n",
    "            if ave >0.65:\n",
    "                tmp = pd.DataFrame([round(ave,1), 'Excellent', 'Ave_R2']).T\n",
    "                ave_perform = ave_perform.append(tmp, ignore_index = True)\n",
    "            if ave <=0.65 and ave >=0.35:\n",
    "                tmp = pd.DataFrame([round(ave,1), 'Very good', 'Ave_R2']).T\n",
    "                ave_perform = ave_perform.append(tmp, ignore_index = True)\n",
    "            if ave <0.35 and ave >=0.175:\n",
    "                tmp = pd.DataFrame([round(ave,1), 'Good', 'Ave_R2']).T\n",
    "                ave_perform = ave_perform.append(tmp, ignore_index = True)  \n",
    "            if ave <0.175:\n",
    "                tmp = pd.DataFrame([round(ave,1), 'Poor', 'Ave_R2']).T\n",
    "                ave_perform = ave_perform.append(tmp, ignore_index = True)\n",
    "    ave_perform.columns = ['Ave. Stat. Value','Performance','Q measure']\n",
    "        # average parameter performance\n",
    "    return ave_perform"
   ]
  },
  {
   "cell_type": "code",
   "execution_count": 76,
   "metadata": {},
   "outputs": [],
   "source": [
    "CH_Performance = collect_param_df(all_Pbias, 'CH')\n",
    "tmp1 = collect_param_df(all_SRC, 'CH')\n",
    "CH_Performance = CH_Performance.append(tmp1)\n",
    "tmp2 = collect_param_df(all_MEF, 'CH')\n",
    "CH_Performance = CH_Performance.append(tmp2)\n",
    "tmp3 = collect_param_df(all_CF, 'CH')\n",
    "CH_Performance = CH_Performance.append(tmp3)\n",
    "tmp4 = collect_param_df(all_R2, 'CH')\n",
    "CH_Performance = CH_Performance.append(tmp4)\n",
    "\n",
    "CH_ave_QMeas = performance_param_dist(CH_Performance)\n",
    "CH_ave_QMeas['Param']='CH'\n",
    "\n",
    "CH_Performance = collect_param_df(year_Pbias, 'CH')\n",
    "tmp1 = collect_param_df(year_SRC, 'CH')\n",
    "CH_Performance = CH_Performance.append(tmp1)\n",
    "tmp2 = collect_param_df(year_MEF, 'CH')\n",
    "CH_Performance = CH_Performance.append(tmp2)\n",
    "tmp3 = collect_param_df(year_CF, 'CH')\n",
    "CH_Performance = CH_Performance.append(tmp3)\n",
    "tmp4 = collect_param_df(year_R2, 'CH')\n",
    "CH_Performance = CH_Performance.append(tmp4)\n",
    "\n",
    "CH_ave_ann_QMeas = performance_param_dist(CH_Performance)\n",
    "CH_ave_ann_QMeas['Param']='CH'\n",
    "CH_ave_ann_QMeas['Season']='Annual'\n",
    "\n",
    "DO_Perform = collect_param_df(all_Pbias, 'DO')\n",
    "tmp = collect_param_df(all_SRC, 'DO')\n",
    "DO_Perform = DO_Perform.append(tmp)\n",
    "tmp = collect_param_df(all_MEF, 'DO')\n",
    "DO_Perform = DO_Perform.append(tmp)\n",
    "tmp = collect_param_df(all_CF, 'DO')\n",
    "DO_Perform = DO_Perform.append(tmp)\n",
    "tmp = collect_param_df(all_R2, 'DO')\n",
    "DO_Perform = DO_Perform.append(tmp)\n",
    "\n",
    "DO_ave_QMeas = performance_param_dist(DO_Perform)\n",
    "DO_ave_QMeas['Param']='DO'\n",
    "\n",
    "DIN_Perform = collect_param_df(all_Pbias, 'DIN')\n",
    "tmp = collect_param_df(all_SRC, 'DIN')\n",
    "DIN_Perform = DIN_Perform.append(tmp)\n",
    "tmp = collect_param_df(all_MEF, 'DIN')\n",
    "DIN_Perform = DIN_Perform.append(tmp)\n",
    "tmp = collect_param_df(all_CF, 'DIN')\n",
    "DIN_Perform = DIN_Perform.append(tmp)\n",
    "tmp = collect_param_df(all_R2, 'DIN')\n",
    "DIN_Perform = DIN_Perform.append(tmp)\n",
    "\n",
    "DIN_ave_QMeas = performance_param_dist(DIN_Perform)\n",
    "DIN_ave_QMeas['Param']='DIN'\n",
    "\n",
    "DIN_Perform = collect_param_df(year_Pbias, 'DIN')\n",
    "tmp = collect_param_df(year_SRC, 'DIN')\n",
    "DIN_Perform = DIN_Perform.append(tmp)\n",
    "tmp = collect_param_df(year_MEF, 'DIN')\n",
    "DIN_Perform = DIN_Perform.append(tmp)\n",
    "tmp = collect_param_df(year_CF, 'DIN')\n",
    "DIN_Perform = DIN_Perform.append(tmp)\n",
    "tmp = collect_param_df(year_R2, 'DIN')\n",
    "DIN_Perform = DIN_Perform.append(tmp)\n",
    "\n",
    "DIN_ave_ann_QMeas = performance_param_dist(DIN_Perform)\n",
    "DIN_ave_ann_QMeas['Param']='DIN'\n",
    "DIN_ave_ann_QMeas['Season']='Annual'\n",
    "\n",
    "PO4_Perform = collect_param_df(all_Pbias, 'PO4')\n",
    "tmp = collect_param_df(all_SRC, 'PO4')\n",
    "PO4_Perform = PO4_Perform.append(tmp)\n",
    "tmp = collect_param_df(all_MEF, 'PO4')\n",
    "PO4_Perform = PO4_Perform.append(tmp)\n",
    "tmp = collect_param_df(all_CF, 'PO4')\n",
    "PO4_Perform = PO4_Perform.append(tmp)\n",
    "tmp = collect_param_df(all_R2, 'PO4')\n",
    "PO4_Perform = PO4_Perform.append(tmp)\n",
    "\n",
    "PO4_ave_QMeas = performance_param_dist(PO4_Perform)\n",
    "PO4_ave_QMeas['Param']='PO4'\n",
    "\n",
    "PO4_Perform = collect_param_df(year_Pbias, 'PO4')\n",
    "tmp = collect_param_df(year_SRC, 'PO4')\n",
    "PO4_Perform = PO4_Perform.append(tmp)\n",
    "tmp = collect_param_df(year_MEF, 'PO4')\n",
    "PO4_Perform = PO4_Perform.append(tmp)\n",
    "tmp = collect_param_df(year_CF, 'PO4')\n",
    "PO4_Perform = PO4_Perform.append(tmp)\n",
    "tmp = collect_param_df(year_R2, 'PO4')\n",
    "PO4_Perform = PO4_Perform.append(tmp)\n",
    "\n",
    "PO4_ave_ann_QMeas = performance_param_dist(PO4_Perform)\n",
    "PO4_ave_ann_QMeas['Param']='PO4'\n",
    "PO4_ave_ann_QMeas['Season']='Annual'\n",
    "\n",
    "KD_Perform = collect_param_df(all_Pbias, 'KD')\n",
    "tmp = collect_param_df(all_SRC, 'KD')\n",
    "KD_Perform = DO_Perform.append(tmp)\n",
    "tmp = collect_param_df(all_MEF, 'KD')\n",
    "KD_Perform = DO_Perform.append(tmp)\n",
    "tmp = collect_param_df(all_CF, 'KD')\n",
    "KD_Perform = DO_Perform.append(tmp)\n",
    "tmp = collect_param_df(all_R2, 'KD')\n",
    "KD_Perform = KD_Perform.append(tmp)\n",
    "\n",
    "KD_ave_QMeas = performance_param_dist(KD_Perform)\n",
    "KD_ave_QMeas['Param']='KD'\n",
    "\n",
    "KD_Perform = collect_param_df(year_Pbias, 'KD')\n",
    "tmp = collect_param_df(year_SRC, 'KD')\n",
    "KD_Perform = DO_Perform.append(tmp)\n",
    "tmp = collect_param_df(year_MEF, 'KD')\n",
    "KD_Perform = DO_Perform.append(tmp)\n",
    "tmp = collect_param_df(year_CF, 'KD')\n",
    "KD_Perform = DO_Perform.append(tmp)\n",
    "tmp = collect_param_df(year_R2, 'KD')\n",
    "KD_Perform = KD_Perform.append(tmp)\n",
    "\n",
    "KD_ave_ann_QMeas = performance_param_dist(KD_Perform)\n",
    "KD_ave_ann_QMeas['Param']='KD'\n",
    "KD_ave_ann_QMeas['Season']='Annual'\n",
    "\n",
    "TN_Perform = collect_param_df(all_Pbias, 'TN')\n",
    "tmp = collect_param_df(all_SRC, 'TN')\n",
    "TN_Perform = TN_Perform.append(tmp)\n",
    "tmp = collect_param_df(all_MEF, 'TN')\n",
    "TN_Perform = TN_Perform.append(tmp)\n",
    "tmp = collect_param_df(all_CF, 'TN')\n",
    "TN_Perform = TN_Perform.append(tmp)\n",
    "tmp = collect_param_df(all_R2, 'TN')\n",
    "TN_Perform = TN_Perform.append(tmp)\n",
    "\n",
    "TN_ave_QMeas = performance_param_dist(TN_Perform)\n",
    "TN_ave_QMeas['Param']='TN'\n",
    "\n",
    "TP_Perform = collect_param_df(all_Pbias, 'TP')\n",
    "tmp = collect_param_df(all_SRC, 'TP')\n",
    "TP_Perform = TP_Perform.append(tmp)\n",
    "tmp = collect_param_df(all_MEF, 'TP')\n",
    "TP_Perform = TP_Perform.append(tmp)\n",
    "tmp = collect_param_df(all_CF, 'TP')\n",
    "TP_Perform = TP_Perform.append(tmp)\n",
    "tmp = collect_param_df(all_R2, 'TP')\n",
    "TP_Perform = TP_Perform.append(tmp)\n",
    "\n",
    "TP_ave_QMeas = performance_param_dist(TP_Perform)\n",
    "TP_ave_QMeas['Param']='TP'"
   ]
  },
  {
   "cell_type": "code",
   "execution_count": null,
   "metadata": {},
   "outputs": [],
   "source": [
    "meas = ['Annual','All']\n",
    "\n",
    "par = ['CH','DO','KD','DIN','DIP','TN','TP']\n",
    "test = pd.DataFrame([0])\n",
    "test['Annual']=1\n",
    "test['All']=0\n",
    "                        \n",
    "@interact\n",
    "def show_ts(Parameter=par,Measurements=meas):\n",
    "    check = test[Measurements]\n",
    "    if check[0] == 0:\n",
    "        perform = collect_param_df(all_Pbias, Parameter)\n",
    "        tmp = collect_param_df(all_SRC, Parameter)\n",
    "        perform = perform.append(tmp)\n",
    "        tmp = collect_param_df(all_MEF, Parameter)\n",
    "        perform = perform.append(tmp)\n",
    "        tmp = collect_param_df(all_CF, Parameter)\n",
    "        perform = perform.append(tmp)\n",
    "        tmp = collect_param_df(all_R2, Parameter)\n",
    "        perform = perform.append(tmp)\n",
    "\n",
    "        ave_QMeas = performance_param_dist(perform)\n",
    "        ave_QMeas['Param']=Parameter\n",
    "\n",
    "    if check[0] == 1:\n",
    "        perform = collect_param_df(year_Pbias, Parameter)\n",
    "        tmp = collect_param_df(year_SRC, Parameter)\n",
    "        perform = perform.append(tmp)\n",
    "        tmp = collect_param_df(year_MEF, Parameter)\n",
    "        perform = perform.append(tmp)\n",
    "        tmp = collect_param_df(year_CF, Parameter)\n",
    "        perform = perform.append(tmp)\n",
    "        tmp = collect_param_df(year_R2, Parameter)\n",
    "        perform = perform.append(tmp)\n",
    "\n",
    "        ave_QMeas = performance_param_dist(perform)\n",
    "        ave_QMeas['Param']=Parameter\n",
    "\n",
    "    return ave_QMeas"
   ]
  }
 ],
 "metadata": {
  "kernelspec": {
   "display_name": "Python 3",
   "language": "python",
   "name": "python3"
  },
  "language_info": {
   "codemirror_mode": {
    "name": "ipython",
    "version": 3
   },
   "file_extension": ".py",
   "mimetype": "text/x-python",
   "name": "python",
   "nbconvert_exporter": "python",
   "pygments_lexer": "ipython3",
   "version": "3.7.3"
  },
  "widgets": {
   "application/vnd.jupyter.widget-state+json": {
    "state": {
     "00ca417adca54b8891cf3f2f7765693a": {
      "model_module": "@jupyter-widgets/controls",
      "model_module_version": "1.5.0",
      "model_name": "DescriptionStyleModel",
      "state": {
       "description_width": ""
      }
     },
     "0145afdfa23446118bbffc6f1b0362d1": {
      "model_module": "@jupyter-widgets/base",
      "model_module_version": "1.2.0",
      "model_name": "LayoutModel",
      "state": {}
     },
     "017cd93765ab4be6be2750e2e36c6082": {
      "model_module": "@jupyter-widgets/controls",
      "model_module_version": "1.5.0",
      "model_name": "DropdownModel",
      "state": {
       "_options_labels": [
        "RKB1",
        "RKB10"
       ],
       "description": "Station",
       "index": 0,
       "layout": "IPY_MODEL_0145afdfa23446118bbffc6f1b0362d1",
       "style": "IPY_MODEL_b88b056e2a604942a8a5b36d02a7cbb9"
      }
     },
     "01c270574cac4f41a71ef676c0be91d6": {
      "model_module": "@jupyter-widgets/base",
      "model_module_version": "1.2.0",
      "model_name": "LayoutModel",
      "state": {}
     },
     "032bb0899209422d833f2fc376d9222b": {
      "model_module": "@jupyter-widgets/base",
      "model_module_version": "1.2.0",
      "model_name": "LayoutModel",
      "state": {}
     },
     "038b40bca6fc43e1ab7b64b4b677f8c9": {
      "model_module": "@jupyter-widgets/controls",
      "model_module_version": "1.5.0",
      "model_name": "DescriptionStyleModel",
      "state": {
       "description_width": ""
      }
     },
     "048ba9c79d6342c7863cd66f492a874e": {
      "model_module": "@jupyter-widgets/controls",
      "model_module_version": "1.5.0",
      "model_name": "DropdownModel",
      "state": {
       "_options_labels": [
        "Percent_Bias",
        "Spearman_Rank_Correlation",
        "Efficiency_Factor",
        "Cost_Function",
        "R2"
       ],
       "description": "QMeasure",
       "index": 0,
       "layout": "IPY_MODEL_f49796c055a14217bcc14a65f3083f30",
       "style": "IPY_MODEL_b1cc58712f5b4402a1b0d99cdf9d7f1e"
      }
     },
     "049445445e1f4f5e9ddd2ceabf185aee": {
      "model_module": "@jupyter-widgets/base",
      "model_module_version": "1.2.0",
      "model_name": "LayoutModel",
      "state": {}
     },
     "04ee057b114a4ee1a7013245cff6dda4": {
      "model_module": "@jupyter-widgets/controls",
      "model_module_version": "1.5.0",
      "model_name": "DropdownModel",
      "state": {
       "_options_labels": [
        "Annual",
        "All"
       ],
       "description": "Measurements",
       "index": 0,
       "layout": "IPY_MODEL_c9266c033eab4fca814d64aba9de9b71",
       "style": "IPY_MODEL_efc9b89ccdad41fc8e307b72486a0a03"
      }
     },
     "055e7efb4eba4512883ce78906101b68": {
      "model_module": "@jupyter-widgets/base",
      "model_module_version": "1.2.0",
      "model_name": "LayoutModel",
      "state": {}
     },
     "066199311da64ad694a3da02aa7c4eb5": {
      "model_module": "@jupyter-widgets/controls",
      "model_module_version": "1.5.0",
      "model_name": "DropdownModel",
      "state": {
       "_options_labels": [
        "RKB1",
        "RKB10"
       ],
       "description": "Station",
       "index": 0,
       "layout": "IPY_MODEL_1071fbcd995f426ca8eab8bb3cc231ec",
       "style": "IPY_MODEL_7e28cd6ff1e3468e94b52ac07e843e1f"
      }
     },
     "0745072acbbb47c0a4de1509afe611d3": {
      "model_module": "@jupyter-widgets/base",
      "model_module_version": "1.2.0",
      "model_name": "LayoutModel",
      "state": {}
     },
     "07a33352d6184f12879e3a649e2f0a06": {
      "model_module": "@jupyter-widgets/base",
      "model_module_version": "1.2.0",
      "model_name": "LayoutModel",
      "state": {}
     },
     "08617b41a8e548178ab33886aa9993b9": {
      "model_module": "@jupyter-widgets/controls",
      "model_module_version": "1.5.0",
      "model_name": "VBoxModel",
      "state": {
       "_dom_classes": [
        "widget-interact"
       ],
       "children": [
        "IPY_MODEL_d17a563717d34df8b5b9f9e21ab2f274",
        "IPY_MODEL_dc9dfc3ba0c24641ad573e4c1260b8e4"
       ],
       "layout": "IPY_MODEL_109d73426ad14b80ac59eeb5abd83e3b"
      }
     },
     "08f9ba4f4b89490b951eea9d3eff265a": {
      "model_module": "@jupyter-widgets/controls",
      "model_module_version": "1.5.0",
      "model_name": "DescriptionStyleModel",
      "state": {
       "description_width": ""
      }
     },
     "094810ad69ac4f9289dd093b05a14ab8": {
      "model_module": "@jupyter-widgets/base",
      "model_module_version": "1.2.0",
      "model_name": "LayoutModel",
      "state": {}
     },
     "096b8ad4f22840418f58080d7989ac41": {
      "model_module": "@jupyter-widgets/controls",
      "model_module_version": "1.5.0",
      "model_name": "DropdownModel",
      "state": {
       "_options_labels": [
        "RKB1",
        "RKB10"
       ],
       "description": "Station",
       "index": 0,
       "layout": "IPY_MODEL_4fe891e0f7b445aabddd22544f16f5d9",
       "style": "IPY_MODEL_9bca135e1659465a870f6f7fce8da049"
      }
     },
     "09776a5354044a798aad3d6a5ecda2df": {
      "model_module": "@jupyter-widgets/controls",
      "model_module_version": "1.5.0",
      "model_name": "DropdownModel",
      "state": {
       "_options_labels": [
        "RKB1",
        "RKB10"
       ],
       "description": "Station",
       "index": 0,
       "layout": "IPY_MODEL_6595eebeccfd4b7ca32a1333c78ab904",
       "style": "IPY_MODEL_84dc6826790d45239f2d20608ba1bb02"
      }
     },
     "09b8b43279a8463a86ec99b5a37137ef": {
      "model_module": "@jupyter-widgets/base",
      "model_module_version": "1.2.0",
      "model_name": "LayoutModel",
      "state": {}
     },
     "0b5264b2c41348cfa3a6e51396958e31": {
      "model_module": "@jupyter-widgets/controls",
      "model_module_version": "1.5.0",
      "model_name": "DropdownModel",
      "state": {
       "_options_labels": [
        "('All Chlorophyll-a, CH',   Ave. Stat. Value Performance   Q measure Param\n0             26.8        Good  Ave_P_bias    CH\n1                0        Poor     Ave_SRC    CH\n2             -1.8        Poor     Ave_MEF    CH\n3              1.2        Good      Ave_CF    CH\n4                0        Poor      Ave_R2    CH)",
        "('Annual Chlorophyll-a, CH',)",
        "('Annual dissolved oxygen, DO', <pandas.io.formats.style.Styler object at 0x000001F250ABAD68>)",
        "('Annual dissolved nitrogen, DIN', <pandas.io.formats.style.Styler object at 0x000001F250ABAC88>)"
       ],
       "index": 1,
       "layout": "IPY_MODEL_55d5cb92472143baa2907ff751291e42",
       "style": "IPY_MODEL_ca97e4f69c16477dba38e15b3fd20fdf"
      }
     },
     "0d48bd55e7ed4b49b49756f179e4dc70": {
      "model_module": "@jupyter-widgets/controls",
      "model_module_version": "1.5.0",
      "model_name": "VBoxModel",
      "state": {
       "_dom_classes": [
        "widget-interact"
       ],
       "children": [
        "IPY_MODEL_096b8ad4f22840418f58080d7989ac41",
        "IPY_MODEL_3a5395bf2ec34e7f9117e96bdcaa933d"
       ],
       "layout": "IPY_MODEL_32dd7359bfe3433f825d76539c2c1382"
      }
     },
     "0d54a739ce9e4200b07110c0e106e050": {
      "model_module": "@jupyter-widgets/base",
      "model_module_version": "1.2.0",
      "model_name": "LayoutModel",
      "state": {}
     },
     "0dc317b850074e40bba94b3592ec9d26": {
      "model_module": "@jupyter-widgets/base",
      "model_module_version": "1.2.0",
      "model_name": "LayoutModel",
      "state": {}
     },
     "0e57aa4e03b64fd9af8f9169e53a73e9": {
      "model_module": "@jupyter-widgets/base",
      "model_module_version": "1.2.0",
      "model_name": "LayoutModel",
      "state": {}
     },
     "0e5d362c18a34c6c9df45ba74f6f9119": {
      "model_module": "@jupyter-widgets/controls",
      "model_module_version": "1.5.0",
      "model_name": "DescriptionStyleModel",
      "state": {
       "description_width": ""
      }
     },
     "0eb7ce304e1e48eab9a136598b51df76": {
      "model_module": "@jupyter-widgets/base",
      "model_module_version": "1.2.0",
      "model_name": "LayoutModel",
      "state": {}
     },
     "0f15f35ac45142e3be179e7547322fa4": {
      "model_module": "@jupyter-widgets/base",
      "model_module_version": "1.2.0",
      "model_name": "LayoutModel",
      "state": {}
     },
     "1056973dafdf4416b75e1678021097ad": {
      "model_module": "@jupyter-widgets/controls",
      "model_module_version": "1.5.0",
      "model_name": "VBoxModel",
      "state": {
       "_dom_classes": [
        "widget-interact"
       ],
       "children": [
        "IPY_MODEL_3f6a493efe9a46dc85b33fd4eea05a41",
        "IPY_MODEL_d8c81409ed294e5aa0c9d911a2dbffed"
       ],
       "layout": "IPY_MODEL_58b9419fdc8b42dbb66035a6df165f9b"
      }
     },
     "1071fbcd995f426ca8eab8bb3cc231ec": {
      "model_module": "@jupyter-widgets/base",
      "model_module_version": "1.2.0",
      "model_name": "LayoutModel",
      "state": {}
     },
     "109d73426ad14b80ac59eeb5abd83e3b": {
      "model_module": "@jupyter-widgets/base",
      "model_module_version": "1.2.0",
      "model_name": "LayoutModel",
      "state": {}
     },
     "11bddf8d1e04409d9a64741e27ea7b09": {
      "model_module": "@jupyter-widgets/controls",
      "model_module_version": "1.5.0",
      "model_name": "DropdownModel",
      "state": {
       "_options_labels": [
        "RKB1",
        "RKB10"
       ],
       "description": "Station",
       "index": 1,
       "layout": "IPY_MODEL_3e9204a4c1064430a5585870f013f2df",
       "style": "IPY_MODEL_7b66eaa8d56e4dc78aa38574509abc5d"
      }
     },
     "1372a6c13e6d4fd584cae69fcb091265": {
      "model_module": "@jupyter-widgets/base",
      "model_module_version": "1.2.0",
      "model_name": "LayoutModel",
      "state": {}
     },
     "13785627592d4506b9d6aa3adb6ad6c7": {
      "model_module": "@jupyter-widgets/base",
      "model_module_version": "1.2.0",
      "model_name": "LayoutModel",
      "state": {}
     },
     "137e671668634f11a153c3c941f6a019": {
      "model_module": "@jupyter-widgets/base",
      "model_module_version": "1.2.0",
      "model_name": "LayoutModel",
      "state": {}
     },
     "13ef4ce3700f4548a7c95076b58a2262": {
      "model_module": "@jupyter-widgets/controls",
      "model_module_version": "1.5.0",
      "model_name": "VBoxModel",
      "state": {
       "_dom_classes": [
        "widget-interact"
       ],
       "children": [
        "IPY_MODEL_69340804df984fa9ae2f7294fa5a6243",
        "IPY_MODEL_7c033c6704304cb9a15815547a848197"
       ],
       "layout": "IPY_MODEL_f05f46f9763f428aa12656e7475101fe"
      }
     },
     "157b4f99c8744b23bffd46d87b5295ee": {
      "model_module": "@jupyter-widgets/output",
      "model_module_version": "1.0.0",
      "model_name": "OutputModel",
      "state": {
       "layout": "IPY_MODEL_31d4b342c537429d9d4a2d572fb35f78",
       "outputs": [
        {
         "data": {
          "text/html": "<style  type=\"text/css\" >\n</style><table id=\"T_8ae9b430_8eaa_11ea_9747_4889e7f3390e\" ><thead>    <tr>        <th class=\"col_heading level0 col0\" >Standard TN</th>        <th class=\"col_heading level0 col1\" >Standard TP</th>        <th class=\"col_heading level0 col2\" >Standard PO4</th>        <th class=\"col_heading level0 col3\" >Standard DIN</th>        <th class=\"col_heading level0 col4\" >Standard CH</th>        <th class=\"col_heading level0 col5\" >Standard DO</th>        <th class=\"col_heading level0 col6\" >Standard KD</th>        <th class=\"col_heading level0 col7\" >Summer Observations CH</th>        <th class=\"col_heading level0 col8\" >Summer Observations KD</th>        <th class=\"col_heading level0 col9\" >Winter Observations PO4</th>        <th class=\"col_heading level0 col10\" >Winter Observations DIN</th>        <th class=\"col_heading level0 col11\" >min. no. obs.</th>        <th class=\"col_heading level0 col12\" >max. no. obs.</th>        <th class=\"col_heading level0 col13\" >station</th>    </tr></thead><tbody>\n                <tr>\n                                <td id=\"T_8ae9b430_8eaa_11ea_9747_4889e7f3390erow0_col0\" class=\"data row0 col0\" >0.82</td>\n                        <td id=\"T_8ae9b430_8eaa_11ea_9747_4889e7f3390erow0_col1\" class=\"data row0 col1\" >0.16</td>\n                        <td id=\"T_8ae9b430_8eaa_11ea_9747_4889e7f3390erow0_col2\" class=\"data row0 col2\" >0.42</td>\n                        <td id=\"T_8ae9b430_8eaa_11ea_9747_4889e7f3390erow0_col3\" class=\"data row0 col3\" >0.84</td>\n                        <td id=\"T_8ae9b430_8eaa_11ea_9747_4889e7f3390erow0_col4\" class=\"data row0 col4\" >0</td>\n                        <td id=\"T_8ae9b430_8eaa_11ea_9747_4889e7f3390erow0_col5\" class=\"data row0 col5\" >0.73</td>\n                        <td id=\"T_8ae9b430_8eaa_11ea_9747_4889e7f3390erow0_col6\" class=\"data row0 col6\" >0.24</td>\n                        <td id=\"T_8ae9b430_8eaa_11ea_9747_4889e7f3390erow0_col7\" class=\"data row0 col7\" >0.01</td>\n                        <td id=\"T_8ae9b430_8eaa_11ea_9747_4889e7f3390erow0_col8\" class=\"data row0 col8\" >0.15</td>\n                        <td id=\"T_8ae9b430_8eaa_11ea_9747_4889e7f3390erow0_col9\" class=\"data row0 col9\" >0</td>\n                        <td id=\"T_8ae9b430_8eaa_11ea_9747_4889e7f3390erow0_col10\" class=\"data row0 col10\" >0.53</td>\n                        <td id=\"T_8ae9b430_8eaa_11ea_9747_4889e7f3390erow0_col11\" class=\"data row0 col11\" >104</td>\n                        <td id=\"T_8ae9b430_8eaa_11ea_9747_4889e7f3390erow0_col12\" class=\"data row0 col12\" >618</td>\n                        <td id=\"T_8ae9b430_8eaa_11ea_9747_4889e7f3390erow0_col13\" class=\"data row0 col13\" >RKB1</td>\n            </tr>\n            <tr>\n                                <td id=\"T_8ae9b430_8eaa_11ea_9747_4889e7f3390erow1_col0\" class=\"data row1 col0\" >0.78</td>\n                        <td id=\"T_8ae9b430_8eaa_11ea_9747_4889e7f3390erow1_col1\" class=\"data row1 col1\" >0.18</td>\n                        <td id=\"T_8ae9b430_8eaa_11ea_9747_4889e7f3390erow1_col2\" class=\"data row1 col2\" >0.44</td>\n                        <td id=\"T_8ae9b430_8eaa_11ea_9747_4889e7f3390erow1_col3\" class=\"data row1 col3\" >0.82</td>\n                        <td id=\"T_8ae9b430_8eaa_11ea_9747_4889e7f3390erow1_col4\" class=\"data row1 col4\" >0</td>\n                        <td id=\"T_8ae9b430_8eaa_11ea_9747_4889e7f3390erow1_col5\" class=\"data row1 col5\" >0.72</td>\n                        <td id=\"T_8ae9b430_8eaa_11ea_9747_4889e7f3390erow1_col6\" class=\"data row1 col6\" >0.45</td>\n                        <td id=\"T_8ae9b430_8eaa_11ea_9747_4889e7f3390erow1_col7\" class=\"data row1 col7\" >0.01</td>\n                        <td id=\"T_8ae9b430_8eaa_11ea_9747_4889e7f3390erow1_col8\" class=\"data row1 col8\" >0.19</td>\n                        <td id=\"T_8ae9b430_8eaa_11ea_9747_4889e7f3390erow1_col9\" class=\"data row1 col9\" >0</td>\n                        <td id=\"T_8ae9b430_8eaa_11ea_9747_4889e7f3390erow1_col10\" class=\"data row1 col10\" >0.5</td>\n                        <td id=\"T_8ae9b430_8eaa_11ea_9747_4889e7f3390erow1_col11\" class=\"data row1 col11\" >70</td>\n                        <td id=\"T_8ae9b430_8eaa_11ea_9747_4889e7f3390erow1_col12\" class=\"data row1 col12\" >443</td>\n                        <td id=\"T_8ae9b430_8eaa_11ea_9747_4889e7f3390erow1_col13\" class=\"data row1 col13\" >RKB10</td>\n            </tr>\n    </tbody></table>",
          "text/plain": "<pandas.io.formats.style.Styler at 0x2c23cfe6898>"
         },
         "metadata": {},
         "output_type": "display_data"
        }
       ]
      }
     },
     "15ab834e182a4477a40c2466f3f8fd2f": {
      "model_module": "@jupyter-widgets/controls",
      "model_module_version": "1.5.0",
      "model_name": "DescriptionStyleModel",
      "state": {
       "description_width": ""
      }
     },
     "175cd7be3b364f7c8445815968529024": {
      "model_module": "@jupyter-widgets/controls",
      "model_module_version": "1.5.0",
      "model_name": "VBoxModel",
      "state": {
       "_dom_classes": [
        "widget-interact"
       ],
       "children": [
        "IPY_MODEL_a17808cc4d8d4e8f82a830baee5f9642",
        "IPY_MODEL_a3fe65c8637f4d61b697ea09b1de3b0d",
        "IPY_MODEL_cc89a8876a18478c99a4fd5a0c08669c"
       ],
       "layout": "IPY_MODEL_0dc317b850074e40bba94b3592ec9d26"
      }
     },
     "18109add55454b3285d9306da1efdbfc": {
      "model_module": "@jupyter-widgets/base",
      "model_module_version": "1.2.0",
      "model_name": "LayoutModel",
      "state": {}
     },
     "18ca27686d594ebd9ba40b7e84b5f582": {
      "model_module": "@jupyter-widgets/base",
      "model_module_version": "1.2.0",
      "model_name": "LayoutModel",
      "state": {}
     },
     "194a1b5051c64693840934d6cb8d096f": {
      "model_module": "@jupyter-widgets/controls",
      "model_module_version": "1.5.0",
      "model_name": "VBoxModel",
      "state": {
       "_dom_classes": [
        "widget-interact"
       ],
       "children": [
        "IPY_MODEL_f01707e747d246a5a1e62bd4468a40ed",
        "IPY_MODEL_f51ae3eaa18d46dd9679d751192da27c",
        "IPY_MODEL_9f66f2cf8e3d4831a47c19bd8cefb94b"
       ],
       "layout": "IPY_MODEL_9e779796a854404182abc8e09c38eae4"
      }
     },
     "19e7bf6e7dac48228ff8a6ee7672cce1": {
      "model_module": "@jupyter-widgets/output",
      "model_module_version": "1.0.0",
      "model_name": "OutputModel",
      "state": {
       "layout": "IPY_MODEL_b92c6a46c23a4cc19d5497edd0db42e8",
       "outputs": [
        {
         "data": {
          "text/html": "<style  type=\"text/css\" >\n</style><table id=\"T_da476324_8eb5_11ea_b029_4889e7f3390e\" ><thead>    <tr>        <th class=\"col_heading level0 col0\" >Measurement</th>        <th class=\"col_heading level0 col1\" >Percent_Bias</th>        <th class=\"col_heading level0 col2\" >Spearman_Rank_Correlation</th>        <th class=\"col_heading level0 col3\" >Efficiency_Factor</th>        <th class=\"col_heading level0 col4\" >Cost_Function</th>        <th class=\"col_heading level0 col5\" >R2</th>        <th class=\"col_heading level0 col6\" >Total_Number_Of_Observations_1</th>    </tr></thead><tbody>\n                <tr>\n                                <td id=\"T_da476324_8eb5_11ea_b029_4889e7f3390erow0_col0\" class=\"data row0 col0\" >Standard TN</td>\n                        <td id=\"T_da476324_8eb5_11ea_b029_4889e7f3390erow0_col1\" class=\"data row0 col1\" >39.1</td>\n                        <td id=\"T_da476324_8eb5_11ea_b029_4889e7f3390erow0_col2\" class=\"data row0 col2\" >0.87</td>\n                        <td id=\"T_da476324_8eb5_11ea_b029_4889e7f3390erow0_col3\" class=\"data row0 col3\" >0.41</td>\n                        <td id=\"T_da476324_8eb5_11ea_b029_4889e7f3390erow0_col4\" class=\"data row0 col4\" >0.63</td>\n                        <td id=\"T_da476324_8eb5_11ea_b029_4889e7f3390erow0_col5\" class=\"data row0 col5\" >0.82</td>\n                        <td id=\"T_da476324_8eb5_11ea_b029_4889e7f3390erow0_col6\" class=\"data row0 col6\" >609</td>\n            </tr>\n            <tr>\n                                <td id=\"T_da476324_8eb5_11ea_b029_4889e7f3390erow1_col0\" class=\"data row1 col0\" >Standard TP</td>\n                        <td id=\"T_da476324_8eb5_11ea_b029_4889e7f3390erow1_col1\" class=\"data row1 col1\" >29.5</td>\n                        <td id=\"T_da476324_8eb5_11ea_b029_4889e7f3390erow1_col2\" class=\"data row1 col2\" >0.47</td>\n                        <td id=\"T_da476324_8eb5_11ea_b029_4889e7f3390erow1_col3\" class=\"data row1 col3\" >0.03</td>\n                        <td id=\"T_da476324_8eb5_11ea_b029_4889e7f3390erow1_col4\" class=\"data row1 col4\" >0.59</td>\n                        <td id=\"T_da476324_8eb5_11ea_b029_4889e7f3390erow1_col5\" class=\"data row1 col5\" >0.16</td>\n                        <td id=\"T_da476324_8eb5_11ea_b029_4889e7f3390erow1_col6\" class=\"data row1 col6\" >581</td>\n            </tr>\n            <tr>\n                                <td id=\"T_da476324_8eb5_11ea_b029_4889e7f3390erow2_col0\" class=\"data row2 col0\" >Standard PO4</td>\n                        <td id=\"T_da476324_8eb5_11ea_b029_4889e7f3390erow2_col1\" class=\"data row2 col1\" >41.5</td>\n                        <td id=\"T_da476324_8eb5_11ea_b029_4889e7f3390erow2_col2\" class=\"data row2 col2\" >0.69</td>\n                        <td id=\"T_da476324_8eb5_11ea_b029_4889e7f3390erow2_col3\" class=\"data row2 col3\" >-0.85</td>\n                        <td id=\"T_da476324_8eb5_11ea_b029_4889e7f3390erow2_col4\" class=\"data row2 col4\" >0.93</td>\n                        <td id=\"T_da476324_8eb5_11ea_b029_4889e7f3390erow2_col5\" class=\"data row2 col5\" >0.42</td>\n                        <td id=\"T_da476324_8eb5_11ea_b029_4889e7f3390erow2_col6\" class=\"data row2 col6\" >608</td>\n            </tr>\n            <tr>\n                                <td id=\"T_da476324_8eb5_11ea_b029_4889e7f3390erow3_col0\" class=\"data row3 col0\" >Standard DIN</td>\n                        <td id=\"T_da476324_8eb5_11ea_b029_4889e7f3390erow3_col1\" class=\"data row3 col1\" >51.8</td>\n                        <td id=\"T_da476324_8eb5_11ea_b029_4889e7f3390erow3_col2\" class=\"data row3 col2\" >0.88</td>\n                        <td id=\"T_da476324_8eb5_11ea_b029_4889e7f3390erow3_col3\" class=\"data row3 col3\" >0.59</td>\n                        <td id=\"T_da476324_8eb5_11ea_b029_4889e7f3390erow3_col4\" class=\"data row3 col4\" >0.51</td>\n                        <td id=\"T_da476324_8eb5_11ea_b029_4889e7f3390erow3_col5\" class=\"data row3 col5\" >0.84</td>\n                        <td id=\"T_da476324_8eb5_11ea_b029_4889e7f3390erow3_col6\" class=\"data row3 col6\" >608</td>\n            </tr>\n            <tr>\n                                <td id=\"T_da476324_8eb5_11ea_b029_4889e7f3390erow4_col0\" class=\"data row4 col0\" >Standard CH</td>\n                        <td id=\"T_da476324_8eb5_11ea_b029_4889e7f3390erow4_col1\" class=\"data row4 col1\" >32.9</td>\n                        <td id=\"T_da476324_8eb5_11ea_b029_4889e7f3390erow4_col2\" class=\"data row4 col2\" >0.03</td>\n                        <td id=\"T_da476324_8eb5_11ea_b029_4889e7f3390erow4_col3\" class=\"data row4 col3\" >-1.42</td>\n                        <td id=\"T_da476324_8eb5_11ea_b029_4889e7f3390erow4_col4\" class=\"data row4 col4\" >1.12</td>\n                        <td id=\"T_da476324_8eb5_11ea_b029_4889e7f3390erow4_col5\" class=\"data row4 col5\" >0</td>\n                        <td id=\"T_da476324_8eb5_11ea_b029_4889e7f3390erow4_col6\" class=\"data row4 col6\" >618</td>\n            </tr>\n            <tr>\n                                <td id=\"T_da476324_8eb5_11ea_b029_4889e7f3390erow5_col0\" class=\"data row5 col0\" >Standard DO</td>\n                        <td id=\"T_da476324_8eb5_11ea_b029_4889e7f3390erow5_col1\" class=\"data row5 col1\" >3.3</td>\n                        <td id=\"T_da476324_8eb5_11ea_b029_4889e7f3390erow5_col2\" class=\"data row5 col2\" >0.87</td>\n                        <td id=\"T_da476324_8eb5_11ea_b029_4889e7f3390erow5_col3\" class=\"data row5 col3\" >0.63</td>\n                        <td id=\"T_da476324_8eb5_11ea_b029_4889e7f3390erow5_col4\" class=\"data row5 col4\" >0.44</td>\n                        <td id=\"T_da476324_8eb5_11ea_b029_4889e7f3390erow5_col5\" class=\"data row5 col5\" >0.73</td>\n                        <td id=\"T_da476324_8eb5_11ea_b029_4889e7f3390erow5_col6\" class=\"data row5 col6\" >544</td>\n            </tr>\n            <tr>\n                                <td id=\"T_da476324_8eb5_11ea_b029_4889e7f3390erow6_col0\" class=\"data row6 col0\" >Standard KD</td>\n                        <td id=\"T_da476324_8eb5_11ea_b029_4889e7f3390erow6_col1\" class=\"data row6 col1\" >41.8</td>\n                        <td id=\"T_da476324_8eb5_11ea_b029_4889e7f3390erow6_col2\" class=\"data row6 col2\" >0.52</td>\n                        <td id=\"T_da476324_8eb5_11ea_b029_4889e7f3390erow6_col3\" class=\"data row6 col3\" >0</td>\n                        <td id=\"T_da476324_8eb5_11ea_b029_4889e7f3390erow6_col4\" class=\"data row6 col4\" >0.55</td>\n                        <td id=\"T_da476324_8eb5_11ea_b029_4889e7f3390erow6_col5\" class=\"data row6 col5\" >0.24</td>\n                        <td id=\"T_da476324_8eb5_11ea_b029_4889e7f3390erow6_col6\" class=\"data row6 col6\" >548</td>\n            </tr>\n            <tr>\n                                <td id=\"T_da476324_8eb5_11ea_b029_4889e7f3390erow7_col0\" class=\"data row7 col0\" >Summer Observations CH</td>\n                        <td id=\"T_da476324_8eb5_11ea_b029_4889e7f3390erow7_col1\" class=\"data row7 col1\" >9.5</td>\n                        <td id=\"T_da476324_8eb5_11ea_b029_4889e7f3390erow7_col2\" class=\"data row7 col2\" >-0.05</td>\n                        <td id=\"T_da476324_8eb5_11ea_b029_4889e7f3390erow7_col3\" class=\"data row7 col3\" >-1.72</td>\n                        <td id=\"T_da476324_8eb5_11ea_b029_4889e7f3390erow7_col4\" class=\"data row7 col4\" >1.15</td>\n                        <td id=\"T_da476324_8eb5_11ea_b029_4889e7f3390erow7_col5\" class=\"data row7 col5\" >0.01</td>\n                        <td id=\"T_da476324_8eb5_11ea_b029_4889e7f3390erow7_col6\" class=\"data row7 col6\" >281</td>\n            </tr>\n            <tr>\n                                <td id=\"T_da476324_8eb5_11ea_b029_4889e7f3390erow8_col0\" class=\"data row8 col0\" >Summer Observations KD</td>\n                        <td id=\"T_da476324_8eb5_11ea_b029_4889e7f3390erow8_col1\" class=\"data row8 col1\" >36.1</td>\n                        <td id=\"T_da476324_8eb5_11ea_b029_4889e7f3390erow8_col2\" class=\"data row8 col2\" >0.29</td>\n                        <td id=\"T_da476324_8eb5_11ea_b029_4889e7f3390erow8_col3\" class=\"data row8 col3\" >-0.11</td>\n                        <td id=\"T_da476324_8eb5_11ea_b029_4889e7f3390erow8_col4\" class=\"data row8 col4\" >0.66</td>\n                        <td id=\"T_da476324_8eb5_11ea_b029_4889e7f3390erow8_col5\" class=\"data row8 col5\" >0.15</td>\n                        <td id=\"T_da476324_8eb5_11ea_b029_4889e7f3390erow8_col6\" class=\"data row8 col6\" >355</td>\n            </tr>\n            <tr>\n                                <td id=\"T_da476324_8eb5_11ea_b029_4889e7f3390erow9_col0\" class=\"data row9 col0\" >Winter Observations PO4</td>\n                        <td id=\"T_da476324_8eb5_11ea_b029_4889e7f3390erow9_col1\" class=\"data row9 col1\" >56.7</td>\n                        <td id=\"T_da476324_8eb5_11ea_b029_4889e7f3390erow9_col2\" class=\"data row9 col2\" >-0.11</td>\n                        <td id=\"T_da476324_8eb5_11ea_b029_4889e7f3390erow9_col3\" class=\"data row9 col3\" >-6.15</td>\n                        <td id=\"T_da476324_8eb5_11ea_b029_4889e7f3390erow9_col4\" class=\"data row9 col4\" >2.2</td>\n                        <td id=\"T_da476324_8eb5_11ea_b029_4889e7f3390erow9_col5\" class=\"data row9 col5\" >0</td>\n                        <td id=\"T_da476324_8eb5_11ea_b029_4889e7f3390erow9_col6\" class=\"data row9 col6\" >104</td>\n            </tr>\n            <tr>\n                                <td id=\"T_da476324_8eb5_11ea_b029_4889e7f3390erow10_col0\" class=\"data row10 col0\" >Winter Observations DIN</td>\n                        <td id=\"T_da476324_8eb5_11ea_b029_4889e7f3390erow10_col1\" class=\"data row10 col1\" >22.8</td>\n                        <td id=\"T_da476324_8eb5_11ea_b029_4889e7f3390erow10_col2\" class=\"data row10 col2\" >0.71</td>\n                        <td id=\"T_da476324_8eb5_11ea_b029_4889e7f3390erow10_col3\" class=\"data row10 col3\" >-0.31</td>\n                        <td id=\"T_da476324_8eb5_11ea_b029_4889e7f3390erow10_col4\" class=\"data row10 col4\" >0.96</td>\n                        <td id=\"T_da476324_8eb5_11ea_b029_4889e7f3390erow10_col5\" class=\"data row10 col5\" >0.53</td>\n                        <td id=\"T_da476324_8eb5_11ea_b029_4889e7f3390erow10_col6\" class=\"data row10 col6\" >104</td>\n            </tr>\n    </tbody></table>",
          "text/plain": "<pandas.io.formats.style.Styler at 0x1f250a69a90>"
         },
         "metadata": {},
         "output_type": "display_data"
        }
       ]
      }
     },
     "1aa764745507417290c0cdb344400d79": {
      "model_module": "@jupyter-widgets/controls",
      "model_module_version": "1.5.0",
      "model_name": "VBoxModel",
      "state": {
       "_dom_classes": [
        "widget-interact"
       ],
       "children": [
        "IPY_MODEL_99a84b30a9fe4c5ea6b758a4e7407ecf",
        "IPY_MODEL_e2753f3415224b4da34721097ea5fa9f"
       ],
       "layout": "IPY_MODEL_094810ad69ac4f9289dd093b05a14ab8"
      }
     },
     "1f2f4eabf8c24365987f586f2eb5cf0a": {
      "model_module": "@jupyter-widgets/controls",
      "model_module_version": "1.5.0",
      "model_name": "VBoxModel",
      "state": {
       "_dom_classes": [
        "widget-interact"
       ],
       "children": [
        "IPY_MODEL_e05f738e5cf84f78b049e8479366ee74",
        "IPY_MODEL_19e7bf6e7dac48228ff8a6ee7672cce1"
       ],
       "layout": "IPY_MODEL_6ebcfc866d064d23b5801d11a5f175dd"
      }
     },
     "2153e0e205ec477280e8943d651fd528": {
      "model_module": "@jupyter-widgets/controls",
      "model_module_version": "1.5.0",
      "model_name": "DropdownModel",
      "state": {
       "_options_labels": [
        "Annual",
        "All"
       ],
       "description": "Measurements",
       "index": 0,
       "layout": "IPY_MODEL_07a33352d6184f12879e3a649e2f0a06",
       "style": "IPY_MODEL_00ca417adca54b8891cf3f2f7765693a"
      }
     },
     "21e9738c632a48d1b9f6818dfb022a51": {
      "model_module": "@jupyter-widgets/base",
      "model_module_version": "1.2.0",
      "model_name": "LayoutModel",
      "state": {}
     },
     "23b6bfdd28744d23bd441a25bdfaf3e3": {
      "model_module": "@jupyter-widgets/output",
      "model_module_version": "1.0.0",
      "model_name": "OutputModel",
      "state": {
       "layout": "IPY_MODEL_d048ed3b449a4b0fa6d8d1cb99996754",
       "outputs": [
        {
         "data": {
          "text/html": "<style  type=\"text/css\" >\n</style><table id=\"T_e4831ede_8eb0_11ea_b115_4889e7f3390e\" ><thead>    <tr>        <th class=\"col_heading level0 col0\" >Measurement</th>        <th class=\"col_heading level0 col1\" >Percent_Bias</th>        <th class=\"col_heading level0 col2\" >Spearman_Rank_Correlation</th>        <th class=\"col_heading level0 col3\" >Efficiency_Factor</th>        <th class=\"col_heading level0 col4\" >Cost_Function</th>        <th class=\"col_heading level0 col5\" >R2</th>        <th class=\"col_heading level0 col6\" >Total_Number_Of_Observations_1</th>    </tr></thead><tbody>\n                <tr>\n                                <td id=\"T_e4831ede_8eb0_11ea_b115_4889e7f3390erow0_col0\" class=\"data row0 col0\" >Standard TN</td>\n                        <td id=\"T_e4831ede_8eb0_11ea_b115_4889e7f3390erow0_col1\" class=\"data row0 col1\" >42.2</td>\n                        <td id=\"T_e4831ede_8eb0_11ea_b115_4889e7f3390erow0_col2\" class=\"data row0 col2\" >0.85</td>\n                        <td id=\"T_e4831ede_8eb0_11ea_b115_4889e7f3390erow0_col3\" class=\"data row0 col3\" >0.23</td>\n                        <td id=\"T_e4831ede_8eb0_11ea_b115_4889e7f3390erow0_col4\" class=\"data row0 col4\" >0.71</td>\n                        <td id=\"T_e4831ede_8eb0_11ea_b115_4889e7f3390erow0_col5\" class=\"data row0 col5\" >0.78</td>\n                        <td id=\"T_e4831ede_8eb0_11ea_b115_4889e7f3390erow0_col6\" class=\"data row0 col6\" >441</td>\n            </tr>\n            <tr>\n                                <td id=\"T_e4831ede_8eb0_11ea_b115_4889e7f3390erow1_col0\" class=\"data row1 col0\" >Standard TP</td>\n                        <td id=\"T_e4831ede_8eb0_11ea_b115_4889e7f3390erow1_col1\" class=\"data row1 col1\" >12.7</td>\n                        <td id=\"T_e4831ede_8eb0_11ea_b115_4889e7f3390erow1_col2\" class=\"data row1 col2\" >0.45</td>\n                        <td id=\"T_e4831ede_8eb0_11ea_b115_4889e7f3390erow1_col3\" class=\"data row1 col3\" >-0.35</td>\n                        <td id=\"T_e4831ede_8eb0_11ea_b115_4889e7f3390erow1_col4\" class=\"data row1 col4\" >0.8</td>\n                        <td id=\"T_e4831ede_8eb0_11ea_b115_4889e7f3390erow1_col5\" class=\"data row1 col5\" >0.18</td>\n                        <td id=\"T_e4831ede_8eb0_11ea_b115_4889e7f3390erow1_col6\" class=\"data row1 col6\" >443</td>\n            </tr>\n            <tr>\n                                <td id=\"T_e4831ede_8eb0_11ea_b115_4889e7f3390erow2_col0\" class=\"data row2 col0\" >Standard PO4</td>\n                        <td id=\"T_e4831ede_8eb0_11ea_b115_4889e7f3390erow2_col1\" class=\"data row2 col1\" >38.5</td>\n                        <td id=\"T_e4831ede_8eb0_11ea_b115_4889e7f3390erow2_col2\" class=\"data row2 col2\" >0.7</td>\n                        <td id=\"T_e4831ede_8eb0_11ea_b115_4889e7f3390erow2_col3\" class=\"data row2 col3\" >-0.84</td>\n                        <td id=\"T_e4831ede_8eb0_11ea_b115_4889e7f3390erow2_col4\" class=\"data row2 col4\" >0.89</td>\n                        <td id=\"T_e4831ede_8eb0_11ea_b115_4889e7f3390erow2_col5\" class=\"data row2 col5\" >0.44</td>\n                        <td id=\"T_e4831ede_8eb0_11ea_b115_4889e7f3390erow2_col6\" class=\"data row2 col6\" >442</td>\n            </tr>\n            <tr>\n                                <td id=\"T_e4831ede_8eb0_11ea_b115_4889e7f3390erow3_col0\" class=\"data row3 col0\" >Standard DIN</td>\n                        <td id=\"T_e4831ede_8eb0_11ea_b115_4889e7f3390erow3_col1\" class=\"data row3 col1\" >62.3</td>\n                        <td id=\"T_e4831ede_8eb0_11ea_b115_4889e7f3390erow3_col2\" class=\"data row3 col2\" >0.86</td>\n                        <td id=\"T_e4831ede_8eb0_11ea_b115_4889e7f3390erow3_col3\" class=\"data row3 col3\" >0.43</td>\n                        <td id=\"T_e4831ede_8eb0_11ea_b115_4889e7f3390erow3_col4\" class=\"data row3 col4\" >0.61</td>\n                        <td id=\"T_e4831ede_8eb0_11ea_b115_4889e7f3390erow3_col5\" class=\"data row3 col5\" >0.82</td>\n                        <td id=\"T_e4831ede_8eb0_11ea_b115_4889e7f3390erow3_col6\" class=\"data row3 col6\" >441</td>\n            </tr>\n            <tr>\n                                <td id=\"T_e4831ede_8eb0_11ea_b115_4889e7f3390erow4_col0\" class=\"data row4 col0\" >Standard CH</td>\n                        <td id=\"T_e4831ede_8eb0_11ea_b115_4889e7f3390erow4_col1\" class=\"data row4 col1\" >41.7</td>\n                        <td id=\"T_e4831ede_8eb0_11ea_b115_4889e7f3390erow4_col2\" class=\"data row4 col2\" >0.2</td>\n                        <td id=\"T_e4831ede_8eb0_11ea_b115_4889e7f3390erow4_col3\" class=\"data row4 col3\" >-1.81</td>\n                        <td id=\"T_e4831ede_8eb0_11ea_b115_4889e7f3390erow4_col4\" class=\"data row4 col4\" >1.28</td>\n                        <td id=\"T_e4831ede_8eb0_11ea_b115_4889e7f3390erow4_col5\" class=\"data row4 col5\" >0</td>\n                        <td id=\"T_e4831ede_8eb0_11ea_b115_4889e7f3390erow4_col6\" class=\"data row4 col6\" >443</td>\n            </tr>\n            <tr>\n                                <td id=\"T_e4831ede_8eb0_11ea_b115_4889e7f3390erow5_col0\" class=\"data row5 col0\" >Standard DO</td>\n                        <td id=\"T_e4831ede_8eb0_11ea_b115_4889e7f3390erow5_col1\" class=\"data row5 col1\" >2.5</td>\n                        <td id=\"T_e4831ede_8eb0_11ea_b115_4889e7f3390erow5_col2\" class=\"data row5 col2\" >0.86</td>\n                        <td id=\"T_e4831ede_8eb0_11ea_b115_4889e7f3390erow5_col3\" class=\"data row5 col3\" >0.67</td>\n                        <td id=\"T_e4831ede_8eb0_11ea_b115_4889e7f3390erow5_col4\" class=\"data row5 col4\" >0.41</td>\n                        <td id=\"T_e4831ede_8eb0_11ea_b115_4889e7f3390erow5_col5\" class=\"data row5 col5\" >0.72</td>\n                        <td id=\"T_e4831ede_8eb0_11ea_b115_4889e7f3390erow5_col6\" class=\"data row5 col6\" >355</td>\n            </tr>\n            <tr>\n                                <td id=\"T_e4831ede_8eb0_11ea_b115_4889e7f3390erow6_col0\" class=\"data row6 col0\" >Standard KD</td>\n                        <td id=\"T_e4831ede_8eb0_11ea_b115_4889e7f3390erow6_col1\" class=\"data row6 col1\" >43.2</td>\n                        <td id=\"T_e4831ede_8eb0_11ea_b115_4889e7f3390erow6_col2\" class=\"data row6 col2\" >0.59</td>\n                        <td id=\"T_e4831ede_8eb0_11ea_b115_4889e7f3390erow6_col3\" class=\"data row6 col3\" >0.05</td>\n                        <td id=\"T_e4831ede_8eb0_11ea_b115_4889e7f3390erow6_col4\" class=\"data row6 col4\" >0.58</td>\n                        <td id=\"T_e4831ede_8eb0_11ea_b115_4889e7f3390erow6_col5\" class=\"data row6 col5\" >0.45</td>\n                        <td id=\"T_e4831ede_8eb0_11ea_b115_4889e7f3390erow6_col6\" class=\"data row6 col6\" >119</td>\n            </tr>\n            <tr>\n                                <td id=\"T_e4831ede_8eb0_11ea_b115_4889e7f3390erow7_col0\" class=\"data row7 col0\" >Summer Observations CH</td>\n                        <td id=\"T_e4831ede_8eb0_11ea_b115_4889e7f3390erow7_col1\" class=\"data row7 col1\" >23</td>\n                        <td id=\"T_e4831ede_8eb0_11ea_b115_4889e7f3390erow7_col2\" class=\"data row7 col2\" >-0.05</td>\n                        <td id=\"T_e4831ede_8eb0_11ea_b115_4889e7f3390erow7_col3\" class=\"data row7 col3\" >-2.05</td>\n                        <td id=\"T_e4831ede_8eb0_11ea_b115_4889e7f3390erow7_col4\" class=\"data row7 col4\" >1.32</td>\n                        <td id=\"T_e4831ede_8eb0_11ea_b115_4889e7f3390erow7_col5\" class=\"data row7 col5\" >0.01</td>\n                        <td id=\"T_e4831ede_8eb0_11ea_b115_4889e7f3390erow7_col6\" class=\"data row7 col6\" >218</td>\n            </tr>\n            <tr>\n                                <td id=\"T_e4831ede_8eb0_11ea_b115_4889e7f3390erow8_col0\" class=\"data row8 col0\" >Summer Observations KD</td>\n                        <td id=\"T_e4831ede_8eb0_11ea_b115_4889e7f3390erow8_col1\" class=\"data row8 col1\" >38.8</td>\n                        <td id=\"T_e4831ede_8eb0_11ea_b115_4889e7f3390erow8_col2\" class=\"data row8 col2\" >0.28</td>\n                        <td id=\"T_e4831ede_8eb0_11ea_b115_4889e7f3390erow8_col3\" class=\"data row8 col3\" >-0.21</td>\n                        <td id=\"T_e4831ede_8eb0_11ea_b115_4889e7f3390erow8_col4\" class=\"data row8 col4\" >0.75</td>\n                        <td id=\"T_e4831ede_8eb0_11ea_b115_4889e7f3390erow8_col5\" class=\"data row8 col5\" >0.19</td>\n                        <td id=\"T_e4831ede_8eb0_11ea_b115_4889e7f3390erow8_col6\" class=\"data row8 col6\" >81</td>\n            </tr>\n            <tr>\n                                <td id=\"T_e4831ede_8eb0_11ea_b115_4889e7f3390erow9_col0\" class=\"data row9 col0\" >Winter Observations PO4</td>\n                        <td id=\"T_e4831ede_8eb0_11ea_b115_4889e7f3390erow9_col1\" class=\"data row9 col1\" >35.8</td>\n                        <td id=\"T_e4831ede_8eb0_11ea_b115_4889e7f3390erow9_col2\" class=\"data row9 col2\" >-0.04</td>\n                        <td id=\"T_e4831ede_8eb0_11ea_b115_4889e7f3390erow9_col3\" class=\"data row9 col3\" >-3.51</td>\n                        <td id=\"T_e4831ede_8eb0_11ea_b115_4889e7f3390erow9_col4\" class=\"data row9 col4\" >1.64</td>\n                        <td id=\"T_e4831ede_8eb0_11ea_b115_4889e7f3390erow9_col5\" class=\"data row9 col5\" >0</td>\n                        <td id=\"T_e4831ede_8eb0_11ea_b115_4889e7f3390erow9_col6\" class=\"data row9 col6\" >70</td>\n            </tr>\n            <tr>\n                                <td id=\"T_e4831ede_8eb0_11ea_b115_4889e7f3390erow10_col0\" class=\"data row10 col0\" >Winter Observations DIN</td>\n                        <td id=\"T_e4831ede_8eb0_11ea_b115_4889e7f3390erow10_col1\" class=\"data row10 col1\" >29.6</td>\n                        <td id=\"T_e4831ede_8eb0_11ea_b115_4889e7f3390erow10_col2\" class=\"data row10 col2\" >0.72</td>\n                        <td id=\"T_e4831ede_8eb0_11ea_b115_4889e7f3390erow10_col3\" class=\"data row10 col3\" >-0.83</td>\n                        <td id=\"T_e4831ede_8eb0_11ea_b115_4889e7f3390erow10_col4\" class=\"data row10 col4\" >1.08</td>\n                        <td id=\"T_e4831ede_8eb0_11ea_b115_4889e7f3390erow10_col5\" class=\"data row10 col5\" >0.5</td>\n                        <td id=\"T_e4831ede_8eb0_11ea_b115_4889e7f3390erow10_col6\" class=\"data row10 col6\" >70</td>\n            </tr>\n    </tbody></table>",
          "text/plain": "<pandas.io.formats.style.Styler at 0x1f250940940>"
         },
         "metadata": {},
         "output_type": "display_data"
        }
       ]
      }
     },
     "2432d57ae8e642669c940f69aa4e697a": {
      "model_module": "@jupyter-widgets/controls",
      "model_module_version": "1.5.0",
      "model_name": "DescriptionStyleModel",
      "state": {
       "description_width": ""
      }
     },
     "247a2f5a9ff747fdb2508fec3713d764": {
      "model_module": "@jupyter-widgets/controls",
      "model_module_version": "1.5.0",
      "model_name": "SliderStyleModel",
      "state": {
       "description_width": ""
      }
     },
     "26cd7813abf14a67bc2fc85292937f79": {
      "model_module": "@jupyter-widgets/controls",
      "model_module_version": "1.5.0",
      "model_name": "DescriptionStyleModel",
      "state": {
       "description_width": ""
      }
     },
     "2a48134b63dd4494915c93d2eba9901e": {
      "model_module": "@jupyter-widgets/output",
      "model_module_version": "1.0.0",
      "model_name": "OutputModel",
      "state": {
       "layout": "IPY_MODEL_8d4d852ab5e640a4975fbe3435a9af8f",
       "outputs": [
        {
         "ename": "ValueError",
         "evalue": "Lengths must match to compare",
         "output_type": "error",
         "traceback": [
          "\u001b[1;31m---------------------------------------------------------------------------\u001b[0m",
          "\u001b[1;31mValueError\u001b[0m                                Traceback (most recent call last)",
          "\u001b[1;32m~\\AppData\\Local\\Continuum\\anaconda3\\lib\\site-packages\\ipywidgets\\widgets\\interaction.py\u001b[0m in \u001b[0;36mupdate\u001b[1;34m(self, *args)\u001b[0m\n\u001b[0;32m    254\u001b[0m                     \u001b[0mvalue\u001b[0m \u001b[1;33m=\u001b[0m \u001b[0mwidget\u001b[0m\u001b[1;33m.\u001b[0m\u001b[0mget_interact_value\u001b[0m\u001b[1;33m(\u001b[0m\u001b[1;33m)\u001b[0m\u001b[1;33m\u001b[0m\u001b[1;33m\u001b[0m\u001b[0m\n\u001b[0;32m    255\u001b[0m                     \u001b[0mself\u001b[0m\u001b[1;33m.\u001b[0m\u001b[0mkwargs\u001b[0m\u001b[1;33m[\u001b[0m\u001b[0mwidget\u001b[0m\u001b[1;33m.\u001b[0m\u001b[0m_kwarg\u001b[0m\u001b[1;33m]\u001b[0m \u001b[1;33m=\u001b[0m \u001b[0mvalue\u001b[0m\u001b[1;33m\u001b[0m\u001b[1;33m\u001b[0m\u001b[0m\n\u001b[1;32m--> 256\u001b[1;33m                 \u001b[0mself\u001b[0m\u001b[1;33m.\u001b[0m\u001b[0mresult\u001b[0m \u001b[1;33m=\u001b[0m \u001b[0mself\u001b[0m\u001b[1;33m.\u001b[0m\u001b[0mf\u001b[0m\u001b[1;33m(\u001b[0m\u001b[1;33m**\u001b[0m\u001b[0mself\u001b[0m\u001b[1;33m.\u001b[0m\u001b[0mkwargs\u001b[0m\u001b[1;33m)\u001b[0m\u001b[1;33m\u001b[0m\u001b[1;33m\u001b[0m\u001b[0m\n\u001b[0m\u001b[0;32m    257\u001b[0m                 \u001b[0mshow_inline_matplotlib_plots\u001b[0m\u001b[1;33m(\u001b[0m\u001b[1;33m)\u001b[0m\u001b[1;33m\u001b[0m\u001b[1;33m\u001b[0m\u001b[0m\n\u001b[0;32m    258\u001b[0m                 \u001b[1;32mif\u001b[0m \u001b[0mself\u001b[0m\u001b[1;33m.\u001b[0m\u001b[0mauto_display\u001b[0m \u001b[1;32mand\u001b[0m \u001b[0mself\u001b[0m\u001b[1;33m.\u001b[0m\u001b[0mresult\u001b[0m \u001b[1;32mis\u001b[0m \u001b[1;32mnot\u001b[0m \u001b[1;32mNone\u001b[0m\u001b[1;33m:\u001b[0m\u001b[1;33m\u001b[0m\u001b[1;33m\u001b[0m\u001b[0m\n",
          "\u001b[1;32m<ipython-input-9-ba043a9ea82e>\u001b[0m in \u001b[0;36mshow_ts\u001b[1;34m(Station)\u001b[0m\n\u001b[0;32m      5\u001b[0m     \u001b[1;33m@\u001b[0m\u001b[0minteract\u001b[0m\u001b[1;33m\u001b[0m\u001b[1;33m\u001b[0m\u001b[0m\n\u001b[0;32m      6\u001b[0m     \u001b[1;32mdef\u001b[0m \u001b[0mshow_ts\u001b[0m\u001b[1;33m(\u001b[0m\u001b[0mStation\u001b[0m\u001b[1;33m=\u001b[0m\u001b[0mstations\u001b[0m\u001b[1;33m)\u001b[0m\u001b[1;33m:\u001b[0m\u001b[1;33m\u001b[0m\u001b[1;33m\u001b[0m\u001b[0m\n\u001b[1;32m----> 7\u001b[1;33m         \u001b[0mstation_table\u001b[0m \u001b[1;33m=\u001b[0m \u001b[0mdf_all\u001b[0m\u001b[1;33m.\u001b[0m\u001b[0mloc\u001b[0m\u001b[1;33m[\u001b[0m\u001b[0mdf_all\u001b[0m\u001b[1;33m[\u001b[0m\u001b[1;34m'Station'\u001b[0m\u001b[1;33m]\u001b[0m\u001b[1;33m==\u001b[0m\u001b[0mstations\u001b[0m\u001b[1;33m]\u001b[0m\u001b[1;33m\u001b[0m\u001b[1;33m\u001b[0m\u001b[0m\n\u001b[0m\u001b[0;32m      8\u001b[0m         \u001b[0mstation_table\u001b[0m \u001b[1;33m=\u001b[0m \u001b[0mstation_table\u001b[0m\u001b[1;33m.\u001b[0m\u001b[0mdrop\u001b[0m\u001b[1;33m(\u001b[0m\u001b[1;33m[\u001b[0m\u001b[1;34m'Station'\u001b[0m\u001b[1;33m,\u001b[0m\u001b[1;34m'Standard'\u001b[0m\u001b[1;33m,\u001b[0m\u001b[1;34m'Summer'\u001b[0m\u001b[1;33m,\u001b[0m\u001b[1;34m'Winter'\u001b[0m\u001b[1;33m]\u001b[0m\u001b[1;33m,\u001b[0m \u001b[0maxis\u001b[0m\u001b[1;33m=\u001b[0m\u001b[1;36m1\u001b[0m\u001b[1;33m)\u001b[0m\u001b[1;33m\u001b[0m\u001b[1;33m\u001b[0m\u001b[0m\n\u001b[0;32m      9\u001b[0m         \u001b[0mstation_table\u001b[0m\u001b[1;33m[\u001b[0m\u001b[1;34m'Percent_Bias'\u001b[0m\u001b[1;33m]\u001b[0m \u001b[1;33m=\u001b[0m \u001b[0mround\u001b[0m\u001b[1;33m(\u001b[0m\u001b[0mstation_table\u001b[0m\u001b[1;33m[\u001b[0m\u001b[1;34m'Percent_Bias'\u001b[0m\u001b[1;33m]\u001b[0m\u001b[1;33m,\u001b[0m\u001b[1;36m1\u001b[0m\u001b[1;33m)\u001b[0m\u001b[1;33m\u001b[0m\u001b[1;33m\u001b[0m\u001b[0m\n",
          "\u001b[1;32m~\\AppData\\Local\\Continuum\\anaconda3\\lib\\site-packages\\pandas\\core\\ops.py\u001b[0m in \u001b[0;36mwrapper\u001b[1;34m(self, other, axis)\u001b[0m\n\u001b[0;32m   1743\u001b[0m             \u001b[1;31m# as it will broadcast\u001b[0m\u001b[1;33m\u001b[0m\u001b[1;33m\u001b[0m\u001b[1;33m\u001b[0m\u001b[0m\n\u001b[0;32m   1744\u001b[0m             \u001b[1;32mif\u001b[0m \u001b[0mother\u001b[0m\u001b[1;33m.\u001b[0m\u001b[0mndim\u001b[0m \u001b[1;33m!=\u001b[0m \u001b[1;36m0\u001b[0m \u001b[1;32mand\u001b[0m \u001b[0mlen\u001b[0m\u001b[1;33m(\u001b[0m\u001b[0mself\u001b[0m\u001b[1;33m)\u001b[0m \u001b[1;33m!=\u001b[0m \u001b[0mlen\u001b[0m\u001b[1;33m(\u001b[0m\u001b[0mother\u001b[0m\u001b[1;33m)\u001b[0m\u001b[1;33m:\u001b[0m\u001b[1;33m\u001b[0m\u001b[1;33m\u001b[0m\u001b[0m\n\u001b[1;32m-> 1745\u001b[1;33m                 \u001b[1;32mraise\u001b[0m \u001b[0mValueError\u001b[0m\u001b[1;33m(\u001b[0m\u001b[1;34m'Lengths must match to compare'\u001b[0m\u001b[1;33m)\u001b[0m\u001b[1;33m\u001b[0m\u001b[1;33m\u001b[0m\u001b[0m\n\u001b[0m\u001b[0;32m   1746\u001b[0m \u001b[1;33m\u001b[0m\u001b[0m\n\u001b[0;32m   1747\u001b[0m             \u001b[0mres_values\u001b[0m \u001b[1;33m=\u001b[0m \u001b[0mna_op\u001b[0m\u001b[1;33m(\u001b[0m\u001b[0mself\u001b[0m\u001b[1;33m.\u001b[0m\u001b[0mvalues\u001b[0m\u001b[1;33m,\u001b[0m \u001b[0mnp\u001b[0m\u001b[1;33m.\u001b[0m\u001b[0masarray\u001b[0m\u001b[1;33m(\u001b[0m\u001b[0mother\u001b[0m\u001b[1;33m)\u001b[0m\u001b[1;33m)\u001b[0m\u001b[1;33m\u001b[0m\u001b[1;33m\u001b[0m\u001b[0m\n",
          "\u001b[1;31mValueError\u001b[0m: Lengths must match to compare"
         ]
        }
       ]
      }
     },
     "2ac81ebcc66b4616adfbb9bcf942d581": {
      "model_module": "@jupyter-widgets/controls",
      "model_module_version": "1.5.0",
      "model_name": "VBoxModel",
      "state": {
       "_dom_classes": [
        "widget-interact"
       ],
       "children": [
        "IPY_MODEL_e49987355fd3405f892cea34535d79c8",
        "IPY_MODEL_914004ad6f9d4325bd4201e31b7e6f33"
       ],
       "layout": "IPY_MODEL_a42364c72a774c5da72023640a387f52"
      }
     },
     "2b95fd7597894a059ff9d0522edadf9f": {
      "model_module": "@jupyter-widgets/controls",
      "model_module_version": "1.5.0",
      "model_name": "DropdownModel",
      "state": {
       "_options_labels": [
        "RKB1",
        "RKB10"
       ],
       "description": "Station",
       "index": 1,
       "layout": "IPY_MODEL_8a950fac4120489e8689c65488969ec9",
       "style": "IPY_MODEL_fbebb9ce6c184d9ca482006e9c794fb2"
      }
     },
     "2b9ef95e87914b12b13c7701226d2db6": {
      "model_module": "@jupyter-widgets/controls",
      "model_module_version": "1.5.0",
      "model_name": "DescriptionStyleModel",
      "state": {
       "description_width": ""
      }
     },
     "2bb14490c98948768a3545218a3a09ea": {
      "model_module": "@jupyter-widgets/output",
      "model_module_version": "1.0.0",
      "model_name": "OutputModel",
      "state": {
       "layout": "IPY_MODEL_806407f541494a5c810ed3614d44f108",
       "outputs": [
        {
         "ename": "TypeError",
         "evalue": "'DataFrame' object is not callable",
         "output_type": "error",
         "traceback": [
          "\u001b[1;31m---------------------------------------------------------------------------\u001b[0m",
          "\u001b[1;31mTypeError\u001b[0m                                 Traceback (most recent call last)",
          "\u001b[1;32m~\\AppData\\Local\\Continuum\\anaconda3\\lib\\site-packages\\ipywidgets\\widgets\\interaction.py\u001b[0m in \u001b[0;36mupdate\u001b[1;34m(self, *args)\u001b[0m\n\u001b[0;32m    254\u001b[0m                     \u001b[0mvalue\u001b[0m \u001b[1;33m=\u001b[0m \u001b[0mwidget\u001b[0m\u001b[1;33m.\u001b[0m\u001b[0mget_interact_value\u001b[0m\u001b[1;33m(\u001b[0m\u001b[1;33m)\u001b[0m\u001b[1;33m\u001b[0m\u001b[1;33m\u001b[0m\u001b[0m\n\u001b[0;32m    255\u001b[0m                     \u001b[0mself\u001b[0m\u001b[1;33m.\u001b[0m\u001b[0mkwargs\u001b[0m\u001b[1;33m[\u001b[0m\u001b[0mwidget\u001b[0m\u001b[1;33m.\u001b[0m\u001b[0m_kwarg\u001b[0m\u001b[1;33m]\u001b[0m \u001b[1;33m=\u001b[0m \u001b[0mvalue\u001b[0m\u001b[1;33m\u001b[0m\u001b[1;33m\u001b[0m\u001b[0m\n\u001b[1;32m--> 256\u001b[1;33m                 \u001b[0mself\u001b[0m\u001b[1;33m.\u001b[0m\u001b[0mresult\u001b[0m \u001b[1;33m=\u001b[0m \u001b[0mself\u001b[0m\u001b[1;33m.\u001b[0m\u001b[0mf\u001b[0m\u001b[1;33m(\u001b[0m\u001b[1;33m**\u001b[0m\u001b[0mself\u001b[0m\u001b[1;33m.\u001b[0m\u001b[0mkwargs\u001b[0m\u001b[1;33m)\u001b[0m\u001b[1;33m\u001b[0m\u001b[1;33m\u001b[0m\u001b[0m\n\u001b[0m\u001b[0;32m    257\u001b[0m                 \u001b[0mshow_inline_matplotlib_plots\u001b[0m\u001b[1;33m(\u001b[0m\u001b[1;33m)\u001b[0m\u001b[1;33m\u001b[0m\u001b[1;33m\u001b[0m\u001b[0m\n\u001b[0;32m    258\u001b[0m                 \u001b[1;32mif\u001b[0m \u001b[0mself\u001b[0m\u001b[1;33m.\u001b[0m\u001b[0mauto_display\u001b[0m \u001b[1;32mand\u001b[0m \u001b[0mself\u001b[0m\u001b[1;33m.\u001b[0m\u001b[0mresult\u001b[0m \u001b[1;32mis\u001b[0m \u001b[1;32mnot\u001b[0m \u001b[1;32mNone\u001b[0m\u001b[1;33m:\u001b[0m\u001b[1;33m\u001b[0m\u001b[1;33m\u001b[0m\u001b[0m\n",
          "\u001b[1;32m<ipython-input-90-5d42bb083655>\u001b[0m in \u001b[0;36mshow_ts\u001b[1;34m(QMeasure)\u001b[0m\n\u001b[0;32m     16\u001b[0m         \u001b[0mstation_stat\u001b[0m\u001b[1;33m[\u001b[0m\u001b[1;34m'station'\u001b[0m\u001b[1;33m]\u001b[0m \u001b[1;33m=\u001b[0m \u001b[0mstation\u001b[0m\u001b[1;33m\u001b[0m\u001b[1;33m\u001b[0m\u001b[0m\n\u001b[0;32m     17\u001b[0m         \u001b[0mStat_table\u001b[0m \u001b[1;33m=\u001b[0m \u001b[0mStat_table\u001b[0m\u001b[1;33m.\u001b[0m\u001b[0mappend\u001b[0m\u001b[1;33m(\u001b[0m\u001b[0mstation_stat\u001b[0m\u001b[1;33m,\u001b[0m \u001b[0mignore_index\u001b[0m \u001b[1;33m=\u001b[0m \u001b[1;32mTrue\u001b[0m\u001b[1;33m)\u001b[0m\u001b[1;33m\u001b[0m\u001b[1;33m\u001b[0m\u001b[0m\n\u001b[1;32m---> 18\u001b[1;33m     \u001b[1;32mreturn\u001b[0m \u001b[0mStat_table\u001b[0m\u001b[1;33m(\u001b[0m\u001b[1;33m)\u001b[0m\u001b[1;33m\u001b[0m\u001b[1;33m\u001b[0m\u001b[0m\n\u001b[0m",
          "\u001b[1;31mTypeError\u001b[0m: 'DataFrame' object is not callable"
         ]
        }
       ]
      }
     },
     "2bb37cb0bfb5444991dab5c9bbff4b4a": {
      "model_module": "@jupyter-widgets/controls",
      "model_module_version": "1.5.0",
      "model_name": "DescriptionStyleModel",
      "state": {
       "description_width": ""
      }
     },
     "2e6b7fbe403c48b0a4d397104b110184": {
      "model_module": "@jupyter-widgets/controls",
      "model_module_version": "1.5.0",
      "model_name": "SliderStyleModel",
      "state": {
       "description_width": ""
      }
     },
     "2e95dd92bdb3425e889a938427fb15b7": {
      "model_module": "@jupyter-widgets/base",
      "model_module_version": "1.2.0",
      "model_name": "LayoutModel",
      "state": {}
     },
     "30b1ac2df18d48ffb008ca664b2fae6f": {
      "model_module": "@jupyter-widgets/base",
      "model_module_version": "1.2.0",
      "model_name": "LayoutModel",
      "state": {}
     },
     "31d4b342c537429d9d4a2d572fb35f78": {
      "model_module": "@jupyter-widgets/base",
      "model_module_version": "1.2.0",
      "model_name": "LayoutModel",
      "state": {}
     },
     "31dd892c4fee4424841e651ea4c95cb4": {
      "model_module": "@jupyter-widgets/controls",
      "model_module_version": "1.5.0",
      "model_name": "DescriptionStyleModel",
      "state": {
       "description_width": ""
      }
     },
     "320778df2c764e0bb5871b5093b28332": {
      "model_module": "@jupyter-widgets/controls",
      "model_module_version": "1.5.0",
      "model_name": "VBoxModel",
      "state": {
       "_dom_classes": [
        "widget-interact"
       ],
       "children": [
        "IPY_MODEL_be7f6e00057942b98340f5c4fc996dba",
        "IPY_MODEL_34b2cd658e464136a4644c70809777a4"
       ],
       "layout": "IPY_MODEL_e030a56324c44954bf29578682a3c4d8"
      }
     },
     "32dd7359bfe3433f825d76539c2c1382": {
      "model_module": "@jupyter-widgets/base",
      "model_module_version": "1.2.0",
      "model_name": "LayoutModel",
      "state": {}
     },
     "3393cc710dfb46a6b58d8cf92da3ac50": {
      "model_module": "@jupyter-widgets/controls",
      "model_module_version": "1.5.0",
      "model_name": "VBoxModel",
      "state": {
       "_dom_classes": [
        "widget-interact"
       ],
       "children": [
        "IPY_MODEL_54cd05c770db4352a031b284a3939e64",
        "IPY_MODEL_c4ade0c6b4b54c8d894cb810e8822530",
        "IPY_MODEL_cdddbb838d9141a8860a0607d59691b2"
       ],
       "layout": "IPY_MODEL_0f15f35ac45142e3be179e7547322fa4"
      }
     },
     "34b2cd658e464136a4644c70809777a4": {
      "model_module": "@jupyter-widgets/output",
      "model_module_version": "1.0.0",
      "model_name": "OutputModel",
      "state": {
       "layout": "IPY_MODEL_95409d421e4a4d78860515118810ce8c",
       "outputs": [
        {
         "ename": "ValueError",
         "evalue": "Lengths must match to compare",
         "output_type": "error",
         "traceback": [
          "\u001b[1;31m---------------------------------------------------------------------------\u001b[0m",
          "\u001b[1;31mValueError\u001b[0m                                Traceback (most recent call last)",
          "\u001b[1;32m~\\AppData\\Local\\Continuum\\anaconda3\\lib\\site-packages\\ipywidgets\\widgets\\interaction.py\u001b[0m in \u001b[0;36mupdate\u001b[1;34m(self, *args)\u001b[0m\n\u001b[0;32m    254\u001b[0m                     \u001b[0mvalue\u001b[0m \u001b[1;33m=\u001b[0m \u001b[0mwidget\u001b[0m\u001b[1;33m.\u001b[0m\u001b[0mget_interact_value\u001b[0m\u001b[1;33m(\u001b[0m\u001b[1;33m)\u001b[0m\u001b[1;33m\u001b[0m\u001b[1;33m\u001b[0m\u001b[0m\n\u001b[0;32m    255\u001b[0m                     \u001b[0mself\u001b[0m\u001b[1;33m.\u001b[0m\u001b[0mkwargs\u001b[0m\u001b[1;33m[\u001b[0m\u001b[0mwidget\u001b[0m\u001b[1;33m.\u001b[0m\u001b[0m_kwarg\u001b[0m\u001b[1;33m]\u001b[0m \u001b[1;33m=\u001b[0m \u001b[0mvalue\u001b[0m\u001b[1;33m\u001b[0m\u001b[1;33m\u001b[0m\u001b[0m\n\u001b[1;32m--> 256\u001b[1;33m                 \u001b[0mself\u001b[0m\u001b[1;33m.\u001b[0m\u001b[0mresult\u001b[0m \u001b[1;33m=\u001b[0m \u001b[0mself\u001b[0m\u001b[1;33m.\u001b[0m\u001b[0mf\u001b[0m\u001b[1;33m(\u001b[0m\u001b[1;33m**\u001b[0m\u001b[0mself\u001b[0m\u001b[1;33m.\u001b[0m\u001b[0mkwargs\u001b[0m\u001b[1;33m)\u001b[0m\u001b[1;33m\u001b[0m\u001b[1;33m\u001b[0m\u001b[0m\n\u001b[0m\u001b[0;32m    257\u001b[0m                 \u001b[0mshow_inline_matplotlib_plots\u001b[0m\u001b[1;33m(\u001b[0m\u001b[1;33m)\u001b[0m\u001b[1;33m\u001b[0m\u001b[1;33m\u001b[0m\u001b[0m\n\u001b[0;32m    258\u001b[0m                 \u001b[1;32mif\u001b[0m \u001b[0mself\u001b[0m\u001b[1;33m.\u001b[0m\u001b[0mauto_display\u001b[0m \u001b[1;32mand\u001b[0m \u001b[0mself\u001b[0m\u001b[1;33m.\u001b[0m\u001b[0mresult\u001b[0m \u001b[1;32mis\u001b[0m \u001b[1;32mnot\u001b[0m \u001b[1;32mNone\u001b[0m\u001b[1;33m:\u001b[0m\u001b[1;33m\u001b[0m\u001b[1;33m\u001b[0m\u001b[0m\n",
          "\u001b[1;32m<ipython-input-20-ad7f3852b45a>\u001b[0m in \u001b[0;36mshow_ts\u001b[1;34m(Station)\u001b[0m\n\u001b[0;32m      7\u001b[0m     \u001b[1;32mdef\u001b[0m \u001b[0mshow_ts\u001b[0m\u001b[1;33m(\u001b[0m\u001b[0mStation\u001b[0m\u001b[1;33m=\u001b[0m\u001b[0mstations\u001b[0m\u001b[1;33m)\u001b[0m\u001b[1;33m:\u001b[0m\u001b[1;33m\u001b[0m\u001b[1;33m\u001b[0m\u001b[0m\n\u001b[0;32m      8\u001b[0m         \u001b[0mx\u001b[0m \u001b[1;33m=\u001b[0m \u001b[0mstations\u001b[0m\u001b[1;33m\u001b[0m\u001b[1;33m\u001b[0m\u001b[0m\n\u001b[1;32m----> 9\u001b[1;33m         \u001b[0mstation_table\u001b[0m \u001b[1;33m=\u001b[0m \u001b[0mdf_all\u001b[0m\u001b[1;33m.\u001b[0m\u001b[0mloc\u001b[0m\u001b[1;33m[\u001b[0m\u001b[0mdf_all\u001b[0m\u001b[1;33m[\u001b[0m\u001b[1;34m'Station'\u001b[0m\u001b[1;33m]\u001b[0m\u001b[1;33m==\u001b[0m\u001b[0mx\u001b[0m\u001b[1;33m]\u001b[0m\u001b[1;33m\u001b[0m\u001b[1;33m\u001b[0m\u001b[0m\n\u001b[0m\u001b[0;32m     10\u001b[0m         \u001b[0mstation_table\u001b[0m \u001b[1;33m=\u001b[0m \u001b[0mstation_table\u001b[0m\u001b[1;33m.\u001b[0m\u001b[0mdrop\u001b[0m\u001b[1;33m(\u001b[0m\u001b[1;33m[\u001b[0m\u001b[1;34m'Station'\u001b[0m\u001b[1;33m,\u001b[0m\u001b[1;34m'Standard'\u001b[0m\u001b[1;33m,\u001b[0m\u001b[1;34m'Summer'\u001b[0m\u001b[1;33m,\u001b[0m\u001b[1;34m'Winter'\u001b[0m\u001b[1;33m]\u001b[0m\u001b[1;33m,\u001b[0m \u001b[0maxis\u001b[0m\u001b[1;33m=\u001b[0m\u001b[1;36m1\u001b[0m\u001b[1;33m)\u001b[0m\u001b[1;33m\u001b[0m\u001b[1;33m\u001b[0m\u001b[0m\n\u001b[0;32m     11\u001b[0m         \u001b[0mstation_table\u001b[0m\u001b[1;33m[\u001b[0m\u001b[1;34m'Percent_Bias'\u001b[0m\u001b[1;33m]\u001b[0m \u001b[1;33m=\u001b[0m \u001b[0mround\u001b[0m\u001b[1;33m(\u001b[0m\u001b[0mstation_table\u001b[0m\u001b[1;33m[\u001b[0m\u001b[1;34m'Percent_Bias'\u001b[0m\u001b[1;33m]\u001b[0m\u001b[1;33m,\u001b[0m\u001b[1;36m1\u001b[0m\u001b[1;33m)\u001b[0m\u001b[1;33m\u001b[0m\u001b[1;33m\u001b[0m\u001b[0m\n",
          "\u001b[1;32m~\\AppData\\Local\\Continuum\\anaconda3\\lib\\site-packages\\pandas\\core\\ops.py\u001b[0m in \u001b[0;36mwrapper\u001b[1;34m(self, other, axis)\u001b[0m\n\u001b[0;32m   1743\u001b[0m             \u001b[1;31m# as it will broadcast\u001b[0m\u001b[1;33m\u001b[0m\u001b[1;33m\u001b[0m\u001b[1;33m\u001b[0m\u001b[0m\n\u001b[0;32m   1744\u001b[0m             \u001b[1;32mif\u001b[0m \u001b[0mother\u001b[0m\u001b[1;33m.\u001b[0m\u001b[0mndim\u001b[0m \u001b[1;33m!=\u001b[0m \u001b[1;36m0\u001b[0m \u001b[1;32mand\u001b[0m \u001b[0mlen\u001b[0m\u001b[1;33m(\u001b[0m\u001b[0mself\u001b[0m\u001b[1;33m)\u001b[0m \u001b[1;33m!=\u001b[0m \u001b[0mlen\u001b[0m\u001b[1;33m(\u001b[0m\u001b[0mother\u001b[0m\u001b[1;33m)\u001b[0m\u001b[1;33m:\u001b[0m\u001b[1;33m\u001b[0m\u001b[1;33m\u001b[0m\u001b[0m\n\u001b[1;32m-> 1745\u001b[1;33m                 \u001b[1;32mraise\u001b[0m \u001b[0mValueError\u001b[0m\u001b[1;33m(\u001b[0m\u001b[1;34m'Lengths must match to compare'\u001b[0m\u001b[1;33m)\u001b[0m\u001b[1;33m\u001b[0m\u001b[1;33m\u001b[0m\u001b[0m\n\u001b[0m\u001b[0;32m   1746\u001b[0m \u001b[1;33m\u001b[0m\u001b[0m\n\u001b[0;32m   1747\u001b[0m             \u001b[0mres_values\u001b[0m \u001b[1;33m=\u001b[0m \u001b[0mna_op\u001b[0m\u001b[1;33m(\u001b[0m\u001b[0mself\u001b[0m\u001b[1;33m.\u001b[0m\u001b[0mvalues\u001b[0m\u001b[1;33m,\u001b[0m \u001b[0mnp\u001b[0m\u001b[1;33m.\u001b[0m\u001b[0masarray\u001b[0m\u001b[1;33m(\u001b[0m\u001b[0mother\u001b[0m\u001b[1;33m)\u001b[0m\u001b[1;33m)\u001b[0m\u001b[1;33m\u001b[0m\u001b[1;33m\u001b[0m\u001b[0m\n",
          "\u001b[1;31mValueError\u001b[0m: Lengths must match to compare"
         ]
        }
       ]
      }
     },
     "35ae3dd1363e47f5b84816c7be5d141f": {
      "model_module": "@jupyter-widgets/controls",
      "model_module_version": "1.5.0",
      "model_name": "VBoxModel",
      "state": {
       "_dom_classes": [
        "widget-interact"
       ],
       "children": [
        "IPY_MODEL_46fe0415b25f41bd9ae2e08a2110dd04",
        "IPY_MODEL_ae3575d1e38f4567865eef44cade4e6c"
       ],
       "layout": "IPY_MODEL_b9040c1775de445485e1b820bf950ac4"
      }
     },
     "3892e6fd225a4d3785321624bab9fc91": {
      "model_module": "@jupyter-widgets/base",
      "model_module_version": "1.2.0",
      "model_name": "LayoutModel",
      "state": {}
     },
     "3a5395bf2ec34e7f9117e96bdcaa933d": {
      "model_module": "@jupyter-widgets/output",
      "model_module_version": "1.0.0",
      "model_name": "OutputModel",
      "state": {
       "layout": "IPY_MODEL_b81b49277fff4958b46b143649c31c38",
       "outputs": [
        {
         "data": {
          "text/html": "<style  type=\"text/css\" >\n</style><table id=\"T_4f834ab4_8eb0_11ea_ba15_4889e7f3390e\" ><thead>    <tr>        <th class=\"col_heading level0 col0\" >Measurement</th>        <th class=\"col_heading level0 col1\" >Percent_Bias</th>        <th class=\"col_heading level0 col2\" >Spearman_Rank_Correlation</th>        <th class=\"col_heading level0 col3\" >Efficiency_Factor</th>        <th class=\"col_heading level0 col4\" >Cost_Function</th>        <th class=\"col_heading level0 col5\" >R2</th>        <th class=\"col_heading level0 col6\" >Total_Number_Of_Observations_1</th>    </tr></thead><tbody>\n                <tr>\n                                <td id=\"T_4f834ab4_8eb0_11ea_ba15_4889e7f3390erow0_col0\" class=\"data row0 col0\" >Standard TN</td>\n                        <td id=\"T_4f834ab4_8eb0_11ea_ba15_4889e7f3390erow0_col1\" class=\"data row0 col1\" >39.1</td>\n                        <td id=\"T_4f834ab4_8eb0_11ea_ba15_4889e7f3390erow0_col2\" class=\"data row0 col2\" >0.87</td>\n                        <td id=\"T_4f834ab4_8eb0_11ea_ba15_4889e7f3390erow0_col3\" class=\"data row0 col3\" >0.41</td>\n                        <td id=\"T_4f834ab4_8eb0_11ea_ba15_4889e7f3390erow0_col4\" class=\"data row0 col4\" >0.63</td>\n                        <td id=\"T_4f834ab4_8eb0_11ea_ba15_4889e7f3390erow0_col5\" class=\"data row0 col5\" >0.82</td>\n                        <td id=\"T_4f834ab4_8eb0_11ea_ba15_4889e7f3390erow0_col6\" class=\"data row0 col6\" >609</td>\n            </tr>\n            <tr>\n                                <td id=\"T_4f834ab4_8eb0_11ea_ba15_4889e7f3390erow1_col0\" class=\"data row1 col0\" >Standard TP</td>\n                        <td id=\"T_4f834ab4_8eb0_11ea_ba15_4889e7f3390erow1_col1\" class=\"data row1 col1\" >29.5</td>\n                        <td id=\"T_4f834ab4_8eb0_11ea_ba15_4889e7f3390erow1_col2\" class=\"data row1 col2\" >0.47</td>\n                        <td id=\"T_4f834ab4_8eb0_11ea_ba15_4889e7f3390erow1_col3\" class=\"data row1 col3\" >0.03</td>\n                        <td id=\"T_4f834ab4_8eb0_11ea_ba15_4889e7f3390erow1_col4\" class=\"data row1 col4\" >0.59</td>\n                        <td id=\"T_4f834ab4_8eb0_11ea_ba15_4889e7f3390erow1_col5\" class=\"data row1 col5\" >0.16</td>\n                        <td id=\"T_4f834ab4_8eb0_11ea_ba15_4889e7f3390erow1_col6\" class=\"data row1 col6\" >581</td>\n            </tr>\n            <tr>\n                                <td id=\"T_4f834ab4_8eb0_11ea_ba15_4889e7f3390erow2_col0\" class=\"data row2 col0\" >Standard PO4</td>\n                        <td id=\"T_4f834ab4_8eb0_11ea_ba15_4889e7f3390erow2_col1\" class=\"data row2 col1\" >41.5</td>\n                        <td id=\"T_4f834ab4_8eb0_11ea_ba15_4889e7f3390erow2_col2\" class=\"data row2 col2\" >0.69</td>\n                        <td id=\"T_4f834ab4_8eb0_11ea_ba15_4889e7f3390erow2_col3\" class=\"data row2 col3\" >-0.85</td>\n                        <td id=\"T_4f834ab4_8eb0_11ea_ba15_4889e7f3390erow2_col4\" class=\"data row2 col4\" >0.93</td>\n                        <td id=\"T_4f834ab4_8eb0_11ea_ba15_4889e7f3390erow2_col5\" class=\"data row2 col5\" >0.42</td>\n                        <td id=\"T_4f834ab4_8eb0_11ea_ba15_4889e7f3390erow2_col6\" class=\"data row2 col6\" >608</td>\n            </tr>\n            <tr>\n                                <td id=\"T_4f834ab4_8eb0_11ea_ba15_4889e7f3390erow3_col0\" class=\"data row3 col0\" >Standard DIN</td>\n                        <td id=\"T_4f834ab4_8eb0_11ea_ba15_4889e7f3390erow3_col1\" class=\"data row3 col1\" >51.8</td>\n                        <td id=\"T_4f834ab4_8eb0_11ea_ba15_4889e7f3390erow3_col2\" class=\"data row3 col2\" >0.88</td>\n                        <td id=\"T_4f834ab4_8eb0_11ea_ba15_4889e7f3390erow3_col3\" class=\"data row3 col3\" >0.59</td>\n                        <td id=\"T_4f834ab4_8eb0_11ea_ba15_4889e7f3390erow3_col4\" class=\"data row3 col4\" >0.51</td>\n                        <td id=\"T_4f834ab4_8eb0_11ea_ba15_4889e7f3390erow3_col5\" class=\"data row3 col5\" >0.84</td>\n                        <td id=\"T_4f834ab4_8eb0_11ea_ba15_4889e7f3390erow3_col6\" class=\"data row3 col6\" >608</td>\n            </tr>\n            <tr>\n                                <td id=\"T_4f834ab4_8eb0_11ea_ba15_4889e7f3390erow4_col0\" class=\"data row4 col0\" >Standard CH</td>\n                        <td id=\"T_4f834ab4_8eb0_11ea_ba15_4889e7f3390erow4_col1\" class=\"data row4 col1\" >32.9</td>\n                        <td id=\"T_4f834ab4_8eb0_11ea_ba15_4889e7f3390erow4_col2\" class=\"data row4 col2\" >0.03</td>\n                        <td id=\"T_4f834ab4_8eb0_11ea_ba15_4889e7f3390erow4_col3\" class=\"data row4 col3\" >-1.42</td>\n                        <td id=\"T_4f834ab4_8eb0_11ea_ba15_4889e7f3390erow4_col4\" class=\"data row4 col4\" >1.12</td>\n                        <td id=\"T_4f834ab4_8eb0_11ea_ba15_4889e7f3390erow4_col5\" class=\"data row4 col5\" >0</td>\n                        <td id=\"T_4f834ab4_8eb0_11ea_ba15_4889e7f3390erow4_col6\" class=\"data row4 col6\" >618</td>\n            </tr>\n            <tr>\n                                <td id=\"T_4f834ab4_8eb0_11ea_ba15_4889e7f3390erow5_col0\" class=\"data row5 col0\" >Standard DO</td>\n                        <td id=\"T_4f834ab4_8eb0_11ea_ba15_4889e7f3390erow5_col1\" class=\"data row5 col1\" >3.3</td>\n                        <td id=\"T_4f834ab4_8eb0_11ea_ba15_4889e7f3390erow5_col2\" class=\"data row5 col2\" >0.87</td>\n                        <td id=\"T_4f834ab4_8eb0_11ea_ba15_4889e7f3390erow5_col3\" class=\"data row5 col3\" >0.63</td>\n                        <td id=\"T_4f834ab4_8eb0_11ea_ba15_4889e7f3390erow5_col4\" class=\"data row5 col4\" >0.44</td>\n                        <td id=\"T_4f834ab4_8eb0_11ea_ba15_4889e7f3390erow5_col5\" class=\"data row5 col5\" >0.73</td>\n                        <td id=\"T_4f834ab4_8eb0_11ea_ba15_4889e7f3390erow5_col6\" class=\"data row5 col6\" >544</td>\n            </tr>\n            <tr>\n                                <td id=\"T_4f834ab4_8eb0_11ea_ba15_4889e7f3390erow6_col0\" class=\"data row6 col0\" >Standard KD</td>\n                        <td id=\"T_4f834ab4_8eb0_11ea_ba15_4889e7f3390erow6_col1\" class=\"data row6 col1\" >41.8</td>\n                        <td id=\"T_4f834ab4_8eb0_11ea_ba15_4889e7f3390erow6_col2\" class=\"data row6 col2\" >0.52</td>\n                        <td id=\"T_4f834ab4_8eb0_11ea_ba15_4889e7f3390erow6_col3\" class=\"data row6 col3\" >0</td>\n                        <td id=\"T_4f834ab4_8eb0_11ea_ba15_4889e7f3390erow6_col4\" class=\"data row6 col4\" >0.55</td>\n                        <td id=\"T_4f834ab4_8eb0_11ea_ba15_4889e7f3390erow6_col5\" class=\"data row6 col5\" >0.24</td>\n                        <td id=\"T_4f834ab4_8eb0_11ea_ba15_4889e7f3390erow6_col6\" class=\"data row6 col6\" >548</td>\n            </tr>\n            <tr>\n                                <td id=\"T_4f834ab4_8eb0_11ea_ba15_4889e7f3390erow7_col0\" class=\"data row7 col0\" >Summer Observations CH</td>\n                        <td id=\"T_4f834ab4_8eb0_11ea_ba15_4889e7f3390erow7_col1\" class=\"data row7 col1\" >9.5</td>\n                        <td id=\"T_4f834ab4_8eb0_11ea_ba15_4889e7f3390erow7_col2\" class=\"data row7 col2\" >-0.05</td>\n                        <td id=\"T_4f834ab4_8eb0_11ea_ba15_4889e7f3390erow7_col3\" class=\"data row7 col3\" >-1.72</td>\n                        <td id=\"T_4f834ab4_8eb0_11ea_ba15_4889e7f3390erow7_col4\" class=\"data row7 col4\" >1.15</td>\n                        <td id=\"T_4f834ab4_8eb0_11ea_ba15_4889e7f3390erow7_col5\" class=\"data row7 col5\" >0.01</td>\n                        <td id=\"T_4f834ab4_8eb0_11ea_ba15_4889e7f3390erow7_col6\" class=\"data row7 col6\" >281</td>\n            </tr>\n            <tr>\n                                <td id=\"T_4f834ab4_8eb0_11ea_ba15_4889e7f3390erow8_col0\" class=\"data row8 col0\" >Summer Observations KD</td>\n                        <td id=\"T_4f834ab4_8eb0_11ea_ba15_4889e7f3390erow8_col1\" class=\"data row8 col1\" >36.1</td>\n                        <td id=\"T_4f834ab4_8eb0_11ea_ba15_4889e7f3390erow8_col2\" class=\"data row8 col2\" >0.29</td>\n                        <td id=\"T_4f834ab4_8eb0_11ea_ba15_4889e7f3390erow8_col3\" class=\"data row8 col3\" >-0.11</td>\n                        <td id=\"T_4f834ab4_8eb0_11ea_ba15_4889e7f3390erow8_col4\" class=\"data row8 col4\" >0.66</td>\n                        <td id=\"T_4f834ab4_8eb0_11ea_ba15_4889e7f3390erow8_col5\" class=\"data row8 col5\" >0.15</td>\n                        <td id=\"T_4f834ab4_8eb0_11ea_ba15_4889e7f3390erow8_col6\" class=\"data row8 col6\" >355</td>\n            </tr>\n            <tr>\n                                <td id=\"T_4f834ab4_8eb0_11ea_ba15_4889e7f3390erow9_col0\" class=\"data row9 col0\" >Winter Observations PO4</td>\n                        <td id=\"T_4f834ab4_8eb0_11ea_ba15_4889e7f3390erow9_col1\" class=\"data row9 col1\" >56.7</td>\n                        <td id=\"T_4f834ab4_8eb0_11ea_ba15_4889e7f3390erow9_col2\" class=\"data row9 col2\" >-0.11</td>\n                        <td id=\"T_4f834ab4_8eb0_11ea_ba15_4889e7f3390erow9_col3\" class=\"data row9 col3\" >-6.15</td>\n                        <td id=\"T_4f834ab4_8eb0_11ea_ba15_4889e7f3390erow9_col4\" class=\"data row9 col4\" >2.2</td>\n                        <td id=\"T_4f834ab4_8eb0_11ea_ba15_4889e7f3390erow9_col5\" class=\"data row9 col5\" >0</td>\n                        <td id=\"T_4f834ab4_8eb0_11ea_ba15_4889e7f3390erow9_col6\" class=\"data row9 col6\" >104</td>\n            </tr>\n            <tr>\n                                <td id=\"T_4f834ab4_8eb0_11ea_ba15_4889e7f3390erow10_col0\" class=\"data row10 col0\" >Winter Observations DIN</td>\n                        <td id=\"T_4f834ab4_8eb0_11ea_ba15_4889e7f3390erow10_col1\" class=\"data row10 col1\" >22.8</td>\n                        <td id=\"T_4f834ab4_8eb0_11ea_ba15_4889e7f3390erow10_col2\" class=\"data row10 col2\" >0.71</td>\n                        <td id=\"T_4f834ab4_8eb0_11ea_ba15_4889e7f3390erow10_col3\" class=\"data row10 col3\" >-0.31</td>\n                        <td id=\"T_4f834ab4_8eb0_11ea_ba15_4889e7f3390erow10_col4\" class=\"data row10 col4\" >0.96</td>\n                        <td id=\"T_4f834ab4_8eb0_11ea_ba15_4889e7f3390erow10_col5\" class=\"data row10 col5\" >0.53</td>\n                        <td id=\"T_4f834ab4_8eb0_11ea_ba15_4889e7f3390erow10_col6\" class=\"data row10 col6\" >104</td>\n            </tr>\n    </tbody></table>",
          "text/plain": "<pandas.io.formats.style.Styler at 0x1f24c44f048>"
         },
         "metadata": {},
         "output_type": "display_data"
        }
       ]
      }
     },
     "3cc71c35616043728acc776a035560ba": {
      "model_module": "@jupyter-widgets/base",
      "model_module_version": "1.2.0",
      "model_name": "LayoutModel",
      "state": {}
     },
     "3d3a834856e7428ab53f72ebe04b7047": {
      "model_module": "@jupyter-widgets/base",
      "model_module_version": "1.2.0",
      "model_name": "LayoutModel",
      "state": {}
     },
     "3d5fc086b5c34b3da149f393f356d521": {
      "model_module": "@jupyter-widgets/base",
      "model_module_version": "1.2.0",
      "model_name": "LayoutModel",
      "state": {}
     },
     "3d9620a4cae9438c83df8f9df9b67c2d": {
      "model_module": "@jupyter-widgets/output",
      "model_module_version": "1.0.0",
      "model_name": "OutputModel",
      "state": {
       "layout": "IPY_MODEL_42876936fc7646f69c6175b814c57284",
       "outputs": [
        {
         "data": {
          "text/html": "<style  type=\"text/css\" >\n</style><table id=\"T_4db5b070_8eaa_11ea_8e84_4889e7f3390e\" ><thead>    <tr>        <th class=\"col_heading level0 col0\" >Standard TN</th>        <th class=\"col_heading level0 col1\" >Standard TP</th>        <th class=\"col_heading level0 col2\" >Standard PO4</th>        <th class=\"col_heading level0 col3\" >Standard DIN</th>        <th class=\"col_heading level0 col4\" >Standard CH</th>        <th class=\"col_heading level0 col5\" >Standard DO</th>        <th class=\"col_heading level0 col6\" >Standard KD</th>        <th class=\"col_heading level0 col7\" >Summer Observations CH</th>        <th class=\"col_heading level0 col8\" >Summer Observations KD</th>        <th class=\"col_heading level0 col9\" >Winter Observations PO4</th>        <th class=\"col_heading level0 col10\" >Winter Observations DIN</th>        <th class=\"col_heading level0 col11\" >min. no. obs.</th>        <th class=\"col_heading level0 col12\" >max. no. obs.</th>        <th class=\"col_heading level0 col13\" >station</th>    </tr></thead><tbody>\n                <tr>\n                                <td id=\"T_4db5b070_8eaa_11ea_8e84_4889e7f3390erow0_col0\" class=\"data row0 col0\" >0.81712</td>\n                        <td id=\"T_4db5b070_8eaa_11ea_8e84_4889e7f3390erow0_col1\" class=\"data row0 col1\" >0.164081</td>\n                        <td id=\"T_4db5b070_8eaa_11ea_8e84_4889e7f3390erow0_col2\" class=\"data row0 col2\" >0.41927</td>\n                        <td id=\"T_4db5b070_8eaa_11ea_8e84_4889e7f3390erow0_col3\" class=\"data row0 col3\" >0.840915</td>\n                        <td id=\"T_4db5b070_8eaa_11ea_8e84_4889e7f3390erow0_col4\" class=\"data row0 col4\" >0.00113489</td>\n                        <td id=\"T_4db5b070_8eaa_11ea_8e84_4889e7f3390erow0_col5\" class=\"data row0 col5\" >0.728378</td>\n                        <td id=\"T_4db5b070_8eaa_11ea_8e84_4889e7f3390erow0_col6\" class=\"data row0 col6\" >0.241064</td>\n                        <td id=\"T_4db5b070_8eaa_11ea_8e84_4889e7f3390erow0_col7\" class=\"data row0 col7\" >0.00846729</td>\n                        <td id=\"T_4db5b070_8eaa_11ea_8e84_4889e7f3390erow0_col8\" class=\"data row0 col8\" >0.148025</td>\n                        <td id=\"T_4db5b070_8eaa_11ea_8e84_4889e7f3390erow0_col9\" class=\"data row0 col9\" >0.00278445</td>\n                        <td id=\"T_4db5b070_8eaa_11ea_8e84_4889e7f3390erow0_col10\" class=\"data row0 col10\" >0.534153</td>\n                        <td id=\"T_4db5b070_8eaa_11ea_8e84_4889e7f3390erow0_col11\" class=\"data row0 col11\" >104</td>\n                        <td id=\"T_4db5b070_8eaa_11ea_8e84_4889e7f3390erow0_col12\" class=\"data row0 col12\" >618</td>\n                        <td id=\"T_4db5b070_8eaa_11ea_8e84_4889e7f3390erow0_col13\" class=\"data row0 col13\" >RKB1</td>\n            </tr>\n            <tr>\n                                <td id=\"T_4db5b070_8eaa_11ea_8e84_4889e7f3390erow1_col0\" class=\"data row1 col0\" >0.77961</td>\n                        <td id=\"T_4db5b070_8eaa_11ea_8e84_4889e7f3390erow1_col1\" class=\"data row1 col1\" >0.179907</td>\n                        <td id=\"T_4db5b070_8eaa_11ea_8e84_4889e7f3390erow1_col2\" class=\"data row1 col2\" >0.436445</td>\n                        <td id=\"T_4db5b070_8eaa_11ea_8e84_4889e7f3390erow1_col3\" class=\"data row1 col3\" >0.821993</td>\n                        <td id=\"T_4db5b070_8eaa_11ea_8e84_4889e7f3390erow1_col4\" class=\"data row1 col4\" >0.00368228</td>\n                        <td id=\"T_4db5b070_8eaa_11ea_8e84_4889e7f3390erow1_col5\" class=\"data row1 col5\" >0.722231</td>\n                        <td id=\"T_4db5b070_8eaa_11ea_8e84_4889e7f3390erow1_col6\" class=\"data row1 col6\" >0.445564</td>\n                        <td id=\"T_4db5b070_8eaa_11ea_8e84_4889e7f3390erow1_col7\" class=\"data row1 col7\" >0.0077557</td>\n                        <td id=\"T_4db5b070_8eaa_11ea_8e84_4889e7f3390erow1_col8\" class=\"data row1 col8\" >0.188662</td>\n                        <td id=\"T_4db5b070_8eaa_11ea_8e84_4889e7f3390erow1_col9\" class=\"data row1 col9\" >9.48373e-05</td>\n                        <td id=\"T_4db5b070_8eaa_11ea_8e84_4889e7f3390erow1_col10\" class=\"data row1 col10\" >0.495819</td>\n                        <td id=\"T_4db5b070_8eaa_11ea_8e84_4889e7f3390erow1_col11\" class=\"data row1 col11\" >70</td>\n                        <td id=\"T_4db5b070_8eaa_11ea_8e84_4889e7f3390erow1_col12\" class=\"data row1 col12\" >443</td>\n                        <td id=\"T_4db5b070_8eaa_11ea_8e84_4889e7f3390erow1_col13\" class=\"data row1 col13\" >RKB10</td>\n            </tr>\n    </tbody></table>",
          "text/plain": "<pandas.io.formats.style.Styler at 0x2c23cfe6400>"
         },
         "metadata": {},
         "output_type": "display_data"
        }
       ]
      }
     },
     "3e9204a4c1064430a5585870f013f2df": {
      "model_module": "@jupyter-widgets/base",
      "model_module_version": "1.2.0",
      "model_name": "LayoutModel",
      "state": {}
     },
     "3f6a493efe9a46dc85b33fd4eea05a41": {
      "model_module": "@jupyter-widgets/controls",
      "model_module_version": "1.5.0",
      "model_name": "DropdownModel",
      "state": {
       "_options_labels": [
        "Percent_Bias",
        "Spearman_Rank_Correlation",
        "Efficiency_Factor",
        "Cost_Function",
        "R2"
       ],
       "description": "QMeasure",
       "index": 1,
       "layout": "IPY_MODEL_dcd39b242cbc428d829353c1de5d3374",
       "style": "IPY_MODEL_bab1af1af11f4b5793e3e0f85d3ed4ae"
      }
     },
     "3fd5faef0c144e7d94fc2ab68de0e895": {
      "model_module": "@jupyter-widgets/controls",
      "model_module_version": "1.5.0",
      "model_name": "VBoxModel",
      "state": {
       "_dom_classes": [
        "widget-interact"
       ],
       "children": [
        "IPY_MODEL_2b95fd7597894a059ff9d0522edadf9f",
        "IPY_MODEL_950970f0df4b4a2a8c8dc7d62d095f02"
       ],
       "layout": "IPY_MODEL_cfb2c88052bc4fdeb9fc60e46815b7dd"
      }
     },
     "40932631dc91429f86b09ddae0d0dee5": {
      "model_module": "@jupyter-widgets/controls",
      "model_module_version": "1.5.0",
      "model_name": "VBoxModel",
      "state": {
       "_dom_classes": [
        "widget-interact"
       ],
       "children": [
        "IPY_MODEL_066199311da64ad694a3da02aa7c4eb5",
        "IPY_MODEL_ade0d50e8a85489b995e314e00942feb"
       ],
       "layout": "IPY_MODEL_ee70684160ca4a6a893237ffcafa795a"
      }
     },
     "41330636c85e4b6b96e0494565b50474": {
      "model_module": "@jupyter-widgets/controls",
      "model_module_version": "1.5.0",
      "model_name": "VBoxModel",
      "state": {
       "_dom_classes": [
        "widget-interact"
       ],
       "children": [
        "IPY_MODEL_f3b736cde4bd4396b1f804f064968ea6",
        "IPY_MODEL_83765c036f9d406a86b571b422ea1478"
       ],
       "layout": "IPY_MODEL_8ca9181c717a49be9f1c5af474a54676"
      }
     },
     "41785711635c4c91a060410c3d3554ee": {
      "model_module": "@jupyter-widgets/base",
      "model_module_version": "1.2.0",
      "model_name": "LayoutModel",
      "state": {}
     },
     "42876936fc7646f69c6175b814c57284": {
      "model_module": "@jupyter-widgets/base",
      "model_module_version": "1.2.0",
      "model_name": "LayoutModel",
      "state": {}
     },
     "44039efb4e604405a5ebb88b11a4999f": {
      "model_module": "@jupyter-widgets/base",
      "model_module_version": "1.2.0",
      "model_name": "LayoutModel",
      "state": {}
     },
     "4566324474ea4f00a2968970c25bd6b7": {
      "model_module": "@jupyter-widgets/controls",
      "model_module_version": "1.5.0",
      "model_name": "DropdownModel",
      "state": {
       "_options_labels": [
        "Percent_Bias",
        "Spearman_Rank_Correlation",
        "Efficiency_Factor",
        "Cost_Function",
        "R2"
       ],
       "description": "QMeasure",
       "index": 1,
       "layout": "IPY_MODEL_01c270574cac4f41a71ef676c0be91d6",
       "style": "IPY_MODEL_9eb7d1a212ac45be8d6cef038023c41a"
      }
     },
     "46fe0415b25f41bd9ae2e08a2110dd04": {
      "model_module": "@jupyter-widgets/controls",
      "model_module_version": "1.5.0",
      "model_name": "DropdownModel",
      "state": {
       "_options_labels": [
        "RKB1",
        "RKB10"
       ],
       "description": "Station",
       "index": 0,
       "layout": "IPY_MODEL_f9f3fe557b594b30b2f62ec3daa63f41",
       "style": "IPY_MODEL_ad496f0c59d74dd4ada31861586e5eaa"
      }
     },
     "4af68450e407474097ef0cf4e9d938da": {
      "model_module": "@jupyter-widgets/base",
      "model_module_version": "1.2.0",
      "model_name": "LayoutModel",
      "state": {}
     },
     "4eee8ecd90a344a29f06721afcc7dea7": {
      "model_module": "@jupyter-widgets/base",
      "model_module_version": "1.2.0",
      "model_name": "LayoutModel",
      "state": {}
     },
     "4f6f619e11fe42a09d6f9feec7563d2e": {
      "model_module": "@jupyter-widgets/base",
      "model_module_version": "1.2.0",
      "model_name": "LayoutModel",
      "state": {}
     },
     "4fa0c6b1a31d4c3f937f9e4fe7f78fda": {
      "model_module": "@jupyter-widgets/controls",
      "model_module_version": "1.5.0",
      "model_name": "VBoxModel",
      "state": {
       "_dom_classes": [
        "widget-interact"
       ],
       "children": [
        "IPY_MODEL_6ce72518dcf644a1978206e6b4cde020",
        "IPY_MODEL_f502e2b0193446658830222abcaff712",
        "IPY_MODEL_c9cdda7f9c43435fac1c5c4ebd22310d"
       ],
       "layout": "IPY_MODEL_7a8d97c3bddf4bb8a14a3e23545c1df8"
      }
     },
     "4faaafc47d3345f4a62981bee5443992": {
      "model_module": "@jupyter-widgets/controls",
      "model_module_version": "1.5.0",
      "model_name": "VBoxModel",
      "state": {
       "_dom_classes": [
        "widget-interact"
       ],
       "children": [
        "IPY_MODEL_017cd93765ab4be6be2750e2e36c6082",
        "IPY_MODEL_96ec364674964fcdb951e91ee6a50edf",
        "IPY_MODEL_511f00d3898c41108dc74cbbeef96103"
       ],
       "layout": "IPY_MODEL_3d5fc086b5c34b3da149f393f356d521"
      }
     },
     "4fe891e0f7b445aabddd22544f16f5d9": {
      "model_module": "@jupyter-widgets/base",
      "model_module_version": "1.2.0",
      "model_name": "LayoutModel",
      "state": {}
     },
     "50131fd549324c5da4dda89c7d8dcc6d": {
      "model_module": "@jupyter-widgets/base",
      "model_module_version": "1.2.0",
      "model_name": "LayoutModel",
      "state": {}
     },
     "507f361174b7429393c202fcb107c9a5": {
      "model_module": "@jupyter-widgets/controls",
      "model_module_version": "1.5.0",
      "model_name": "VBoxModel",
      "state": {
       "_dom_classes": [
        "widget-interact"
       ],
       "children": [
        "IPY_MODEL_a79cb475e7494a5988c48b3f79c7236e",
        "IPY_MODEL_dc6d8810b5ff4538bb5dcd5c4aaf4b9a"
       ],
       "layout": "IPY_MODEL_dbfedbadad7049eea9a3c50b8d7f19b1"
      }
     },
     "50c129a77a6640a4bc6854d3bd3c212c": {
      "model_module": "@jupyter-widgets/base",
      "model_module_version": "1.2.0",
      "model_name": "LayoutModel",
      "state": {}
     },
     "511f00d3898c41108dc74cbbeef96103": {
      "model_module": "@jupyter-widgets/output",
      "model_module_version": "1.0.0",
      "model_name": "OutputModel",
      "state": {
       "layout": "IPY_MODEL_7683bafafeb04890b255cd7791bd4215",
       "outputs": [
        {
         "ename": "ValueError",
         "evalue": "Lengths must match to compare",
         "output_type": "error",
         "traceback": [
          "\u001b[1;31m---------------------------------------------------------------------------\u001b[0m",
          "\u001b[1;31mValueError\u001b[0m                                Traceback (most recent call last)",
          "\u001b[1;32m~\\AppData\\Local\\Continuum\\anaconda3\\lib\\site-packages\\ipywidgets\\widgets\\interaction.py\u001b[0m in \u001b[0;36mupdate\u001b[1;34m(self, *args)\u001b[0m\n\u001b[0;32m    254\u001b[0m                     \u001b[0mvalue\u001b[0m \u001b[1;33m=\u001b[0m \u001b[0mwidget\u001b[0m\u001b[1;33m.\u001b[0m\u001b[0mget_interact_value\u001b[0m\u001b[1;33m(\u001b[0m\u001b[1;33m)\u001b[0m\u001b[1;33m\u001b[0m\u001b[1;33m\u001b[0m\u001b[0m\n\u001b[0;32m    255\u001b[0m                     \u001b[0mself\u001b[0m\u001b[1;33m.\u001b[0m\u001b[0mkwargs\u001b[0m\u001b[1;33m[\u001b[0m\u001b[0mwidget\u001b[0m\u001b[1;33m.\u001b[0m\u001b[0m_kwarg\u001b[0m\u001b[1;33m]\u001b[0m \u001b[1;33m=\u001b[0m \u001b[0mvalue\u001b[0m\u001b[1;33m\u001b[0m\u001b[1;33m\u001b[0m\u001b[0m\n\u001b[1;32m--> 256\u001b[1;33m                 \u001b[0mself\u001b[0m\u001b[1;33m.\u001b[0m\u001b[0mresult\u001b[0m \u001b[1;33m=\u001b[0m \u001b[0mself\u001b[0m\u001b[1;33m.\u001b[0m\u001b[0mf\u001b[0m\u001b[1;33m(\u001b[0m\u001b[1;33m**\u001b[0m\u001b[0mself\u001b[0m\u001b[1;33m.\u001b[0m\u001b[0mkwargs\u001b[0m\u001b[1;33m)\u001b[0m\u001b[1;33m\u001b[0m\u001b[1;33m\u001b[0m\u001b[0m\n\u001b[0m\u001b[0;32m    257\u001b[0m                 \u001b[0mshow_inline_matplotlib_plots\u001b[0m\u001b[1;33m(\u001b[0m\u001b[1;33m)\u001b[0m\u001b[1;33m\u001b[0m\u001b[1;33m\u001b[0m\u001b[0m\n\u001b[0;32m    258\u001b[0m                 \u001b[1;32mif\u001b[0m \u001b[0mself\u001b[0m\u001b[1;33m.\u001b[0m\u001b[0mauto_display\u001b[0m \u001b[1;32mand\u001b[0m \u001b[0mself\u001b[0m\u001b[1;33m.\u001b[0m\u001b[0mresult\u001b[0m \u001b[1;32mis\u001b[0m \u001b[1;32mnot\u001b[0m \u001b[1;32mNone\u001b[0m\u001b[1;33m:\u001b[0m\u001b[1;33m\u001b[0m\u001b[1;33m\u001b[0m\u001b[0m\n",
          "\u001b[1;32m<ipython-input-13-6c1b8bfa9e5a>\u001b[0m in \u001b[0;36mshow_ts\u001b[1;34m(Station, x)\u001b[0m\n\u001b[0;32m      6\u001b[0m     \u001b[1;32mdef\u001b[0m \u001b[0mshow_ts\u001b[0m\u001b[1;33m(\u001b[0m\u001b[0mStation\u001b[0m\u001b[1;33m=\u001b[0m\u001b[0mstations\u001b[0m\u001b[1;33m,\u001b[0m \u001b[0mx\u001b[0m \u001b[1;33m=\u001b[0m \u001b[1;36m0\u001b[0m\u001b[1;33m)\u001b[0m\u001b[1;33m:\u001b[0m\u001b[1;33m\u001b[0m\u001b[1;33m\u001b[0m\u001b[0m\n\u001b[0;32m      7\u001b[0m \u001b[1;33m\u001b[0m\u001b[0m\n\u001b[1;32m----> 8\u001b[1;33m         \u001b[0mstation_table\u001b[0m \u001b[1;33m=\u001b[0m \u001b[0mdf_all\u001b[0m\u001b[1;33m.\u001b[0m\u001b[0mloc\u001b[0m\u001b[1;33m[\u001b[0m\u001b[0mdf_all\u001b[0m\u001b[1;33m[\u001b[0m\u001b[1;34m'Station'\u001b[0m\u001b[1;33m]\u001b[0m\u001b[1;33m==\u001b[0m\u001b[0mstations\u001b[0m\u001b[1;33m]\u001b[0m\u001b[1;33m\u001b[0m\u001b[1;33m\u001b[0m\u001b[0m\n\u001b[0m\u001b[0;32m      9\u001b[0m         \u001b[0mstation_table\u001b[0m \u001b[1;33m=\u001b[0m \u001b[0mstation_table\u001b[0m\u001b[1;33m.\u001b[0m\u001b[0mdrop\u001b[0m\u001b[1;33m(\u001b[0m\u001b[1;33m[\u001b[0m\u001b[1;34m'Station'\u001b[0m\u001b[1;33m,\u001b[0m\u001b[1;34m'Standard'\u001b[0m\u001b[1;33m,\u001b[0m\u001b[1;34m'Summer'\u001b[0m\u001b[1;33m,\u001b[0m\u001b[1;34m'Winter'\u001b[0m\u001b[1;33m]\u001b[0m\u001b[1;33m,\u001b[0m \u001b[0maxis\u001b[0m\u001b[1;33m=\u001b[0m\u001b[1;36m1\u001b[0m\u001b[1;33m)\u001b[0m\u001b[1;33m\u001b[0m\u001b[1;33m\u001b[0m\u001b[0m\n\u001b[0;32m     10\u001b[0m         \u001b[0mstation_table\u001b[0m\u001b[1;33m[\u001b[0m\u001b[1;34m'Percent_Bias'\u001b[0m\u001b[1;33m]\u001b[0m \u001b[1;33m=\u001b[0m \u001b[0mround\u001b[0m\u001b[1;33m(\u001b[0m\u001b[0mstation_table\u001b[0m\u001b[1;33m[\u001b[0m\u001b[1;34m'Percent_Bias'\u001b[0m\u001b[1;33m]\u001b[0m\u001b[1;33m,\u001b[0m\u001b[1;36m1\u001b[0m\u001b[1;33m)\u001b[0m\u001b[1;33m\u001b[0m\u001b[1;33m\u001b[0m\u001b[0m\n",
          "\u001b[1;32m~\\AppData\\Local\\Continuum\\anaconda3\\lib\\site-packages\\pandas\\core\\ops.py\u001b[0m in \u001b[0;36mwrapper\u001b[1;34m(self, other, axis)\u001b[0m\n\u001b[0;32m   1743\u001b[0m             \u001b[1;31m# as it will broadcast\u001b[0m\u001b[1;33m\u001b[0m\u001b[1;33m\u001b[0m\u001b[1;33m\u001b[0m\u001b[0m\n\u001b[0;32m   1744\u001b[0m             \u001b[1;32mif\u001b[0m \u001b[0mother\u001b[0m\u001b[1;33m.\u001b[0m\u001b[0mndim\u001b[0m \u001b[1;33m!=\u001b[0m \u001b[1;36m0\u001b[0m \u001b[1;32mand\u001b[0m \u001b[0mlen\u001b[0m\u001b[1;33m(\u001b[0m\u001b[0mself\u001b[0m\u001b[1;33m)\u001b[0m \u001b[1;33m!=\u001b[0m \u001b[0mlen\u001b[0m\u001b[1;33m(\u001b[0m\u001b[0mother\u001b[0m\u001b[1;33m)\u001b[0m\u001b[1;33m:\u001b[0m\u001b[1;33m\u001b[0m\u001b[1;33m\u001b[0m\u001b[0m\n\u001b[1;32m-> 1745\u001b[1;33m                 \u001b[1;32mraise\u001b[0m \u001b[0mValueError\u001b[0m\u001b[1;33m(\u001b[0m\u001b[1;34m'Lengths must match to compare'\u001b[0m\u001b[1;33m)\u001b[0m\u001b[1;33m\u001b[0m\u001b[1;33m\u001b[0m\u001b[0m\n\u001b[0m\u001b[0;32m   1746\u001b[0m \u001b[1;33m\u001b[0m\u001b[0m\n\u001b[0;32m   1747\u001b[0m             \u001b[0mres_values\u001b[0m \u001b[1;33m=\u001b[0m \u001b[0mna_op\u001b[0m\u001b[1;33m(\u001b[0m\u001b[0mself\u001b[0m\u001b[1;33m.\u001b[0m\u001b[0mvalues\u001b[0m\u001b[1;33m,\u001b[0m \u001b[0mnp\u001b[0m\u001b[1;33m.\u001b[0m\u001b[0masarray\u001b[0m\u001b[1;33m(\u001b[0m\u001b[0mother\u001b[0m\u001b[1;33m)\u001b[0m\u001b[1;33m)\u001b[0m\u001b[1;33m\u001b[0m\u001b[1;33m\u001b[0m\u001b[0m\n",
          "\u001b[1;31mValueError\u001b[0m: Lengths must match to compare"
         ]
        }
       ]
      }
     },
     "526f26ba211d44c89cf05a3fa026baa0": {
      "model_module": "@jupyter-widgets/controls",
      "model_module_version": "1.5.0",
      "model_name": "DescriptionStyleModel",
      "state": {
       "description_width": ""
      }
     },
     "543174117e794222905486cf41b12961": {
      "model_module": "@jupyter-widgets/output",
      "model_module_version": "1.0.0",
      "model_name": "OutputModel",
      "state": {
       "layout": "IPY_MODEL_8232d89b0a484d3b8ada75d1b87ab271",
       "outputs": [
        {
         "data": {
          "text/html": "<style  type=\"text/css\" >\n</style><table id=\"T_36a1d81e_8eb3_11ea_a841_4889e7f3390e\" ><thead>    <tr>        <th class=\"col_heading level0 col0\" >Measurement</th>        <th class=\"col_heading level0 col1\" >Percent_Bias</th>        <th class=\"col_heading level0 col2\" >Spearman_Rank_Correlation</th>        <th class=\"col_heading level0 col3\" >Efficiency_Factor</th>        <th class=\"col_heading level0 col4\" >Cost_Function</th>        <th class=\"col_heading level0 col5\" >R2</th>        <th class=\"col_heading level0 col6\" >Total_Number_Of_Observations_1</th>    </tr></thead><tbody>\n                <tr>\n                                <td id=\"T_36a1d81e_8eb3_11ea_a841_4889e7f3390erow0_col0\" class=\"data row0 col0\" >Standard TN</td>\n                        <td id=\"T_36a1d81e_8eb3_11ea_a841_4889e7f3390erow0_col1\" class=\"data row0 col1\" >42.2</td>\n                        <td id=\"T_36a1d81e_8eb3_11ea_a841_4889e7f3390erow0_col2\" class=\"data row0 col2\" >0.85</td>\n                        <td id=\"T_36a1d81e_8eb3_11ea_a841_4889e7f3390erow0_col3\" class=\"data row0 col3\" >0.23</td>\n                        <td id=\"T_36a1d81e_8eb3_11ea_a841_4889e7f3390erow0_col4\" class=\"data row0 col4\" >0.71</td>\n                        <td id=\"T_36a1d81e_8eb3_11ea_a841_4889e7f3390erow0_col5\" class=\"data row0 col5\" >0.78</td>\n                        <td id=\"T_36a1d81e_8eb3_11ea_a841_4889e7f3390erow0_col6\" class=\"data row0 col6\" >441</td>\n            </tr>\n            <tr>\n                                <td id=\"T_36a1d81e_8eb3_11ea_a841_4889e7f3390erow1_col0\" class=\"data row1 col0\" >Standard TP</td>\n                        <td id=\"T_36a1d81e_8eb3_11ea_a841_4889e7f3390erow1_col1\" class=\"data row1 col1\" >12.7</td>\n                        <td id=\"T_36a1d81e_8eb3_11ea_a841_4889e7f3390erow1_col2\" class=\"data row1 col2\" >0.45</td>\n                        <td id=\"T_36a1d81e_8eb3_11ea_a841_4889e7f3390erow1_col3\" class=\"data row1 col3\" >-0.35</td>\n                        <td id=\"T_36a1d81e_8eb3_11ea_a841_4889e7f3390erow1_col4\" class=\"data row1 col4\" >0.8</td>\n                        <td id=\"T_36a1d81e_8eb3_11ea_a841_4889e7f3390erow1_col5\" class=\"data row1 col5\" >0.18</td>\n                        <td id=\"T_36a1d81e_8eb3_11ea_a841_4889e7f3390erow1_col6\" class=\"data row1 col6\" >443</td>\n            </tr>\n            <tr>\n                                <td id=\"T_36a1d81e_8eb3_11ea_a841_4889e7f3390erow2_col0\" class=\"data row2 col0\" >Standard PO4</td>\n                        <td id=\"T_36a1d81e_8eb3_11ea_a841_4889e7f3390erow2_col1\" class=\"data row2 col1\" >38.5</td>\n                        <td id=\"T_36a1d81e_8eb3_11ea_a841_4889e7f3390erow2_col2\" class=\"data row2 col2\" >0.7</td>\n                        <td id=\"T_36a1d81e_8eb3_11ea_a841_4889e7f3390erow2_col3\" class=\"data row2 col3\" >-0.84</td>\n                        <td id=\"T_36a1d81e_8eb3_11ea_a841_4889e7f3390erow2_col4\" class=\"data row2 col4\" >0.89</td>\n                        <td id=\"T_36a1d81e_8eb3_11ea_a841_4889e7f3390erow2_col5\" class=\"data row2 col5\" >0.44</td>\n                        <td id=\"T_36a1d81e_8eb3_11ea_a841_4889e7f3390erow2_col6\" class=\"data row2 col6\" >442</td>\n            </tr>\n            <tr>\n                                <td id=\"T_36a1d81e_8eb3_11ea_a841_4889e7f3390erow3_col0\" class=\"data row3 col0\" >Standard DIN</td>\n                        <td id=\"T_36a1d81e_8eb3_11ea_a841_4889e7f3390erow3_col1\" class=\"data row3 col1\" >62.3</td>\n                        <td id=\"T_36a1d81e_8eb3_11ea_a841_4889e7f3390erow3_col2\" class=\"data row3 col2\" >0.86</td>\n                        <td id=\"T_36a1d81e_8eb3_11ea_a841_4889e7f3390erow3_col3\" class=\"data row3 col3\" >0.43</td>\n                        <td id=\"T_36a1d81e_8eb3_11ea_a841_4889e7f3390erow3_col4\" class=\"data row3 col4\" >0.61</td>\n                        <td id=\"T_36a1d81e_8eb3_11ea_a841_4889e7f3390erow3_col5\" class=\"data row3 col5\" >0.82</td>\n                        <td id=\"T_36a1d81e_8eb3_11ea_a841_4889e7f3390erow3_col6\" class=\"data row3 col6\" >441</td>\n            </tr>\n            <tr>\n                                <td id=\"T_36a1d81e_8eb3_11ea_a841_4889e7f3390erow4_col0\" class=\"data row4 col0\" >Standard CH</td>\n                        <td id=\"T_36a1d81e_8eb3_11ea_a841_4889e7f3390erow4_col1\" class=\"data row4 col1\" >41.7</td>\n                        <td id=\"T_36a1d81e_8eb3_11ea_a841_4889e7f3390erow4_col2\" class=\"data row4 col2\" >0.2</td>\n                        <td id=\"T_36a1d81e_8eb3_11ea_a841_4889e7f3390erow4_col3\" class=\"data row4 col3\" >-1.81</td>\n                        <td id=\"T_36a1d81e_8eb3_11ea_a841_4889e7f3390erow4_col4\" class=\"data row4 col4\" >1.28</td>\n                        <td id=\"T_36a1d81e_8eb3_11ea_a841_4889e7f3390erow4_col5\" class=\"data row4 col5\" >0</td>\n                        <td id=\"T_36a1d81e_8eb3_11ea_a841_4889e7f3390erow4_col6\" class=\"data row4 col6\" >443</td>\n            </tr>\n            <tr>\n                                <td id=\"T_36a1d81e_8eb3_11ea_a841_4889e7f3390erow5_col0\" class=\"data row5 col0\" >Standard DO</td>\n                        <td id=\"T_36a1d81e_8eb3_11ea_a841_4889e7f3390erow5_col1\" class=\"data row5 col1\" >2.5</td>\n                        <td id=\"T_36a1d81e_8eb3_11ea_a841_4889e7f3390erow5_col2\" class=\"data row5 col2\" >0.86</td>\n                        <td id=\"T_36a1d81e_8eb3_11ea_a841_4889e7f3390erow5_col3\" class=\"data row5 col3\" >0.67</td>\n                        <td id=\"T_36a1d81e_8eb3_11ea_a841_4889e7f3390erow5_col4\" class=\"data row5 col4\" >0.41</td>\n                        <td id=\"T_36a1d81e_8eb3_11ea_a841_4889e7f3390erow5_col5\" class=\"data row5 col5\" >0.72</td>\n                        <td id=\"T_36a1d81e_8eb3_11ea_a841_4889e7f3390erow5_col6\" class=\"data row5 col6\" >355</td>\n            </tr>\n            <tr>\n                                <td id=\"T_36a1d81e_8eb3_11ea_a841_4889e7f3390erow6_col0\" class=\"data row6 col0\" >Standard KD</td>\n                        <td id=\"T_36a1d81e_8eb3_11ea_a841_4889e7f3390erow6_col1\" class=\"data row6 col1\" >43.2</td>\n                        <td id=\"T_36a1d81e_8eb3_11ea_a841_4889e7f3390erow6_col2\" class=\"data row6 col2\" >0.59</td>\n                        <td id=\"T_36a1d81e_8eb3_11ea_a841_4889e7f3390erow6_col3\" class=\"data row6 col3\" >0.05</td>\n                        <td id=\"T_36a1d81e_8eb3_11ea_a841_4889e7f3390erow6_col4\" class=\"data row6 col4\" >0.58</td>\n                        <td id=\"T_36a1d81e_8eb3_11ea_a841_4889e7f3390erow6_col5\" class=\"data row6 col5\" >0.45</td>\n                        <td id=\"T_36a1d81e_8eb3_11ea_a841_4889e7f3390erow6_col6\" class=\"data row6 col6\" >119</td>\n            </tr>\n            <tr>\n                                <td id=\"T_36a1d81e_8eb3_11ea_a841_4889e7f3390erow7_col0\" class=\"data row7 col0\" >Summer Observations CH</td>\n                        <td id=\"T_36a1d81e_8eb3_11ea_a841_4889e7f3390erow7_col1\" class=\"data row7 col1\" >23</td>\n                        <td id=\"T_36a1d81e_8eb3_11ea_a841_4889e7f3390erow7_col2\" class=\"data row7 col2\" >-0.05</td>\n                        <td id=\"T_36a1d81e_8eb3_11ea_a841_4889e7f3390erow7_col3\" class=\"data row7 col3\" >-2.05</td>\n                        <td id=\"T_36a1d81e_8eb3_11ea_a841_4889e7f3390erow7_col4\" class=\"data row7 col4\" >1.32</td>\n                        <td id=\"T_36a1d81e_8eb3_11ea_a841_4889e7f3390erow7_col5\" class=\"data row7 col5\" >0.01</td>\n                        <td id=\"T_36a1d81e_8eb3_11ea_a841_4889e7f3390erow7_col6\" class=\"data row7 col6\" >218</td>\n            </tr>\n            <tr>\n                                <td id=\"T_36a1d81e_8eb3_11ea_a841_4889e7f3390erow8_col0\" class=\"data row8 col0\" >Summer Observations KD</td>\n                        <td id=\"T_36a1d81e_8eb3_11ea_a841_4889e7f3390erow8_col1\" class=\"data row8 col1\" >38.8</td>\n                        <td id=\"T_36a1d81e_8eb3_11ea_a841_4889e7f3390erow8_col2\" class=\"data row8 col2\" >0.28</td>\n                        <td id=\"T_36a1d81e_8eb3_11ea_a841_4889e7f3390erow8_col3\" class=\"data row8 col3\" >-0.21</td>\n                        <td id=\"T_36a1d81e_8eb3_11ea_a841_4889e7f3390erow8_col4\" class=\"data row8 col4\" >0.75</td>\n                        <td id=\"T_36a1d81e_8eb3_11ea_a841_4889e7f3390erow8_col5\" class=\"data row8 col5\" >0.19</td>\n                        <td id=\"T_36a1d81e_8eb3_11ea_a841_4889e7f3390erow8_col6\" class=\"data row8 col6\" >81</td>\n            </tr>\n            <tr>\n                                <td id=\"T_36a1d81e_8eb3_11ea_a841_4889e7f3390erow9_col0\" class=\"data row9 col0\" >Winter Observations PO4</td>\n                        <td id=\"T_36a1d81e_8eb3_11ea_a841_4889e7f3390erow9_col1\" class=\"data row9 col1\" >35.8</td>\n                        <td id=\"T_36a1d81e_8eb3_11ea_a841_4889e7f3390erow9_col2\" class=\"data row9 col2\" >-0.04</td>\n                        <td id=\"T_36a1d81e_8eb3_11ea_a841_4889e7f3390erow9_col3\" class=\"data row9 col3\" >-3.51</td>\n                        <td id=\"T_36a1d81e_8eb3_11ea_a841_4889e7f3390erow9_col4\" class=\"data row9 col4\" >1.64</td>\n                        <td id=\"T_36a1d81e_8eb3_11ea_a841_4889e7f3390erow9_col5\" class=\"data row9 col5\" >0</td>\n                        <td id=\"T_36a1d81e_8eb3_11ea_a841_4889e7f3390erow9_col6\" class=\"data row9 col6\" >70</td>\n            </tr>\n            <tr>\n                                <td id=\"T_36a1d81e_8eb3_11ea_a841_4889e7f3390erow10_col0\" class=\"data row10 col0\" >Winter Observations DIN</td>\n                        <td id=\"T_36a1d81e_8eb3_11ea_a841_4889e7f3390erow10_col1\" class=\"data row10 col1\" >29.6</td>\n                        <td id=\"T_36a1d81e_8eb3_11ea_a841_4889e7f3390erow10_col2\" class=\"data row10 col2\" >0.72</td>\n                        <td id=\"T_36a1d81e_8eb3_11ea_a841_4889e7f3390erow10_col3\" class=\"data row10 col3\" >-0.83</td>\n                        <td id=\"T_36a1d81e_8eb3_11ea_a841_4889e7f3390erow10_col4\" class=\"data row10 col4\" >1.08</td>\n                        <td id=\"T_36a1d81e_8eb3_11ea_a841_4889e7f3390erow10_col5\" class=\"data row10 col5\" >0.5</td>\n                        <td id=\"T_36a1d81e_8eb3_11ea_a841_4889e7f3390erow10_col6\" class=\"data row10 col6\" >70</td>\n            </tr>\n    </tbody></table>",
          "text/plain": "<pandas.io.formats.style.Styler at 0x1f250a03ac8>"
         },
         "metadata": {},
         "output_type": "display_data"
        }
       ]
      }
     },
     "546efe5d01e247ff8dbfe2ab8d27539d": {
      "model_module": "@jupyter-widgets/controls",
      "model_module_version": "1.5.0",
      "model_name": "DescriptionStyleModel",
      "state": {
       "description_width": ""
      }
     },
     "54cd05c770db4352a031b284a3939e64": {
      "model_module": "@jupyter-widgets/controls",
      "model_module_version": "1.5.0",
      "model_name": "DropdownModel",
      "state": {
       "_options_labels": [
        "CH",
        "DO",
        "KD",
        "DIN",
        "DIP",
        "TN",
        "TP"
       ],
       "description": "Parameter",
       "index": 1,
       "layout": "IPY_MODEL_fa5ceec8b8154b7abbbc7a9f0433179a",
       "style": "IPY_MODEL_76fad24c9f29416fa4aec7e1227c1421"
      }
     },
     "55979aa3f9224705a5c974997847da8f": {
      "model_module": "@jupyter-widgets/controls",
      "model_module_version": "1.5.0",
      "model_name": "DescriptionStyleModel",
      "state": {
       "description_width": ""
      }
     },
     "55d5cb92472143baa2907ff751291e42": {
      "model_module": "@jupyter-widgets/base",
      "model_module_version": "1.2.0",
      "model_name": "LayoutModel",
      "state": {}
     },
     "57e5f7759cc84b9aa490ab4a5147e883": {
      "model_module": "@jupyter-widgets/controls",
      "model_module_version": "1.5.0",
      "model_name": "DropdownModel",
      "state": {
       "_options_labels": [
        "('All Chlorophyll-a, CH', <pandas.io.formats.style.Styler object at 0x000001F250A03710>)",
        "('Annual Chlorophyll-a, CH',)",
        "('Annual dissolved oxygen, DO', <pandas.io.formats.style.Styler object at 0x000001F250A03EF0>)",
        "('Annual dissolved nitrogen, DIN', <pandas.io.formats.style.Styler object at 0x000001F250A03940>)"
       ],
       "index": 0,
       "layout": "IPY_MODEL_805cfad9e2974d3b94b55b3c8a573cae",
       "style": "IPY_MODEL_b132f19048214fd7802e72ee8f7035e7"
      }
     },
     "58b9419fdc8b42dbb66035a6df165f9b": {
      "model_module": "@jupyter-widgets/base",
      "model_module_version": "1.2.0",
      "model_name": "LayoutModel",
      "state": {}
     },
     "58c972384c1848dd8e0bf4701b4b69ec": {
      "model_module": "@jupyter-widgets/controls",
      "model_module_version": "1.5.0",
      "model_name": "DescriptionStyleModel",
      "state": {
       "description_width": ""
      }
     },
     "58ff3a0ae6eb498584e1a1ee7641d0e8": {
      "model_module": "@jupyter-widgets/controls",
      "model_module_version": "1.5.0",
      "model_name": "VBoxModel",
      "state": {
       "_dom_classes": [
        "widget-interact"
       ],
       "children": [
        "IPY_MODEL_a2d86e9f04294ee6a2b2796279ec3820",
        "IPY_MODEL_beafe1ddb5314a8ea944aecb79aa2df9"
       ],
       "layout": "IPY_MODEL_4eee8ecd90a344a29f06721afcc7dea7"
      }
     },
     "591aa7f7b37f499481a509f94fbb234d": {
      "model_module": "@jupyter-widgets/base",
      "model_module_version": "1.2.0",
      "model_name": "LayoutModel",
      "state": {}
     },
     "5a76c7ded73143fb9d1024b8e3d3c5ed": {
      "model_module": "@jupyter-widgets/controls",
      "model_module_version": "1.5.0",
      "model_name": "VBoxModel",
      "state": {
       "_dom_classes": [
        "widget-interact"
       ],
       "children": [
        "IPY_MODEL_8823984363a94c009414f561520d21af",
        "IPY_MODEL_3d9620a4cae9438c83df8f9df9b67c2d"
       ],
       "layout": "IPY_MODEL_92e8261d07604e718d878e4e06bd0679"
      }
     },
     "5b95c998d5894038ab11047f12f23e9c": {
      "model_module": "@jupyter-widgets/base",
      "model_module_version": "1.2.0",
      "model_name": "LayoutModel",
      "state": {}
     },
     "5c715078a5e546d7bfc9ae9fdddfc2b2": {
      "model_module": "@jupyter-widgets/base",
      "model_module_version": "1.2.0",
      "model_name": "LayoutModel",
      "state": {}
     },
     "5d1b7a2f5ce0406483e8c33b2fd90695": {
      "model_module": "@jupyter-widgets/base",
      "model_module_version": "1.2.0",
      "model_name": "LayoutModel",
      "state": {}
     },
     "5e2998996b31486cab22c3ca4c68af34": {
      "model_module": "@jupyter-widgets/output",
      "model_module_version": "1.0.0",
      "model_name": "OutputModel",
      "state": {
       "layout": "IPY_MODEL_b002b221344c4a83b86d0ec89de31119",
       "outputs": [
        {
         "data": {
          "text/html": "<div>\n<style scoped>\n    .dataframe tbody tr th:only-of-type {\n        vertical-align: middle;\n    }\n\n    .dataframe tbody tr th {\n        vertical-align: top;\n    }\n\n    .dataframe thead th {\n        text-align: right;\n    }\n</style>\n<table border=\"1\" class=\"dataframe\">\n  <thead>\n    <tr style=\"text-align: right;\">\n      <th></th>\n      <th>Standard TN</th>\n      <th>Standard TP</th>\n      <th>Standard PO4</th>\n      <th>Standard DIN</th>\n      <th>Standard CH</th>\n      <th>Standard DO</th>\n      <th>Standard KD</th>\n      <th>Summer Observations CH</th>\n      <th>Summer Observations KD</th>\n      <th>Winter Observations PO4</th>\n      <th>Winter Observations DIN</th>\n      <th>min. no. obs.</th>\n      <th>max. no. obs.</th>\n      <th>station</th>\n    </tr>\n  </thead>\n  <tbody>\n    <tr>\n      <th>0</th>\n      <td>42.17</td>\n      <td>12.74</td>\n      <td>38.48</td>\n      <td>62.33</td>\n      <td>41.65</td>\n      <td>2.51</td>\n      <td>43.25</td>\n      <td>23.03</td>\n      <td>38.82</td>\n      <td>35.75</td>\n      <td>29.59</td>\n      <td>70</td>\n      <td>443</td>\n      <td>RKB10</td>\n    </tr>\n    <tr>\n      <th>1</th>\n      <td>0.85</td>\n      <td>0.45</td>\n      <td>0.70</td>\n      <td>0.86</td>\n      <td>0.20</td>\n      <td>0.86</td>\n      <td>0.59</td>\n      <td>-0.05</td>\n      <td>0.28</td>\n      <td>-0.04</td>\n      <td>0.72</td>\n      <td>70</td>\n      <td>443</td>\n      <td>RKB10</td>\n    </tr>\n    <tr>\n      <th>2</th>\n      <td>0.23</td>\n      <td>-0.35</td>\n      <td>-0.84</td>\n      <td>0.43</td>\n      <td>-1.81</td>\n      <td>0.67</td>\n      <td>0.05</td>\n      <td>-2.05</td>\n      <td>-0.21</td>\n      <td>-3.51</td>\n      <td>-0.83</td>\n      <td>70</td>\n      <td>443</td>\n      <td>RKB10</td>\n    </tr>\n    <tr>\n      <th>3</th>\n      <td>0.71</td>\n      <td>0.80</td>\n      <td>0.89</td>\n      <td>0.61</td>\n      <td>1.28</td>\n      <td>0.41</td>\n      <td>0.58</td>\n      <td>1.32</td>\n      <td>0.75</td>\n      <td>1.64</td>\n      <td>1.08</td>\n      <td>70</td>\n      <td>443</td>\n      <td>RKB10</td>\n    </tr>\n    <tr>\n      <th>4</th>\n      <td>0.78</td>\n      <td>0.18</td>\n      <td>0.44</td>\n      <td>0.82</td>\n      <td>0.00</td>\n      <td>0.72</td>\n      <td>0.45</td>\n      <td>0.01</td>\n      <td>0.19</td>\n      <td>0.00</td>\n      <td>0.50</td>\n      <td>70</td>\n      <td>443</td>\n      <td>RKB10</td>\n    </tr>\n  </tbody>\n</table>\n</div>",
          "text/plain": "   Standard TN  Standard TP  Standard PO4  Standard DIN  Standard CH  \\\n0        42.17        12.74         38.48         62.33        41.65   \n1         0.85         0.45          0.70          0.86         0.20   \n2         0.23        -0.35         -0.84          0.43        -1.81   \n3         0.71         0.80          0.89          0.61         1.28   \n4         0.78         0.18          0.44          0.82         0.00   \n\n   Standard DO  Standard KD  Summer Observations CH  Summer Observations KD  \\\n0         2.51        43.25                   23.03                   38.82   \n1         0.86         0.59                   -0.05                    0.28   \n2         0.67         0.05                   -2.05                   -0.21   \n3         0.41         0.58                    1.32                    0.75   \n4         0.72         0.45                    0.01                    0.19   \n\n   Winter Observations PO4  Winter Observations DIN  min. no. obs.  \\\n0                    35.75                    29.59             70   \n1                    -0.04                     0.72             70   \n2                    -3.51                    -0.83             70   \n3                     1.64                     1.08             70   \n4                     0.00                     0.50             70   \n\n   max. no. obs. station  \n0            443   RKB10  \n1            443   RKB10  \n2            443   RKB10  \n3            443   RKB10  \n4            443   RKB10  "
         },
         "metadata": {},
         "output_type": "display_data"
        }
       ]
      }
     },
     "626a2fd7e17248e991514730988ddbb4": {
      "model_module": "@jupyter-widgets/output",
      "model_module_version": "1.0.0",
      "model_name": "OutputModel",
      "state": {
       "layout": "IPY_MODEL_a0dd2557ae9e4af1bd3b77b98edc216d",
       "outputs": [
        {
         "data": {
          "text/html": "<style  type=\"text/css\" >\n</style><table id=\"T_210d9d9c_8eb4_11ea_b409_4889e7f3390e\" ><thead>    <tr>        <th class=\"col_heading level0 col0\" >Standard TN</th>        <th class=\"col_heading level0 col1\" >Standard TP</th>        <th class=\"col_heading level0 col2\" >Standard PO4</th>        <th class=\"col_heading level0 col3\" >Standard DIN</th>        <th class=\"col_heading level0 col4\" >Standard CH</th>        <th class=\"col_heading level0 col5\" >Standard DO</th>        <th class=\"col_heading level0 col6\" >Standard KD</th>        <th class=\"col_heading level0 col7\" >Summer Observations CH</th>        <th class=\"col_heading level0 col8\" >Summer Observations KD</th>        <th class=\"col_heading level0 col9\" >Winter Observations PO4</th>        <th class=\"col_heading level0 col10\" >Winter Observations DIN</th>        <th class=\"col_heading level0 col11\" >min. no. obs.</th>        <th class=\"col_heading level0 col12\" >max. no. obs.</th>        <th class=\"col_heading level0 col13\" >station</th>    </tr></thead><tbody>\n                <tr>\n                                <td id=\"T_210d9d9c_8eb4_11ea_b409_4889e7f3390erow0_col0\" class=\"data row0 col0\" >39.12</td>\n                        <td id=\"T_210d9d9c_8eb4_11ea_b409_4889e7f3390erow0_col1\" class=\"data row0 col1\" >29.53</td>\n                        <td id=\"T_210d9d9c_8eb4_11ea_b409_4889e7f3390erow0_col2\" class=\"data row0 col2\" >41.46</td>\n                        <td id=\"T_210d9d9c_8eb4_11ea_b409_4889e7f3390erow0_col3\" class=\"data row0 col3\" >51.79</td>\n                        <td id=\"T_210d9d9c_8eb4_11ea_b409_4889e7f3390erow0_col4\" class=\"data row0 col4\" >32.91</td>\n                        <td id=\"T_210d9d9c_8eb4_11ea_b409_4889e7f3390erow0_col5\" class=\"data row0 col5\" >3.33</td>\n                        <td id=\"T_210d9d9c_8eb4_11ea_b409_4889e7f3390erow0_col6\" class=\"data row0 col6\" >41.77</td>\n                        <td id=\"T_210d9d9c_8eb4_11ea_b409_4889e7f3390erow0_col7\" class=\"data row0 col7\" >9.53</td>\n                        <td id=\"T_210d9d9c_8eb4_11ea_b409_4889e7f3390erow0_col8\" class=\"data row0 col8\" >36.14</td>\n                        <td id=\"T_210d9d9c_8eb4_11ea_b409_4889e7f3390erow0_col9\" class=\"data row0 col9\" >56.66</td>\n                        <td id=\"T_210d9d9c_8eb4_11ea_b409_4889e7f3390erow0_col10\" class=\"data row0 col10\" >22.77</td>\n                        <td id=\"T_210d9d9c_8eb4_11ea_b409_4889e7f3390erow0_col11\" class=\"data row0 col11\" >104</td>\n                        <td id=\"T_210d9d9c_8eb4_11ea_b409_4889e7f3390erow0_col12\" class=\"data row0 col12\" >618</td>\n                        <td id=\"T_210d9d9c_8eb4_11ea_b409_4889e7f3390erow0_col13\" class=\"data row0 col13\" >RKB1</td>\n            </tr>\n            <tr>\n                                <td id=\"T_210d9d9c_8eb4_11ea_b409_4889e7f3390erow1_col0\" class=\"data row1 col0\" >42.17</td>\n                        <td id=\"T_210d9d9c_8eb4_11ea_b409_4889e7f3390erow1_col1\" class=\"data row1 col1\" >12.74</td>\n                        <td id=\"T_210d9d9c_8eb4_11ea_b409_4889e7f3390erow1_col2\" class=\"data row1 col2\" >38.48</td>\n                        <td id=\"T_210d9d9c_8eb4_11ea_b409_4889e7f3390erow1_col3\" class=\"data row1 col3\" >62.33</td>\n                        <td id=\"T_210d9d9c_8eb4_11ea_b409_4889e7f3390erow1_col4\" class=\"data row1 col4\" >41.65</td>\n                        <td id=\"T_210d9d9c_8eb4_11ea_b409_4889e7f3390erow1_col5\" class=\"data row1 col5\" >2.51</td>\n                        <td id=\"T_210d9d9c_8eb4_11ea_b409_4889e7f3390erow1_col6\" class=\"data row1 col6\" >43.25</td>\n                        <td id=\"T_210d9d9c_8eb4_11ea_b409_4889e7f3390erow1_col7\" class=\"data row1 col7\" >23.03</td>\n                        <td id=\"T_210d9d9c_8eb4_11ea_b409_4889e7f3390erow1_col8\" class=\"data row1 col8\" >38.82</td>\n                        <td id=\"T_210d9d9c_8eb4_11ea_b409_4889e7f3390erow1_col9\" class=\"data row1 col9\" >35.75</td>\n                        <td id=\"T_210d9d9c_8eb4_11ea_b409_4889e7f3390erow1_col10\" class=\"data row1 col10\" >29.59</td>\n                        <td id=\"T_210d9d9c_8eb4_11ea_b409_4889e7f3390erow1_col11\" class=\"data row1 col11\" >70</td>\n                        <td id=\"T_210d9d9c_8eb4_11ea_b409_4889e7f3390erow1_col12\" class=\"data row1 col12\" >443</td>\n                        <td id=\"T_210d9d9c_8eb4_11ea_b409_4889e7f3390erow1_col13\" class=\"data row1 col13\" >RKB10</td>\n            </tr>\n    </tbody></table>",
          "text/plain": "<pandas.io.formats.style.Styler at 0x1f250a03828>"
         },
         "metadata": {},
         "output_type": "display_data"
        }
       ]
      }
     },
     "631a215ac2ff49388882cf8b50e75ce1": {
      "model_module": "@jupyter-widgets/base",
      "model_module_version": "1.2.0",
      "model_name": "LayoutModel",
      "state": {}
     },
     "63a06761611e4927968c717bcd6a3324": {
      "model_module": "@jupyter-widgets/controls",
      "model_module_version": "1.5.0",
      "model_name": "DropdownModel",
      "state": {
       "_options_labels": [
        "All Chlorophyll-a"
       ],
       "index": 0,
       "layout": "IPY_MODEL_0eb7ce304e1e48eab9a136598b51df76",
       "style": "IPY_MODEL_7ef23e3028704a1f963ec2ac56698077"
      }
     },
     "63b8b9768c80413caa6353ff5172018f": {
      "model_module": "@jupyter-widgets/output",
      "model_module_version": "1.0.0",
      "model_name": "OutputModel",
      "state": {
       "layout": "IPY_MODEL_dce3222e7a1841b9a0fb4c978d588bb2",
       "outputs": [
        {
         "ename": "IndexError",
         "evalue": "only integers, slices (`:`), ellipsis (`...`), numpy.newaxis (`None`) and integer or boolean arrays are valid indices",
         "output_type": "error",
         "traceback": [
          "\u001b[1;31m---------------------------------------------------------------------------\u001b[0m",
          "\u001b[1;31mIndexError\u001b[0m                                Traceback (most recent call last)",
          "\u001b[1;32m~\\AppData\\Local\\Continuum\\anaconda3\\lib\\site-packages\\ipywidgets\\widgets\\interaction.py\u001b[0m in \u001b[0;36mupdate\u001b[1;34m(self, *args)\u001b[0m\n\u001b[0;32m    254\u001b[0m                     \u001b[0mvalue\u001b[0m \u001b[1;33m=\u001b[0m \u001b[0mwidget\u001b[0m\u001b[1;33m.\u001b[0m\u001b[0mget_interact_value\u001b[0m\u001b[1;33m(\u001b[0m\u001b[1;33m)\u001b[0m\u001b[1;33m\u001b[0m\u001b[1;33m\u001b[0m\u001b[0m\n\u001b[0;32m    255\u001b[0m                     \u001b[0mself\u001b[0m\u001b[1;33m.\u001b[0m\u001b[0mkwargs\u001b[0m\u001b[1;33m[\u001b[0m\u001b[0mwidget\u001b[0m\u001b[1;33m.\u001b[0m\u001b[0m_kwarg\u001b[0m\u001b[1;33m]\u001b[0m \u001b[1;33m=\u001b[0m \u001b[0mvalue\u001b[0m\u001b[1;33m\u001b[0m\u001b[1;33m\u001b[0m\u001b[0m\n\u001b[1;32m--> 256\u001b[1;33m                 \u001b[0mself\u001b[0m\u001b[1;33m.\u001b[0m\u001b[0mresult\u001b[0m \u001b[1;33m=\u001b[0m \u001b[0mself\u001b[0m\u001b[1;33m.\u001b[0m\u001b[0mf\u001b[0m\u001b[1;33m(\u001b[0m\u001b[1;33m**\u001b[0m\u001b[0mself\u001b[0m\u001b[1;33m.\u001b[0m\u001b[0mkwargs\u001b[0m\u001b[1;33m)\u001b[0m\u001b[1;33m\u001b[0m\u001b[1;33m\u001b[0m\u001b[0m\n\u001b[0m\u001b[0;32m    257\u001b[0m                 \u001b[0mshow_inline_matplotlib_plots\u001b[0m\u001b[1;33m(\u001b[0m\u001b[1;33m)\u001b[0m\u001b[1;33m\u001b[0m\u001b[1;33m\u001b[0m\u001b[0m\n\u001b[0;32m    258\u001b[0m                 \u001b[1;32mif\u001b[0m \u001b[0mself\u001b[0m\u001b[1;33m.\u001b[0m\u001b[0mauto_display\u001b[0m \u001b[1;32mand\u001b[0m \u001b[0mself\u001b[0m\u001b[1;33m.\u001b[0m\u001b[0mresult\u001b[0m \u001b[1;32mis\u001b[0m \u001b[1;32mnot\u001b[0m \u001b[1;32mNone\u001b[0m\u001b[1;33m:\u001b[0m\u001b[1;33m\u001b[0m\u001b[1;33m\u001b[0m\u001b[0m\n",
          "\u001b[1;32m<ipython-input-10-d37a3a53c90d>\u001b[0m in \u001b[0;36mshow_ts\u001b[1;34m(Station)\u001b[0m\n\u001b[0;32m      5\u001b[0m     \u001b[1;33m@\u001b[0m\u001b[0minteract\u001b[0m\u001b[1;33m\u001b[0m\u001b[1;33m\u001b[0m\u001b[0m\n\u001b[0;32m      6\u001b[0m     \u001b[1;32mdef\u001b[0m \u001b[0mshow_ts\u001b[0m\u001b[1;33m(\u001b[0m\u001b[0mStation\u001b[0m\u001b[1;33m=\u001b[0m\u001b[0mstations\u001b[0m\u001b[1;33m)\u001b[0m\u001b[1;33m:\u001b[0m\u001b[1;33m\u001b[0m\u001b[1;33m\u001b[0m\u001b[0m\n\u001b[1;32m----> 7\u001b[1;33m         \u001b[0mstation_table\u001b[0m \u001b[1;33m=\u001b[0m \u001b[0mdf_all\u001b[0m\u001b[1;33m.\u001b[0m\u001b[0mloc\u001b[0m\u001b[1;33m[\u001b[0m\u001b[0mdf_all\u001b[0m\u001b[1;33m[\u001b[0m\u001b[1;34m'Station'\u001b[0m\u001b[1;33m]\u001b[0m\u001b[1;33m==\u001b[0m\u001b[0mstations\u001b[0m\u001b[1;33m[\u001b[0m\u001b[0mStation\u001b[0m\u001b[1;33m]\u001b[0m\u001b[1;33m]\u001b[0m\u001b[1;33m\u001b[0m\u001b[1;33m\u001b[0m\u001b[0m\n\u001b[0m\u001b[0;32m      8\u001b[0m         \u001b[0mstation_table\u001b[0m \u001b[1;33m=\u001b[0m \u001b[0mstation_table\u001b[0m\u001b[1;33m.\u001b[0m\u001b[0mdrop\u001b[0m\u001b[1;33m(\u001b[0m\u001b[1;33m[\u001b[0m\u001b[1;34m'Station'\u001b[0m\u001b[1;33m,\u001b[0m\u001b[1;34m'Standard'\u001b[0m\u001b[1;33m,\u001b[0m\u001b[1;34m'Summer'\u001b[0m\u001b[1;33m,\u001b[0m\u001b[1;34m'Winter'\u001b[0m\u001b[1;33m]\u001b[0m\u001b[1;33m,\u001b[0m \u001b[0maxis\u001b[0m\u001b[1;33m=\u001b[0m\u001b[1;36m1\u001b[0m\u001b[1;33m)\u001b[0m\u001b[1;33m\u001b[0m\u001b[1;33m\u001b[0m\u001b[0m\n\u001b[0;32m      9\u001b[0m         \u001b[0mstation_table\u001b[0m\u001b[1;33m[\u001b[0m\u001b[1;34m'Percent_Bias'\u001b[0m\u001b[1;33m]\u001b[0m \u001b[1;33m=\u001b[0m \u001b[0mround\u001b[0m\u001b[1;33m(\u001b[0m\u001b[0mstation_table\u001b[0m\u001b[1;33m[\u001b[0m\u001b[1;34m'Percent_Bias'\u001b[0m\u001b[1;33m]\u001b[0m\u001b[1;33m,\u001b[0m\u001b[1;36m1\u001b[0m\u001b[1;33m)\u001b[0m\u001b[1;33m\u001b[0m\u001b[1;33m\u001b[0m\u001b[0m\n",
          "\u001b[1;31mIndexError\u001b[0m: only integers, slices (`:`), ellipsis (`...`), numpy.newaxis (`None`) and integer or boolean arrays are valid indices"
         ]
        }
       ]
      }
     },
     "64d91db67d1040f9be88cb3555ed5a63": {
      "model_module": "@jupyter-widgets/controls",
      "model_module_version": "1.5.0",
      "model_name": "VBoxModel",
      "state": {
       "_dom_classes": [
        "widget-interact"
       ],
       "children": [
        "IPY_MODEL_7ff1ff411bf143b6b18f250cdd37c435",
        "IPY_MODEL_2bb14490c98948768a3545218a3a09ea"
       ],
       "layout": "IPY_MODEL_5c715078a5e546d7bfc9ae9fdddfc2b2"
      }
     },
     "65128c0f384b4790b710767d74ec9bd7": {
      "model_module": "@jupyter-widgets/base",
      "model_module_version": "1.2.0",
      "model_name": "LayoutModel",
      "state": {}
     },
     "6595eebeccfd4b7ca32a1333c78ab904": {
      "model_module": "@jupyter-widgets/base",
      "model_module_version": "1.2.0",
      "model_name": "LayoutModel",
      "state": {}
     },
     "65d1d83306ef4e21a8312e3b9e680267": {
      "model_module": "@jupyter-widgets/base",
      "model_module_version": "1.2.0",
      "model_name": "LayoutModel",
      "state": {}
     },
     "66043d8a61374641ada9300a0b2ad5a1": {
      "model_module": "@jupyter-widgets/controls",
      "model_module_version": "1.5.0",
      "model_name": "DescriptionStyleModel",
      "state": {
       "description_width": ""
      }
     },
     "660f3e7107b444eabc61949a507ea993": {
      "model_module": "@jupyter-widgets/output",
      "model_module_version": "1.0.0",
      "model_name": "OutputModel",
      "state": {
       "layout": "IPY_MODEL_137e671668634f11a153c3c941f6a019",
       "outputs": [
        {
         "ename": "ValueError",
         "evalue": "style is not supported for non-unique indices.",
         "output_type": "error",
         "traceback": [
          "\u001b[1;31m---------------------------------------------------------------------------\u001b[0m",
          "\u001b[1;31mValueError\u001b[0m                                Traceback (most recent call last)",
          "\u001b[1;32m~\\AppData\\Local\\Continuum\\anaconda3\\lib\\site-packages\\ipywidgets\\widgets\\interaction.py\u001b[0m in \u001b[0;36mupdate\u001b[1;34m(self, *args)\u001b[0m\n\u001b[0;32m    254\u001b[0m                     \u001b[0mvalue\u001b[0m \u001b[1;33m=\u001b[0m \u001b[0mwidget\u001b[0m\u001b[1;33m.\u001b[0m\u001b[0mget_interact_value\u001b[0m\u001b[1;33m(\u001b[0m\u001b[1;33m)\u001b[0m\u001b[1;33m\u001b[0m\u001b[1;33m\u001b[0m\u001b[0m\n\u001b[0;32m    255\u001b[0m                     \u001b[0mself\u001b[0m\u001b[1;33m.\u001b[0m\u001b[0mkwargs\u001b[0m\u001b[1;33m[\u001b[0m\u001b[0mwidget\u001b[0m\u001b[1;33m.\u001b[0m\u001b[0m_kwarg\u001b[0m\u001b[1;33m]\u001b[0m \u001b[1;33m=\u001b[0m \u001b[0mvalue\u001b[0m\u001b[1;33m\u001b[0m\u001b[1;33m\u001b[0m\u001b[0m\n\u001b[1;32m--> 256\u001b[1;33m                 \u001b[0mself\u001b[0m\u001b[1;33m.\u001b[0m\u001b[0mresult\u001b[0m \u001b[1;33m=\u001b[0m \u001b[0mself\u001b[0m\u001b[1;33m.\u001b[0m\u001b[0mf\u001b[0m\u001b[1;33m(\u001b[0m\u001b[1;33m**\u001b[0m\u001b[0mself\u001b[0m\u001b[1;33m.\u001b[0m\u001b[0mkwargs\u001b[0m\u001b[1;33m)\u001b[0m\u001b[1;33m\u001b[0m\u001b[1;33m\u001b[0m\u001b[0m\n\u001b[0m\u001b[0;32m    257\u001b[0m                 \u001b[0mshow_inline_matplotlib_plots\u001b[0m\u001b[1;33m(\u001b[0m\u001b[1;33m)\u001b[0m\u001b[1;33m\u001b[0m\u001b[1;33m\u001b[0m\u001b[0m\n\u001b[0;32m    258\u001b[0m                 \u001b[1;32mif\u001b[0m \u001b[0mself\u001b[0m\u001b[1;33m.\u001b[0m\u001b[0mauto_display\u001b[0m \u001b[1;32mand\u001b[0m \u001b[0mself\u001b[0m\u001b[1;33m.\u001b[0m\u001b[0mresult\u001b[0m \u001b[1;32mis\u001b[0m \u001b[1;32mnot\u001b[0m \u001b[1;32mNone\u001b[0m\u001b[1;33m:\u001b[0m\u001b[1;33m\u001b[0m\u001b[1;33m\u001b[0m\u001b[0m\n",
          "\u001b[1;32m<ipython-input-89-2fc47a4250a2>\u001b[0m in \u001b[0;36mshow_ts\u001b[1;34m(QMeasure)\u001b[0m\n\u001b[0;32m     16\u001b[0m         \u001b[0mstation_stat\u001b[0m\u001b[1;33m[\u001b[0m\u001b[1;34m'station'\u001b[0m\u001b[1;33m]\u001b[0m \u001b[1;33m=\u001b[0m \u001b[0mstation\u001b[0m\u001b[1;33m\u001b[0m\u001b[1;33m\u001b[0m\u001b[0m\n\u001b[0;32m     17\u001b[0m         \u001b[0mStat_table\u001b[0m \u001b[1;33m=\u001b[0m \u001b[0mStat_table\u001b[0m\u001b[1;33m.\u001b[0m\u001b[0mappend\u001b[0m\u001b[1;33m(\u001b[0m\u001b[0mstation_stat\u001b[0m\u001b[1;33m)\u001b[0m\u001b[1;33m\u001b[0m\u001b[1;33m\u001b[0m\u001b[0m\n\u001b[1;32m---> 18\u001b[1;33m     \u001b[1;32mreturn\u001b[0m \u001b[0mStat_table\u001b[0m\u001b[1;33m.\u001b[0m\u001b[0mstyle\u001b[0m\u001b[1;33m.\u001b[0m\u001b[0mhide_index\u001b[0m\u001b[1;33m(\u001b[0m\u001b[1;33m)\u001b[0m\u001b[1;33m\u001b[0m\u001b[1;33m\u001b[0m\u001b[0m\n\u001b[0m",
          "\u001b[1;32m~\\AppData\\Local\\Continuum\\anaconda3\\lib\\site-packages\\pandas\\core\\frame.py\u001b[0m in \u001b[0;36mstyle\u001b[1;34m(self)\u001b[0m\n\u001b[0;32m    738\u001b[0m         \"\"\"\n\u001b[0;32m    739\u001b[0m         \u001b[1;32mfrom\u001b[0m \u001b[0mpandas\u001b[0m\u001b[1;33m.\u001b[0m\u001b[0mio\u001b[0m\u001b[1;33m.\u001b[0m\u001b[0mformats\u001b[0m\u001b[1;33m.\u001b[0m\u001b[0mstyle\u001b[0m \u001b[1;32mimport\u001b[0m \u001b[0mStyler\u001b[0m\u001b[1;33m\u001b[0m\u001b[1;33m\u001b[0m\u001b[0m\n\u001b[1;32m--> 740\u001b[1;33m         \u001b[1;32mreturn\u001b[0m \u001b[0mStyler\u001b[0m\u001b[1;33m(\u001b[0m\u001b[0mself\u001b[0m\u001b[1;33m)\u001b[0m\u001b[1;33m\u001b[0m\u001b[1;33m\u001b[0m\u001b[0m\n\u001b[0m\u001b[0;32m    741\u001b[0m \u001b[1;33m\u001b[0m\u001b[0m\n\u001b[0;32m    742\u001b[0m     \u001b[1;32mdef\u001b[0m \u001b[0miteritems\u001b[0m\u001b[1;33m(\u001b[0m\u001b[0mself\u001b[0m\u001b[1;33m)\u001b[0m\u001b[1;33m:\u001b[0m\u001b[1;33m\u001b[0m\u001b[1;33m\u001b[0m\u001b[0m\n",
          "\u001b[1;32m~\\AppData\\Local\\Continuum\\anaconda3\\lib\\site-packages\\pandas\\io\\formats\\style.py\u001b[0m in \u001b[0;36m__init__\u001b[1;34m(self, data, precision, table_styles, uuid, caption, table_attributes, cell_ids)\u001b[0m\n\u001b[0;32m    130\u001b[0m             \u001b[0mdata\u001b[0m \u001b[1;33m=\u001b[0m \u001b[0mdata\u001b[0m\u001b[1;33m.\u001b[0m\u001b[0mto_frame\u001b[0m\u001b[1;33m(\u001b[0m\u001b[1;33m)\u001b[0m\u001b[1;33m\u001b[0m\u001b[1;33m\u001b[0m\u001b[0m\n\u001b[0;32m    131\u001b[0m         \u001b[1;32mif\u001b[0m \u001b[1;32mnot\u001b[0m \u001b[0mdata\u001b[0m\u001b[1;33m.\u001b[0m\u001b[0mindex\u001b[0m\u001b[1;33m.\u001b[0m\u001b[0mis_unique\u001b[0m \u001b[1;32mor\u001b[0m \u001b[1;32mnot\u001b[0m \u001b[0mdata\u001b[0m\u001b[1;33m.\u001b[0m\u001b[0mcolumns\u001b[0m\u001b[1;33m.\u001b[0m\u001b[0mis_unique\u001b[0m\u001b[1;33m:\u001b[0m\u001b[1;33m\u001b[0m\u001b[1;33m\u001b[0m\u001b[0m\n\u001b[1;32m--> 132\u001b[1;33m             \u001b[1;32mraise\u001b[0m \u001b[0mValueError\u001b[0m\u001b[1;33m(\u001b[0m\u001b[1;34m\"style is not supported for non-unique indices.\"\u001b[0m\u001b[1;33m)\u001b[0m\u001b[1;33m\u001b[0m\u001b[1;33m\u001b[0m\u001b[0m\n\u001b[0m\u001b[0;32m    133\u001b[0m \u001b[1;33m\u001b[0m\u001b[0m\n\u001b[0;32m    134\u001b[0m         \u001b[0mself\u001b[0m\u001b[1;33m.\u001b[0m\u001b[0mdata\u001b[0m \u001b[1;33m=\u001b[0m \u001b[0mdata\u001b[0m\u001b[1;33m\u001b[0m\u001b[1;33m\u001b[0m\u001b[0m\n",
          "\u001b[1;31mValueError\u001b[0m: style is not supported for non-unique indices."
         ]
        }
       ]
      }
     },
     "66c6df3805354a15bdcc0ce77e0a9d9f": {
      "model_module": "@jupyter-widgets/controls",
      "model_module_version": "1.5.0",
      "model_name": "DropdownModel",
      "state": {
       "_options_labels": [
        "RKB1",
        "RKB10"
       ],
       "description": "Station",
       "index": 0,
       "layout": "IPY_MODEL_6fd3ef2c332c45b18e9b6f061f471409",
       "style": "IPY_MODEL_26cd7813abf14a67bc2fc85292937f79"
      }
     },
     "67de082eeaea43aa88d63aa508b81902": {
      "model_module": "@jupyter-widgets/controls",
      "model_module_version": "1.5.0",
      "model_name": "IntSliderModel",
      "state": {
       "description": "x",
       "layout": "IPY_MODEL_f20ba55cb58b4ee0915d2bd17c110fe5",
       "max": 6,
       "min": -2,
       "style": "IPY_MODEL_247a2f5a9ff747fdb2508fec3713d764",
       "value": 2
      }
     },
     "68422c7957fd4c3f97f58b8f19b6d119": {
      "model_module": "@jupyter-widgets/controls",
      "model_module_version": "1.5.0",
      "model_name": "VBoxModel",
      "state": {
       "_dom_classes": [
        "widget-interact"
       ],
       "children": [
        "IPY_MODEL_09776a5354044a798aad3d6a5ecda2df",
        "IPY_MODEL_2a48134b63dd4494915c93d2eba9901e"
       ],
       "layout": "IPY_MODEL_0e57aa4e03b64fd9af8f9169e53a73e9"
      }
     },
     "68e2aff77c994e3eade02822cffd37e2": {
      "model_module": "@jupyter-widgets/controls",
      "model_module_version": "1.5.0",
      "model_name": "VBoxModel",
      "state": {
       "_dom_classes": [
        "widget-interact"
       ],
       "children": [
        "IPY_MODEL_9c32f6b78ec14c79921b88128babada8",
        "IPY_MODEL_b1d58a28ba8a435f9101234d1211b9e3"
       ],
       "layout": "IPY_MODEL_ca95f0bd9a584cf39ac03b0124cc995d"
      }
     },
     "69012e63485745bc92896ecf5b27aa76": {
      "model_module": "@jupyter-widgets/controls",
      "model_module_version": "1.5.0",
      "model_name": "DropdownModel",
      "state": {
       "_options_labels": [
        "RKB1",
        "RKB10"
       ],
       "description": "Station",
       "index": 0,
       "layout": "IPY_MODEL_13785627592d4506b9d6aa3adb6ad6c7",
       "style": "IPY_MODEL_d052cd0dd77949cea1bf0e5278218514"
      }
     },
     "6928251b602b43e39e29a3bd6443b3fb": {
      "model_module": "@jupyter-widgets/base",
      "model_module_version": "1.2.0",
      "model_name": "LayoutModel",
      "state": {}
     },
     "69340804df984fa9ae2f7294fa5a6243": {
      "model_module": "@jupyter-widgets/controls",
      "model_module_version": "1.5.0",
      "model_name": "DropdownModel",
      "state": {
       "_options_labels": [
        "RKB1",
        "RKB10"
       ],
       "description": "Station",
       "index": 1,
       "layout": "IPY_MODEL_4f6f619e11fe42a09d6f9feec7563d2e",
       "style": "IPY_MODEL_d29b2baa3a0c446790def8c0c533694b"
      }
     },
     "6972e371edb34391b22082646c72dae6": {
      "model_module": "@jupyter-widgets/base",
      "model_module_version": "1.2.0",
      "model_name": "LayoutModel",
      "state": {}
     },
     "69f578c5d1c440f19a2276432bca34fe": {
      "model_module": "@jupyter-widgets/output",
      "model_module_version": "1.0.0",
      "model_name": "OutputModel",
      "state": {
       "layout": "IPY_MODEL_f103b95121834e70903ca063c33ecd4c",
       "outputs": [
        {
         "data": {
          "text/html": "<style  type=\"text/css\" >\n</style><table id=\"T_27d33f3e_8eb3_11ea_abbb_4889e7f3390e\" ><thead>    <tr>        <th class=\"col_heading level0 col0\" >Measurement</th>        <th class=\"col_heading level0 col1\" >Percent_Bias</th>        <th class=\"col_heading level0 col2\" >Spearman_Rank_Correlation</th>        <th class=\"col_heading level0 col3\" >Efficiency_Factor</th>        <th class=\"col_heading level0 col4\" >Cost_Function</th>        <th class=\"col_heading level0 col5\" >R2</th>        <th class=\"col_heading level0 col6\" >Total_Number_Of_Observations_1</th>    </tr></thead><tbody>\n                <tr>\n                                <td id=\"T_27d33f3e_8eb3_11ea_abbb_4889e7f3390erow0_col0\" class=\"data row0 col0\" >Standard TN</td>\n                        <td id=\"T_27d33f3e_8eb3_11ea_abbb_4889e7f3390erow0_col1\" class=\"data row0 col1\" >42.2</td>\n                        <td id=\"T_27d33f3e_8eb3_11ea_abbb_4889e7f3390erow0_col2\" class=\"data row0 col2\" >0.85</td>\n                        <td id=\"T_27d33f3e_8eb3_11ea_abbb_4889e7f3390erow0_col3\" class=\"data row0 col3\" >0.23</td>\n                        <td id=\"T_27d33f3e_8eb3_11ea_abbb_4889e7f3390erow0_col4\" class=\"data row0 col4\" >0.71</td>\n                        <td id=\"T_27d33f3e_8eb3_11ea_abbb_4889e7f3390erow0_col5\" class=\"data row0 col5\" >0.78</td>\n                        <td id=\"T_27d33f3e_8eb3_11ea_abbb_4889e7f3390erow0_col6\" class=\"data row0 col6\" >441</td>\n            </tr>\n            <tr>\n                                <td id=\"T_27d33f3e_8eb3_11ea_abbb_4889e7f3390erow1_col0\" class=\"data row1 col0\" >Standard TP</td>\n                        <td id=\"T_27d33f3e_8eb3_11ea_abbb_4889e7f3390erow1_col1\" class=\"data row1 col1\" >12.7</td>\n                        <td id=\"T_27d33f3e_8eb3_11ea_abbb_4889e7f3390erow1_col2\" class=\"data row1 col2\" >0.45</td>\n                        <td id=\"T_27d33f3e_8eb3_11ea_abbb_4889e7f3390erow1_col3\" class=\"data row1 col3\" >-0.35</td>\n                        <td id=\"T_27d33f3e_8eb3_11ea_abbb_4889e7f3390erow1_col4\" class=\"data row1 col4\" >0.8</td>\n                        <td id=\"T_27d33f3e_8eb3_11ea_abbb_4889e7f3390erow1_col5\" class=\"data row1 col5\" >0.18</td>\n                        <td id=\"T_27d33f3e_8eb3_11ea_abbb_4889e7f3390erow1_col6\" class=\"data row1 col6\" >443</td>\n            </tr>\n            <tr>\n                                <td id=\"T_27d33f3e_8eb3_11ea_abbb_4889e7f3390erow2_col0\" class=\"data row2 col0\" >Standard PO4</td>\n                        <td id=\"T_27d33f3e_8eb3_11ea_abbb_4889e7f3390erow2_col1\" class=\"data row2 col1\" >38.5</td>\n                        <td id=\"T_27d33f3e_8eb3_11ea_abbb_4889e7f3390erow2_col2\" class=\"data row2 col2\" >0.7</td>\n                        <td id=\"T_27d33f3e_8eb3_11ea_abbb_4889e7f3390erow2_col3\" class=\"data row2 col3\" >-0.84</td>\n                        <td id=\"T_27d33f3e_8eb3_11ea_abbb_4889e7f3390erow2_col4\" class=\"data row2 col4\" >0.89</td>\n                        <td id=\"T_27d33f3e_8eb3_11ea_abbb_4889e7f3390erow2_col5\" class=\"data row2 col5\" >0.44</td>\n                        <td id=\"T_27d33f3e_8eb3_11ea_abbb_4889e7f3390erow2_col6\" class=\"data row2 col6\" >442</td>\n            </tr>\n            <tr>\n                                <td id=\"T_27d33f3e_8eb3_11ea_abbb_4889e7f3390erow3_col0\" class=\"data row3 col0\" >Standard DIN</td>\n                        <td id=\"T_27d33f3e_8eb3_11ea_abbb_4889e7f3390erow3_col1\" class=\"data row3 col1\" >62.3</td>\n                        <td id=\"T_27d33f3e_8eb3_11ea_abbb_4889e7f3390erow3_col2\" class=\"data row3 col2\" >0.86</td>\n                        <td id=\"T_27d33f3e_8eb3_11ea_abbb_4889e7f3390erow3_col3\" class=\"data row3 col3\" >0.43</td>\n                        <td id=\"T_27d33f3e_8eb3_11ea_abbb_4889e7f3390erow3_col4\" class=\"data row3 col4\" >0.61</td>\n                        <td id=\"T_27d33f3e_8eb3_11ea_abbb_4889e7f3390erow3_col5\" class=\"data row3 col5\" >0.82</td>\n                        <td id=\"T_27d33f3e_8eb3_11ea_abbb_4889e7f3390erow3_col6\" class=\"data row3 col6\" >441</td>\n            </tr>\n            <tr>\n                                <td id=\"T_27d33f3e_8eb3_11ea_abbb_4889e7f3390erow4_col0\" class=\"data row4 col0\" >Standard CH</td>\n                        <td id=\"T_27d33f3e_8eb3_11ea_abbb_4889e7f3390erow4_col1\" class=\"data row4 col1\" >41.7</td>\n                        <td id=\"T_27d33f3e_8eb3_11ea_abbb_4889e7f3390erow4_col2\" class=\"data row4 col2\" >0.2</td>\n                        <td id=\"T_27d33f3e_8eb3_11ea_abbb_4889e7f3390erow4_col3\" class=\"data row4 col3\" >-1.81</td>\n                        <td id=\"T_27d33f3e_8eb3_11ea_abbb_4889e7f3390erow4_col4\" class=\"data row4 col4\" >1.28</td>\n                        <td id=\"T_27d33f3e_8eb3_11ea_abbb_4889e7f3390erow4_col5\" class=\"data row4 col5\" >0</td>\n                        <td id=\"T_27d33f3e_8eb3_11ea_abbb_4889e7f3390erow4_col6\" class=\"data row4 col6\" >443</td>\n            </tr>\n            <tr>\n                                <td id=\"T_27d33f3e_8eb3_11ea_abbb_4889e7f3390erow5_col0\" class=\"data row5 col0\" >Standard DO</td>\n                        <td id=\"T_27d33f3e_8eb3_11ea_abbb_4889e7f3390erow5_col1\" class=\"data row5 col1\" >2.5</td>\n                        <td id=\"T_27d33f3e_8eb3_11ea_abbb_4889e7f3390erow5_col2\" class=\"data row5 col2\" >0.86</td>\n                        <td id=\"T_27d33f3e_8eb3_11ea_abbb_4889e7f3390erow5_col3\" class=\"data row5 col3\" >0.67</td>\n                        <td id=\"T_27d33f3e_8eb3_11ea_abbb_4889e7f3390erow5_col4\" class=\"data row5 col4\" >0.41</td>\n                        <td id=\"T_27d33f3e_8eb3_11ea_abbb_4889e7f3390erow5_col5\" class=\"data row5 col5\" >0.72</td>\n                        <td id=\"T_27d33f3e_8eb3_11ea_abbb_4889e7f3390erow5_col6\" class=\"data row5 col6\" >355</td>\n            </tr>\n            <tr>\n                                <td id=\"T_27d33f3e_8eb3_11ea_abbb_4889e7f3390erow6_col0\" class=\"data row6 col0\" >Standard KD</td>\n                        <td id=\"T_27d33f3e_8eb3_11ea_abbb_4889e7f3390erow6_col1\" class=\"data row6 col1\" >43.2</td>\n                        <td id=\"T_27d33f3e_8eb3_11ea_abbb_4889e7f3390erow6_col2\" class=\"data row6 col2\" >0.59</td>\n                        <td id=\"T_27d33f3e_8eb3_11ea_abbb_4889e7f3390erow6_col3\" class=\"data row6 col3\" >0.05</td>\n                        <td id=\"T_27d33f3e_8eb3_11ea_abbb_4889e7f3390erow6_col4\" class=\"data row6 col4\" >0.58</td>\n                        <td id=\"T_27d33f3e_8eb3_11ea_abbb_4889e7f3390erow6_col5\" class=\"data row6 col5\" >0.45</td>\n                        <td id=\"T_27d33f3e_8eb3_11ea_abbb_4889e7f3390erow6_col6\" class=\"data row6 col6\" >119</td>\n            </tr>\n            <tr>\n                                <td id=\"T_27d33f3e_8eb3_11ea_abbb_4889e7f3390erow7_col0\" class=\"data row7 col0\" >Summer Observations CH</td>\n                        <td id=\"T_27d33f3e_8eb3_11ea_abbb_4889e7f3390erow7_col1\" class=\"data row7 col1\" >23</td>\n                        <td id=\"T_27d33f3e_8eb3_11ea_abbb_4889e7f3390erow7_col2\" class=\"data row7 col2\" >-0.05</td>\n                        <td id=\"T_27d33f3e_8eb3_11ea_abbb_4889e7f3390erow7_col3\" class=\"data row7 col3\" >-2.05</td>\n                        <td id=\"T_27d33f3e_8eb3_11ea_abbb_4889e7f3390erow7_col4\" class=\"data row7 col4\" >1.32</td>\n                        <td id=\"T_27d33f3e_8eb3_11ea_abbb_4889e7f3390erow7_col5\" class=\"data row7 col5\" >0.01</td>\n                        <td id=\"T_27d33f3e_8eb3_11ea_abbb_4889e7f3390erow7_col6\" class=\"data row7 col6\" >218</td>\n            </tr>\n            <tr>\n                                <td id=\"T_27d33f3e_8eb3_11ea_abbb_4889e7f3390erow8_col0\" class=\"data row8 col0\" >Summer Observations KD</td>\n                        <td id=\"T_27d33f3e_8eb3_11ea_abbb_4889e7f3390erow8_col1\" class=\"data row8 col1\" >38.8</td>\n                        <td id=\"T_27d33f3e_8eb3_11ea_abbb_4889e7f3390erow8_col2\" class=\"data row8 col2\" >0.28</td>\n                        <td id=\"T_27d33f3e_8eb3_11ea_abbb_4889e7f3390erow8_col3\" class=\"data row8 col3\" >-0.21</td>\n                        <td id=\"T_27d33f3e_8eb3_11ea_abbb_4889e7f3390erow8_col4\" class=\"data row8 col4\" >0.75</td>\n                        <td id=\"T_27d33f3e_8eb3_11ea_abbb_4889e7f3390erow8_col5\" class=\"data row8 col5\" >0.19</td>\n                        <td id=\"T_27d33f3e_8eb3_11ea_abbb_4889e7f3390erow8_col6\" class=\"data row8 col6\" >81</td>\n            </tr>\n            <tr>\n                                <td id=\"T_27d33f3e_8eb3_11ea_abbb_4889e7f3390erow9_col0\" class=\"data row9 col0\" >Winter Observations PO4</td>\n                        <td id=\"T_27d33f3e_8eb3_11ea_abbb_4889e7f3390erow9_col1\" class=\"data row9 col1\" >35.8</td>\n                        <td id=\"T_27d33f3e_8eb3_11ea_abbb_4889e7f3390erow9_col2\" class=\"data row9 col2\" >-0.04</td>\n                        <td id=\"T_27d33f3e_8eb3_11ea_abbb_4889e7f3390erow9_col3\" class=\"data row9 col3\" >-3.51</td>\n                        <td id=\"T_27d33f3e_8eb3_11ea_abbb_4889e7f3390erow9_col4\" class=\"data row9 col4\" >1.64</td>\n                        <td id=\"T_27d33f3e_8eb3_11ea_abbb_4889e7f3390erow9_col5\" class=\"data row9 col5\" >0</td>\n                        <td id=\"T_27d33f3e_8eb3_11ea_abbb_4889e7f3390erow9_col6\" class=\"data row9 col6\" >70</td>\n            </tr>\n            <tr>\n                                <td id=\"T_27d33f3e_8eb3_11ea_abbb_4889e7f3390erow10_col0\" class=\"data row10 col0\" >Winter Observations DIN</td>\n                        <td id=\"T_27d33f3e_8eb3_11ea_abbb_4889e7f3390erow10_col1\" class=\"data row10 col1\" >29.6</td>\n                        <td id=\"T_27d33f3e_8eb3_11ea_abbb_4889e7f3390erow10_col2\" class=\"data row10 col2\" >0.72</td>\n                        <td id=\"T_27d33f3e_8eb3_11ea_abbb_4889e7f3390erow10_col3\" class=\"data row10 col3\" >-0.83</td>\n                        <td id=\"T_27d33f3e_8eb3_11ea_abbb_4889e7f3390erow10_col4\" class=\"data row10 col4\" >1.08</td>\n                        <td id=\"T_27d33f3e_8eb3_11ea_abbb_4889e7f3390erow10_col5\" class=\"data row10 col5\" >0.5</td>\n                        <td id=\"T_27d33f3e_8eb3_11ea_abbb_4889e7f3390erow10_col6\" class=\"data row10 col6\" >70</td>\n            </tr>\n    </tbody></table>",
          "text/plain": "<pandas.io.formats.style.Styler at 0x1f250940ba8>"
         },
         "metadata": {},
         "output_type": "display_data"
        }
       ]
      }
     },
     "6a86191bc159468cbeabf732cf4d57de": {
      "model_module": "@jupyter-widgets/base",
      "model_module_version": "1.2.0",
      "model_name": "LayoutModel",
      "state": {}
     },
     "6b3afd32b1d24f09858d683ddcb78e97": {
      "model_module": "@jupyter-widgets/controls",
      "model_module_version": "1.5.0",
      "model_name": "DescriptionStyleModel",
      "state": {
       "description_width": ""
      }
     },
     "6ce72518dcf644a1978206e6b4cde020": {
      "model_module": "@jupyter-widgets/controls",
      "model_module_version": "1.5.0",
      "model_name": "DropdownModel",
      "state": {
       "_options_labels": [
        "RKB1",
        "RKB10"
       ],
       "description": "Station",
       "index": 1,
       "layout": "IPY_MODEL_f3fc3e3aff8e4fb2b3d6179f533b5aa2",
       "style": "IPY_MODEL_2b9ef95e87914b12b13c7701226d2db6"
      }
     },
     "6dfea8f5e1e649dc8a8c9b080414ab7d": {
      "model_module": "@jupyter-widgets/base",
      "model_module_version": "1.2.0",
      "model_name": "LayoutModel",
      "state": {}
     },
     "6ebcfc866d064d23b5801d11a5f175dd": {
      "model_module": "@jupyter-widgets/base",
      "model_module_version": "1.2.0",
      "model_name": "LayoutModel",
      "state": {}
     },
     "6fd3ef2c332c45b18e9b6f061f471409": {
      "model_module": "@jupyter-widgets/base",
      "model_module_version": "1.2.0",
      "model_name": "LayoutModel",
      "state": {}
     },
     "7201afeab37c4170be3760989a162869": {
      "model_module": "@jupyter-widgets/controls",
      "model_module_version": "1.5.0",
      "model_name": "DropdownModel",
      "state": {
       "_options_labels": [
        "RKB1",
        "RKB10"
       ],
       "description": "station",
       "index": 0,
       "layout": "IPY_MODEL_032bb0899209422d833f2fc376d9222b",
       "style": "IPY_MODEL_8617741b60024b6f9872a81fdceb753f"
      }
     },
     "723ac0c3ff3e41ea922df5b4fc2d23eb": {
      "model_module": "@jupyter-widgets/base",
      "model_module_version": "1.2.0",
      "model_name": "LayoutModel",
      "state": {}
     },
     "72c33b3fb2e44ce89a1cd6156d19fc89": {
      "model_module": "@jupyter-widgets/controls",
      "model_module_version": "1.5.0",
      "model_name": "DescriptionStyleModel",
      "state": {
       "description_width": ""
      }
     },
     "72d58fbcb6dd4406b7041ad43dc5035e": {
      "model_module": "@jupyter-widgets/output",
      "model_module_version": "1.0.0",
      "model_name": "OutputModel",
      "state": {
       "layout": "IPY_MODEL_c5eef57221304b8c8adccf4380abc77c",
       "outputs": [
        {
         "data": {
          "text/html": "<style  type=\"text/css\" >\n</style><table id=\"T_cd0d3f54_8eaf_11ea_9265_4889e7f3390e\" ><thead>    <tr>        <th class=\"col_heading level0 col0\" >Measurement</th>        <th class=\"col_heading level0 col1\" >Percent_Bias</th>        <th class=\"col_heading level0 col2\" >Spearman_Rank_Correlation</th>        <th class=\"col_heading level0 col3\" >Efficiency_Factor</th>        <th class=\"col_heading level0 col4\" >Cost_Function</th>        <th class=\"col_heading level0 col5\" >R2</th>        <th class=\"col_heading level0 col6\" >Total_Number_Of_Observations_1</th>    </tr></thead><tbody>\n                <tr>\n                                <td id=\"T_cd0d3f54_8eaf_11ea_9265_4889e7f3390erow0_col0\" class=\"data row0 col0\" >Standard TN</td>\n                        <td id=\"T_cd0d3f54_8eaf_11ea_9265_4889e7f3390erow0_col1\" class=\"data row0 col1\" >42.2</td>\n                        <td id=\"T_cd0d3f54_8eaf_11ea_9265_4889e7f3390erow0_col2\" class=\"data row0 col2\" >0.85</td>\n                        <td id=\"T_cd0d3f54_8eaf_11ea_9265_4889e7f3390erow0_col3\" class=\"data row0 col3\" >0.23</td>\n                        <td id=\"T_cd0d3f54_8eaf_11ea_9265_4889e7f3390erow0_col4\" class=\"data row0 col4\" >0.71</td>\n                        <td id=\"T_cd0d3f54_8eaf_11ea_9265_4889e7f3390erow0_col5\" class=\"data row0 col5\" >0.78</td>\n                        <td id=\"T_cd0d3f54_8eaf_11ea_9265_4889e7f3390erow0_col6\" class=\"data row0 col6\" >441</td>\n            </tr>\n            <tr>\n                                <td id=\"T_cd0d3f54_8eaf_11ea_9265_4889e7f3390erow1_col0\" class=\"data row1 col0\" >Standard TP</td>\n                        <td id=\"T_cd0d3f54_8eaf_11ea_9265_4889e7f3390erow1_col1\" class=\"data row1 col1\" >12.7</td>\n                        <td id=\"T_cd0d3f54_8eaf_11ea_9265_4889e7f3390erow1_col2\" class=\"data row1 col2\" >0.45</td>\n                        <td id=\"T_cd0d3f54_8eaf_11ea_9265_4889e7f3390erow1_col3\" class=\"data row1 col3\" >-0.35</td>\n                        <td id=\"T_cd0d3f54_8eaf_11ea_9265_4889e7f3390erow1_col4\" class=\"data row1 col4\" >0.8</td>\n                        <td id=\"T_cd0d3f54_8eaf_11ea_9265_4889e7f3390erow1_col5\" class=\"data row1 col5\" >0.18</td>\n                        <td id=\"T_cd0d3f54_8eaf_11ea_9265_4889e7f3390erow1_col6\" class=\"data row1 col6\" >443</td>\n            </tr>\n            <tr>\n                                <td id=\"T_cd0d3f54_8eaf_11ea_9265_4889e7f3390erow2_col0\" class=\"data row2 col0\" >Standard PO4</td>\n                        <td id=\"T_cd0d3f54_8eaf_11ea_9265_4889e7f3390erow2_col1\" class=\"data row2 col1\" >38.5</td>\n                        <td id=\"T_cd0d3f54_8eaf_11ea_9265_4889e7f3390erow2_col2\" class=\"data row2 col2\" >0.7</td>\n                        <td id=\"T_cd0d3f54_8eaf_11ea_9265_4889e7f3390erow2_col3\" class=\"data row2 col3\" >-0.84</td>\n                        <td id=\"T_cd0d3f54_8eaf_11ea_9265_4889e7f3390erow2_col4\" class=\"data row2 col4\" >0.89</td>\n                        <td id=\"T_cd0d3f54_8eaf_11ea_9265_4889e7f3390erow2_col5\" class=\"data row2 col5\" >0.44</td>\n                        <td id=\"T_cd0d3f54_8eaf_11ea_9265_4889e7f3390erow2_col6\" class=\"data row2 col6\" >442</td>\n            </tr>\n            <tr>\n                                <td id=\"T_cd0d3f54_8eaf_11ea_9265_4889e7f3390erow3_col0\" class=\"data row3 col0\" >Standard DIN</td>\n                        <td id=\"T_cd0d3f54_8eaf_11ea_9265_4889e7f3390erow3_col1\" class=\"data row3 col1\" >62.3</td>\n                        <td id=\"T_cd0d3f54_8eaf_11ea_9265_4889e7f3390erow3_col2\" class=\"data row3 col2\" >0.86</td>\n                        <td id=\"T_cd0d3f54_8eaf_11ea_9265_4889e7f3390erow3_col3\" class=\"data row3 col3\" >0.43</td>\n                        <td id=\"T_cd0d3f54_8eaf_11ea_9265_4889e7f3390erow3_col4\" class=\"data row3 col4\" >0.61</td>\n                        <td id=\"T_cd0d3f54_8eaf_11ea_9265_4889e7f3390erow3_col5\" class=\"data row3 col5\" >0.82</td>\n                        <td id=\"T_cd0d3f54_8eaf_11ea_9265_4889e7f3390erow3_col6\" class=\"data row3 col6\" >441</td>\n            </tr>\n            <tr>\n                                <td id=\"T_cd0d3f54_8eaf_11ea_9265_4889e7f3390erow4_col0\" class=\"data row4 col0\" >Standard CH</td>\n                        <td id=\"T_cd0d3f54_8eaf_11ea_9265_4889e7f3390erow4_col1\" class=\"data row4 col1\" >41.7</td>\n                        <td id=\"T_cd0d3f54_8eaf_11ea_9265_4889e7f3390erow4_col2\" class=\"data row4 col2\" >0.2</td>\n                        <td id=\"T_cd0d3f54_8eaf_11ea_9265_4889e7f3390erow4_col3\" class=\"data row4 col3\" >-1.81</td>\n                        <td id=\"T_cd0d3f54_8eaf_11ea_9265_4889e7f3390erow4_col4\" class=\"data row4 col4\" >1.28</td>\n                        <td id=\"T_cd0d3f54_8eaf_11ea_9265_4889e7f3390erow4_col5\" class=\"data row4 col5\" >0</td>\n                        <td id=\"T_cd0d3f54_8eaf_11ea_9265_4889e7f3390erow4_col6\" class=\"data row4 col6\" >443</td>\n            </tr>\n            <tr>\n                                <td id=\"T_cd0d3f54_8eaf_11ea_9265_4889e7f3390erow5_col0\" class=\"data row5 col0\" >Standard DO</td>\n                        <td id=\"T_cd0d3f54_8eaf_11ea_9265_4889e7f3390erow5_col1\" class=\"data row5 col1\" >2.5</td>\n                        <td id=\"T_cd0d3f54_8eaf_11ea_9265_4889e7f3390erow5_col2\" class=\"data row5 col2\" >0.86</td>\n                        <td id=\"T_cd0d3f54_8eaf_11ea_9265_4889e7f3390erow5_col3\" class=\"data row5 col3\" >0.67</td>\n                        <td id=\"T_cd0d3f54_8eaf_11ea_9265_4889e7f3390erow5_col4\" class=\"data row5 col4\" >0.41</td>\n                        <td id=\"T_cd0d3f54_8eaf_11ea_9265_4889e7f3390erow5_col5\" class=\"data row5 col5\" >0.72</td>\n                        <td id=\"T_cd0d3f54_8eaf_11ea_9265_4889e7f3390erow5_col6\" class=\"data row5 col6\" >355</td>\n            </tr>\n            <tr>\n                                <td id=\"T_cd0d3f54_8eaf_11ea_9265_4889e7f3390erow6_col0\" class=\"data row6 col0\" >Standard KD</td>\n                        <td id=\"T_cd0d3f54_8eaf_11ea_9265_4889e7f3390erow6_col1\" class=\"data row6 col1\" >43.2</td>\n                        <td id=\"T_cd0d3f54_8eaf_11ea_9265_4889e7f3390erow6_col2\" class=\"data row6 col2\" >0.59</td>\n                        <td id=\"T_cd0d3f54_8eaf_11ea_9265_4889e7f3390erow6_col3\" class=\"data row6 col3\" >0.05</td>\n                        <td id=\"T_cd0d3f54_8eaf_11ea_9265_4889e7f3390erow6_col4\" class=\"data row6 col4\" >0.58</td>\n                        <td id=\"T_cd0d3f54_8eaf_11ea_9265_4889e7f3390erow6_col5\" class=\"data row6 col5\" >0.45</td>\n                        <td id=\"T_cd0d3f54_8eaf_11ea_9265_4889e7f3390erow6_col6\" class=\"data row6 col6\" >119</td>\n            </tr>\n            <tr>\n                                <td id=\"T_cd0d3f54_8eaf_11ea_9265_4889e7f3390erow7_col0\" class=\"data row7 col0\" >Summer Observations CH</td>\n                        <td id=\"T_cd0d3f54_8eaf_11ea_9265_4889e7f3390erow7_col1\" class=\"data row7 col1\" >23</td>\n                        <td id=\"T_cd0d3f54_8eaf_11ea_9265_4889e7f3390erow7_col2\" class=\"data row7 col2\" >-0.05</td>\n                        <td id=\"T_cd0d3f54_8eaf_11ea_9265_4889e7f3390erow7_col3\" class=\"data row7 col3\" >-2.05</td>\n                        <td id=\"T_cd0d3f54_8eaf_11ea_9265_4889e7f3390erow7_col4\" class=\"data row7 col4\" >1.32</td>\n                        <td id=\"T_cd0d3f54_8eaf_11ea_9265_4889e7f3390erow7_col5\" class=\"data row7 col5\" >0.01</td>\n                        <td id=\"T_cd0d3f54_8eaf_11ea_9265_4889e7f3390erow7_col6\" class=\"data row7 col6\" >218</td>\n            </tr>\n            <tr>\n                                <td id=\"T_cd0d3f54_8eaf_11ea_9265_4889e7f3390erow8_col0\" class=\"data row8 col0\" >Summer Observations KD</td>\n                        <td id=\"T_cd0d3f54_8eaf_11ea_9265_4889e7f3390erow8_col1\" class=\"data row8 col1\" >38.8</td>\n                        <td id=\"T_cd0d3f54_8eaf_11ea_9265_4889e7f3390erow8_col2\" class=\"data row8 col2\" >0.28</td>\n                        <td id=\"T_cd0d3f54_8eaf_11ea_9265_4889e7f3390erow8_col3\" class=\"data row8 col3\" >-0.21</td>\n                        <td id=\"T_cd0d3f54_8eaf_11ea_9265_4889e7f3390erow8_col4\" class=\"data row8 col4\" >0.75</td>\n                        <td id=\"T_cd0d3f54_8eaf_11ea_9265_4889e7f3390erow8_col5\" class=\"data row8 col5\" >0.19</td>\n                        <td id=\"T_cd0d3f54_8eaf_11ea_9265_4889e7f3390erow8_col6\" class=\"data row8 col6\" >81</td>\n            </tr>\n            <tr>\n                                <td id=\"T_cd0d3f54_8eaf_11ea_9265_4889e7f3390erow9_col0\" class=\"data row9 col0\" >Winter Observations PO4</td>\n                        <td id=\"T_cd0d3f54_8eaf_11ea_9265_4889e7f3390erow9_col1\" class=\"data row9 col1\" >35.8</td>\n                        <td id=\"T_cd0d3f54_8eaf_11ea_9265_4889e7f3390erow9_col2\" class=\"data row9 col2\" >-0.04</td>\n                        <td id=\"T_cd0d3f54_8eaf_11ea_9265_4889e7f3390erow9_col3\" class=\"data row9 col3\" >-3.51</td>\n                        <td id=\"T_cd0d3f54_8eaf_11ea_9265_4889e7f3390erow9_col4\" class=\"data row9 col4\" >1.64</td>\n                        <td id=\"T_cd0d3f54_8eaf_11ea_9265_4889e7f3390erow9_col5\" class=\"data row9 col5\" >0</td>\n                        <td id=\"T_cd0d3f54_8eaf_11ea_9265_4889e7f3390erow9_col6\" class=\"data row9 col6\" >70</td>\n            </tr>\n            <tr>\n                                <td id=\"T_cd0d3f54_8eaf_11ea_9265_4889e7f3390erow10_col0\" class=\"data row10 col0\" >Winter Observations DIN</td>\n                        <td id=\"T_cd0d3f54_8eaf_11ea_9265_4889e7f3390erow10_col1\" class=\"data row10 col1\" >29.6</td>\n                        <td id=\"T_cd0d3f54_8eaf_11ea_9265_4889e7f3390erow10_col2\" class=\"data row10 col2\" >0.72</td>\n                        <td id=\"T_cd0d3f54_8eaf_11ea_9265_4889e7f3390erow10_col3\" class=\"data row10 col3\" >-0.83</td>\n                        <td id=\"T_cd0d3f54_8eaf_11ea_9265_4889e7f3390erow10_col4\" class=\"data row10 col4\" >1.08</td>\n                        <td id=\"T_cd0d3f54_8eaf_11ea_9265_4889e7f3390erow10_col5\" class=\"data row10 col5\" >0.5</td>\n                        <td id=\"T_cd0d3f54_8eaf_11ea_9265_4889e7f3390erow10_col6\" class=\"data row10 col6\" >70</td>\n            </tr>\n    </tbody></table>",
          "text/plain": "<pandas.io.formats.style.Styler at 0x2c23cfe65f8>"
         },
         "metadata": {},
         "output_type": "display_data"
        }
       ]
      }
     },
     "738c431469d04b7296d49b5a41d8e12d": {
      "model_module": "@jupyter-widgets/base",
      "model_module_version": "1.2.0",
      "model_name": "LayoutModel",
      "state": {}
     },
     "73994694040d4d6e830c55479100b913": {
      "model_module": "@jupyter-widgets/controls",
      "model_module_version": "1.5.0",
      "model_name": "SliderStyleModel",
      "state": {
       "description_width": ""
      }
     },
     "74c68ed35cac4139aef84b6aa288b73e": {
      "model_module": "@jupyter-widgets/controls",
      "model_module_version": "1.5.0",
      "model_name": "VBoxModel",
      "state": {
       "_dom_classes": [
        "widget-interact"
       ],
       "children": [
        "IPY_MODEL_f06c7d0d84004d249f79086a0b733bdc",
        "IPY_MODEL_72d58fbcb6dd4406b7041ad43dc5035e"
       ],
       "layout": "IPY_MODEL_3d3a834856e7428ab53f72ebe04b7047"
      }
     },
     "7683bafafeb04890b255cd7791bd4215": {
      "model_module": "@jupyter-widgets/base",
      "model_module_version": "1.2.0",
      "model_name": "LayoutModel",
      "state": {}
     },
     "76fad24c9f29416fa4aec7e1227c1421": {
      "model_module": "@jupyter-widgets/controls",
      "model_module_version": "1.5.0",
      "model_name": "DescriptionStyleModel",
      "state": {
       "description_width": ""
      }
     },
     "782d9160de194070a7482b18df099694": {
      "model_module": "@jupyter-widgets/controls",
      "model_module_version": "1.5.0",
      "model_name": "VBoxModel",
      "state": {
       "_dom_classes": [
        "widget-interact"
       ],
       "children": [
        "IPY_MODEL_7201afeab37c4170be3760989a162869",
        "IPY_MODEL_e060f17e5a4b43cd80827b227c9b0cca"
       ],
       "layout": "IPY_MODEL_a3ac6553ffdd4e298d10ca2cc4fced20"
      }
     },
     "7a8d97c3bddf4bb8a14a3e23545c1df8": {
      "model_module": "@jupyter-widgets/base",
      "model_module_version": "1.2.0",
      "model_name": "LayoutModel",
      "state": {}
     },
     "7b66eaa8d56e4dc78aa38574509abc5d": {
      "model_module": "@jupyter-widgets/controls",
      "model_module_version": "1.5.0",
      "model_name": "DescriptionStyleModel",
      "state": {
       "description_width": ""
      }
     },
     "7bac6c65dca542a493a1bea968bc50fc": {
      "model_module": "@jupyter-widgets/controls",
      "model_module_version": "1.5.0",
      "model_name": "VBoxModel",
      "state": {
       "_dom_classes": [
        "widget-interact"
       ],
       "children": [
        "IPY_MODEL_11bddf8d1e04409d9a64741e27ea7b09",
        "IPY_MODEL_543174117e794222905486cf41b12961"
       ],
       "layout": "IPY_MODEL_21e9738c632a48d1b9f6818dfb022a51"
      }
     },
     "7c033c6704304cb9a15815547a848197": {
      "model_module": "@jupyter-widgets/output",
      "model_module_version": "1.0.0",
      "model_name": "OutputModel",
      "state": {
       "layout": "IPY_MODEL_738c431469d04b7296d49b5a41d8e12d",
       "outputs": [
        {
         "data": {
          "text/html": "<style  type=\"text/css\" >\n</style><table id=\"T_60901fb8_8eb2_11ea_a6e6_4889e7f3390e\" ><thead>    <tr>        <th class=\"col_heading level0 col0\" >Measurement</th>        <th class=\"col_heading level0 col1\" >Percent_Bias</th>        <th class=\"col_heading level0 col2\" >Spearman_Rank_Correlation</th>        <th class=\"col_heading level0 col3\" >Efficiency_Factor</th>        <th class=\"col_heading level0 col4\" >Cost_Function</th>        <th class=\"col_heading level0 col5\" >R2</th>        <th class=\"col_heading level0 col6\" >Total_Number_Of_Observations_1</th>    </tr></thead><tbody>\n                <tr>\n                                <td id=\"T_60901fb8_8eb2_11ea_a6e6_4889e7f3390erow0_col0\" class=\"data row0 col0\" >Standard TN</td>\n                        <td id=\"T_60901fb8_8eb2_11ea_a6e6_4889e7f3390erow0_col1\" class=\"data row0 col1\" >42.2</td>\n                        <td id=\"T_60901fb8_8eb2_11ea_a6e6_4889e7f3390erow0_col2\" class=\"data row0 col2\" >0.85</td>\n                        <td id=\"T_60901fb8_8eb2_11ea_a6e6_4889e7f3390erow0_col3\" class=\"data row0 col3\" >0.23</td>\n                        <td id=\"T_60901fb8_8eb2_11ea_a6e6_4889e7f3390erow0_col4\" class=\"data row0 col4\" >0.71</td>\n                        <td id=\"T_60901fb8_8eb2_11ea_a6e6_4889e7f3390erow0_col5\" class=\"data row0 col5\" >0.78</td>\n                        <td id=\"T_60901fb8_8eb2_11ea_a6e6_4889e7f3390erow0_col6\" class=\"data row0 col6\" >441</td>\n            </tr>\n            <tr>\n                                <td id=\"T_60901fb8_8eb2_11ea_a6e6_4889e7f3390erow1_col0\" class=\"data row1 col0\" >Standard TP</td>\n                        <td id=\"T_60901fb8_8eb2_11ea_a6e6_4889e7f3390erow1_col1\" class=\"data row1 col1\" >12.7</td>\n                        <td id=\"T_60901fb8_8eb2_11ea_a6e6_4889e7f3390erow1_col2\" class=\"data row1 col2\" >0.45</td>\n                        <td id=\"T_60901fb8_8eb2_11ea_a6e6_4889e7f3390erow1_col3\" class=\"data row1 col3\" >-0.35</td>\n                        <td id=\"T_60901fb8_8eb2_11ea_a6e6_4889e7f3390erow1_col4\" class=\"data row1 col4\" >0.8</td>\n                        <td id=\"T_60901fb8_8eb2_11ea_a6e6_4889e7f3390erow1_col5\" class=\"data row1 col5\" >0.18</td>\n                        <td id=\"T_60901fb8_8eb2_11ea_a6e6_4889e7f3390erow1_col6\" class=\"data row1 col6\" >443</td>\n            </tr>\n            <tr>\n                                <td id=\"T_60901fb8_8eb2_11ea_a6e6_4889e7f3390erow2_col0\" class=\"data row2 col0\" >Standard PO4</td>\n                        <td id=\"T_60901fb8_8eb2_11ea_a6e6_4889e7f3390erow2_col1\" class=\"data row2 col1\" >38.5</td>\n                        <td id=\"T_60901fb8_8eb2_11ea_a6e6_4889e7f3390erow2_col2\" class=\"data row2 col2\" >0.7</td>\n                        <td id=\"T_60901fb8_8eb2_11ea_a6e6_4889e7f3390erow2_col3\" class=\"data row2 col3\" >-0.84</td>\n                        <td id=\"T_60901fb8_8eb2_11ea_a6e6_4889e7f3390erow2_col4\" class=\"data row2 col4\" >0.89</td>\n                        <td id=\"T_60901fb8_8eb2_11ea_a6e6_4889e7f3390erow2_col5\" class=\"data row2 col5\" >0.44</td>\n                        <td id=\"T_60901fb8_8eb2_11ea_a6e6_4889e7f3390erow2_col6\" class=\"data row2 col6\" >442</td>\n            </tr>\n            <tr>\n                                <td id=\"T_60901fb8_8eb2_11ea_a6e6_4889e7f3390erow3_col0\" class=\"data row3 col0\" >Standard DIN</td>\n                        <td id=\"T_60901fb8_8eb2_11ea_a6e6_4889e7f3390erow3_col1\" class=\"data row3 col1\" >62.3</td>\n                        <td id=\"T_60901fb8_8eb2_11ea_a6e6_4889e7f3390erow3_col2\" class=\"data row3 col2\" >0.86</td>\n                        <td id=\"T_60901fb8_8eb2_11ea_a6e6_4889e7f3390erow3_col3\" class=\"data row3 col3\" >0.43</td>\n                        <td id=\"T_60901fb8_8eb2_11ea_a6e6_4889e7f3390erow3_col4\" class=\"data row3 col4\" >0.61</td>\n                        <td id=\"T_60901fb8_8eb2_11ea_a6e6_4889e7f3390erow3_col5\" class=\"data row3 col5\" >0.82</td>\n                        <td id=\"T_60901fb8_8eb2_11ea_a6e6_4889e7f3390erow3_col6\" class=\"data row3 col6\" >441</td>\n            </tr>\n            <tr>\n                                <td id=\"T_60901fb8_8eb2_11ea_a6e6_4889e7f3390erow4_col0\" class=\"data row4 col0\" >Standard CH</td>\n                        <td id=\"T_60901fb8_8eb2_11ea_a6e6_4889e7f3390erow4_col1\" class=\"data row4 col1\" >41.7</td>\n                        <td id=\"T_60901fb8_8eb2_11ea_a6e6_4889e7f3390erow4_col2\" class=\"data row4 col2\" >0.2</td>\n                        <td id=\"T_60901fb8_8eb2_11ea_a6e6_4889e7f3390erow4_col3\" class=\"data row4 col3\" >-1.81</td>\n                        <td id=\"T_60901fb8_8eb2_11ea_a6e6_4889e7f3390erow4_col4\" class=\"data row4 col4\" >1.28</td>\n                        <td id=\"T_60901fb8_8eb2_11ea_a6e6_4889e7f3390erow4_col5\" class=\"data row4 col5\" >0</td>\n                        <td id=\"T_60901fb8_8eb2_11ea_a6e6_4889e7f3390erow4_col6\" class=\"data row4 col6\" >443</td>\n            </tr>\n            <tr>\n                                <td id=\"T_60901fb8_8eb2_11ea_a6e6_4889e7f3390erow5_col0\" class=\"data row5 col0\" >Standard DO</td>\n                        <td id=\"T_60901fb8_8eb2_11ea_a6e6_4889e7f3390erow5_col1\" class=\"data row5 col1\" >2.5</td>\n                        <td id=\"T_60901fb8_8eb2_11ea_a6e6_4889e7f3390erow5_col2\" class=\"data row5 col2\" >0.86</td>\n                        <td id=\"T_60901fb8_8eb2_11ea_a6e6_4889e7f3390erow5_col3\" class=\"data row5 col3\" >0.67</td>\n                        <td id=\"T_60901fb8_8eb2_11ea_a6e6_4889e7f3390erow5_col4\" class=\"data row5 col4\" >0.41</td>\n                        <td id=\"T_60901fb8_8eb2_11ea_a6e6_4889e7f3390erow5_col5\" class=\"data row5 col5\" >0.72</td>\n                        <td id=\"T_60901fb8_8eb2_11ea_a6e6_4889e7f3390erow5_col6\" class=\"data row5 col6\" >355</td>\n            </tr>\n            <tr>\n                                <td id=\"T_60901fb8_8eb2_11ea_a6e6_4889e7f3390erow6_col0\" class=\"data row6 col0\" >Standard KD</td>\n                        <td id=\"T_60901fb8_8eb2_11ea_a6e6_4889e7f3390erow6_col1\" class=\"data row6 col1\" >43.2</td>\n                        <td id=\"T_60901fb8_8eb2_11ea_a6e6_4889e7f3390erow6_col2\" class=\"data row6 col2\" >0.59</td>\n                        <td id=\"T_60901fb8_8eb2_11ea_a6e6_4889e7f3390erow6_col3\" class=\"data row6 col3\" >0.05</td>\n                        <td id=\"T_60901fb8_8eb2_11ea_a6e6_4889e7f3390erow6_col4\" class=\"data row6 col4\" >0.58</td>\n                        <td id=\"T_60901fb8_8eb2_11ea_a6e6_4889e7f3390erow6_col5\" class=\"data row6 col5\" >0.45</td>\n                        <td id=\"T_60901fb8_8eb2_11ea_a6e6_4889e7f3390erow6_col6\" class=\"data row6 col6\" >119</td>\n            </tr>\n            <tr>\n                                <td id=\"T_60901fb8_8eb2_11ea_a6e6_4889e7f3390erow7_col0\" class=\"data row7 col0\" >Summer Observations CH</td>\n                        <td id=\"T_60901fb8_8eb2_11ea_a6e6_4889e7f3390erow7_col1\" class=\"data row7 col1\" >23</td>\n                        <td id=\"T_60901fb8_8eb2_11ea_a6e6_4889e7f3390erow7_col2\" class=\"data row7 col2\" >-0.05</td>\n                        <td id=\"T_60901fb8_8eb2_11ea_a6e6_4889e7f3390erow7_col3\" class=\"data row7 col3\" >-2.05</td>\n                        <td id=\"T_60901fb8_8eb2_11ea_a6e6_4889e7f3390erow7_col4\" class=\"data row7 col4\" >1.32</td>\n                        <td id=\"T_60901fb8_8eb2_11ea_a6e6_4889e7f3390erow7_col5\" class=\"data row7 col5\" >0.01</td>\n                        <td id=\"T_60901fb8_8eb2_11ea_a6e6_4889e7f3390erow7_col6\" class=\"data row7 col6\" >218</td>\n            </tr>\n            <tr>\n                                <td id=\"T_60901fb8_8eb2_11ea_a6e6_4889e7f3390erow8_col0\" class=\"data row8 col0\" >Summer Observations KD</td>\n                        <td id=\"T_60901fb8_8eb2_11ea_a6e6_4889e7f3390erow8_col1\" class=\"data row8 col1\" >38.8</td>\n                        <td id=\"T_60901fb8_8eb2_11ea_a6e6_4889e7f3390erow8_col2\" class=\"data row8 col2\" >0.28</td>\n                        <td id=\"T_60901fb8_8eb2_11ea_a6e6_4889e7f3390erow8_col3\" class=\"data row8 col3\" >-0.21</td>\n                        <td id=\"T_60901fb8_8eb2_11ea_a6e6_4889e7f3390erow8_col4\" class=\"data row8 col4\" >0.75</td>\n                        <td id=\"T_60901fb8_8eb2_11ea_a6e6_4889e7f3390erow8_col5\" class=\"data row8 col5\" >0.19</td>\n                        <td id=\"T_60901fb8_8eb2_11ea_a6e6_4889e7f3390erow8_col6\" class=\"data row8 col6\" >81</td>\n            </tr>\n            <tr>\n                                <td id=\"T_60901fb8_8eb2_11ea_a6e6_4889e7f3390erow9_col0\" class=\"data row9 col0\" >Winter Observations PO4</td>\n                        <td id=\"T_60901fb8_8eb2_11ea_a6e6_4889e7f3390erow9_col1\" class=\"data row9 col1\" >35.8</td>\n                        <td id=\"T_60901fb8_8eb2_11ea_a6e6_4889e7f3390erow9_col2\" class=\"data row9 col2\" >-0.04</td>\n                        <td id=\"T_60901fb8_8eb2_11ea_a6e6_4889e7f3390erow9_col3\" class=\"data row9 col3\" >-3.51</td>\n                        <td id=\"T_60901fb8_8eb2_11ea_a6e6_4889e7f3390erow9_col4\" class=\"data row9 col4\" >1.64</td>\n                        <td id=\"T_60901fb8_8eb2_11ea_a6e6_4889e7f3390erow9_col5\" class=\"data row9 col5\" >0</td>\n                        <td id=\"T_60901fb8_8eb2_11ea_a6e6_4889e7f3390erow9_col6\" class=\"data row9 col6\" >70</td>\n            </tr>\n            <tr>\n                                <td id=\"T_60901fb8_8eb2_11ea_a6e6_4889e7f3390erow10_col0\" class=\"data row10 col0\" >Winter Observations DIN</td>\n                        <td id=\"T_60901fb8_8eb2_11ea_a6e6_4889e7f3390erow10_col1\" class=\"data row10 col1\" >29.6</td>\n                        <td id=\"T_60901fb8_8eb2_11ea_a6e6_4889e7f3390erow10_col2\" class=\"data row10 col2\" >0.72</td>\n                        <td id=\"T_60901fb8_8eb2_11ea_a6e6_4889e7f3390erow10_col3\" class=\"data row10 col3\" >-0.83</td>\n                        <td id=\"T_60901fb8_8eb2_11ea_a6e6_4889e7f3390erow10_col4\" class=\"data row10 col4\" >1.08</td>\n                        <td id=\"T_60901fb8_8eb2_11ea_a6e6_4889e7f3390erow10_col5\" class=\"data row10 col5\" >0.5</td>\n                        <td id=\"T_60901fb8_8eb2_11ea_a6e6_4889e7f3390erow10_col6\" class=\"data row10 col6\" >70</td>\n            </tr>\n    </tbody></table>",
          "text/plain": "<pandas.io.formats.style.Styler at 0x1f250926a20>"
         },
         "metadata": {},
         "output_type": "display_data"
        }
       ]
      }
     },
     "7d589fee4ff94defa8503b6abb2fce54": {
      "model_module": "@jupyter-widgets/controls",
      "model_module_version": "1.5.0",
      "model_name": "DropdownModel",
      "state": {
       "_options_labels": [
        "('All Chlorophyll-a, CH',   Ave. Stat. Value Performance   Q measure Param\n0             26.8        Good  Ave_P_bias    CH\n1                0        Poor     Ave_SRC    CH\n2             -1.8        Poor     Ave_MEF    CH\n3              1.2        Good      Ave_CF    CH\n4                0        Poor      Ave_R2    CH)",
        "('Annual Chlorophyll-a, CH',)",
        "('Annual dissolved oxygen, DO', <pandas.io.formats.style.Styler object at 0x000001F250C336D8>)",
        "('Annual dissolved nitrogen, DIN', <pandas.io.formats.style.Styler object at 0x000001F250C33710>)"
       ],
       "index": 0,
       "layout": "IPY_MODEL_9a6ef6b166bd4957901f02f93bd05d21",
       "style": "IPY_MODEL_852c971a6d0e42ec9edc133a898b5703"
      }
     },
     "7e28cd6ff1e3468e94b52ac07e843e1f": {
      "model_module": "@jupyter-widgets/controls",
      "model_module_version": "1.5.0",
      "model_name": "DescriptionStyleModel",
      "state": {
       "description_width": ""
      }
     },
     "7ef23e3028704a1f963ec2ac56698077": {
      "model_module": "@jupyter-widgets/controls",
      "model_module_version": "1.5.0",
      "model_name": "DescriptionStyleModel",
      "state": {
       "description_width": ""
      }
     },
     "7ff1ff411bf143b6b18f250cdd37c435": {
      "model_module": "@jupyter-widgets/controls",
      "model_module_version": "1.5.0",
      "model_name": "DropdownModel",
      "state": {
       "_options_labels": [
        "Percent_Bias",
        "Spearman_Rank_Correlation",
        "Efficiency_Factor",
        "Cost_Function",
        "R2"
       ],
       "description": "QMeasure",
       "index": 0,
       "layout": "IPY_MODEL_631a215ac2ff49388882cf8b50e75ce1",
       "style": "IPY_MODEL_15ab834e182a4477a40c2466f3f8fd2f"
      }
     },
     "8048df90bd2f4f5e975406234660f7c7": {
      "model_module": "@jupyter-widgets/controls",
      "model_module_version": "1.5.0",
      "model_name": "DescriptionStyleModel",
      "state": {
       "description_width": ""
      }
     },
     "805cfad9e2974d3b94b55b3c8a573cae": {
      "model_module": "@jupyter-widgets/base",
      "model_module_version": "1.2.0",
      "model_name": "LayoutModel",
      "state": {}
     },
     "806407f541494a5c810ed3614d44f108": {
      "model_module": "@jupyter-widgets/base",
      "model_module_version": "1.2.0",
      "model_name": "LayoutModel",
      "state": {}
     },
     "8195c9ac0b7e42f694de7f2fd27a5085": {
      "model_module": "@jupyter-widgets/controls",
      "model_module_version": "1.5.0",
      "model_name": "DropdownModel",
      "state": {
       "_options_labels": [
        "RKB1",
        "RKB10"
       ],
       "description": "x",
       "index": 1,
       "layout": "IPY_MODEL_3892e6fd225a4d3785321624bab9fc91",
       "style": "IPY_MODEL_72c33b3fb2e44ce89a1cd6156d19fc89"
      }
     },
     "8232d89b0a484d3b8ada75d1b87ab271": {
      "model_module": "@jupyter-widgets/base",
      "model_module_version": "1.2.0",
      "model_name": "LayoutModel",
      "state": {}
     },
     "8326aa53b63e4433a5a4a6fd1d97a17e": {
      "model_module": "@jupyter-widgets/base",
      "model_module_version": "1.2.0",
      "model_name": "LayoutModel",
      "state": {}
     },
     "832f6f84a76e400babc2153134de3eda": {
      "model_module": "@jupyter-widgets/controls",
      "model_module_version": "1.5.0",
      "model_name": "DescriptionStyleModel",
      "state": {
       "description_width": ""
      }
     },
     "83765c036f9d406a86b571b422ea1478": {
      "model_module": "@jupyter-widgets/output",
      "model_module_version": "1.0.0",
      "model_name": "OutputModel",
      "state": {
       "layout": "IPY_MODEL_fbe42a5877034b46a1b7b0b2da639569",
       "outputs": [
        {
         "data": {
          "text/html": "<div>\n<style scoped>\n    .dataframe tbody tr th:only-of-type {\n        vertical-align: middle;\n    }\n\n    .dataframe tbody tr th {\n        vertical-align: top;\n    }\n\n    .dataframe thead th {\n        text-align: right;\n    }\n</style>\n<table border=\"1\" class=\"dataframe\">\n  <thead>\n    <tr style=\"text-align: right;\">\n      <th></th>\n      <th>Standard TN</th>\n      <th>Standard TP</th>\n      <th>Standard PO4</th>\n      <th>Standard DIN</th>\n      <th>Standard CH</th>\n      <th>Standard DO</th>\n      <th>Standard KD</th>\n      <th>Summer Observations CH</th>\n      <th>Summer Observations KD</th>\n      <th>Winter Observations PO4</th>\n      <th>Winter Observations DIN</th>\n      <th>min. no. obs.</th>\n      <th>max. no. obs.</th>\n      <th>station</th>\n    </tr>\n  </thead>\n  <tbody>\n    <tr>\n      <th>0</th>\n      <td>39.12</td>\n      <td>29.53</td>\n      <td>41.46</td>\n      <td>51.79</td>\n      <td>32.91</td>\n      <td>3.33</td>\n      <td>41.77</td>\n      <td>9.53</td>\n      <td>36.14</td>\n      <td>56.66</td>\n      <td>22.77</td>\n      <td>104</td>\n      <td>618</td>\n      <td>RKB1</td>\n    </tr>\n    <tr>\n      <th>1</th>\n      <td>0.87</td>\n      <td>0.47</td>\n      <td>0.69</td>\n      <td>0.88</td>\n      <td>0.03</td>\n      <td>0.87</td>\n      <td>0.52</td>\n      <td>-0.05</td>\n      <td>0.29</td>\n      <td>-0.11</td>\n      <td>0.71</td>\n      <td>104</td>\n      <td>618</td>\n      <td>RKB1</td>\n    </tr>\n    <tr>\n      <th>2</th>\n      <td>0.41</td>\n      <td>0.03</td>\n      <td>-0.85</td>\n      <td>0.59</td>\n      <td>-1.42</td>\n      <td>0.63</td>\n      <td>0.00</td>\n      <td>-1.72</td>\n      <td>-0.11</td>\n      <td>-6.15</td>\n      <td>-0.31</td>\n      <td>104</td>\n      <td>618</td>\n      <td>RKB1</td>\n    </tr>\n    <tr>\n      <th>3</th>\n      <td>0.63</td>\n      <td>0.59</td>\n      <td>0.93</td>\n      <td>0.51</td>\n      <td>1.12</td>\n      <td>0.44</td>\n      <td>0.55</td>\n      <td>1.15</td>\n      <td>0.66</td>\n      <td>2.20</td>\n      <td>0.96</td>\n      <td>104</td>\n      <td>618</td>\n      <td>RKB1</td>\n    </tr>\n    <tr>\n      <th>4</th>\n      <td>0.82</td>\n      <td>0.16</td>\n      <td>0.42</td>\n      <td>0.84</td>\n      <td>0.00</td>\n      <td>0.73</td>\n      <td>0.24</td>\n      <td>0.01</td>\n      <td>0.15</td>\n      <td>0.00</td>\n      <td>0.53</td>\n      <td>104</td>\n      <td>618</td>\n      <td>RKB1</td>\n    </tr>\n    <tr>\n      <th>5</th>\n      <td>42.17</td>\n      <td>12.74</td>\n      <td>38.48</td>\n      <td>62.33</td>\n      <td>41.65</td>\n      <td>2.51</td>\n      <td>43.25</td>\n      <td>23.03</td>\n      <td>38.82</td>\n      <td>35.75</td>\n      <td>29.59</td>\n      <td>70</td>\n      <td>443</td>\n      <td>RKB10</td>\n    </tr>\n    <tr>\n      <th>6</th>\n      <td>0.85</td>\n      <td>0.45</td>\n      <td>0.70</td>\n      <td>0.86</td>\n      <td>0.20</td>\n      <td>0.86</td>\n      <td>0.59</td>\n      <td>-0.05</td>\n      <td>0.28</td>\n      <td>-0.04</td>\n      <td>0.72</td>\n      <td>70</td>\n      <td>443</td>\n      <td>RKB10</td>\n    </tr>\n    <tr>\n      <th>7</th>\n      <td>0.23</td>\n      <td>-0.35</td>\n      <td>-0.84</td>\n      <td>0.43</td>\n      <td>-1.81</td>\n      <td>0.67</td>\n      <td>0.05</td>\n      <td>-2.05</td>\n      <td>-0.21</td>\n      <td>-3.51</td>\n      <td>-0.83</td>\n      <td>70</td>\n      <td>443</td>\n      <td>RKB10</td>\n    </tr>\n    <tr>\n      <th>8</th>\n      <td>0.71</td>\n      <td>0.80</td>\n      <td>0.89</td>\n      <td>0.61</td>\n      <td>1.28</td>\n      <td>0.41</td>\n      <td>0.58</td>\n      <td>1.32</td>\n      <td>0.75</td>\n      <td>1.64</td>\n      <td>1.08</td>\n      <td>70</td>\n      <td>443</td>\n      <td>RKB10</td>\n    </tr>\n    <tr>\n      <th>9</th>\n      <td>0.78</td>\n      <td>0.18</td>\n      <td>0.44</td>\n      <td>0.82</td>\n      <td>0.00</td>\n      <td>0.72</td>\n      <td>0.45</td>\n      <td>0.01</td>\n      <td>0.19</td>\n      <td>0.00</td>\n      <td>0.50</td>\n      <td>70</td>\n      <td>443</td>\n      <td>RKB10</td>\n    </tr>\n  </tbody>\n</table>\n</div>",
          "text/plain": "   Standard TN  Standard TP  Standard PO4  Standard DIN  Standard CH  \\\n0        39.12        29.53         41.46         51.79        32.91   \n1         0.87         0.47          0.69          0.88         0.03   \n2         0.41         0.03         -0.85          0.59        -1.42   \n3         0.63         0.59          0.93          0.51         1.12   \n4         0.82         0.16          0.42          0.84         0.00   \n5        42.17        12.74         38.48         62.33        41.65   \n6         0.85         0.45          0.70          0.86         0.20   \n7         0.23        -0.35         -0.84          0.43        -1.81   \n8         0.71         0.80          0.89          0.61         1.28   \n9         0.78         0.18          0.44          0.82         0.00   \n\n   Standard DO  Standard KD  Summer Observations CH  Summer Observations KD  \\\n0         3.33        41.77                    9.53                   36.14   \n1         0.87         0.52                   -0.05                    0.29   \n2         0.63         0.00                   -1.72                   -0.11   \n3         0.44         0.55                    1.15                    0.66   \n4         0.73         0.24                    0.01                    0.15   \n5         2.51        43.25                   23.03                   38.82   \n6         0.86         0.59                   -0.05                    0.28   \n7         0.67         0.05                   -2.05                   -0.21   \n8         0.41         0.58                    1.32                    0.75   \n9         0.72         0.45                    0.01                    0.19   \n\n   Winter Observations PO4  Winter Observations DIN  min. no. obs.  \\\n0                    56.66                    22.77            104   \n1                    -0.11                     0.71            104   \n2                    -6.15                    -0.31            104   \n3                     2.20                     0.96            104   \n4                     0.00                     0.53            104   \n5                    35.75                    29.59             70   \n6                    -0.04                     0.72             70   \n7                    -3.51                    -0.83             70   \n8                     1.64                     1.08             70   \n9                     0.00                     0.50             70   \n\n   max. no. obs. station  \n0            618    RKB1  \n1            618    RKB1  \n2            618    RKB1  \n3            618    RKB1  \n4            618    RKB1  \n5            443   RKB10  \n6            443   RKB10  \n7            443   RKB10  \n8            443   RKB10  \n9            443   RKB10  "
         },
         "metadata": {},
         "output_type": "display_data"
        }
       ]
      }
     },
     "84b23e492dcc4a7895b44fb1bc0f0d18": {
      "model_module": "@jupyter-widgets/controls",
      "model_module_version": "1.5.0",
      "model_name": "DropdownModel",
      "state": {
       "_options_labels": [
        "CH",
        "DO",
        "KD",
        "DIN",
        "DIP",
        "TN",
        "TP"
       ],
       "description": "Parameter",
       "index": 0,
       "layout": "IPY_MODEL_18109add55454b3285d9306da1efdbfc",
       "style": "IPY_MODEL_a7336ff90df3457d90ba4a8a42b5f5a7"
      }
     },
     "84dc6826790d45239f2d20608ba1bb02": {
      "model_module": "@jupyter-widgets/controls",
      "model_module_version": "1.5.0",
      "model_name": "DescriptionStyleModel",
      "state": {
       "description_width": ""
      }
     },
     "852c971a6d0e42ec9edc133a898b5703": {
      "model_module": "@jupyter-widgets/controls",
      "model_module_version": "1.5.0",
      "model_name": "DescriptionStyleModel",
      "state": {
       "description_width": ""
      }
     },
     "857716b6ab73439bbb98c330fcb5b735": {
      "model_module": "@jupyter-widgets/controls",
      "model_module_version": "1.5.0",
      "model_name": "DropdownModel",
      "state": {
       "_options_labels": [
        "Percent_Bias",
        "Spearman_Rank_Correlation",
        "Efficiency_Factor",
        "Cost_Function",
        "R2"
       ],
       "index": 1,
       "layout": "IPY_MODEL_723ac0c3ff3e41ea922df5b4fc2d23eb",
       "style": "IPY_MODEL_9f8309f955d34e22a8b921eb27239599"
      }
     },
     "8617741b60024b6f9872a81fdceb753f": {
      "model_module": "@jupyter-widgets/controls",
      "model_module_version": "1.5.0",
      "model_name": "DescriptionStyleModel",
      "state": {
       "description_width": ""
      }
     },
     "86e1528589964fbf9972ec2fa56dfde3": {
      "model_module": "@jupyter-widgets/base",
      "model_module_version": "1.2.0",
      "model_name": "LayoutModel",
      "state": {}
     },
     "87a851f9c8ed4f50b1edc5e48ca58a8e": {
      "model_module": "@jupyter-widgets/base",
      "model_module_version": "1.2.0",
      "model_name": "LayoutModel",
      "state": {}
     },
     "8823984363a94c009414f561520d21af": {
      "model_module": "@jupyter-widgets/controls",
      "model_module_version": "1.5.0",
      "model_name": "DropdownModel",
      "state": {
       "_options_labels": [
        "Percent_Bias",
        "Spearman_Rank_Correlation",
        "Efficiency_Factor",
        "Cost_Function",
        "R2"
       ],
       "description": "QMeasure",
       "index": 0,
       "layout": "IPY_MODEL_a2b5131b633e4a2fa2e1a6db2a554377",
       "style": "IPY_MODEL_de3913e7561049149afe72e50d25c8b4"
      }
     },
     "8a950fac4120489e8689c65488969ec9": {
      "model_module": "@jupyter-widgets/base",
      "model_module_version": "1.2.0",
      "model_name": "LayoutModel",
      "state": {}
     },
     "8ca9181c717a49be9f1c5af474a54676": {
      "model_module": "@jupyter-widgets/base",
      "model_module_version": "1.2.0",
      "model_name": "LayoutModel",
      "state": {}
     },
     "8d4d852ab5e640a4975fbe3435a9af8f": {
      "model_module": "@jupyter-widgets/base",
      "model_module_version": "1.2.0",
      "model_name": "LayoutModel",
      "state": {}
     },
     "8ec5ff2f55d745bdadf9f5c5f4d6d209": {
      "model_module": "@jupyter-widgets/base",
      "model_module_version": "1.2.0",
      "model_name": "LayoutModel",
      "state": {}
     },
     "90f94d70d48b49748f3b788b8054e535": {
      "model_module": "@jupyter-widgets/base",
      "model_module_version": "1.2.0",
      "model_name": "LayoutModel",
      "state": {}
     },
     "914004ad6f9d4325bd4201e31b7e6f33": {
      "model_module": "@jupyter-widgets/output",
      "model_module_version": "1.0.0",
      "model_name": "OutputModel",
      "state": {
       "layout": "IPY_MODEL_09b8b43279a8463a86ec99b5a37137ef",
       "outputs": [
        {
         "data": {
          "text/html": "<style  type=\"text/css\" >\n</style><table id=\"T_8166b782_8eb0_11ea_8375_4889e7f3390e\" ><thead>    <tr>        <th class=\"col_heading level0 col0\" >Measurement</th>        <th class=\"col_heading level0 col1\" >Percent_Bias</th>        <th class=\"col_heading level0 col2\" >Spearman_Rank_Correlation</th>        <th class=\"col_heading level0 col3\" >Efficiency_Factor</th>        <th class=\"col_heading level0 col4\" >Cost_Function</th>        <th class=\"col_heading level0 col5\" >R2</th>        <th class=\"col_heading level0 col6\" >Total_Number_Of_Observations_1</th>    </tr></thead><tbody>\n                <tr>\n                                <td id=\"T_8166b782_8eb0_11ea_8375_4889e7f3390erow0_col0\" class=\"data row0 col0\" >Standard TN</td>\n                        <td id=\"T_8166b782_8eb0_11ea_8375_4889e7f3390erow0_col1\" class=\"data row0 col1\" >39.1</td>\n                        <td id=\"T_8166b782_8eb0_11ea_8375_4889e7f3390erow0_col2\" class=\"data row0 col2\" >0.87</td>\n                        <td id=\"T_8166b782_8eb0_11ea_8375_4889e7f3390erow0_col3\" class=\"data row0 col3\" >0.41</td>\n                        <td id=\"T_8166b782_8eb0_11ea_8375_4889e7f3390erow0_col4\" class=\"data row0 col4\" >0.63</td>\n                        <td id=\"T_8166b782_8eb0_11ea_8375_4889e7f3390erow0_col5\" class=\"data row0 col5\" >0.82</td>\n                        <td id=\"T_8166b782_8eb0_11ea_8375_4889e7f3390erow0_col6\" class=\"data row0 col6\" >609</td>\n            </tr>\n            <tr>\n                                <td id=\"T_8166b782_8eb0_11ea_8375_4889e7f3390erow1_col0\" class=\"data row1 col0\" >Standard TP</td>\n                        <td id=\"T_8166b782_8eb0_11ea_8375_4889e7f3390erow1_col1\" class=\"data row1 col1\" >29.5</td>\n                        <td id=\"T_8166b782_8eb0_11ea_8375_4889e7f3390erow1_col2\" class=\"data row1 col2\" >0.47</td>\n                        <td id=\"T_8166b782_8eb0_11ea_8375_4889e7f3390erow1_col3\" class=\"data row1 col3\" >0.03</td>\n                        <td id=\"T_8166b782_8eb0_11ea_8375_4889e7f3390erow1_col4\" class=\"data row1 col4\" >0.59</td>\n                        <td id=\"T_8166b782_8eb0_11ea_8375_4889e7f3390erow1_col5\" class=\"data row1 col5\" >0.16</td>\n                        <td id=\"T_8166b782_8eb0_11ea_8375_4889e7f3390erow1_col6\" class=\"data row1 col6\" >581</td>\n            </tr>\n            <tr>\n                                <td id=\"T_8166b782_8eb0_11ea_8375_4889e7f3390erow2_col0\" class=\"data row2 col0\" >Standard PO4</td>\n                        <td id=\"T_8166b782_8eb0_11ea_8375_4889e7f3390erow2_col1\" class=\"data row2 col1\" >41.5</td>\n                        <td id=\"T_8166b782_8eb0_11ea_8375_4889e7f3390erow2_col2\" class=\"data row2 col2\" >0.69</td>\n                        <td id=\"T_8166b782_8eb0_11ea_8375_4889e7f3390erow2_col3\" class=\"data row2 col3\" >-0.85</td>\n                        <td id=\"T_8166b782_8eb0_11ea_8375_4889e7f3390erow2_col4\" class=\"data row2 col4\" >0.93</td>\n                        <td id=\"T_8166b782_8eb0_11ea_8375_4889e7f3390erow2_col5\" class=\"data row2 col5\" >0.42</td>\n                        <td id=\"T_8166b782_8eb0_11ea_8375_4889e7f3390erow2_col6\" class=\"data row2 col6\" >608</td>\n            </tr>\n            <tr>\n                                <td id=\"T_8166b782_8eb0_11ea_8375_4889e7f3390erow3_col0\" class=\"data row3 col0\" >Standard DIN</td>\n                        <td id=\"T_8166b782_8eb0_11ea_8375_4889e7f3390erow3_col1\" class=\"data row3 col1\" >51.8</td>\n                        <td id=\"T_8166b782_8eb0_11ea_8375_4889e7f3390erow3_col2\" class=\"data row3 col2\" >0.88</td>\n                        <td id=\"T_8166b782_8eb0_11ea_8375_4889e7f3390erow3_col3\" class=\"data row3 col3\" >0.59</td>\n                        <td id=\"T_8166b782_8eb0_11ea_8375_4889e7f3390erow3_col4\" class=\"data row3 col4\" >0.51</td>\n                        <td id=\"T_8166b782_8eb0_11ea_8375_4889e7f3390erow3_col5\" class=\"data row3 col5\" >0.84</td>\n                        <td id=\"T_8166b782_8eb0_11ea_8375_4889e7f3390erow3_col6\" class=\"data row3 col6\" >608</td>\n            </tr>\n            <tr>\n                                <td id=\"T_8166b782_8eb0_11ea_8375_4889e7f3390erow4_col0\" class=\"data row4 col0\" >Standard CH</td>\n                        <td id=\"T_8166b782_8eb0_11ea_8375_4889e7f3390erow4_col1\" class=\"data row4 col1\" >32.9</td>\n                        <td id=\"T_8166b782_8eb0_11ea_8375_4889e7f3390erow4_col2\" class=\"data row4 col2\" >0.03</td>\n                        <td id=\"T_8166b782_8eb0_11ea_8375_4889e7f3390erow4_col3\" class=\"data row4 col3\" >-1.42</td>\n                        <td id=\"T_8166b782_8eb0_11ea_8375_4889e7f3390erow4_col4\" class=\"data row4 col4\" >1.12</td>\n                        <td id=\"T_8166b782_8eb0_11ea_8375_4889e7f3390erow4_col5\" class=\"data row4 col5\" >0</td>\n                        <td id=\"T_8166b782_8eb0_11ea_8375_4889e7f3390erow4_col6\" class=\"data row4 col6\" >618</td>\n            </tr>\n            <tr>\n                                <td id=\"T_8166b782_8eb0_11ea_8375_4889e7f3390erow5_col0\" class=\"data row5 col0\" >Standard DO</td>\n                        <td id=\"T_8166b782_8eb0_11ea_8375_4889e7f3390erow5_col1\" class=\"data row5 col1\" >3.3</td>\n                        <td id=\"T_8166b782_8eb0_11ea_8375_4889e7f3390erow5_col2\" class=\"data row5 col2\" >0.87</td>\n                        <td id=\"T_8166b782_8eb0_11ea_8375_4889e7f3390erow5_col3\" class=\"data row5 col3\" >0.63</td>\n                        <td id=\"T_8166b782_8eb0_11ea_8375_4889e7f3390erow5_col4\" class=\"data row5 col4\" >0.44</td>\n                        <td id=\"T_8166b782_8eb0_11ea_8375_4889e7f3390erow5_col5\" class=\"data row5 col5\" >0.73</td>\n                        <td id=\"T_8166b782_8eb0_11ea_8375_4889e7f3390erow5_col6\" class=\"data row5 col6\" >544</td>\n            </tr>\n            <tr>\n                                <td id=\"T_8166b782_8eb0_11ea_8375_4889e7f3390erow6_col0\" class=\"data row6 col0\" >Standard KD</td>\n                        <td id=\"T_8166b782_8eb0_11ea_8375_4889e7f3390erow6_col1\" class=\"data row6 col1\" >41.8</td>\n                        <td id=\"T_8166b782_8eb0_11ea_8375_4889e7f3390erow6_col2\" class=\"data row6 col2\" >0.52</td>\n                        <td id=\"T_8166b782_8eb0_11ea_8375_4889e7f3390erow6_col3\" class=\"data row6 col3\" >0</td>\n                        <td id=\"T_8166b782_8eb0_11ea_8375_4889e7f3390erow6_col4\" class=\"data row6 col4\" >0.55</td>\n                        <td id=\"T_8166b782_8eb0_11ea_8375_4889e7f3390erow6_col5\" class=\"data row6 col5\" >0.24</td>\n                        <td id=\"T_8166b782_8eb0_11ea_8375_4889e7f3390erow6_col6\" class=\"data row6 col6\" >548</td>\n            </tr>\n            <tr>\n                                <td id=\"T_8166b782_8eb0_11ea_8375_4889e7f3390erow7_col0\" class=\"data row7 col0\" >Summer Observations CH</td>\n                        <td id=\"T_8166b782_8eb0_11ea_8375_4889e7f3390erow7_col1\" class=\"data row7 col1\" >9.5</td>\n                        <td id=\"T_8166b782_8eb0_11ea_8375_4889e7f3390erow7_col2\" class=\"data row7 col2\" >-0.05</td>\n                        <td id=\"T_8166b782_8eb0_11ea_8375_4889e7f3390erow7_col3\" class=\"data row7 col3\" >-1.72</td>\n                        <td id=\"T_8166b782_8eb0_11ea_8375_4889e7f3390erow7_col4\" class=\"data row7 col4\" >1.15</td>\n                        <td id=\"T_8166b782_8eb0_11ea_8375_4889e7f3390erow7_col5\" class=\"data row7 col5\" >0.01</td>\n                        <td id=\"T_8166b782_8eb0_11ea_8375_4889e7f3390erow7_col6\" class=\"data row7 col6\" >281</td>\n            </tr>\n            <tr>\n                                <td id=\"T_8166b782_8eb0_11ea_8375_4889e7f3390erow8_col0\" class=\"data row8 col0\" >Summer Observations KD</td>\n                        <td id=\"T_8166b782_8eb0_11ea_8375_4889e7f3390erow8_col1\" class=\"data row8 col1\" >36.1</td>\n                        <td id=\"T_8166b782_8eb0_11ea_8375_4889e7f3390erow8_col2\" class=\"data row8 col2\" >0.29</td>\n                        <td id=\"T_8166b782_8eb0_11ea_8375_4889e7f3390erow8_col3\" class=\"data row8 col3\" >-0.11</td>\n                        <td id=\"T_8166b782_8eb0_11ea_8375_4889e7f3390erow8_col4\" class=\"data row8 col4\" >0.66</td>\n                        <td id=\"T_8166b782_8eb0_11ea_8375_4889e7f3390erow8_col5\" class=\"data row8 col5\" >0.15</td>\n                        <td id=\"T_8166b782_8eb0_11ea_8375_4889e7f3390erow8_col6\" class=\"data row8 col6\" >355</td>\n            </tr>\n            <tr>\n                                <td id=\"T_8166b782_8eb0_11ea_8375_4889e7f3390erow9_col0\" class=\"data row9 col0\" >Winter Observations PO4</td>\n                        <td id=\"T_8166b782_8eb0_11ea_8375_4889e7f3390erow9_col1\" class=\"data row9 col1\" >56.7</td>\n                        <td id=\"T_8166b782_8eb0_11ea_8375_4889e7f3390erow9_col2\" class=\"data row9 col2\" >-0.11</td>\n                        <td id=\"T_8166b782_8eb0_11ea_8375_4889e7f3390erow9_col3\" class=\"data row9 col3\" >-6.15</td>\n                        <td id=\"T_8166b782_8eb0_11ea_8375_4889e7f3390erow9_col4\" class=\"data row9 col4\" >2.2</td>\n                        <td id=\"T_8166b782_8eb0_11ea_8375_4889e7f3390erow9_col5\" class=\"data row9 col5\" >0</td>\n                        <td id=\"T_8166b782_8eb0_11ea_8375_4889e7f3390erow9_col6\" class=\"data row9 col6\" >104</td>\n            </tr>\n            <tr>\n                                <td id=\"T_8166b782_8eb0_11ea_8375_4889e7f3390erow10_col0\" class=\"data row10 col0\" >Winter Observations DIN</td>\n                        <td id=\"T_8166b782_8eb0_11ea_8375_4889e7f3390erow10_col1\" class=\"data row10 col1\" >22.8</td>\n                        <td id=\"T_8166b782_8eb0_11ea_8375_4889e7f3390erow10_col2\" class=\"data row10 col2\" >0.71</td>\n                        <td id=\"T_8166b782_8eb0_11ea_8375_4889e7f3390erow10_col3\" class=\"data row10 col3\" >-0.31</td>\n                        <td id=\"T_8166b782_8eb0_11ea_8375_4889e7f3390erow10_col4\" class=\"data row10 col4\" >0.96</td>\n                        <td id=\"T_8166b782_8eb0_11ea_8375_4889e7f3390erow10_col5\" class=\"data row10 col5\" >0.53</td>\n                        <td id=\"T_8166b782_8eb0_11ea_8375_4889e7f3390erow10_col6\" class=\"data row10 col6\" >104</td>\n            </tr>\n    </tbody></table>",
          "text/plain": "<pandas.io.formats.style.Styler at 0x1f2505f52b0>"
         },
         "metadata": {},
         "output_type": "display_data"
        }
       ]
      }
     },
     "92e8261d07604e718d878e4e06bd0679": {
      "model_module": "@jupyter-widgets/base",
      "model_module_version": "1.2.0",
      "model_name": "LayoutModel",
      "state": {}
     },
     "94de344faf53469da5407f423b18574b": {
      "model_module": "@jupyter-widgets/controls",
      "model_module_version": "1.5.0",
      "model_name": "DescriptionStyleModel",
      "state": {
       "description_width": ""
      }
     },
     "950970f0df4b4a2a8c8dc7d62d095f02": {
      "model_module": "@jupyter-widgets/output",
      "model_module_version": "1.0.0",
      "model_name": "OutputModel",
      "state": {
       "layout": "IPY_MODEL_0d54a739ce9e4200b07110c0e106e050",
       "outputs": [
        {
         "data": {
          "text/html": "<style  type=\"text/css\" >\n</style><table id=\"T_6f5b65a4_8eb2_11ea_9465_4889e7f3390e\" ><thead>    <tr>        <th class=\"col_heading level0 col0\" >Measurement</th>        <th class=\"col_heading level0 col1\" >Percent_Bias</th>        <th class=\"col_heading level0 col2\" >Spearman_Rank_Correlation</th>        <th class=\"col_heading level0 col3\" >Efficiency_Factor</th>        <th class=\"col_heading level0 col4\" >Cost_Function</th>        <th class=\"col_heading level0 col5\" >R2</th>        <th class=\"col_heading level0 col6\" >Total_Number_Of_Observations_1</th>    </tr></thead><tbody>\n                <tr>\n                                <td id=\"T_6f5b65a4_8eb2_11ea_9465_4889e7f3390erow0_col0\" class=\"data row0 col0\" >Standard TN</td>\n                        <td id=\"T_6f5b65a4_8eb2_11ea_9465_4889e7f3390erow0_col1\" class=\"data row0 col1\" >42.2</td>\n                        <td id=\"T_6f5b65a4_8eb2_11ea_9465_4889e7f3390erow0_col2\" class=\"data row0 col2\" >0.85</td>\n                        <td id=\"T_6f5b65a4_8eb2_11ea_9465_4889e7f3390erow0_col3\" class=\"data row0 col3\" >0.23</td>\n                        <td id=\"T_6f5b65a4_8eb2_11ea_9465_4889e7f3390erow0_col4\" class=\"data row0 col4\" >0.71</td>\n                        <td id=\"T_6f5b65a4_8eb2_11ea_9465_4889e7f3390erow0_col5\" class=\"data row0 col5\" >0.78</td>\n                        <td id=\"T_6f5b65a4_8eb2_11ea_9465_4889e7f3390erow0_col6\" class=\"data row0 col6\" >441</td>\n            </tr>\n            <tr>\n                                <td id=\"T_6f5b65a4_8eb2_11ea_9465_4889e7f3390erow1_col0\" class=\"data row1 col0\" >Standard TP</td>\n                        <td id=\"T_6f5b65a4_8eb2_11ea_9465_4889e7f3390erow1_col1\" class=\"data row1 col1\" >12.7</td>\n                        <td id=\"T_6f5b65a4_8eb2_11ea_9465_4889e7f3390erow1_col2\" class=\"data row1 col2\" >0.45</td>\n                        <td id=\"T_6f5b65a4_8eb2_11ea_9465_4889e7f3390erow1_col3\" class=\"data row1 col3\" >-0.35</td>\n                        <td id=\"T_6f5b65a4_8eb2_11ea_9465_4889e7f3390erow1_col4\" class=\"data row1 col4\" >0.8</td>\n                        <td id=\"T_6f5b65a4_8eb2_11ea_9465_4889e7f3390erow1_col5\" class=\"data row1 col5\" >0.18</td>\n                        <td id=\"T_6f5b65a4_8eb2_11ea_9465_4889e7f3390erow1_col6\" class=\"data row1 col6\" >443</td>\n            </tr>\n            <tr>\n                                <td id=\"T_6f5b65a4_8eb2_11ea_9465_4889e7f3390erow2_col0\" class=\"data row2 col0\" >Standard PO4</td>\n                        <td id=\"T_6f5b65a4_8eb2_11ea_9465_4889e7f3390erow2_col1\" class=\"data row2 col1\" >38.5</td>\n                        <td id=\"T_6f5b65a4_8eb2_11ea_9465_4889e7f3390erow2_col2\" class=\"data row2 col2\" >0.7</td>\n                        <td id=\"T_6f5b65a4_8eb2_11ea_9465_4889e7f3390erow2_col3\" class=\"data row2 col3\" >-0.84</td>\n                        <td id=\"T_6f5b65a4_8eb2_11ea_9465_4889e7f3390erow2_col4\" class=\"data row2 col4\" >0.89</td>\n                        <td id=\"T_6f5b65a4_8eb2_11ea_9465_4889e7f3390erow2_col5\" class=\"data row2 col5\" >0.44</td>\n                        <td id=\"T_6f5b65a4_8eb2_11ea_9465_4889e7f3390erow2_col6\" class=\"data row2 col6\" >442</td>\n            </tr>\n            <tr>\n                                <td id=\"T_6f5b65a4_8eb2_11ea_9465_4889e7f3390erow3_col0\" class=\"data row3 col0\" >Standard DIN</td>\n                        <td id=\"T_6f5b65a4_8eb2_11ea_9465_4889e7f3390erow3_col1\" class=\"data row3 col1\" >62.3</td>\n                        <td id=\"T_6f5b65a4_8eb2_11ea_9465_4889e7f3390erow3_col2\" class=\"data row3 col2\" >0.86</td>\n                        <td id=\"T_6f5b65a4_8eb2_11ea_9465_4889e7f3390erow3_col3\" class=\"data row3 col3\" >0.43</td>\n                        <td id=\"T_6f5b65a4_8eb2_11ea_9465_4889e7f3390erow3_col4\" class=\"data row3 col4\" >0.61</td>\n                        <td id=\"T_6f5b65a4_8eb2_11ea_9465_4889e7f3390erow3_col5\" class=\"data row3 col5\" >0.82</td>\n                        <td id=\"T_6f5b65a4_8eb2_11ea_9465_4889e7f3390erow3_col6\" class=\"data row3 col6\" >441</td>\n            </tr>\n            <tr>\n                                <td id=\"T_6f5b65a4_8eb2_11ea_9465_4889e7f3390erow4_col0\" class=\"data row4 col0\" >Standard CH</td>\n                        <td id=\"T_6f5b65a4_8eb2_11ea_9465_4889e7f3390erow4_col1\" class=\"data row4 col1\" >41.7</td>\n                        <td id=\"T_6f5b65a4_8eb2_11ea_9465_4889e7f3390erow4_col2\" class=\"data row4 col2\" >0.2</td>\n                        <td id=\"T_6f5b65a4_8eb2_11ea_9465_4889e7f3390erow4_col3\" class=\"data row4 col3\" >-1.81</td>\n                        <td id=\"T_6f5b65a4_8eb2_11ea_9465_4889e7f3390erow4_col4\" class=\"data row4 col4\" >1.28</td>\n                        <td id=\"T_6f5b65a4_8eb2_11ea_9465_4889e7f3390erow4_col5\" class=\"data row4 col5\" >0</td>\n                        <td id=\"T_6f5b65a4_8eb2_11ea_9465_4889e7f3390erow4_col6\" class=\"data row4 col6\" >443</td>\n            </tr>\n            <tr>\n                                <td id=\"T_6f5b65a4_8eb2_11ea_9465_4889e7f3390erow5_col0\" class=\"data row5 col0\" >Standard DO</td>\n                        <td id=\"T_6f5b65a4_8eb2_11ea_9465_4889e7f3390erow5_col1\" class=\"data row5 col1\" >2.5</td>\n                        <td id=\"T_6f5b65a4_8eb2_11ea_9465_4889e7f3390erow5_col2\" class=\"data row5 col2\" >0.86</td>\n                        <td id=\"T_6f5b65a4_8eb2_11ea_9465_4889e7f3390erow5_col3\" class=\"data row5 col3\" >0.67</td>\n                        <td id=\"T_6f5b65a4_8eb2_11ea_9465_4889e7f3390erow5_col4\" class=\"data row5 col4\" >0.41</td>\n                        <td id=\"T_6f5b65a4_8eb2_11ea_9465_4889e7f3390erow5_col5\" class=\"data row5 col5\" >0.72</td>\n                        <td id=\"T_6f5b65a4_8eb2_11ea_9465_4889e7f3390erow5_col6\" class=\"data row5 col6\" >355</td>\n            </tr>\n            <tr>\n                                <td id=\"T_6f5b65a4_8eb2_11ea_9465_4889e7f3390erow6_col0\" class=\"data row6 col0\" >Standard KD</td>\n                        <td id=\"T_6f5b65a4_8eb2_11ea_9465_4889e7f3390erow6_col1\" class=\"data row6 col1\" >43.2</td>\n                        <td id=\"T_6f5b65a4_8eb2_11ea_9465_4889e7f3390erow6_col2\" class=\"data row6 col2\" >0.59</td>\n                        <td id=\"T_6f5b65a4_8eb2_11ea_9465_4889e7f3390erow6_col3\" class=\"data row6 col3\" >0.05</td>\n                        <td id=\"T_6f5b65a4_8eb2_11ea_9465_4889e7f3390erow6_col4\" class=\"data row6 col4\" >0.58</td>\n                        <td id=\"T_6f5b65a4_8eb2_11ea_9465_4889e7f3390erow6_col5\" class=\"data row6 col5\" >0.45</td>\n                        <td id=\"T_6f5b65a4_8eb2_11ea_9465_4889e7f3390erow6_col6\" class=\"data row6 col6\" >119</td>\n            </tr>\n            <tr>\n                                <td id=\"T_6f5b65a4_8eb2_11ea_9465_4889e7f3390erow7_col0\" class=\"data row7 col0\" >Summer Observations CH</td>\n                        <td id=\"T_6f5b65a4_8eb2_11ea_9465_4889e7f3390erow7_col1\" class=\"data row7 col1\" >23</td>\n                        <td id=\"T_6f5b65a4_8eb2_11ea_9465_4889e7f3390erow7_col2\" class=\"data row7 col2\" >-0.05</td>\n                        <td id=\"T_6f5b65a4_8eb2_11ea_9465_4889e7f3390erow7_col3\" class=\"data row7 col3\" >-2.05</td>\n                        <td id=\"T_6f5b65a4_8eb2_11ea_9465_4889e7f3390erow7_col4\" class=\"data row7 col4\" >1.32</td>\n                        <td id=\"T_6f5b65a4_8eb2_11ea_9465_4889e7f3390erow7_col5\" class=\"data row7 col5\" >0.01</td>\n                        <td id=\"T_6f5b65a4_8eb2_11ea_9465_4889e7f3390erow7_col6\" class=\"data row7 col6\" >218</td>\n            </tr>\n            <tr>\n                                <td id=\"T_6f5b65a4_8eb2_11ea_9465_4889e7f3390erow8_col0\" class=\"data row8 col0\" >Summer Observations KD</td>\n                        <td id=\"T_6f5b65a4_8eb2_11ea_9465_4889e7f3390erow8_col1\" class=\"data row8 col1\" >38.8</td>\n                        <td id=\"T_6f5b65a4_8eb2_11ea_9465_4889e7f3390erow8_col2\" class=\"data row8 col2\" >0.28</td>\n                        <td id=\"T_6f5b65a4_8eb2_11ea_9465_4889e7f3390erow8_col3\" class=\"data row8 col3\" >-0.21</td>\n                        <td id=\"T_6f5b65a4_8eb2_11ea_9465_4889e7f3390erow8_col4\" class=\"data row8 col4\" >0.75</td>\n                        <td id=\"T_6f5b65a4_8eb2_11ea_9465_4889e7f3390erow8_col5\" class=\"data row8 col5\" >0.19</td>\n                        <td id=\"T_6f5b65a4_8eb2_11ea_9465_4889e7f3390erow8_col6\" class=\"data row8 col6\" >81</td>\n            </tr>\n            <tr>\n                                <td id=\"T_6f5b65a4_8eb2_11ea_9465_4889e7f3390erow9_col0\" class=\"data row9 col0\" >Winter Observations PO4</td>\n                        <td id=\"T_6f5b65a4_8eb2_11ea_9465_4889e7f3390erow9_col1\" class=\"data row9 col1\" >35.8</td>\n                        <td id=\"T_6f5b65a4_8eb2_11ea_9465_4889e7f3390erow9_col2\" class=\"data row9 col2\" >-0.04</td>\n                        <td id=\"T_6f5b65a4_8eb2_11ea_9465_4889e7f3390erow9_col3\" class=\"data row9 col3\" >-3.51</td>\n                        <td id=\"T_6f5b65a4_8eb2_11ea_9465_4889e7f3390erow9_col4\" class=\"data row9 col4\" >1.64</td>\n                        <td id=\"T_6f5b65a4_8eb2_11ea_9465_4889e7f3390erow9_col5\" class=\"data row9 col5\" >0</td>\n                        <td id=\"T_6f5b65a4_8eb2_11ea_9465_4889e7f3390erow9_col6\" class=\"data row9 col6\" >70</td>\n            </tr>\n            <tr>\n                                <td id=\"T_6f5b65a4_8eb2_11ea_9465_4889e7f3390erow10_col0\" class=\"data row10 col0\" >Winter Observations DIN</td>\n                        <td id=\"T_6f5b65a4_8eb2_11ea_9465_4889e7f3390erow10_col1\" class=\"data row10 col1\" >29.6</td>\n                        <td id=\"T_6f5b65a4_8eb2_11ea_9465_4889e7f3390erow10_col2\" class=\"data row10 col2\" >0.72</td>\n                        <td id=\"T_6f5b65a4_8eb2_11ea_9465_4889e7f3390erow10_col3\" class=\"data row10 col3\" >-0.83</td>\n                        <td id=\"T_6f5b65a4_8eb2_11ea_9465_4889e7f3390erow10_col4\" class=\"data row10 col4\" >1.08</td>\n                        <td id=\"T_6f5b65a4_8eb2_11ea_9465_4889e7f3390erow10_col5\" class=\"data row10 col5\" >0.5</td>\n                        <td id=\"T_6f5b65a4_8eb2_11ea_9465_4889e7f3390erow10_col6\" class=\"data row10 col6\" >70</td>\n            </tr>\n    </tbody></table>",
          "text/plain": "<pandas.io.formats.style.Styler at 0x1f250940d68>"
         },
         "metadata": {},
         "output_type": "display_data"
        }
       ]
      }
     },
     "95409d421e4a4d78860515118810ce8c": {
      "model_module": "@jupyter-widgets/base",
      "model_module_version": "1.2.0",
      "model_name": "LayoutModel",
      "state": {}
     },
     "96ec364674964fcdb951e91ee6a50edf": {
      "model_module": "@jupyter-widgets/controls",
      "model_module_version": "1.5.0",
      "model_name": "IntSliderModel",
      "state": {
       "description": "x",
       "layout": "IPY_MODEL_5b95c998d5894038ab11047f12f23e9c",
       "max": 1,
       "style": "IPY_MODEL_b4bb422ffcc2428aa0f37fc7f8f5ba3e",
       "value": 1
      }
     },
     "9781a7a8d1ed44c9beb859084aa09123": {
      "model_module": "@jupyter-widgets/base",
      "model_module_version": "1.2.0",
      "model_name": "LayoutModel",
      "state": {}
     },
     "99a84b30a9fe4c5ea6b758a4e7407ecf": {
      "model_module": "@jupyter-widgets/controls",
      "model_module_version": "1.5.0",
      "model_name": "DropdownModel",
      "state": {
       "_options_labels": [
        "RKB1",
        "RKB10"
       ],
       "description": "Station",
       "index": 0,
       "layout": "IPY_MODEL_65128c0f384b4790b710767d74ec9bd7",
       "style": "IPY_MODEL_58c972384c1848dd8e0bf4701b4b69ec"
      }
     },
     "9a6ef6b166bd4957901f02f93bd05d21": {
      "model_module": "@jupyter-widgets/base",
      "model_module_version": "1.2.0",
      "model_name": "LayoutModel",
      "state": {}
     },
     "9b398f51640a44b8b69dde9013e32f10": {
      "model_module": "@jupyter-widgets/controls",
      "model_module_version": "1.5.0",
      "model_name": "DescriptionStyleModel",
      "state": {
       "description_width": ""
      }
     },
     "9bca135e1659465a870f6f7fce8da049": {
      "model_module": "@jupyter-widgets/controls",
      "model_module_version": "1.5.0",
      "model_name": "DescriptionStyleModel",
      "state": {
       "description_width": ""
      }
     },
     "9c32f6b78ec14c79921b88128babada8": {
      "model_module": "@jupyter-widgets/controls",
      "model_module_version": "1.5.0",
      "model_name": "DropdownModel",
      "state": {
       "_options_labels": [
        "Percent_Bias",
        "Spearman_Rank_Correlation",
        "Efficiency_Factor",
        "Cost_Function",
        "R2"
       ],
       "description": "QMeasure",
       "index": 1,
       "layout": "IPY_MODEL_a4a2d7c6b5624a86ab054615ed208751",
       "style": "IPY_MODEL_cb417efb31ec4da7a325439bdbdbe9b4"
      }
     },
     "9da542da78dc4e53ba8bdf56e8718013": {
      "model_module": "@jupyter-widgets/base",
      "model_module_version": "1.2.0",
      "model_name": "LayoutModel",
      "state": {}
     },
     "9ddf2efdde684bada18e19b75863f4e8": {
      "model_module": "@jupyter-widgets/output",
      "model_module_version": "1.0.0",
      "model_name": "OutputModel",
      "state": {
       "layout": "IPY_MODEL_eb661a8a224c477ca2c4bc1a72dc2abe",
       "outputs": [
        {
         "data": {
          "text/html": "<div>\n<style scoped>\n    .dataframe tbody tr th:only-of-type {\n        vertical-align: middle;\n    }\n\n    .dataframe tbody tr th {\n        vertical-align: top;\n    }\n\n    .dataframe thead th {\n        text-align: right;\n    }\n</style>\n<table border=\"1\" class=\"dataframe\">\n  <thead>\n    <tr style=\"text-align: right;\">\n      <th></th>\n      <th>Standard TN</th>\n      <th>Standard TP</th>\n      <th>Standard PO4</th>\n      <th>Standard DIN</th>\n      <th>Standard CH</th>\n      <th>Standard DO</th>\n      <th>Standard KD</th>\n      <th>Summer Observations CH</th>\n      <th>Summer Observations KD</th>\n      <th>Winter Observations PO4</th>\n      <th>Winter Observations DIN</th>\n      <th>min. no. obs.</th>\n      <th>max. no. obs.</th>\n      <th>station</th>\n    </tr>\n  </thead>\n  <tbody>\n    <tr>\n      <th>0</th>\n      <td>39.12</td>\n      <td>29.53</td>\n      <td>41.46</td>\n      <td>51.79</td>\n      <td>32.91</td>\n      <td>3.33</td>\n      <td>41.77</td>\n      <td>9.53</td>\n      <td>36.14</td>\n      <td>56.66</td>\n      <td>22.77</td>\n      <td>104</td>\n      <td>618</td>\n      <td>RKB1</td>\n    </tr>\n    <tr>\n      <th>1</th>\n      <td>0.87</td>\n      <td>0.47</td>\n      <td>0.69</td>\n      <td>0.88</td>\n      <td>0.03</td>\n      <td>0.87</td>\n      <td>0.52</td>\n      <td>-0.05</td>\n      <td>0.29</td>\n      <td>-0.11</td>\n      <td>0.71</td>\n      <td>104</td>\n      <td>618</td>\n      <td>RKB1</td>\n    </tr>\n    <tr>\n      <th>2</th>\n      <td>0.41</td>\n      <td>0.03</td>\n      <td>-0.85</td>\n      <td>0.59</td>\n      <td>-1.42</td>\n      <td>0.63</td>\n      <td>0.00</td>\n      <td>-1.72</td>\n      <td>-0.11</td>\n      <td>-6.15</td>\n      <td>-0.31</td>\n      <td>104</td>\n      <td>618</td>\n      <td>RKB1</td>\n    </tr>\n    <tr>\n      <th>3</th>\n      <td>0.63</td>\n      <td>0.59</td>\n      <td>0.93</td>\n      <td>0.51</td>\n      <td>1.12</td>\n      <td>0.44</td>\n      <td>0.55</td>\n      <td>1.15</td>\n      <td>0.66</td>\n      <td>2.20</td>\n      <td>0.96</td>\n      <td>104</td>\n      <td>618</td>\n      <td>RKB1</td>\n    </tr>\n    <tr>\n      <th>4</th>\n      <td>0.82</td>\n      <td>0.16</td>\n      <td>0.42</td>\n      <td>0.84</td>\n      <td>0.00</td>\n      <td>0.73</td>\n      <td>0.24</td>\n      <td>0.01</td>\n      <td>0.15</td>\n      <td>0.00</td>\n      <td>0.53</td>\n      <td>104</td>\n      <td>618</td>\n      <td>RKB1</td>\n    </tr>\n    <tr>\n      <th>5</th>\n      <td>42.17</td>\n      <td>12.74</td>\n      <td>38.48</td>\n      <td>62.33</td>\n      <td>41.65</td>\n      <td>2.51</td>\n      <td>43.25</td>\n      <td>23.03</td>\n      <td>38.82</td>\n      <td>35.75</td>\n      <td>29.59</td>\n      <td>70</td>\n      <td>443</td>\n      <td>RKB10</td>\n    </tr>\n    <tr>\n      <th>6</th>\n      <td>0.85</td>\n      <td>0.45</td>\n      <td>0.70</td>\n      <td>0.86</td>\n      <td>0.20</td>\n      <td>0.86</td>\n      <td>0.59</td>\n      <td>-0.05</td>\n      <td>0.28</td>\n      <td>-0.04</td>\n      <td>0.72</td>\n      <td>70</td>\n      <td>443</td>\n      <td>RKB10</td>\n    </tr>\n    <tr>\n      <th>7</th>\n      <td>0.23</td>\n      <td>-0.35</td>\n      <td>-0.84</td>\n      <td>0.43</td>\n      <td>-1.81</td>\n      <td>0.67</td>\n      <td>0.05</td>\n      <td>-2.05</td>\n      <td>-0.21</td>\n      <td>-3.51</td>\n      <td>-0.83</td>\n      <td>70</td>\n      <td>443</td>\n      <td>RKB10</td>\n    </tr>\n    <tr>\n      <th>8</th>\n      <td>0.71</td>\n      <td>0.80</td>\n      <td>0.89</td>\n      <td>0.61</td>\n      <td>1.28</td>\n      <td>0.41</td>\n      <td>0.58</td>\n      <td>1.32</td>\n      <td>0.75</td>\n      <td>1.64</td>\n      <td>1.08</td>\n      <td>70</td>\n      <td>443</td>\n      <td>RKB10</td>\n    </tr>\n    <tr>\n      <th>9</th>\n      <td>0.78</td>\n      <td>0.18</td>\n      <td>0.44</td>\n      <td>0.82</td>\n      <td>0.00</td>\n      <td>0.72</td>\n      <td>0.45</td>\n      <td>0.01</td>\n      <td>0.19</td>\n      <td>0.00</td>\n      <td>0.50</td>\n      <td>70</td>\n      <td>443</td>\n      <td>RKB10</td>\n    </tr>\n  </tbody>\n</table>\n</div>",
          "text/plain": "   Standard TN  Standard TP  Standard PO4  Standard DIN  Standard CH  \\\n0        39.12        29.53         41.46         51.79        32.91   \n1         0.87         0.47          0.69          0.88         0.03   \n2         0.41         0.03         -0.85          0.59        -1.42   \n3         0.63         0.59          0.93          0.51         1.12   \n4         0.82         0.16          0.42          0.84         0.00   \n5        42.17        12.74         38.48         62.33        41.65   \n6         0.85         0.45          0.70          0.86         0.20   \n7         0.23        -0.35         -0.84          0.43        -1.81   \n8         0.71         0.80          0.89          0.61         1.28   \n9         0.78         0.18          0.44          0.82         0.00   \n\n   Standard DO  Standard KD  Summer Observations CH  Summer Observations KD  \\\n0         3.33        41.77                    9.53                   36.14   \n1         0.87         0.52                   -0.05                    0.29   \n2         0.63         0.00                   -1.72                   -0.11   \n3         0.44         0.55                    1.15                    0.66   \n4         0.73         0.24                    0.01                    0.15   \n5         2.51        43.25                   23.03                   38.82   \n6         0.86         0.59                   -0.05                    0.28   \n7         0.67         0.05                   -2.05                   -0.21   \n8         0.41         0.58                    1.32                    0.75   \n9         0.72         0.45                    0.01                    0.19   \n\n   Winter Observations PO4  Winter Observations DIN  min. no. obs.  \\\n0                    56.66                    22.77            104   \n1                    -0.11                     0.71            104   \n2                    -6.15                    -0.31            104   \n3                     2.20                     0.96            104   \n4                     0.00                     0.53            104   \n5                    35.75                    29.59             70   \n6                    -0.04                     0.72             70   \n7                    -3.51                    -0.83             70   \n8                     1.64                     1.08             70   \n9                     0.00                     0.50             70   \n\n   max. no. obs. station  \n0            618    RKB1  \n1            618    RKB1  \n2            618    RKB1  \n3            618    RKB1  \n4            618    RKB1  \n5            443   RKB10  \n6            443   RKB10  \n7            443   RKB10  \n8            443   RKB10  \n9            443   RKB10  "
         },
         "metadata": {},
         "output_type": "display_data"
        }
       ]
      }
     },
     "9e779796a854404182abc8e09c38eae4": {
      "model_module": "@jupyter-widgets/base",
      "model_module_version": "1.2.0",
      "model_name": "LayoutModel",
      "state": {}
     },
     "9eb7d1a212ac45be8d6cef038023c41a": {
      "model_module": "@jupyter-widgets/controls",
      "model_module_version": "1.5.0",
      "model_name": "DescriptionStyleModel",
      "state": {
       "description_width": ""
      }
     },
     "9f66f2cf8e3d4831a47c19bd8cefb94b": {
      "model_module": "@jupyter-widgets/output",
      "model_module_version": "1.0.0",
      "model_name": "OutputModel",
      "state": {
       "layout": "IPY_MODEL_dddb1553c8a346c0bb074d6d1d545947",
       "outputs": [
        {
         "ename": "IndexError",
         "evalue": "index 2 is out of bounds for axis 0 with size 2",
         "output_type": "error",
         "traceback": [
          "\u001b[1;31m---------------------------------------------------------------------------\u001b[0m",
          "\u001b[1;31mIndexError\u001b[0m                                Traceback (most recent call last)",
          "\u001b[1;32m~\\AppData\\Local\\Continuum\\anaconda3\\lib\\site-packages\\ipywidgets\\widgets\\interaction.py\u001b[0m in \u001b[0;36mupdate\u001b[1;34m(self, *args)\u001b[0m\n\u001b[0;32m    254\u001b[0m                     \u001b[0mvalue\u001b[0m \u001b[1;33m=\u001b[0m \u001b[0mwidget\u001b[0m\u001b[1;33m.\u001b[0m\u001b[0mget_interact_value\u001b[0m\u001b[1;33m(\u001b[0m\u001b[1;33m)\u001b[0m\u001b[1;33m\u001b[0m\u001b[1;33m\u001b[0m\u001b[0m\n\u001b[0;32m    255\u001b[0m                     \u001b[0mself\u001b[0m\u001b[1;33m.\u001b[0m\u001b[0mkwargs\u001b[0m\u001b[1;33m[\u001b[0m\u001b[0mwidget\u001b[0m\u001b[1;33m.\u001b[0m\u001b[0m_kwarg\u001b[0m\u001b[1;33m]\u001b[0m \u001b[1;33m=\u001b[0m \u001b[0mvalue\u001b[0m\u001b[1;33m\u001b[0m\u001b[1;33m\u001b[0m\u001b[0m\n\u001b[1;32m--> 256\u001b[1;33m                 \u001b[0mself\u001b[0m\u001b[1;33m.\u001b[0m\u001b[0mresult\u001b[0m \u001b[1;33m=\u001b[0m \u001b[0mself\u001b[0m\u001b[1;33m.\u001b[0m\u001b[0mf\u001b[0m\u001b[1;33m(\u001b[0m\u001b[1;33m**\u001b[0m\u001b[0mself\u001b[0m\u001b[1;33m.\u001b[0m\u001b[0mkwargs\u001b[0m\u001b[1;33m)\u001b[0m\u001b[1;33m\u001b[0m\u001b[1;33m\u001b[0m\u001b[0m\n\u001b[0m\u001b[0;32m    257\u001b[0m                 \u001b[0mshow_inline_matplotlib_plots\u001b[0m\u001b[1;33m(\u001b[0m\u001b[1;33m)\u001b[0m\u001b[1;33m\u001b[0m\u001b[1;33m\u001b[0m\u001b[0m\n\u001b[0;32m    258\u001b[0m                 \u001b[1;32mif\u001b[0m \u001b[0mself\u001b[0m\u001b[1;33m.\u001b[0m\u001b[0mauto_display\u001b[0m \u001b[1;32mand\u001b[0m \u001b[0mself\u001b[0m\u001b[1;33m.\u001b[0m\u001b[0mresult\u001b[0m \u001b[1;32mis\u001b[0m \u001b[1;32mnot\u001b[0m \u001b[1;32mNone\u001b[0m\u001b[1;33m:\u001b[0m\u001b[1;33m\u001b[0m\u001b[1;33m\u001b[0m\u001b[0m\n",
          "\u001b[1;32m<ipython-input-15-fae5bd957548>\u001b[0m in \u001b[0;36mshow_ts\u001b[1;34m(Station, x)\u001b[0m\n\u001b[0;32m      6\u001b[0m     \u001b[1;32mdef\u001b[0m \u001b[0mshow_ts\u001b[0m\u001b[1;33m(\u001b[0m\u001b[0mStation\u001b[0m\u001b[1;33m=\u001b[0m\u001b[0mstations\u001b[0m\u001b[1;33m,\u001b[0m \u001b[0mx\u001b[0m \u001b[1;33m=\u001b[0m \u001b[0mlen\u001b[0m\u001b[1;33m(\u001b[0m\u001b[0mstations\u001b[0m\u001b[1;33m)\u001b[0m\u001b[1;33m-\u001b[0m\u001b[1;36m1\u001b[0m\u001b[1;33m)\u001b[0m\u001b[1;33m:\u001b[0m\u001b[1;33m\u001b[0m\u001b[1;33m\u001b[0m\u001b[0m\n\u001b[0;32m      7\u001b[0m \u001b[1;33m\u001b[0m\u001b[0m\n\u001b[1;32m----> 8\u001b[1;33m         \u001b[0mstation_table\u001b[0m \u001b[1;33m=\u001b[0m \u001b[0mdf_all\u001b[0m\u001b[1;33m.\u001b[0m\u001b[0mloc\u001b[0m\u001b[1;33m[\u001b[0m\u001b[0mdf_all\u001b[0m\u001b[1;33m[\u001b[0m\u001b[1;34m'Station'\u001b[0m\u001b[1;33m]\u001b[0m\u001b[1;33m==\u001b[0m\u001b[0mstations\u001b[0m\u001b[1;33m[\u001b[0m\u001b[0mx\u001b[0m\u001b[1;33m]\u001b[0m\u001b[1;33m]\u001b[0m\u001b[1;33m\u001b[0m\u001b[1;33m\u001b[0m\u001b[0m\n\u001b[0m\u001b[0;32m      9\u001b[0m         \u001b[0mstation_table\u001b[0m \u001b[1;33m=\u001b[0m \u001b[0mstation_table\u001b[0m\u001b[1;33m.\u001b[0m\u001b[0mdrop\u001b[0m\u001b[1;33m(\u001b[0m\u001b[1;33m[\u001b[0m\u001b[1;34m'Station'\u001b[0m\u001b[1;33m,\u001b[0m\u001b[1;34m'Standard'\u001b[0m\u001b[1;33m,\u001b[0m\u001b[1;34m'Summer'\u001b[0m\u001b[1;33m,\u001b[0m\u001b[1;34m'Winter'\u001b[0m\u001b[1;33m]\u001b[0m\u001b[1;33m,\u001b[0m \u001b[0maxis\u001b[0m\u001b[1;33m=\u001b[0m\u001b[1;36m1\u001b[0m\u001b[1;33m)\u001b[0m\u001b[1;33m\u001b[0m\u001b[1;33m\u001b[0m\u001b[0m\n\u001b[0;32m     10\u001b[0m         \u001b[0mstation_table\u001b[0m\u001b[1;33m[\u001b[0m\u001b[1;34m'Percent_Bias'\u001b[0m\u001b[1;33m]\u001b[0m \u001b[1;33m=\u001b[0m \u001b[0mround\u001b[0m\u001b[1;33m(\u001b[0m\u001b[0mstation_table\u001b[0m\u001b[1;33m[\u001b[0m\u001b[1;34m'Percent_Bias'\u001b[0m\u001b[1;33m]\u001b[0m\u001b[1;33m,\u001b[0m\u001b[1;36m1\u001b[0m\u001b[1;33m)\u001b[0m\u001b[1;33m\u001b[0m\u001b[1;33m\u001b[0m\u001b[0m\n",
          "\u001b[1;31mIndexError\u001b[0m: index 2 is out of bounds for axis 0 with size 2"
         ]
        }
       ]
      }
     },
     "9f8309f955d34e22a8b921eb27239599": {
      "model_module": "@jupyter-widgets/controls",
      "model_module_version": "1.5.0",
      "model_name": "DescriptionStyleModel",
      "state": {
       "description_width": ""
      }
     },
     "a0dd2557ae9e4af1bd3b77b98edc216d": {
      "model_module": "@jupyter-widgets/base",
      "model_module_version": "1.2.0",
      "model_name": "LayoutModel",
      "state": {}
     },
     "a1231e718d8d4ec5adecca0ce123dc07": {
      "model_module": "@jupyter-widgets/base",
      "model_module_version": "1.2.0",
      "model_name": "LayoutModel",
      "state": {}
     },
     "a17808cc4d8d4e8f82a830baee5f9642": {
      "model_module": "@jupyter-widgets/controls",
      "model_module_version": "1.5.0",
      "model_name": "DropdownModel",
      "state": {
       "_options_labels": [
        "CH",
        "DO",
        "KD",
        "DIN",
        "DIP",
        "TN",
        "TP"
       ],
       "description": "Parameter",
       "index": 0,
       "layout": "IPY_MODEL_4af68450e407474097ef0cf4e9d938da",
       "style": "IPY_MODEL_526f26ba211d44c89cf05a3fa026baa0"
      }
     },
     "a2b5131b633e4a2fa2e1a6db2a554377": {
      "model_module": "@jupyter-widgets/base",
      "model_module_version": "1.2.0",
      "model_name": "LayoutModel",
      "state": {}
     },
     "a2d86e9f04294ee6a2b2796279ec3820": {
      "model_module": "@jupyter-widgets/controls",
      "model_module_version": "1.5.0",
      "model_name": "DropdownModel",
      "state": {
       "_options_labels": [
        "RKB1",
        "RKB10"
       ],
       "description": "station",
       "index": 1,
       "layout": "IPY_MODEL_50131fd549324c5da4dda89c7d8dcc6d",
       "style": "IPY_MODEL_08f9ba4f4b89490b951eea9d3eff265a"
      }
     },
     "a3ac6553ffdd4e298d10ca2cc4fced20": {
      "model_module": "@jupyter-widgets/base",
      "model_module_version": "1.2.0",
      "model_name": "LayoutModel",
      "state": {}
     },
     "a3fe65c8637f4d61b697ea09b1de3b0d": {
      "model_module": "@jupyter-widgets/controls",
      "model_module_version": "1.5.0",
      "model_name": "DropdownModel",
      "state": {
       "_options_labels": [
        "Annual",
        "All"
       ],
       "description": "Measurements",
       "index": 1,
       "layout": "IPY_MODEL_5d1b7a2f5ce0406483e8c33b2fd90695",
       "style": "IPY_MODEL_9b398f51640a44b8b69dde9013e32f10"
      }
     },
     "a42364c72a774c5da72023640a387f52": {
      "model_module": "@jupyter-widgets/base",
      "model_module_version": "1.2.0",
      "model_name": "LayoutModel",
      "state": {}
     },
     "a49366777f564ad19bbb4954c11fec0c": {
      "model_module": "@jupyter-widgets/output",
      "model_module_version": "1.0.0",
      "model_name": "OutputModel",
      "state": {
       "layout": "IPY_MODEL_c4a756933fbb440f99288da599bbf2fc",
       "outputs": [
        {
         "ename": "ValueError",
         "evalue": "The truth value of a Series is ambiguous. Use a.empty, a.bool(), a.item(), a.any() or a.all().",
         "output_type": "error",
         "traceback": [
          "\u001b[1;31m---------------------------------------------------------------------------\u001b[0m",
          "\u001b[1;31mValueError\u001b[0m                                Traceback (most recent call last)",
          "\u001b[1;32m~\\AppData\\Local\\Continuum\\anaconda3\\lib\\site-packages\\ipywidgets\\widgets\\interaction.py\u001b[0m in \u001b[0;36mupdate\u001b[1;34m(self, *args)\u001b[0m\n\u001b[0;32m    254\u001b[0m                     \u001b[0mvalue\u001b[0m \u001b[1;33m=\u001b[0m \u001b[0mwidget\u001b[0m\u001b[1;33m.\u001b[0m\u001b[0mget_interact_value\u001b[0m\u001b[1;33m(\u001b[0m\u001b[1;33m)\u001b[0m\u001b[1;33m\u001b[0m\u001b[1;33m\u001b[0m\u001b[0m\n\u001b[0;32m    255\u001b[0m                     \u001b[0mself\u001b[0m\u001b[1;33m.\u001b[0m\u001b[0mkwargs\u001b[0m\u001b[1;33m[\u001b[0m\u001b[0mwidget\u001b[0m\u001b[1;33m.\u001b[0m\u001b[0m_kwarg\u001b[0m\u001b[1;33m]\u001b[0m \u001b[1;33m=\u001b[0m \u001b[0mvalue\u001b[0m\u001b[1;33m\u001b[0m\u001b[1;33m\u001b[0m\u001b[0m\n\u001b[1;32m--> 256\u001b[1;33m                 \u001b[0mself\u001b[0m\u001b[1;33m.\u001b[0m\u001b[0mresult\u001b[0m \u001b[1;33m=\u001b[0m \u001b[0mself\u001b[0m\u001b[1;33m.\u001b[0m\u001b[0mf\u001b[0m\u001b[1;33m(\u001b[0m\u001b[1;33m**\u001b[0m\u001b[0mself\u001b[0m\u001b[1;33m.\u001b[0m\u001b[0mkwargs\u001b[0m\u001b[1;33m)\u001b[0m\u001b[1;33m\u001b[0m\u001b[1;33m\u001b[0m\u001b[0m\n\u001b[0m\u001b[0;32m    257\u001b[0m                 \u001b[0mshow_inline_matplotlib_plots\u001b[0m\u001b[1;33m(\u001b[0m\u001b[1;33m)\u001b[0m\u001b[1;33m\u001b[0m\u001b[1;33m\u001b[0m\u001b[0m\n\u001b[0;32m    258\u001b[0m                 \u001b[1;32mif\u001b[0m \u001b[0mself\u001b[0m\u001b[1;33m.\u001b[0m\u001b[0mauto_display\u001b[0m \u001b[1;32mand\u001b[0m \u001b[0mself\u001b[0m\u001b[1;33m.\u001b[0m\u001b[0mresult\u001b[0m \u001b[1;32mis\u001b[0m \u001b[1;32mnot\u001b[0m \u001b[1;32mNone\u001b[0m\u001b[1;33m:\u001b[0m\u001b[1;33m\u001b[0m\u001b[1;33m\u001b[0m\u001b[0m\n",
          "\u001b[1;32m<ipython-input-60-54dfb5942774>\u001b[0m in \u001b[0;36mshow_ts\u001b[1;34m(Parameter, Measurements)\u001b[0m\n\u001b[0;32m      9\u001b[0m \u001b[1;32mdef\u001b[0m \u001b[0mshow_ts\u001b[0m\u001b[1;33m(\u001b[0m\u001b[0mParameter\u001b[0m\u001b[1;33m=\u001b[0m\u001b[0mpar\u001b[0m\u001b[1;33m,\u001b[0m\u001b[0mMeasurements\u001b[0m\u001b[1;33m=\u001b[0m\u001b[0mmeas\u001b[0m\u001b[1;33m)\u001b[0m\u001b[1;33m:\u001b[0m\u001b[1;33m\u001b[0m\u001b[1;33m\u001b[0m\u001b[0m\n\u001b[0;32m     10\u001b[0m     \u001b[0mcheck\u001b[0m \u001b[1;33m=\u001b[0m \u001b[0mtest\u001b[0m\u001b[1;33m[\u001b[0m\u001b[0mMeasurements\u001b[0m\u001b[1;33m]\u001b[0m\u001b[1;33m\u001b[0m\u001b[1;33m\u001b[0m\u001b[0m\n\u001b[1;32m---> 11\u001b[1;33m     \u001b[1;32mif\u001b[0m \u001b[0mcheck\u001b[0m \u001b[1;33m==\u001b[0m \u001b[1;36m0\u001b[0m\u001b[1;33m:\u001b[0m\u001b[1;33m\u001b[0m\u001b[1;33m\u001b[0m\u001b[0m\n\u001b[0m\u001b[0;32m     12\u001b[0m         \u001b[0mperform\u001b[0m \u001b[1;33m=\u001b[0m \u001b[0mcollect_param_df\u001b[0m\u001b[1;33m(\u001b[0m\u001b[0mall_Pbias\u001b[0m\u001b[1;33m,\u001b[0m \u001b[0mParameter\u001b[0m\u001b[1;33m)\u001b[0m\u001b[1;33m\u001b[0m\u001b[1;33m\u001b[0m\u001b[0m\n\u001b[0;32m     13\u001b[0m         \u001b[0mtmp\u001b[0m \u001b[1;33m=\u001b[0m \u001b[0mcollect_param_df\u001b[0m\u001b[1;33m(\u001b[0m\u001b[0mall_SRC\u001b[0m\u001b[1;33m,\u001b[0m \u001b[0mParameter\u001b[0m\u001b[1;33m)\u001b[0m\u001b[1;33m\u001b[0m\u001b[1;33m\u001b[0m\u001b[0m\n",
          "\u001b[1;32m~\\AppData\\Local\\Continuum\\anaconda3\\lib\\site-packages\\pandas\\core\\generic.py\u001b[0m in \u001b[0;36m__nonzero__\u001b[1;34m(self)\u001b[0m\n\u001b[0;32m   1476\u001b[0m         raise ValueError(\"The truth value of a {0} is ambiguous. \"\n\u001b[0;32m   1477\u001b[0m                          \u001b[1;34m\"Use a.empty, a.bool(), a.item(), a.any() or a.all().\"\u001b[0m\u001b[1;33m\u001b[0m\u001b[1;33m\u001b[0m\u001b[0m\n\u001b[1;32m-> 1478\u001b[1;33m                          .format(self.__class__.__name__))\n\u001b[0m\u001b[0;32m   1479\u001b[0m \u001b[1;33m\u001b[0m\u001b[0m\n\u001b[0;32m   1480\u001b[0m     \u001b[0m__bool__\u001b[0m \u001b[1;33m=\u001b[0m \u001b[0m__nonzero__\u001b[0m\u001b[1;33m\u001b[0m\u001b[1;33m\u001b[0m\u001b[0m\n",
          "\u001b[1;31mValueError\u001b[0m: The truth value of a Series is ambiguous. Use a.empty, a.bool(), a.item(), a.any() or a.all()."
         ]
        }
       ]
      }
     },
     "a4a2d7c6b5624a86ab054615ed208751": {
      "model_module": "@jupyter-widgets/base",
      "model_module_version": "1.2.0",
      "model_name": "LayoutModel",
      "state": {}
     },
     "a4e66192fae0495c9991f72c8cde398c": {
      "model_module": "@jupyter-widgets/base",
      "model_module_version": "1.2.0",
      "model_name": "LayoutModel",
      "state": {}
     },
     "a5aa99e958a54f84aba587adac27f306": {
      "model_module": "@jupyter-widgets/base",
      "model_module_version": "1.2.0",
      "model_name": "LayoutModel",
      "state": {}
     },
     "a7336ff90df3457d90ba4a8a42b5f5a7": {
      "model_module": "@jupyter-widgets/controls",
      "model_module_version": "1.5.0",
      "model_name": "DescriptionStyleModel",
      "state": {
       "description_width": ""
      }
     },
     "a79cb475e7494a5988c48b3f79c7236e": {
      "model_module": "@jupyter-widgets/controls",
      "model_module_version": "1.5.0",
      "model_name": "DropdownModel",
      "state": {
       "_options_labels": [
        "RKB1",
        "RKB10"
       ],
       "description": "x",
       "index": 1,
       "layout": "IPY_MODEL_8326aa53b63e4433a5a4a6fd1d97a17e",
       "style": "IPY_MODEL_ca1aa78914c94176a86736a7ce1bd353"
      }
     },
     "a80c72eb33264a0ebc90fc5255ee1b73": {
      "model_module": "@jupyter-widgets/controls",
      "model_module_version": "1.5.0",
      "model_name": "VBoxModel",
      "state": {
       "_dom_classes": [
        "widget-interact"
       ],
       "children": [
        "IPY_MODEL_e2b48d90d13d4ab5b10a0395ca69f212",
        "IPY_MODEL_626a2fd7e17248e991514730988ddbb4"
       ],
       "layout": "IPY_MODEL_a5aa99e958a54f84aba587adac27f306"
      }
     },
     "a88b3514905e4c02adc8a5d8bbc93fbe": {
      "model_module": "@jupyter-widgets/base",
      "model_module_version": "1.2.0",
      "model_name": "LayoutModel",
      "state": {}
     },
     "a8a144a5b27c403bbc52b81f49507371": {
      "model_module": "@jupyter-widgets/controls",
      "model_module_version": "1.5.0",
      "model_name": "DescriptionStyleModel",
      "state": {
       "description_width": ""
      }
     },
     "a94c4e2919ac4b8c99dcf4c802b8f503": {
      "model_module": "@jupyter-widgets/base",
      "model_module_version": "1.2.0",
      "model_name": "LayoutModel",
      "state": {}
     },
     "a9ae1f33ed81467487b346c815aedf27": {
      "model_module": "@jupyter-widgets/base",
      "model_module_version": "1.2.0",
      "model_name": "LayoutModel",
      "state": {}
     },
     "aadf1dd0e52a4620a101399888368d4f": {
      "model_module": "@jupyter-widgets/controls",
      "model_module_version": "1.5.0",
      "model_name": "VBoxModel",
      "state": {
       "_dom_classes": [
        "widget-interact"
       ],
       "children": [
        "IPY_MODEL_f275f2e38b4f4cd5b062cc86417942be",
        "IPY_MODEL_9ddf2efdde684bada18e19b75863f4e8"
       ],
       "layout": "IPY_MODEL_b735a3ec36ca4c2d827f0dab6b01d172"
      }
     },
     "ab672d18b9a34db5b3d5333b090d0d9d": {
      "model_module": "@jupyter-widgets/base",
      "model_module_version": "1.2.0",
      "model_name": "LayoutModel",
      "state": {}
     },
     "acc5fc20c37443a3ab42d7fed92cfd96": {
      "model_module": "@jupyter-widgets/output",
      "model_module_version": "1.0.0",
      "model_name": "OutputModel",
      "state": {
       "layout": "IPY_MODEL_41785711635c4c91a060410c3d3554ee",
       "outputs": [
        {
         "ename": "NameError",
         "evalue": "name 'ave_Qmeas' is not defined",
         "output_type": "error",
         "traceback": [
          "\u001b[1;31m---------------------------------------------------------------------------\u001b[0m",
          "\u001b[1;31mNameError\u001b[0m                                 Traceback (most recent call last)",
          "\u001b[1;32m~\\AppData\\Local\\Continuum\\anaconda3\\lib\\site-packages\\ipywidgets\\widgets\\interaction.py\u001b[0m in \u001b[0;36mupdate\u001b[1;34m(self, *args)\u001b[0m\n\u001b[0;32m    254\u001b[0m                     \u001b[0mvalue\u001b[0m \u001b[1;33m=\u001b[0m \u001b[0mwidget\u001b[0m\u001b[1;33m.\u001b[0m\u001b[0mget_interact_value\u001b[0m\u001b[1;33m(\u001b[0m\u001b[1;33m)\u001b[0m\u001b[1;33m\u001b[0m\u001b[1;33m\u001b[0m\u001b[0m\n\u001b[0;32m    255\u001b[0m                     \u001b[0mself\u001b[0m\u001b[1;33m.\u001b[0m\u001b[0mkwargs\u001b[0m\u001b[1;33m[\u001b[0m\u001b[0mwidget\u001b[0m\u001b[1;33m.\u001b[0m\u001b[0m_kwarg\u001b[0m\u001b[1;33m]\u001b[0m \u001b[1;33m=\u001b[0m \u001b[0mvalue\u001b[0m\u001b[1;33m\u001b[0m\u001b[1;33m\u001b[0m\u001b[0m\n\u001b[1;32m--> 256\u001b[1;33m                 \u001b[0mself\u001b[0m\u001b[1;33m.\u001b[0m\u001b[0mresult\u001b[0m \u001b[1;33m=\u001b[0m \u001b[0mself\u001b[0m\u001b[1;33m.\u001b[0m\u001b[0mf\u001b[0m\u001b[1;33m(\u001b[0m\u001b[1;33m**\u001b[0m\u001b[0mself\u001b[0m\u001b[1;33m.\u001b[0m\u001b[0mkwargs\u001b[0m\u001b[1;33m)\u001b[0m\u001b[1;33m\u001b[0m\u001b[1;33m\u001b[0m\u001b[0m\n\u001b[0m\u001b[0;32m    257\u001b[0m                 \u001b[0mshow_inline_matplotlib_plots\u001b[0m\u001b[1;33m(\u001b[0m\u001b[1;33m)\u001b[0m\u001b[1;33m\u001b[0m\u001b[1;33m\u001b[0m\u001b[0m\n\u001b[0;32m    258\u001b[0m                 \u001b[1;32mif\u001b[0m \u001b[0mself\u001b[0m\u001b[1;33m.\u001b[0m\u001b[0mauto_display\u001b[0m \u001b[1;32mand\u001b[0m \u001b[0mself\u001b[0m\u001b[1;33m.\u001b[0m\u001b[0mresult\u001b[0m \u001b[1;32mis\u001b[0m \u001b[1;32mnot\u001b[0m \u001b[1;32mNone\u001b[0m\u001b[1;33m:\u001b[0m\u001b[1;33m\u001b[0m\u001b[1;33m\u001b[0m\u001b[0m\n",
          "\u001b[1;32m<ipython-input-61-93f5d148e62d>\u001b[0m in \u001b[0;36mshow_ts\u001b[1;34m(Parameter, Measurements)\u001b[0m\n\u001b[0;32m     37\u001b[0m         \u001b[0mave_QMeas\u001b[0m\u001b[1;33m[\u001b[0m\u001b[1;34m'Param'\u001b[0m\u001b[1;33m]\u001b[0m\u001b[1;33m=\u001b[0m\u001b[0mParameter\u001b[0m\u001b[1;33m\u001b[0m\u001b[1;33m\u001b[0m\u001b[0m\n\u001b[0;32m     38\u001b[0m \u001b[1;33m\u001b[0m\u001b[0m\n\u001b[1;32m---> 39\u001b[1;33m     \u001b[1;32mreturn\u001b[0m \u001b[0mave_Qmeas\u001b[0m\u001b[1;33m\u001b[0m\u001b[1;33m\u001b[0m\u001b[0m\n\u001b[0m",
          "\u001b[1;31mNameError\u001b[0m: name 'ave_Qmeas' is not defined"
         ]
        }
       ]
      }
     },
     "ad496f0c59d74dd4ada31861586e5eaa": {
      "model_module": "@jupyter-widgets/controls",
      "model_module_version": "1.5.0",
      "model_name": "DescriptionStyleModel",
      "state": {
       "description_width": ""
      }
     },
     "ade0d50e8a85489b995e314e00942feb": {
      "model_module": "@jupyter-widgets/output",
      "model_module_version": "1.0.0",
      "model_name": "OutputModel",
      "state": {
       "layout": "IPY_MODEL_65d1d83306ef4e21a8312e3b9e680267",
       "outputs": [
        {
         "data": {
          "text/html": "<style  type=\"text/css\" >\n</style><table id=\"T_af254048_8eb6_11ea_940e_4889e7f3390e\" ><thead>    <tr>        <th class=\"col_heading level0 col0\" >Measurement</th>        <th class=\"col_heading level0 col1\" >Percent_Bias</th>        <th class=\"col_heading level0 col2\" >Spearman_Rank_Correlation</th>        <th class=\"col_heading level0 col3\" >Efficiency_Factor</th>        <th class=\"col_heading level0 col4\" >Cost_Function</th>        <th class=\"col_heading level0 col5\" >R2</th>        <th class=\"col_heading level0 col6\" >Total_Number_Of_Observations_1</th>    </tr></thead><tbody>\n                <tr>\n                                <td id=\"T_af254048_8eb6_11ea_940e_4889e7f3390erow0_col0\" class=\"data row0 col0\" >Standard TN</td>\n                        <td id=\"T_af254048_8eb6_11ea_940e_4889e7f3390erow0_col1\" class=\"data row0 col1\" >39.1</td>\n                        <td id=\"T_af254048_8eb6_11ea_940e_4889e7f3390erow0_col2\" class=\"data row0 col2\" >0.87</td>\n                        <td id=\"T_af254048_8eb6_11ea_940e_4889e7f3390erow0_col3\" class=\"data row0 col3\" >0.41</td>\n                        <td id=\"T_af254048_8eb6_11ea_940e_4889e7f3390erow0_col4\" class=\"data row0 col4\" >0.63</td>\n                        <td id=\"T_af254048_8eb6_11ea_940e_4889e7f3390erow0_col5\" class=\"data row0 col5\" >0.82</td>\n                        <td id=\"T_af254048_8eb6_11ea_940e_4889e7f3390erow0_col6\" class=\"data row0 col6\" >609</td>\n            </tr>\n            <tr>\n                                <td id=\"T_af254048_8eb6_11ea_940e_4889e7f3390erow1_col0\" class=\"data row1 col0\" >Standard TP</td>\n                        <td id=\"T_af254048_8eb6_11ea_940e_4889e7f3390erow1_col1\" class=\"data row1 col1\" >29.5</td>\n                        <td id=\"T_af254048_8eb6_11ea_940e_4889e7f3390erow1_col2\" class=\"data row1 col2\" >0.47</td>\n                        <td id=\"T_af254048_8eb6_11ea_940e_4889e7f3390erow1_col3\" class=\"data row1 col3\" >0.03</td>\n                        <td id=\"T_af254048_8eb6_11ea_940e_4889e7f3390erow1_col4\" class=\"data row1 col4\" >0.59</td>\n                        <td id=\"T_af254048_8eb6_11ea_940e_4889e7f3390erow1_col5\" class=\"data row1 col5\" >0.16</td>\n                        <td id=\"T_af254048_8eb6_11ea_940e_4889e7f3390erow1_col6\" class=\"data row1 col6\" >581</td>\n            </tr>\n            <tr>\n                                <td id=\"T_af254048_8eb6_11ea_940e_4889e7f3390erow2_col0\" class=\"data row2 col0\" >Standard PO4</td>\n                        <td id=\"T_af254048_8eb6_11ea_940e_4889e7f3390erow2_col1\" class=\"data row2 col1\" >41.5</td>\n                        <td id=\"T_af254048_8eb6_11ea_940e_4889e7f3390erow2_col2\" class=\"data row2 col2\" >0.69</td>\n                        <td id=\"T_af254048_8eb6_11ea_940e_4889e7f3390erow2_col3\" class=\"data row2 col3\" >-0.85</td>\n                        <td id=\"T_af254048_8eb6_11ea_940e_4889e7f3390erow2_col4\" class=\"data row2 col4\" >0.93</td>\n                        <td id=\"T_af254048_8eb6_11ea_940e_4889e7f3390erow2_col5\" class=\"data row2 col5\" >0.42</td>\n                        <td id=\"T_af254048_8eb6_11ea_940e_4889e7f3390erow2_col6\" class=\"data row2 col6\" >608</td>\n            </tr>\n            <tr>\n                                <td id=\"T_af254048_8eb6_11ea_940e_4889e7f3390erow3_col0\" class=\"data row3 col0\" >Standard DIN</td>\n                        <td id=\"T_af254048_8eb6_11ea_940e_4889e7f3390erow3_col1\" class=\"data row3 col1\" >51.8</td>\n                        <td id=\"T_af254048_8eb6_11ea_940e_4889e7f3390erow3_col2\" class=\"data row3 col2\" >0.88</td>\n                        <td id=\"T_af254048_8eb6_11ea_940e_4889e7f3390erow3_col3\" class=\"data row3 col3\" >0.59</td>\n                        <td id=\"T_af254048_8eb6_11ea_940e_4889e7f3390erow3_col4\" class=\"data row3 col4\" >0.51</td>\n                        <td id=\"T_af254048_8eb6_11ea_940e_4889e7f3390erow3_col5\" class=\"data row3 col5\" >0.84</td>\n                        <td id=\"T_af254048_8eb6_11ea_940e_4889e7f3390erow3_col6\" class=\"data row3 col6\" >608</td>\n            </tr>\n            <tr>\n                                <td id=\"T_af254048_8eb6_11ea_940e_4889e7f3390erow4_col0\" class=\"data row4 col0\" >Standard CH</td>\n                        <td id=\"T_af254048_8eb6_11ea_940e_4889e7f3390erow4_col1\" class=\"data row4 col1\" >32.9</td>\n                        <td id=\"T_af254048_8eb6_11ea_940e_4889e7f3390erow4_col2\" class=\"data row4 col2\" >0.03</td>\n                        <td id=\"T_af254048_8eb6_11ea_940e_4889e7f3390erow4_col3\" class=\"data row4 col3\" >-1.42</td>\n                        <td id=\"T_af254048_8eb6_11ea_940e_4889e7f3390erow4_col4\" class=\"data row4 col4\" >1.12</td>\n                        <td id=\"T_af254048_8eb6_11ea_940e_4889e7f3390erow4_col5\" class=\"data row4 col5\" >0</td>\n                        <td id=\"T_af254048_8eb6_11ea_940e_4889e7f3390erow4_col6\" class=\"data row4 col6\" >618</td>\n            </tr>\n            <tr>\n                                <td id=\"T_af254048_8eb6_11ea_940e_4889e7f3390erow5_col0\" class=\"data row5 col0\" >Standard DO</td>\n                        <td id=\"T_af254048_8eb6_11ea_940e_4889e7f3390erow5_col1\" class=\"data row5 col1\" >3.3</td>\n                        <td id=\"T_af254048_8eb6_11ea_940e_4889e7f3390erow5_col2\" class=\"data row5 col2\" >0.87</td>\n                        <td id=\"T_af254048_8eb6_11ea_940e_4889e7f3390erow5_col3\" class=\"data row5 col3\" >0.63</td>\n                        <td id=\"T_af254048_8eb6_11ea_940e_4889e7f3390erow5_col4\" class=\"data row5 col4\" >0.44</td>\n                        <td id=\"T_af254048_8eb6_11ea_940e_4889e7f3390erow5_col5\" class=\"data row5 col5\" >0.73</td>\n                        <td id=\"T_af254048_8eb6_11ea_940e_4889e7f3390erow5_col6\" class=\"data row5 col6\" >544</td>\n            </tr>\n            <tr>\n                                <td id=\"T_af254048_8eb6_11ea_940e_4889e7f3390erow6_col0\" class=\"data row6 col0\" >Standard KD</td>\n                        <td id=\"T_af254048_8eb6_11ea_940e_4889e7f3390erow6_col1\" class=\"data row6 col1\" >41.8</td>\n                        <td id=\"T_af254048_8eb6_11ea_940e_4889e7f3390erow6_col2\" class=\"data row6 col2\" >0.52</td>\n                        <td id=\"T_af254048_8eb6_11ea_940e_4889e7f3390erow6_col3\" class=\"data row6 col3\" >0</td>\n                        <td id=\"T_af254048_8eb6_11ea_940e_4889e7f3390erow6_col4\" class=\"data row6 col4\" >0.55</td>\n                        <td id=\"T_af254048_8eb6_11ea_940e_4889e7f3390erow6_col5\" class=\"data row6 col5\" >0.24</td>\n                        <td id=\"T_af254048_8eb6_11ea_940e_4889e7f3390erow6_col6\" class=\"data row6 col6\" >548</td>\n            </tr>\n            <tr>\n                                <td id=\"T_af254048_8eb6_11ea_940e_4889e7f3390erow7_col0\" class=\"data row7 col0\" >Summer Observations CH</td>\n                        <td id=\"T_af254048_8eb6_11ea_940e_4889e7f3390erow7_col1\" class=\"data row7 col1\" >9.5</td>\n                        <td id=\"T_af254048_8eb6_11ea_940e_4889e7f3390erow7_col2\" class=\"data row7 col2\" >-0.05</td>\n                        <td id=\"T_af254048_8eb6_11ea_940e_4889e7f3390erow7_col3\" class=\"data row7 col3\" >-1.72</td>\n                        <td id=\"T_af254048_8eb6_11ea_940e_4889e7f3390erow7_col4\" class=\"data row7 col4\" >1.15</td>\n                        <td id=\"T_af254048_8eb6_11ea_940e_4889e7f3390erow7_col5\" class=\"data row7 col5\" >0.01</td>\n                        <td id=\"T_af254048_8eb6_11ea_940e_4889e7f3390erow7_col6\" class=\"data row7 col6\" >281</td>\n            </tr>\n            <tr>\n                                <td id=\"T_af254048_8eb6_11ea_940e_4889e7f3390erow8_col0\" class=\"data row8 col0\" >Summer Observations KD</td>\n                        <td id=\"T_af254048_8eb6_11ea_940e_4889e7f3390erow8_col1\" class=\"data row8 col1\" >36.1</td>\n                        <td id=\"T_af254048_8eb6_11ea_940e_4889e7f3390erow8_col2\" class=\"data row8 col2\" >0.29</td>\n                        <td id=\"T_af254048_8eb6_11ea_940e_4889e7f3390erow8_col3\" class=\"data row8 col3\" >-0.11</td>\n                        <td id=\"T_af254048_8eb6_11ea_940e_4889e7f3390erow8_col4\" class=\"data row8 col4\" >0.66</td>\n                        <td id=\"T_af254048_8eb6_11ea_940e_4889e7f3390erow8_col5\" class=\"data row8 col5\" >0.15</td>\n                        <td id=\"T_af254048_8eb6_11ea_940e_4889e7f3390erow8_col6\" class=\"data row8 col6\" >355</td>\n            </tr>\n            <tr>\n                                <td id=\"T_af254048_8eb6_11ea_940e_4889e7f3390erow9_col0\" class=\"data row9 col0\" >Winter Observations PO4</td>\n                        <td id=\"T_af254048_8eb6_11ea_940e_4889e7f3390erow9_col1\" class=\"data row9 col1\" >56.7</td>\n                        <td id=\"T_af254048_8eb6_11ea_940e_4889e7f3390erow9_col2\" class=\"data row9 col2\" >-0.11</td>\n                        <td id=\"T_af254048_8eb6_11ea_940e_4889e7f3390erow9_col3\" class=\"data row9 col3\" >-6.15</td>\n                        <td id=\"T_af254048_8eb6_11ea_940e_4889e7f3390erow9_col4\" class=\"data row9 col4\" >2.2</td>\n                        <td id=\"T_af254048_8eb6_11ea_940e_4889e7f3390erow9_col5\" class=\"data row9 col5\" >0</td>\n                        <td id=\"T_af254048_8eb6_11ea_940e_4889e7f3390erow9_col6\" class=\"data row9 col6\" >104</td>\n            </tr>\n            <tr>\n                                <td id=\"T_af254048_8eb6_11ea_940e_4889e7f3390erow10_col0\" class=\"data row10 col0\" >Winter Observations DIN</td>\n                        <td id=\"T_af254048_8eb6_11ea_940e_4889e7f3390erow10_col1\" class=\"data row10 col1\" >22.8</td>\n                        <td id=\"T_af254048_8eb6_11ea_940e_4889e7f3390erow10_col2\" class=\"data row10 col2\" >0.71</td>\n                        <td id=\"T_af254048_8eb6_11ea_940e_4889e7f3390erow10_col3\" class=\"data row10 col3\" >-0.31</td>\n                        <td id=\"T_af254048_8eb6_11ea_940e_4889e7f3390erow10_col4\" class=\"data row10 col4\" >0.96</td>\n                        <td id=\"T_af254048_8eb6_11ea_940e_4889e7f3390erow10_col5\" class=\"data row10 col5\" >0.53</td>\n                        <td id=\"T_af254048_8eb6_11ea_940e_4889e7f3390erow10_col6\" class=\"data row10 col6\" >104</td>\n            </tr>\n    </tbody></table>",
          "text/plain": "<pandas.io.formats.style.Styler at 0x1f250a78048>"
         },
         "metadata": {},
         "output_type": "display_data"
        }
       ]
      }
     },
     "ae3575d1e38f4567865eef44cade4e6c": {
      "model_module": "@jupyter-widgets/output",
      "model_module_version": "1.0.0",
      "model_name": "OutputModel",
      "state": {
       "layout": "IPY_MODEL_9781a7a8d1ed44c9beb859084aa09123",
       "outputs": [
        {
         "data": {
          "text/html": "<style  type=\"text/css\" >\n</style><table id=\"T_b3ae26b4_8eb5_11ea_adca_4889e7f3390e\" ><thead>    <tr>        <th class=\"col_heading level0 col0\" >Measurement</th>        <th class=\"col_heading level0 col1\" >Percent_Bias</th>        <th class=\"col_heading level0 col2\" >Spearman_Rank_Correlation</th>        <th class=\"col_heading level0 col3\" >Efficiency_Factor</th>        <th class=\"col_heading level0 col4\" >Cost_Function</th>        <th class=\"col_heading level0 col5\" >R2</th>        <th class=\"col_heading level0 col6\" >Total_Number_Of_Observations_1</th>    </tr></thead><tbody>\n                <tr>\n                                <td id=\"T_b3ae26b4_8eb5_11ea_adca_4889e7f3390erow0_col0\" class=\"data row0 col0\" >Standard TN</td>\n                        <td id=\"T_b3ae26b4_8eb5_11ea_adca_4889e7f3390erow0_col1\" class=\"data row0 col1\" >39.1</td>\n                        <td id=\"T_b3ae26b4_8eb5_11ea_adca_4889e7f3390erow0_col2\" class=\"data row0 col2\" >0.87</td>\n                        <td id=\"T_b3ae26b4_8eb5_11ea_adca_4889e7f3390erow0_col3\" class=\"data row0 col3\" >0.41</td>\n                        <td id=\"T_b3ae26b4_8eb5_11ea_adca_4889e7f3390erow0_col4\" class=\"data row0 col4\" >0.63</td>\n                        <td id=\"T_b3ae26b4_8eb5_11ea_adca_4889e7f3390erow0_col5\" class=\"data row0 col5\" >0.82</td>\n                        <td id=\"T_b3ae26b4_8eb5_11ea_adca_4889e7f3390erow0_col6\" class=\"data row0 col6\" >609</td>\n            </tr>\n            <tr>\n                                <td id=\"T_b3ae26b4_8eb5_11ea_adca_4889e7f3390erow1_col0\" class=\"data row1 col0\" >Standard TP</td>\n                        <td id=\"T_b3ae26b4_8eb5_11ea_adca_4889e7f3390erow1_col1\" class=\"data row1 col1\" >29.5</td>\n                        <td id=\"T_b3ae26b4_8eb5_11ea_adca_4889e7f3390erow1_col2\" class=\"data row1 col2\" >0.47</td>\n                        <td id=\"T_b3ae26b4_8eb5_11ea_adca_4889e7f3390erow1_col3\" class=\"data row1 col3\" >0.03</td>\n                        <td id=\"T_b3ae26b4_8eb5_11ea_adca_4889e7f3390erow1_col4\" class=\"data row1 col4\" >0.59</td>\n                        <td id=\"T_b3ae26b4_8eb5_11ea_adca_4889e7f3390erow1_col5\" class=\"data row1 col5\" >0.16</td>\n                        <td id=\"T_b3ae26b4_8eb5_11ea_adca_4889e7f3390erow1_col6\" class=\"data row1 col6\" >581</td>\n            </tr>\n            <tr>\n                                <td id=\"T_b3ae26b4_8eb5_11ea_adca_4889e7f3390erow2_col0\" class=\"data row2 col0\" >Standard PO4</td>\n                        <td id=\"T_b3ae26b4_8eb5_11ea_adca_4889e7f3390erow2_col1\" class=\"data row2 col1\" >41.5</td>\n                        <td id=\"T_b3ae26b4_8eb5_11ea_adca_4889e7f3390erow2_col2\" class=\"data row2 col2\" >0.69</td>\n                        <td id=\"T_b3ae26b4_8eb5_11ea_adca_4889e7f3390erow2_col3\" class=\"data row2 col3\" >-0.85</td>\n                        <td id=\"T_b3ae26b4_8eb5_11ea_adca_4889e7f3390erow2_col4\" class=\"data row2 col4\" >0.93</td>\n                        <td id=\"T_b3ae26b4_8eb5_11ea_adca_4889e7f3390erow2_col5\" class=\"data row2 col5\" >0.42</td>\n                        <td id=\"T_b3ae26b4_8eb5_11ea_adca_4889e7f3390erow2_col6\" class=\"data row2 col6\" >608</td>\n            </tr>\n            <tr>\n                                <td id=\"T_b3ae26b4_8eb5_11ea_adca_4889e7f3390erow3_col0\" class=\"data row3 col0\" >Standard DIN</td>\n                        <td id=\"T_b3ae26b4_8eb5_11ea_adca_4889e7f3390erow3_col1\" class=\"data row3 col1\" >51.8</td>\n                        <td id=\"T_b3ae26b4_8eb5_11ea_adca_4889e7f3390erow3_col2\" class=\"data row3 col2\" >0.88</td>\n                        <td id=\"T_b3ae26b4_8eb5_11ea_adca_4889e7f3390erow3_col3\" class=\"data row3 col3\" >0.59</td>\n                        <td id=\"T_b3ae26b4_8eb5_11ea_adca_4889e7f3390erow3_col4\" class=\"data row3 col4\" >0.51</td>\n                        <td id=\"T_b3ae26b4_8eb5_11ea_adca_4889e7f3390erow3_col5\" class=\"data row3 col5\" >0.84</td>\n                        <td id=\"T_b3ae26b4_8eb5_11ea_adca_4889e7f3390erow3_col6\" class=\"data row3 col6\" >608</td>\n            </tr>\n            <tr>\n                                <td id=\"T_b3ae26b4_8eb5_11ea_adca_4889e7f3390erow4_col0\" class=\"data row4 col0\" >Standard CH</td>\n                        <td id=\"T_b3ae26b4_8eb5_11ea_adca_4889e7f3390erow4_col1\" class=\"data row4 col1\" >32.9</td>\n                        <td id=\"T_b3ae26b4_8eb5_11ea_adca_4889e7f3390erow4_col2\" class=\"data row4 col2\" >0.03</td>\n                        <td id=\"T_b3ae26b4_8eb5_11ea_adca_4889e7f3390erow4_col3\" class=\"data row4 col3\" >-1.42</td>\n                        <td id=\"T_b3ae26b4_8eb5_11ea_adca_4889e7f3390erow4_col4\" class=\"data row4 col4\" >1.12</td>\n                        <td id=\"T_b3ae26b4_8eb5_11ea_adca_4889e7f3390erow4_col5\" class=\"data row4 col5\" >0</td>\n                        <td id=\"T_b3ae26b4_8eb5_11ea_adca_4889e7f3390erow4_col6\" class=\"data row4 col6\" >618</td>\n            </tr>\n            <tr>\n                                <td id=\"T_b3ae26b4_8eb5_11ea_adca_4889e7f3390erow5_col0\" class=\"data row5 col0\" >Standard DO</td>\n                        <td id=\"T_b3ae26b4_8eb5_11ea_adca_4889e7f3390erow5_col1\" class=\"data row5 col1\" >3.3</td>\n                        <td id=\"T_b3ae26b4_8eb5_11ea_adca_4889e7f3390erow5_col2\" class=\"data row5 col2\" >0.87</td>\n                        <td id=\"T_b3ae26b4_8eb5_11ea_adca_4889e7f3390erow5_col3\" class=\"data row5 col3\" >0.63</td>\n                        <td id=\"T_b3ae26b4_8eb5_11ea_adca_4889e7f3390erow5_col4\" class=\"data row5 col4\" >0.44</td>\n                        <td id=\"T_b3ae26b4_8eb5_11ea_adca_4889e7f3390erow5_col5\" class=\"data row5 col5\" >0.73</td>\n                        <td id=\"T_b3ae26b4_8eb5_11ea_adca_4889e7f3390erow5_col6\" class=\"data row5 col6\" >544</td>\n            </tr>\n            <tr>\n                                <td id=\"T_b3ae26b4_8eb5_11ea_adca_4889e7f3390erow6_col0\" class=\"data row6 col0\" >Standard KD</td>\n                        <td id=\"T_b3ae26b4_8eb5_11ea_adca_4889e7f3390erow6_col1\" class=\"data row6 col1\" >41.8</td>\n                        <td id=\"T_b3ae26b4_8eb5_11ea_adca_4889e7f3390erow6_col2\" class=\"data row6 col2\" >0.52</td>\n                        <td id=\"T_b3ae26b4_8eb5_11ea_adca_4889e7f3390erow6_col3\" class=\"data row6 col3\" >0</td>\n                        <td id=\"T_b3ae26b4_8eb5_11ea_adca_4889e7f3390erow6_col4\" class=\"data row6 col4\" >0.55</td>\n                        <td id=\"T_b3ae26b4_8eb5_11ea_adca_4889e7f3390erow6_col5\" class=\"data row6 col5\" >0.24</td>\n                        <td id=\"T_b3ae26b4_8eb5_11ea_adca_4889e7f3390erow6_col6\" class=\"data row6 col6\" >548</td>\n            </tr>\n            <tr>\n                                <td id=\"T_b3ae26b4_8eb5_11ea_adca_4889e7f3390erow7_col0\" class=\"data row7 col0\" >Summer Observations CH</td>\n                        <td id=\"T_b3ae26b4_8eb5_11ea_adca_4889e7f3390erow7_col1\" class=\"data row7 col1\" >9.5</td>\n                        <td id=\"T_b3ae26b4_8eb5_11ea_adca_4889e7f3390erow7_col2\" class=\"data row7 col2\" >-0.05</td>\n                        <td id=\"T_b3ae26b4_8eb5_11ea_adca_4889e7f3390erow7_col3\" class=\"data row7 col3\" >-1.72</td>\n                        <td id=\"T_b3ae26b4_8eb5_11ea_adca_4889e7f3390erow7_col4\" class=\"data row7 col4\" >1.15</td>\n                        <td id=\"T_b3ae26b4_8eb5_11ea_adca_4889e7f3390erow7_col5\" class=\"data row7 col5\" >0.01</td>\n                        <td id=\"T_b3ae26b4_8eb5_11ea_adca_4889e7f3390erow7_col6\" class=\"data row7 col6\" >281</td>\n            </tr>\n            <tr>\n                                <td id=\"T_b3ae26b4_8eb5_11ea_adca_4889e7f3390erow8_col0\" class=\"data row8 col0\" >Summer Observations KD</td>\n                        <td id=\"T_b3ae26b4_8eb5_11ea_adca_4889e7f3390erow8_col1\" class=\"data row8 col1\" >36.1</td>\n                        <td id=\"T_b3ae26b4_8eb5_11ea_adca_4889e7f3390erow8_col2\" class=\"data row8 col2\" >0.29</td>\n                        <td id=\"T_b3ae26b4_8eb5_11ea_adca_4889e7f3390erow8_col3\" class=\"data row8 col3\" >-0.11</td>\n                        <td id=\"T_b3ae26b4_8eb5_11ea_adca_4889e7f3390erow8_col4\" class=\"data row8 col4\" >0.66</td>\n                        <td id=\"T_b3ae26b4_8eb5_11ea_adca_4889e7f3390erow8_col5\" class=\"data row8 col5\" >0.15</td>\n                        <td id=\"T_b3ae26b4_8eb5_11ea_adca_4889e7f3390erow8_col6\" class=\"data row8 col6\" >355</td>\n            </tr>\n            <tr>\n                                <td id=\"T_b3ae26b4_8eb5_11ea_adca_4889e7f3390erow9_col0\" class=\"data row9 col0\" >Winter Observations PO4</td>\n                        <td id=\"T_b3ae26b4_8eb5_11ea_adca_4889e7f3390erow9_col1\" class=\"data row9 col1\" >56.7</td>\n                        <td id=\"T_b3ae26b4_8eb5_11ea_adca_4889e7f3390erow9_col2\" class=\"data row9 col2\" >-0.11</td>\n                        <td id=\"T_b3ae26b4_8eb5_11ea_adca_4889e7f3390erow9_col3\" class=\"data row9 col3\" >-6.15</td>\n                        <td id=\"T_b3ae26b4_8eb5_11ea_adca_4889e7f3390erow9_col4\" class=\"data row9 col4\" >2.2</td>\n                        <td id=\"T_b3ae26b4_8eb5_11ea_adca_4889e7f3390erow9_col5\" class=\"data row9 col5\" >0</td>\n                        <td id=\"T_b3ae26b4_8eb5_11ea_adca_4889e7f3390erow9_col6\" class=\"data row9 col6\" >104</td>\n            </tr>\n            <tr>\n                                <td id=\"T_b3ae26b4_8eb5_11ea_adca_4889e7f3390erow10_col0\" class=\"data row10 col0\" >Winter Observations DIN</td>\n                        <td id=\"T_b3ae26b4_8eb5_11ea_adca_4889e7f3390erow10_col1\" class=\"data row10 col1\" >22.8</td>\n                        <td id=\"T_b3ae26b4_8eb5_11ea_adca_4889e7f3390erow10_col2\" class=\"data row10 col2\" >0.71</td>\n                        <td id=\"T_b3ae26b4_8eb5_11ea_adca_4889e7f3390erow10_col3\" class=\"data row10 col3\" >-0.31</td>\n                        <td id=\"T_b3ae26b4_8eb5_11ea_adca_4889e7f3390erow10_col4\" class=\"data row10 col4\" >0.96</td>\n                        <td id=\"T_b3ae26b4_8eb5_11ea_adca_4889e7f3390erow10_col5\" class=\"data row10 col5\" >0.53</td>\n                        <td id=\"T_b3ae26b4_8eb5_11ea_adca_4889e7f3390erow10_col6\" class=\"data row10 col6\" >104</td>\n            </tr>\n    </tbody></table>",
          "text/plain": "<pandas.io.formats.style.Styler at 0x1f250a69550>"
         },
         "metadata": {},
         "output_type": "display_data"
        }
       ]
      }
     },
     "b002b221344c4a83b86d0ec89de31119": {
      "model_module": "@jupyter-widgets/base",
      "model_module_version": "1.2.0",
      "model_name": "LayoutModel",
      "state": {}
     },
     "b0bedb54c7dd45608c85b07f88d7ce6d": {
      "model_module": "@jupyter-widgets/controls",
      "model_module_version": "1.5.0",
      "model_name": "VBoxModel",
      "state": {
       "_dom_classes": [
        "widget-interact"
       ],
       "children": [
        "IPY_MODEL_69012e63485745bc92896ecf5b27aa76",
        "IPY_MODEL_63b8b9768c80413caa6353ff5172018f"
       ],
       "layout": "IPY_MODEL_e6394430fff5476db3f6f0ef99ee5d54"
      }
     },
     "b132f19048214fd7802e72ee8f7035e7": {
      "model_module": "@jupyter-widgets/controls",
      "model_module_version": "1.5.0",
      "model_name": "DescriptionStyleModel",
      "state": {
       "description_width": ""
      }
     },
     "b17a94bc20dd40e0986a74fe134ba16f": {
      "model_module": "@jupyter-widgets/controls",
      "model_module_version": "1.5.0",
      "model_name": "DropdownModel",
      "state": {
       "_options_labels": [
        "Percent_Bias",
        "Spearman_Rank_Correlation",
        "Efficiency_Factor",
        "Cost_Function",
        "R2"
       ],
       "description": "QMeasure",
       "index": 1,
       "layout": "IPY_MODEL_a88b3514905e4c02adc8a5d8bbc93fbe",
       "style": "IPY_MODEL_c153d6eb1aa142cf9f8e4437a90c414a"
      }
     },
     "b1cc58712f5b4402a1b0d99cdf9d7f1e": {
      "model_module": "@jupyter-widgets/controls",
      "model_module_version": "1.5.0",
      "model_name": "DescriptionStyleModel",
      "state": {
       "description_width": ""
      }
     },
     "b1d58a28ba8a435f9101234d1211b9e3": {
      "model_module": "@jupyter-widgets/output",
      "model_module_version": "1.0.0",
      "model_name": "OutputModel",
      "state": {
       "layout": "IPY_MODEL_87a851f9c8ed4f50b1edc5e48ca58a8e",
       "outputs": [
        {
         "data": {
          "text/html": "<style  type=\"text/css\" >\n</style><table id=\"T_c6c5827a_8eaa_11ea_9773_4889e7f3390e\" ><thead>    <tr>        <th class=\"col_heading level0 col0\" >Standard TN</th>        <th class=\"col_heading level0 col1\" >Standard TP</th>        <th class=\"col_heading level0 col2\" >Standard PO4</th>        <th class=\"col_heading level0 col3\" >Standard DIN</th>        <th class=\"col_heading level0 col4\" >Standard CH</th>        <th class=\"col_heading level0 col5\" >Standard DO</th>        <th class=\"col_heading level0 col6\" >Standard KD</th>        <th class=\"col_heading level0 col7\" >Summer Observations CH</th>        <th class=\"col_heading level0 col8\" >Summer Observations KD</th>        <th class=\"col_heading level0 col9\" >Winter Observations PO4</th>        <th class=\"col_heading level0 col10\" >Winter Observations DIN</th>        <th class=\"col_heading level0 col11\" >min. no. obs.</th>        <th class=\"col_heading level0 col12\" >max. no. obs.</th>        <th class=\"col_heading level0 col13\" >station</th>    </tr></thead><tbody>\n                <tr>\n                                <td id=\"T_c6c5827a_8eaa_11ea_9773_4889e7f3390erow0_col0\" class=\"data row0 col0\" >39.12</td>\n                        <td id=\"T_c6c5827a_8eaa_11ea_9773_4889e7f3390erow0_col1\" class=\"data row0 col1\" >29.53</td>\n                        <td id=\"T_c6c5827a_8eaa_11ea_9773_4889e7f3390erow0_col2\" class=\"data row0 col2\" >41.46</td>\n                        <td id=\"T_c6c5827a_8eaa_11ea_9773_4889e7f3390erow0_col3\" class=\"data row0 col3\" >51.79</td>\n                        <td id=\"T_c6c5827a_8eaa_11ea_9773_4889e7f3390erow0_col4\" class=\"data row0 col4\" >32.91</td>\n                        <td id=\"T_c6c5827a_8eaa_11ea_9773_4889e7f3390erow0_col5\" class=\"data row0 col5\" >3.33</td>\n                        <td id=\"T_c6c5827a_8eaa_11ea_9773_4889e7f3390erow0_col6\" class=\"data row0 col6\" >41.77</td>\n                        <td id=\"T_c6c5827a_8eaa_11ea_9773_4889e7f3390erow0_col7\" class=\"data row0 col7\" >9.53</td>\n                        <td id=\"T_c6c5827a_8eaa_11ea_9773_4889e7f3390erow0_col8\" class=\"data row0 col8\" >36.14</td>\n                        <td id=\"T_c6c5827a_8eaa_11ea_9773_4889e7f3390erow0_col9\" class=\"data row0 col9\" >56.66</td>\n                        <td id=\"T_c6c5827a_8eaa_11ea_9773_4889e7f3390erow0_col10\" class=\"data row0 col10\" >22.77</td>\n                        <td id=\"T_c6c5827a_8eaa_11ea_9773_4889e7f3390erow0_col11\" class=\"data row0 col11\" >104</td>\n                        <td id=\"T_c6c5827a_8eaa_11ea_9773_4889e7f3390erow0_col12\" class=\"data row0 col12\" >618</td>\n                        <td id=\"T_c6c5827a_8eaa_11ea_9773_4889e7f3390erow0_col13\" class=\"data row0 col13\" >RKB1</td>\n            </tr>\n            <tr>\n                                <td id=\"T_c6c5827a_8eaa_11ea_9773_4889e7f3390erow1_col0\" class=\"data row1 col0\" >0.87</td>\n                        <td id=\"T_c6c5827a_8eaa_11ea_9773_4889e7f3390erow1_col1\" class=\"data row1 col1\" >0.47</td>\n                        <td id=\"T_c6c5827a_8eaa_11ea_9773_4889e7f3390erow1_col2\" class=\"data row1 col2\" >0.69</td>\n                        <td id=\"T_c6c5827a_8eaa_11ea_9773_4889e7f3390erow1_col3\" class=\"data row1 col3\" >0.88</td>\n                        <td id=\"T_c6c5827a_8eaa_11ea_9773_4889e7f3390erow1_col4\" class=\"data row1 col4\" >0.03</td>\n                        <td id=\"T_c6c5827a_8eaa_11ea_9773_4889e7f3390erow1_col5\" class=\"data row1 col5\" >0.87</td>\n                        <td id=\"T_c6c5827a_8eaa_11ea_9773_4889e7f3390erow1_col6\" class=\"data row1 col6\" >0.52</td>\n                        <td id=\"T_c6c5827a_8eaa_11ea_9773_4889e7f3390erow1_col7\" class=\"data row1 col7\" >-0.05</td>\n                        <td id=\"T_c6c5827a_8eaa_11ea_9773_4889e7f3390erow1_col8\" class=\"data row1 col8\" >0.29</td>\n                        <td id=\"T_c6c5827a_8eaa_11ea_9773_4889e7f3390erow1_col9\" class=\"data row1 col9\" >-0.11</td>\n                        <td id=\"T_c6c5827a_8eaa_11ea_9773_4889e7f3390erow1_col10\" class=\"data row1 col10\" >0.71</td>\n                        <td id=\"T_c6c5827a_8eaa_11ea_9773_4889e7f3390erow1_col11\" class=\"data row1 col11\" >104</td>\n                        <td id=\"T_c6c5827a_8eaa_11ea_9773_4889e7f3390erow1_col12\" class=\"data row1 col12\" >618</td>\n                        <td id=\"T_c6c5827a_8eaa_11ea_9773_4889e7f3390erow1_col13\" class=\"data row1 col13\" >RKB1</td>\n            </tr>\n            <tr>\n                                <td id=\"T_c6c5827a_8eaa_11ea_9773_4889e7f3390erow2_col0\" class=\"data row2 col0\" >0.41</td>\n                        <td id=\"T_c6c5827a_8eaa_11ea_9773_4889e7f3390erow2_col1\" class=\"data row2 col1\" >0.03</td>\n                        <td id=\"T_c6c5827a_8eaa_11ea_9773_4889e7f3390erow2_col2\" class=\"data row2 col2\" >-0.85</td>\n                        <td id=\"T_c6c5827a_8eaa_11ea_9773_4889e7f3390erow2_col3\" class=\"data row2 col3\" >0.59</td>\n                        <td id=\"T_c6c5827a_8eaa_11ea_9773_4889e7f3390erow2_col4\" class=\"data row2 col4\" >-1.42</td>\n                        <td id=\"T_c6c5827a_8eaa_11ea_9773_4889e7f3390erow2_col5\" class=\"data row2 col5\" >0.63</td>\n                        <td id=\"T_c6c5827a_8eaa_11ea_9773_4889e7f3390erow2_col6\" class=\"data row2 col6\" >0</td>\n                        <td id=\"T_c6c5827a_8eaa_11ea_9773_4889e7f3390erow2_col7\" class=\"data row2 col7\" >-1.72</td>\n                        <td id=\"T_c6c5827a_8eaa_11ea_9773_4889e7f3390erow2_col8\" class=\"data row2 col8\" >-0.11</td>\n                        <td id=\"T_c6c5827a_8eaa_11ea_9773_4889e7f3390erow2_col9\" class=\"data row2 col9\" >-6.15</td>\n                        <td id=\"T_c6c5827a_8eaa_11ea_9773_4889e7f3390erow2_col10\" class=\"data row2 col10\" >-0.31</td>\n                        <td id=\"T_c6c5827a_8eaa_11ea_9773_4889e7f3390erow2_col11\" class=\"data row2 col11\" >104</td>\n                        <td id=\"T_c6c5827a_8eaa_11ea_9773_4889e7f3390erow2_col12\" class=\"data row2 col12\" >618</td>\n                        <td id=\"T_c6c5827a_8eaa_11ea_9773_4889e7f3390erow2_col13\" class=\"data row2 col13\" >RKB1</td>\n            </tr>\n            <tr>\n                                <td id=\"T_c6c5827a_8eaa_11ea_9773_4889e7f3390erow3_col0\" class=\"data row3 col0\" >0.63</td>\n                        <td id=\"T_c6c5827a_8eaa_11ea_9773_4889e7f3390erow3_col1\" class=\"data row3 col1\" >0.59</td>\n                        <td id=\"T_c6c5827a_8eaa_11ea_9773_4889e7f3390erow3_col2\" class=\"data row3 col2\" >0.93</td>\n                        <td id=\"T_c6c5827a_8eaa_11ea_9773_4889e7f3390erow3_col3\" class=\"data row3 col3\" >0.51</td>\n                        <td id=\"T_c6c5827a_8eaa_11ea_9773_4889e7f3390erow3_col4\" class=\"data row3 col4\" >1.12</td>\n                        <td id=\"T_c6c5827a_8eaa_11ea_9773_4889e7f3390erow3_col5\" class=\"data row3 col5\" >0.44</td>\n                        <td id=\"T_c6c5827a_8eaa_11ea_9773_4889e7f3390erow3_col6\" class=\"data row3 col6\" >0.55</td>\n                        <td id=\"T_c6c5827a_8eaa_11ea_9773_4889e7f3390erow3_col7\" class=\"data row3 col7\" >1.15</td>\n                        <td id=\"T_c6c5827a_8eaa_11ea_9773_4889e7f3390erow3_col8\" class=\"data row3 col8\" >0.66</td>\n                        <td id=\"T_c6c5827a_8eaa_11ea_9773_4889e7f3390erow3_col9\" class=\"data row3 col9\" >2.2</td>\n                        <td id=\"T_c6c5827a_8eaa_11ea_9773_4889e7f3390erow3_col10\" class=\"data row3 col10\" >0.96</td>\n                        <td id=\"T_c6c5827a_8eaa_11ea_9773_4889e7f3390erow3_col11\" class=\"data row3 col11\" >104</td>\n                        <td id=\"T_c6c5827a_8eaa_11ea_9773_4889e7f3390erow3_col12\" class=\"data row3 col12\" >618</td>\n                        <td id=\"T_c6c5827a_8eaa_11ea_9773_4889e7f3390erow3_col13\" class=\"data row3 col13\" >RKB1</td>\n            </tr>\n            <tr>\n                                <td id=\"T_c6c5827a_8eaa_11ea_9773_4889e7f3390erow4_col0\" class=\"data row4 col0\" >0.82</td>\n                        <td id=\"T_c6c5827a_8eaa_11ea_9773_4889e7f3390erow4_col1\" class=\"data row4 col1\" >0.16</td>\n                        <td id=\"T_c6c5827a_8eaa_11ea_9773_4889e7f3390erow4_col2\" class=\"data row4 col2\" >0.42</td>\n                        <td id=\"T_c6c5827a_8eaa_11ea_9773_4889e7f3390erow4_col3\" class=\"data row4 col3\" >0.84</td>\n                        <td id=\"T_c6c5827a_8eaa_11ea_9773_4889e7f3390erow4_col4\" class=\"data row4 col4\" >0</td>\n                        <td id=\"T_c6c5827a_8eaa_11ea_9773_4889e7f3390erow4_col5\" class=\"data row4 col5\" >0.73</td>\n                        <td id=\"T_c6c5827a_8eaa_11ea_9773_4889e7f3390erow4_col6\" class=\"data row4 col6\" >0.24</td>\n                        <td id=\"T_c6c5827a_8eaa_11ea_9773_4889e7f3390erow4_col7\" class=\"data row4 col7\" >0.01</td>\n                        <td id=\"T_c6c5827a_8eaa_11ea_9773_4889e7f3390erow4_col8\" class=\"data row4 col8\" >0.15</td>\n                        <td id=\"T_c6c5827a_8eaa_11ea_9773_4889e7f3390erow4_col9\" class=\"data row4 col9\" >0</td>\n                        <td id=\"T_c6c5827a_8eaa_11ea_9773_4889e7f3390erow4_col10\" class=\"data row4 col10\" >0.53</td>\n                        <td id=\"T_c6c5827a_8eaa_11ea_9773_4889e7f3390erow4_col11\" class=\"data row4 col11\" >104</td>\n                        <td id=\"T_c6c5827a_8eaa_11ea_9773_4889e7f3390erow4_col12\" class=\"data row4 col12\" >618</td>\n                        <td id=\"T_c6c5827a_8eaa_11ea_9773_4889e7f3390erow4_col13\" class=\"data row4 col13\" >RKB1</td>\n            </tr>\n            <tr>\n                                <td id=\"T_c6c5827a_8eaa_11ea_9773_4889e7f3390erow5_col0\" class=\"data row5 col0\" >42.17</td>\n                        <td id=\"T_c6c5827a_8eaa_11ea_9773_4889e7f3390erow5_col1\" class=\"data row5 col1\" >12.74</td>\n                        <td id=\"T_c6c5827a_8eaa_11ea_9773_4889e7f3390erow5_col2\" class=\"data row5 col2\" >38.48</td>\n                        <td id=\"T_c6c5827a_8eaa_11ea_9773_4889e7f3390erow5_col3\" class=\"data row5 col3\" >62.33</td>\n                        <td id=\"T_c6c5827a_8eaa_11ea_9773_4889e7f3390erow5_col4\" class=\"data row5 col4\" >41.65</td>\n                        <td id=\"T_c6c5827a_8eaa_11ea_9773_4889e7f3390erow5_col5\" class=\"data row5 col5\" >2.51</td>\n                        <td id=\"T_c6c5827a_8eaa_11ea_9773_4889e7f3390erow5_col6\" class=\"data row5 col6\" >43.25</td>\n                        <td id=\"T_c6c5827a_8eaa_11ea_9773_4889e7f3390erow5_col7\" class=\"data row5 col7\" >23.03</td>\n                        <td id=\"T_c6c5827a_8eaa_11ea_9773_4889e7f3390erow5_col8\" class=\"data row5 col8\" >38.82</td>\n                        <td id=\"T_c6c5827a_8eaa_11ea_9773_4889e7f3390erow5_col9\" class=\"data row5 col9\" >35.75</td>\n                        <td id=\"T_c6c5827a_8eaa_11ea_9773_4889e7f3390erow5_col10\" class=\"data row5 col10\" >29.59</td>\n                        <td id=\"T_c6c5827a_8eaa_11ea_9773_4889e7f3390erow5_col11\" class=\"data row5 col11\" >70</td>\n                        <td id=\"T_c6c5827a_8eaa_11ea_9773_4889e7f3390erow5_col12\" class=\"data row5 col12\" >443</td>\n                        <td id=\"T_c6c5827a_8eaa_11ea_9773_4889e7f3390erow5_col13\" class=\"data row5 col13\" >RKB10</td>\n            </tr>\n            <tr>\n                                <td id=\"T_c6c5827a_8eaa_11ea_9773_4889e7f3390erow6_col0\" class=\"data row6 col0\" >0.85</td>\n                        <td id=\"T_c6c5827a_8eaa_11ea_9773_4889e7f3390erow6_col1\" class=\"data row6 col1\" >0.45</td>\n                        <td id=\"T_c6c5827a_8eaa_11ea_9773_4889e7f3390erow6_col2\" class=\"data row6 col2\" >0.7</td>\n                        <td id=\"T_c6c5827a_8eaa_11ea_9773_4889e7f3390erow6_col3\" class=\"data row6 col3\" >0.86</td>\n                        <td id=\"T_c6c5827a_8eaa_11ea_9773_4889e7f3390erow6_col4\" class=\"data row6 col4\" >0.2</td>\n                        <td id=\"T_c6c5827a_8eaa_11ea_9773_4889e7f3390erow6_col5\" class=\"data row6 col5\" >0.86</td>\n                        <td id=\"T_c6c5827a_8eaa_11ea_9773_4889e7f3390erow6_col6\" class=\"data row6 col6\" >0.59</td>\n                        <td id=\"T_c6c5827a_8eaa_11ea_9773_4889e7f3390erow6_col7\" class=\"data row6 col7\" >-0.05</td>\n                        <td id=\"T_c6c5827a_8eaa_11ea_9773_4889e7f3390erow6_col8\" class=\"data row6 col8\" >0.28</td>\n                        <td id=\"T_c6c5827a_8eaa_11ea_9773_4889e7f3390erow6_col9\" class=\"data row6 col9\" >-0.04</td>\n                        <td id=\"T_c6c5827a_8eaa_11ea_9773_4889e7f3390erow6_col10\" class=\"data row6 col10\" >0.72</td>\n                        <td id=\"T_c6c5827a_8eaa_11ea_9773_4889e7f3390erow6_col11\" class=\"data row6 col11\" >70</td>\n                        <td id=\"T_c6c5827a_8eaa_11ea_9773_4889e7f3390erow6_col12\" class=\"data row6 col12\" >443</td>\n                        <td id=\"T_c6c5827a_8eaa_11ea_9773_4889e7f3390erow6_col13\" class=\"data row6 col13\" >RKB10</td>\n            </tr>\n            <tr>\n                                <td id=\"T_c6c5827a_8eaa_11ea_9773_4889e7f3390erow7_col0\" class=\"data row7 col0\" >0.23</td>\n                        <td id=\"T_c6c5827a_8eaa_11ea_9773_4889e7f3390erow7_col1\" class=\"data row7 col1\" >-0.35</td>\n                        <td id=\"T_c6c5827a_8eaa_11ea_9773_4889e7f3390erow7_col2\" class=\"data row7 col2\" >-0.84</td>\n                        <td id=\"T_c6c5827a_8eaa_11ea_9773_4889e7f3390erow7_col3\" class=\"data row7 col3\" >0.43</td>\n                        <td id=\"T_c6c5827a_8eaa_11ea_9773_4889e7f3390erow7_col4\" class=\"data row7 col4\" >-1.81</td>\n                        <td id=\"T_c6c5827a_8eaa_11ea_9773_4889e7f3390erow7_col5\" class=\"data row7 col5\" >0.67</td>\n                        <td id=\"T_c6c5827a_8eaa_11ea_9773_4889e7f3390erow7_col6\" class=\"data row7 col6\" >0.05</td>\n                        <td id=\"T_c6c5827a_8eaa_11ea_9773_4889e7f3390erow7_col7\" class=\"data row7 col7\" >-2.05</td>\n                        <td id=\"T_c6c5827a_8eaa_11ea_9773_4889e7f3390erow7_col8\" class=\"data row7 col8\" >-0.21</td>\n                        <td id=\"T_c6c5827a_8eaa_11ea_9773_4889e7f3390erow7_col9\" class=\"data row7 col9\" >-3.51</td>\n                        <td id=\"T_c6c5827a_8eaa_11ea_9773_4889e7f3390erow7_col10\" class=\"data row7 col10\" >-0.83</td>\n                        <td id=\"T_c6c5827a_8eaa_11ea_9773_4889e7f3390erow7_col11\" class=\"data row7 col11\" >70</td>\n                        <td id=\"T_c6c5827a_8eaa_11ea_9773_4889e7f3390erow7_col12\" class=\"data row7 col12\" >443</td>\n                        <td id=\"T_c6c5827a_8eaa_11ea_9773_4889e7f3390erow7_col13\" class=\"data row7 col13\" >RKB10</td>\n            </tr>\n            <tr>\n                                <td id=\"T_c6c5827a_8eaa_11ea_9773_4889e7f3390erow8_col0\" class=\"data row8 col0\" >0.71</td>\n                        <td id=\"T_c6c5827a_8eaa_11ea_9773_4889e7f3390erow8_col1\" class=\"data row8 col1\" >0.8</td>\n                        <td id=\"T_c6c5827a_8eaa_11ea_9773_4889e7f3390erow8_col2\" class=\"data row8 col2\" >0.89</td>\n                        <td id=\"T_c6c5827a_8eaa_11ea_9773_4889e7f3390erow8_col3\" class=\"data row8 col3\" >0.61</td>\n                        <td id=\"T_c6c5827a_8eaa_11ea_9773_4889e7f3390erow8_col4\" class=\"data row8 col4\" >1.28</td>\n                        <td id=\"T_c6c5827a_8eaa_11ea_9773_4889e7f3390erow8_col5\" class=\"data row8 col5\" >0.41</td>\n                        <td id=\"T_c6c5827a_8eaa_11ea_9773_4889e7f3390erow8_col6\" class=\"data row8 col6\" >0.58</td>\n                        <td id=\"T_c6c5827a_8eaa_11ea_9773_4889e7f3390erow8_col7\" class=\"data row8 col7\" >1.32</td>\n                        <td id=\"T_c6c5827a_8eaa_11ea_9773_4889e7f3390erow8_col8\" class=\"data row8 col8\" >0.75</td>\n                        <td id=\"T_c6c5827a_8eaa_11ea_9773_4889e7f3390erow8_col9\" class=\"data row8 col9\" >1.64</td>\n                        <td id=\"T_c6c5827a_8eaa_11ea_9773_4889e7f3390erow8_col10\" class=\"data row8 col10\" >1.08</td>\n                        <td id=\"T_c6c5827a_8eaa_11ea_9773_4889e7f3390erow8_col11\" class=\"data row8 col11\" >70</td>\n                        <td id=\"T_c6c5827a_8eaa_11ea_9773_4889e7f3390erow8_col12\" class=\"data row8 col12\" >443</td>\n                        <td id=\"T_c6c5827a_8eaa_11ea_9773_4889e7f3390erow8_col13\" class=\"data row8 col13\" >RKB10</td>\n            </tr>\n            <tr>\n                                <td id=\"T_c6c5827a_8eaa_11ea_9773_4889e7f3390erow9_col0\" class=\"data row9 col0\" >0.78</td>\n                        <td id=\"T_c6c5827a_8eaa_11ea_9773_4889e7f3390erow9_col1\" class=\"data row9 col1\" >0.18</td>\n                        <td id=\"T_c6c5827a_8eaa_11ea_9773_4889e7f3390erow9_col2\" class=\"data row9 col2\" >0.44</td>\n                        <td id=\"T_c6c5827a_8eaa_11ea_9773_4889e7f3390erow9_col3\" class=\"data row9 col3\" >0.82</td>\n                        <td id=\"T_c6c5827a_8eaa_11ea_9773_4889e7f3390erow9_col4\" class=\"data row9 col4\" >0</td>\n                        <td id=\"T_c6c5827a_8eaa_11ea_9773_4889e7f3390erow9_col5\" class=\"data row9 col5\" >0.72</td>\n                        <td id=\"T_c6c5827a_8eaa_11ea_9773_4889e7f3390erow9_col6\" class=\"data row9 col6\" >0.45</td>\n                        <td id=\"T_c6c5827a_8eaa_11ea_9773_4889e7f3390erow9_col7\" class=\"data row9 col7\" >0.01</td>\n                        <td id=\"T_c6c5827a_8eaa_11ea_9773_4889e7f3390erow9_col8\" class=\"data row9 col8\" >0.19</td>\n                        <td id=\"T_c6c5827a_8eaa_11ea_9773_4889e7f3390erow9_col9\" class=\"data row9 col9\" >0</td>\n                        <td id=\"T_c6c5827a_8eaa_11ea_9773_4889e7f3390erow9_col10\" class=\"data row9 col10\" >0.5</td>\n                        <td id=\"T_c6c5827a_8eaa_11ea_9773_4889e7f3390erow9_col11\" class=\"data row9 col11\" >70</td>\n                        <td id=\"T_c6c5827a_8eaa_11ea_9773_4889e7f3390erow9_col12\" class=\"data row9 col12\" >443</td>\n                        <td id=\"T_c6c5827a_8eaa_11ea_9773_4889e7f3390erow9_col13\" class=\"data row9 col13\" >RKB10</td>\n            </tr>\n    </tbody></table>",
          "text/plain": "<pandas.io.formats.style.Styler at 0x2c23cfe6588>"
         },
         "metadata": {},
         "output_type": "display_data"
        }
       ]
      }
     },
     "b43c4c3ce73a4847be8d697ddb68c91f": {
      "model_module": "@jupyter-widgets/controls",
      "model_module_version": "1.5.0",
      "model_name": "DropdownModel",
      "state": {
       "_options_labels": [
        "Percent_Bias",
        "Spearman_Rank_Correlation",
        "Efficiency_Factor",
        "Cost_Function",
        "R2"
       ],
       "description": "QMeasure",
       "index": 0,
       "layout": "IPY_MODEL_9da542da78dc4e53ba8bdf56e8718013",
       "style": "IPY_MODEL_a8a144a5b27c403bbc52b81f49507371"
      }
     },
     "b4bb422ffcc2428aa0f37fc7f8f5ba3e": {
      "model_module": "@jupyter-widgets/controls",
      "model_module_version": "1.5.0",
      "model_name": "SliderStyleModel",
      "state": {
       "description_width": ""
      }
     },
     "b735a3ec36ca4c2d827f0dab6b01d172": {
      "model_module": "@jupyter-widgets/base",
      "model_module_version": "1.2.0",
      "model_name": "LayoutModel",
      "state": {}
     },
     "b7c6dddff3dc4781aab0d6eb05ebc10b": {
      "model_module": "@jupyter-widgets/base",
      "model_module_version": "1.2.0",
      "model_name": "LayoutModel",
      "state": {}
     },
     "b81b49277fff4958b46b143649c31c38": {
      "model_module": "@jupyter-widgets/base",
      "model_module_version": "1.2.0",
      "model_name": "LayoutModel",
      "state": {}
     },
     "b88b056e2a604942a8a5b36d02a7cbb9": {
      "model_module": "@jupyter-widgets/controls",
      "model_module_version": "1.5.0",
      "model_name": "DescriptionStyleModel",
      "state": {
       "description_width": ""
      }
     },
     "b8932b0b080c41e1abca51abf062c4b6": {
      "model_module": "@jupyter-widgets/base",
      "model_module_version": "1.2.0",
      "model_name": "LayoutModel",
      "state": {}
     },
     "b9040c1775de445485e1b820bf950ac4": {
      "model_module": "@jupyter-widgets/base",
      "model_module_version": "1.2.0",
      "model_name": "LayoutModel",
      "state": {}
     },
     "b92c6a46c23a4cc19d5497edd0db42e8": {
      "model_module": "@jupyter-widgets/base",
      "model_module_version": "1.2.0",
      "model_name": "LayoutModel",
      "state": {}
     },
     "bab1af1af11f4b5793e3e0f85d3ed4ae": {
      "model_module": "@jupyter-widgets/controls",
      "model_module_version": "1.5.0",
      "model_name": "DescriptionStyleModel",
      "state": {
       "description_width": ""
      }
     },
     "be7f6e00057942b98340f5c4fc996dba": {
      "model_module": "@jupyter-widgets/controls",
      "model_module_version": "1.5.0",
      "model_name": "DropdownModel",
      "state": {
       "_options_labels": [
        "RKB1",
        "RKB10"
       ],
       "description": "Station",
       "index": 0,
       "layout": "IPY_MODEL_d384db5867d746ca998101542a11f84a",
       "style": "IPY_MODEL_31dd892c4fee4424841e651ea4c95cb4"
      }
     },
     "beafe1ddb5314a8ea944aecb79aa2df9": {
      "model_module": "@jupyter-widgets/output",
      "model_module_version": "1.0.0",
      "model_name": "OutputModel",
      "state": {
       "layout": "IPY_MODEL_ab672d18b9a34db5b3d5333b090d0d9d",
       "outputs": [
        {
         "data": {
          "text/html": "<div>\n<style scoped>\n    .dataframe tbody tr th:only-of-type {\n        vertical-align: middle;\n    }\n\n    .dataframe tbody tr th {\n        vertical-align: top;\n    }\n\n    .dataframe thead th {\n        text-align: right;\n    }\n</style>\n<table border=\"1\" class=\"dataframe\">\n  <thead>\n    <tr style=\"text-align: right;\">\n      <th></th>\n      <th>Measurement</th>\n      <th>Percent_Bias</th>\n      <th>Spearman_Rank_Correlation</th>\n      <th>Efficiency_Factor</th>\n      <th>Cost_Function</th>\n      <th>R2</th>\n      <th>Total_Number_Of_Observations_1</th>\n    </tr>\n  </thead>\n  <tbody>\n    <tr>\n      <th>7</th>\n      <td>Standard TN</td>\n      <td>42.173588</td>\n      <td>0.845890</td>\n      <td>0.226161</td>\n      <td>0.712058</td>\n      <td>0.779610</td>\n      <td>441</td>\n    </tr>\n    <tr>\n      <th>8</th>\n      <td>Standard TP</td>\n      <td>12.737241</td>\n      <td>0.448563</td>\n      <td>-0.348994</td>\n      <td>0.795940</td>\n      <td>0.179907</td>\n      <td>443</td>\n    </tr>\n    <tr>\n      <th>9</th>\n      <td>Standard PO4</td>\n      <td>38.477741</td>\n      <td>0.701736</td>\n      <td>-0.842018</td>\n      <td>0.894916</td>\n      <td>0.436445</td>\n      <td>442</td>\n    </tr>\n    <tr>\n      <th>10</th>\n      <td>Standard DIN</td>\n      <td>62.330566</td>\n      <td>0.855533</td>\n      <td>0.426376</td>\n      <td>0.606579</td>\n      <td>0.821993</td>\n      <td>441</td>\n    </tr>\n    <tr>\n      <th>11</th>\n      <td>Standard CH</td>\n      <td>41.654915</td>\n      <td>0.201711</td>\n      <td>-1.808943</td>\n      <td>1.278623</td>\n      <td>0.003682</td>\n      <td>443</td>\n    </tr>\n    <tr>\n      <th>12</th>\n      <td>Standard DO</td>\n      <td>2.506907</td>\n      <td>0.861785</td>\n      <td>0.668052</td>\n      <td>0.410421</td>\n      <td>0.722231</td>\n      <td>355</td>\n    </tr>\n    <tr>\n      <th>13</th>\n      <td>Standard KD</td>\n      <td>43.246403</td>\n      <td>0.592275</td>\n      <td>0.054431</td>\n      <td>0.581955</td>\n      <td>0.445564</td>\n      <td>119</td>\n    </tr>\n    <tr>\n      <th>16</th>\n      <td>Summer Observations CH</td>\n      <td>23.027037</td>\n      <td>-0.054045</td>\n      <td>-2.052351</td>\n      <td>1.316802</td>\n      <td>0.007756</td>\n      <td>218</td>\n    </tr>\n    <tr>\n      <th>17</th>\n      <td>Summer Observations KD</td>\n      <td>38.822510</td>\n      <td>0.284060</td>\n      <td>-0.213462</td>\n      <td>0.748282</td>\n      <td>0.188662</td>\n      <td>81</td>\n    </tr>\n    <tr>\n      <th>20</th>\n      <td>Winter Observations PO4</td>\n      <td>35.753246</td>\n      <td>-0.039591</td>\n      <td>-3.507481</td>\n      <td>1.636216</td>\n      <td>0.000095</td>\n      <td>70</td>\n    </tr>\n    <tr>\n      <th>21</th>\n      <td>Winter Observations DIN</td>\n      <td>29.592651</td>\n      <td>0.715507</td>\n      <td>-0.826065</td>\n      <td>1.084516</td>\n      <td>0.495819</td>\n      <td>70</td>\n    </tr>\n  </tbody>\n</table>\n</div>",
          "text/plain": "                Measurement  Percent_Bias  Spearman_Rank_Correlation  \\\n7               Standard TN     42.173588                   0.845890   \n8               Standard TP     12.737241                   0.448563   \n9              Standard PO4     38.477741                   0.701736   \n10             Standard DIN     62.330566                   0.855533   \n11              Standard CH     41.654915                   0.201711   \n12              Standard DO      2.506907                   0.861785   \n13              Standard KD     43.246403                   0.592275   \n16   Summer Observations CH     23.027037                  -0.054045   \n17   Summer Observations KD     38.822510                   0.284060   \n20  Winter Observations PO4     35.753246                  -0.039591   \n21  Winter Observations DIN     29.592651                   0.715507   \n\n    Efficiency_Factor  Cost_Function        R2  Total_Number_Of_Observations_1  \n7            0.226161       0.712058  0.779610                             441  \n8           -0.348994       0.795940  0.179907                             443  \n9           -0.842018       0.894916  0.436445                             442  \n10           0.426376       0.606579  0.821993                             441  \n11          -1.808943       1.278623  0.003682                             443  \n12           0.668052       0.410421  0.722231                             355  \n13           0.054431       0.581955  0.445564                             119  \n16          -2.052351       1.316802  0.007756                             218  \n17          -0.213462       0.748282  0.188662                              81  \n20          -3.507481       1.636216  0.000095                              70  \n21          -0.826065       1.084516  0.495819                              70  "
         },
         "metadata": {},
         "output_type": "display_data"
        }
       ]
      }
     },
     "c153d6eb1aa142cf9f8e4437a90c414a": {
      "model_module": "@jupyter-widgets/controls",
      "model_module_version": "1.5.0",
      "model_name": "DescriptionStyleModel",
      "state": {
       "description_width": ""
      }
     },
     "c1fd9dff6e0544989d31d1abbe666baf": {
      "model_module": "@jupyter-widgets/base",
      "model_module_version": "1.2.0",
      "model_name": "LayoutModel",
      "state": {}
     },
     "c3ef19ecef8542519a8fa041c20025b8": {
      "model_module": "@jupyter-widgets/controls",
      "model_module_version": "1.5.0",
      "model_name": "VBoxModel",
      "state": {
       "_dom_classes": [
        "widget-interact"
       ],
       "children": [
        "IPY_MODEL_66c6df3805354a15bdcc0ce77e0a9d9f",
        "IPY_MODEL_67de082eeaea43aa88d63aa508b81902",
        "IPY_MODEL_fee14a590efc46f8bfac80996e220765"
       ],
       "layout": "IPY_MODEL_1372a6c13e6d4fd584cae69fcb091265"
      }
     },
     "c4a756933fbb440f99288da599bbf2fc": {
      "model_module": "@jupyter-widgets/base",
      "model_module_version": "1.2.0",
      "model_name": "LayoutModel",
      "state": {}
     },
     "c4ade0c6b4b54c8d894cb810e8822530": {
      "model_module": "@jupyter-widgets/controls",
      "model_module_version": "1.5.0",
      "model_name": "DropdownModel",
      "state": {
       "_options_labels": [
        "Annual",
        "Summer/Winter"
       ],
       "description": "Measurements",
       "index": 1,
       "layout": "IPY_MODEL_50c129a77a6640a4bc6854d3bd3c212c",
       "style": "IPY_MODEL_8048df90bd2f4f5e975406234660f7c7"
      }
     },
     "c4bb5aaaea0845af820b8707520db52c": {
      "model_module": "@jupyter-widgets/controls",
      "model_module_version": "1.5.0",
      "model_name": "DescriptionStyleModel",
      "state": {
       "description_width": ""
      }
     },
     "c5eef57221304b8c8adccf4380abc77c": {
      "model_module": "@jupyter-widgets/base",
      "model_module_version": "1.2.0",
      "model_name": "LayoutModel",
      "state": {}
     },
     "c5fd1fc007854a4b98033be5a2d04fb2": {
      "model_module": "@jupyter-widgets/controls",
      "model_module_version": "1.5.0",
      "model_name": "DescriptionStyleModel",
      "state": {
       "description_width": ""
      }
     },
     "c82a0468d28a406097b42d28c681764c": {
      "model_module": "@jupyter-widgets/controls",
      "model_module_version": "1.5.0",
      "model_name": "VBoxModel",
      "state": {
       "_dom_classes": [
        "widget-interact"
       ],
       "children": [
        "IPY_MODEL_b43c4c3ce73a4847be8d697ddb68c91f",
        "IPY_MODEL_660f3e7107b444eabc61949a507ea993"
       ],
       "layout": "IPY_MODEL_f50378ed048b4b63a77fbffb3fec9c56"
      }
     },
     "c91003883db847ea9cd32f9cadd74a05": {
      "model_module": "@jupyter-widgets/controls",
      "model_module_version": "1.5.0",
      "model_name": "DropdownModel",
      "state": {
       "_options_labels": [
        "Percent_Bias",
        "Spearman_Rank_Correlation",
        "Efficiency_Factor",
        "Cost_Function",
        "R2"
       ],
       "description": "QMeasure",
       "index": 0,
       "layout": "IPY_MODEL_cf916aa5004442148ac8ccce27baf675",
       "style": "IPY_MODEL_e6c786a185384fa5ab4dd838f98ae463"
      }
     },
     "c9266c033eab4fca814d64aba9de9b71": {
      "model_module": "@jupyter-widgets/base",
      "model_module_version": "1.2.0",
      "model_name": "LayoutModel",
      "state": {}
     },
     "c9cdda7f9c43435fac1c5c4ebd22310d": {
      "model_module": "@jupyter-widgets/output",
      "model_module_version": "1.0.0",
      "model_name": "OutputModel",
      "state": {
       "layout": "IPY_MODEL_d762d4c3ca844539901e979473392f4f",
       "outputs": [
        {
         "data": {
          "text/html": "<style  type=\"text/css\" >\n</style><table id=\"T_d6fd92d2_8eb0_11ea_8ead_4889e7f3390e\" ><thead>    <tr>        <th class=\"col_heading level0 col0\" >Measurement</th>        <th class=\"col_heading level0 col1\" >Percent_Bias</th>        <th class=\"col_heading level0 col2\" >Spearman_Rank_Correlation</th>        <th class=\"col_heading level0 col3\" >Efficiency_Factor</th>        <th class=\"col_heading level0 col4\" >Cost_Function</th>        <th class=\"col_heading level0 col5\" >R2</th>        <th class=\"col_heading level0 col6\" >Total_Number_Of_Observations_1</th>    </tr></thead><tbody>\n                <tr>\n                                <td id=\"T_d6fd92d2_8eb0_11ea_8ead_4889e7f3390erow0_col0\" class=\"data row0 col0\" >Standard TN</td>\n                        <td id=\"T_d6fd92d2_8eb0_11ea_8ead_4889e7f3390erow0_col1\" class=\"data row0 col1\" >42.2</td>\n                        <td id=\"T_d6fd92d2_8eb0_11ea_8ead_4889e7f3390erow0_col2\" class=\"data row0 col2\" >0.85</td>\n                        <td id=\"T_d6fd92d2_8eb0_11ea_8ead_4889e7f3390erow0_col3\" class=\"data row0 col3\" >0.23</td>\n                        <td id=\"T_d6fd92d2_8eb0_11ea_8ead_4889e7f3390erow0_col4\" class=\"data row0 col4\" >0.71</td>\n                        <td id=\"T_d6fd92d2_8eb0_11ea_8ead_4889e7f3390erow0_col5\" class=\"data row0 col5\" >0.78</td>\n                        <td id=\"T_d6fd92d2_8eb0_11ea_8ead_4889e7f3390erow0_col6\" class=\"data row0 col6\" >441</td>\n            </tr>\n            <tr>\n                                <td id=\"T_d6fd92d2_8eb0_11ea_8ead_4889e7f3390erow1_col0\" class=\"data row1 col0\" >Standard TP</td>\n                        <td id=\"T_d6fd92d2_8eb0_11ea_8ead_4889e7f3390erow1_col1\" class=\"data row1 col1\" >12.7</td>\n                        <td id=\"T_d6fd92d2_8eb0_11ea_8ead_4889e7f3390erow1_col2\" class=\"data row1 col2\" >0.45</td>\n                        <td id=\"T_d6fd92d2_8eb0_11ea_8ead_4889e7f3390erow1_col3\" class=\"data row1 col3\" >-0.35</td>\n                        <td id=\"T_d6fd92d2_8eb0_11ea_8ead_4889e7f3390erow1_col4\" class=\"data row1 col4\" >0.8</td>\n                        <td id=\"T_d6fd92d2_8eb0_11ea_8ead_4889e7f3390erow1_col5\" class=\"data row1 col5\" >0.18</td>\n                        <td id=\"T_d6fd92d2_8eb0_11ea_8ead_4889e7f3390erow1_col6\" class=\"data row1 col6\" >443</td>\n            </tr>\n            <tr>\n                                <td id=\"T_d6fd92d2_8eb0_11ea_8ead_4889e7f3390erow2_col0\" class=\"data row2 col0\" >Standard PO4</td>\n                        <td id=\"T_d6fd92d2_8eb0_11ea_8ead_4889e7f3390erow2_col1\" class=\"data row2 col1\" >38.5</td>\n                        <td id=\"T_d6fd92d2_8eb0_11ea_8ead_4889e7f3390erow2_col2\" class=\"data row2 col2\" >0.7</td>\n                        <td id=\"T_d6fd92d2_8eb0_11ea_8ead_4889e7f3390erow2_col3\" class=\"data row2 col3\" >-0.84</td>\n                        <td id=\"T_d6fd92d2_8eb0_11ea_8ead_4889e7f3390erow2_col4\" class=\"data row2 col4\" >0.89</td>\n                        <td id=\"T_d6fd92d2_8eb0_11ea_8ead_4889e7f3390erow2_col5\" class=\"data row2 col5\" >0.44</td>\n                        <td id=\"T_d6fd92d2_8eb0_11ea_8ead_4889e7f3390erow2_col6\" class=\"data row2 col6\" >442</td>\n            </tr>\n            <tr>\n                                <td id=\"T_d6fd92d2_8eb0_11ea_8ead_4889e7f3390erow3_col0\" class=\"data row3 col0\" >Standard DIN</td>\n                        <td id=\"T_d6fd92d2_8eb0_11ea_8ead_4889e7f3390erow3_col1\" class=\"data row3 col1\" >62.3</td>\n                        <td id=\"T_d6fd92d2_8eb0_11ea_8ead_4889e7f3390erow3_col2\" class=\"data row3 col2\" >0.86</td>\n                        <td id=\"T_d6fd92d2_8eb0_11ea_8ead_4889e7f3390erow3_col3\" class=\"data row3 col3\" >0.43</td>\n                        <td id=\"T_d6fd92d2_8eb0_11ea_8ead_4889e7f3390erow3_col4\" class=\"data row3 col4\" >0.61</td>\n                        <td id=\"T_d6fd92d2_8eb0_11ea_8ead_4889e7f3390erow3_col5\" class=\"data row3 col5\" >0.82</td>\n                        <td id=\"T_d6fd92d2_8eb0_11ea_8ead_4889e7f3390erow3_col6\" class=\"data row3 col6\" >441</td>\n            </tr>\n            <tr>\n                                <td id=\"T_d6fd92d2_8eb0_11ea_8ead_4889e7f3390erow4_col0\" class=\"data row4 col0\" >Standard CH</td>\n                        <td id=\"T_d6fd92d2_8eb0_11ea_8ead_4889e7f3390erow4_col1\" class=\"data row4 col1\" >41.7</td>\n                        <td id=\"T_d6fd92d2_8eb0_11ea_8ead_4889e7f3390erow4_col2\" class=\"data row4 col2\" >0.2</td>\n                        <td id=\"T_d6fd92d2_8eb0_11ea_8ead_4889e7f3390erow4_col3\" class=\"data row4 col3\" >-1.81</td>\n                        <td id=\"T_d6fd92d2_8eb0_11ea_8ead_4889e7f3390erow4_col4\" class=\"data row4 col4\" >1.28</td>\n                        <td id=\"T_d6fd92d2_8eb0_11ea_8ead_4889e7f3390erow4_col5\" class=\"data row4 col5\" >0</td>\n                        <td id=\"T_d6fd92d2_8eb0_11ea_8ead_4889e7f3390erow4_col6\" class=\"data row4 col6\" >443</td>\n            </tr>\n            <tr>\n                                <td id=\"T_d6fd92d2_8eb0_11ea_8ead_4889e7f3390erow5_col0\" class=\"data row5 col0\" >Standard DO</td>\n                        <td id=\"T_d6fd92d2_8eb0_11ea_8ead_4889e7f3390erow5_col1\" class=\"data row5 col1\" >2.5</td>\n                        <td id=\"T_d6fd92d2_8eb0_11ea_8ead_4889e7f3390erow5_col2\" class=\"data row5 col2\" >0.86</td>\n                        <td id=\"T_d6fd92d2_8eb0_11ea_8ead_4889e7f3390erow5_col3\" class=\"data row5 col3\" >0.67</td>\n                        <td id=\"T_d6fd92d2_8eb0_11ea_8ead_4889e7f3390erow5_col4\" class=\"data row5 col4\" >0.41</td>\n                        <td id=\"T_d6fd92d2_8eb0_11ea_8ead_4889e7f3390erow5_col5\" class=\"data row5 col5\" >0.72</td>\n                        <td id=\"T_d6fd92d2_8eb0_11ea_8ead_4889e7f3390erow5_col6\" class=\"data row5 col6\" >355</td>\n            </tr>\n            <tr>\n                                <td id=\"T_d6fd92d2_8eb0_11ea_8ead_4889e7f3390erow6_col0\" class=\"data row6 col0\" >Standard KD</td>\n                        <td id=\"T_d6fd92d2_8eb0_11ea_8ead_4889e7f3390erow6_col1\" class=\"data row6 col1\" >43.2</td>\n                        <td id=\"T_d6fd92d2_8eb0_11ea_8ead_4889e7f3390erow6_col2\" class=\"data row6 col2\" >0.59</td>\n                        <td id=\"T_d6fd92d2_8eb0_11ea_8ead_4889e7f3390erow6_col3\" class=\"data row6 col3\" >0.05</td>\n                        <td id=\"T_d6fd92d2_8eb0_11ea_8ead_4889e7f3390erow6_col4\" class=\"data row6 col4\" >0.58</td>\n                        <td id=\"T_d6fd92d2_8eb0_11ea_8ead_4889e7f3390erow6_col5\" class=\"data row6 col5\" >0.45</td>\n                        <td id=\"T_d6fd92d2_8eb0_11ea_8ead_4889e7f3390erow6_col6\" class=\"data row6 col6\" >119</td>\n            </tr>\n            <tr>\n                                <td id=\"T_d6fd92d2_8eb0_11ea_8ead_4889e7f3390erow7_col0\" class=\"data row7 col0\" >Summer Observations CH</td>\n                        <td id=\"T_d6fd92d2_8eb0_11ea_8ead_4889e7f3390erow7_col1\" class=\"data row7 col1\" >23</td>\n                        <td id=\"T_d6fd92d2_8eb0_11ea_8ead_4889e7f3390erow7_col2\" class=\"data row7 col2\" >-0.05</td>\n                        <td id=\"T_d6fd92d2_8eb0_11ea_8ead_4889e7f3390erow7_col3\" class=\"data row7 col3\" >-2.05</td>\n                        <td id=\"T_d6fd92d2_8eb0_11ea_8ead_4889e7f3390erow7_col4\" class=\"data row7 col4\" >1.32</td>\n                        <td id=\"T_d6fd92d2_8eb0_11ea_8ead_4889e7f3390erow7_col5\" class=\"data row7 col5\" >0.01</td>\n                        <td id=\"T_d6fd92d2_8eb0_11ea_8ead_4889e7f3390erow7_col6\" class=\"data row7 col6\" >218</td>\n            </tr>\n            <tr>\n                                <td id=\"T_d6fd92d2_8eb0_11ea_8ead_4889e7f3390erow8_col0\" class=\"data row8 col0\" >Summer Observations KD</td>\n                        <td id=\"T_d6fd92d2_8eb0_11ea_8ead_4889e7f3390erow8_col1\" class=\"data row8 col1\" >38.8</td>\n                        <td id=\"T_d6fd92d2_8eb0_11ea_8ead_4889e7f3390erow8_col2\" class=\"data row8 col2\" >0.28</td>\n                        <td id=\"T_d6fd92d2_8eb0_11ea_8ead_4889e7f3390erow8_col3\" class=\"data row8 col3\" >-0.21</td>\n                        <td id=\"T_d6fd92d2_8eb0_11ea_8ead_4889e7f3390erow8_col4\" class=\"data row8 col4\" >0.75</td>\n                        <td id=\"T_d6fd92d2_8eb0_11ea_8ead_4889e7f3390erow8_col5\" class=\"data row8 col5\" >0.19</td>\n                        <td id=\"T_d6fd92d2_8eb0_11ea_8ead_4889e7f3390erow8_col6\" class=\"data row8 col6\" >81</td>\n            </tr>\n            <tr>\n                                <td id=\"T_d6fd92d2_8eb0_11ea_8ead_4889e7f3390erow9_col0\" class=\"data row9 col0\" >Winter Observations PO4</td>\n                        <td id=\"T_d6fd92d2_8eb0_11ea_8ead_4889e7f3390erow9_col1\" class=\"data row9 col1\" >35.8</td>\n                        <td id=\"T_d6fd92d2_8eb0_11ea_8ead_4889e7f3390erow9_col2\" class=\"data row9 col2\" >-0.04</td>\n                        <td id=\"T_d6fd92d2_8eb0_11ea_8ead_4889e7f3390erow9_col3\" class=\"data row9 col3\" >-3.51</td>\n                        <td id=\"T_d6fd92d2_8eb0_11ea_8ead_4889e7f3390erow9_col4\" class=\"data row9 col4\" >1.64</td>\n                        <td id=\"T_d6fd92d2_8eb0_11ea_8ead_4889e7f3390erow9_col5\" class=\"data row9 col5\" >0</td>\n                        <td id=\"T_d6fd92d2_8eb0_11ea_8ead_4889e7f3390erow9_col6\" class=\"data row9 col6\" >70</td>\n            </tr>\n            <tr>\n                                <td id=\"T_d6fd92d2_8eb0_11ea_8ead_4889e7f3390erow10_col0\" class=\"data row10 col0\" >Winter Observations DIN</td>\n                        <td id=\"T_d6fd92d2_8eb0_11ea_8ead_4889e7f3390erow10_col1\" class=\"data row10 col1\" >29.6</td>\n                        <td id=\"T_d6fd92d2_8eb0_11ea_8ead_4889e7f3390erow10_col2\" class=\"data row10 col2\" >0.72</td>\n                        <td id=\"T_d6fd92d2_8eb0_11ea_8ead_4889e7f3390erow10_col3\" class=\"data row10 col3\" >-0.83</td>\n                        <td id=\"T_d6fd92d2_8eb0_11ea_8ead_4889e7f3390erow10_col4\" class=\"data row10 col4\" >1.08</td>\n                        <td id=\"T_d6fd92d2_8eb0_11ea_8ead_4889e7f3390erow10_col5\" class=\"data row10 col5\" >0.5</td>\n                        <td id=\"T_d6fd92d2_8eb0_11ea_8ead_4889e7f3390erow10_col6\" class=\"data row10 col6\" >70</td>\n            </tr>\n    </tbody></table>",
          "text/plain": "<pandas.io.formats.style.Styler at 0x1f2508fe630>"
         },
         "metadata": {},
         "output_type": "display_data"
        }
       ]
      }
     },
     "ca1aa78914c94176a86736a7ce1bd353": {
      "model_module": "@jupyter-widgets/controls",
      "model_module_version": "1.5.0",
      "model_name": "DescriptionStyleModel",
      "state": {
       "description_width": ""
      }
     },
     "ca95f0bd9a584cf39ac03b0124cc995d": {
      "model_module": "@jupyter-widgets/base",
      "model_module_version": "1.2.0",
      "model_name": "LayoutModel",
      "state": {}
     },
     "ca97e4f69c16477dba38e15b3fd20fdf": {
      "model_module": "@jupyter-widgets/controls",
      "model_module_version": "1.5.0",
      "model_name": "DescriptionStyleModel",
      "state": {
       "description_width": ""
      }
     },
     "cb417efb31ec4da7a325439bdbdbe9b4": {
      "model_module": "@jupyter-widgets/controls",
      "model_module_version": "1.5.0",
      "model_name": "DescriptionStyleModel",
      "state": {
       "description_width": ""
      }
     },
     "cc89a8876a18478c99a4fd5a0c08669c": {
      "model_module": "@jupyter-widgets/output",
      "model_module_version": "1.0.0",
      "model_name": "OutputModel",
      "state": {
       "layout": "IPY_MODEL_e2e92d158d6143fa90996253834a82b3",
       "outputs": [
        {
         "data": {
          "text/html": "<div>\n<style scoped>\n    .dataframe tbody tr th:only-of-type {\n        vertical-align: middle;\n    }\n\n    .dataframe tbody tr th {\n        vertical-align: top;\n    }\n\n    .dataframe thead th {\n        text-align: right;\n    }\n</style>\n<table border=\"1\" class=\"dataframe\">\n  <thead>\n    <tr style=\"text-align: right;\">\n      <th></th>\n      <th>Ave. Stat. Value</th>\n      <th>Performance</th>\n      <th>Q measure</th>\n      <th>Param</th>\n    </tr>\n  </thead>\n  <tbody>\n    <tr>\n      <th>0</th>\n      <td>26.8</td>\n      <td>Good</td>\n      <td>Ave_P_bias</td>\n      <td>CH</td>\n    </tr>\n    <tr>\n      <th>1</th>\n      <td>0</td>\n      <td>Poor</td>\n      <td>Ave_SRC</td>\n      <td>CH</td>\n    </tr>\n    <tr>\n      <th>2</th>\n      <td>-1.8</td>\n      <td>Poor</td>\n      <td>Ave_MEF</td>\n      <td>CH</td>\n    </tr>\n    <tr>\n      <th>3</th>\n      <td>1.2</td>\n      <td>Good</td>\n      <td>Ave_CF</td>\n      <td>CH</td>\n    </tr>\n    <tr>\n      <th>4</th>\n      <td>0</td>\n      <td>Poor</td>\n      <td>Ave_R2</td>\n      <td>CH</td>\n    </tr>\n  </tbody>\n</table>\n</div>",
          "text/plain": "  Ave. Stat. Value Performance   Q measure Param\n0             26.8        Good  Ave_P_bias    CH\n1                0        Poor     Ave_SRC    CH\n2             -1.8        Poor     Ave_MEF    CH\n3              1.2        Good      Ave_CF    CH\n4                0        Poor      Ave_R2    CH"
         },
         "metadata": {},
         "output_type": "display_data"
        }
       ]
      }
     },
     "cdddbb838d9141a8860a0607d59691b2": {
      "model_module": "@jupyter-widgets/output",
      "model_module_version": "1.0.0",
      "model_name": "OutputModel",
      "state": {
       "layout": "IPY_MODEL_86e1528589964fbf9972ec2fa56dfde3",
       "outputs": [
        {
         "ename": "NameError",
         "evalue": "name 'measurements' is not defined",
         "output_type": "error",
         "traceback": [
          "\u001b[1;31m---------------------------------------------------------------------------\u001b[0m",
          "\u001b[1;31mNameError\u001b[0m                                 Traceback (most recent call last)",
          "\u001b[1;32m~\\AppData\\Local\\Continuum\\anaconda3\\lib\\site-packages\\ipywidgets\\widgets\\interaction.py\u001b[0m in \u001b[0;36mupdate\u001b[1;34m(self, *args)\u001b[0m\n\u001b[0;32m    254\u001b[0m                     \u001b[0mvalue\u001b[0m \u001b[1;33m=\u001b[0m \u001b[0mwidget\u001b[0m\u001b[1;33m.\u001b[0m\u001b[0mget_interact_value\u001b[0m\u001b[1;33m(\u001b[0m\u001b[1;33m)\u001b[0m\u001b[1;33m\u001b[0m\u001b[1;33m\u001b[0m\u001b[0m\n\u001b[0;32m    255\u001b[0m                     \u001b[0mself\u001b[0m\u001b[1;33m.\u001b[0m\u001b[0mkwargs\u001b[0m\u001b[1;33m[\u001b[0m\u001b[0mwidget\u001b[0m\u001b[1;33m.\u001b[0m\u001b[0m_kwarg\u001b[0m\u001b[1;33m]\u001b[0m \u001b[1;33m=\u001b[0m \u001b[0mvalue\u001b[0m\u001b[1;33m\u001b[0m\u001b[1;33m\u001b[0m\u001b[0m\n\u001b[1;32m--> 256\u001b[1;33m                 \u001b[0mself\u001b[0m\u001b[1;33m.\u001b[0m\u001b[0mresult\u001b[0m \u001b[1;33m=\u001b[0m \u001b[0mself\u001b[0m\u001b[1;33m.\u001b[0m\u001b[0mf\u001b[0m\u001b[1;33m(\u001b[0m\u001b[1;33m**\u001b[0m\u001b[0mself\u001b[0m\u001b[1;33m.\u001b[0m\u001b[0mkwargs\u001b[0m\u001b[1;33m)\u001b[0m\u001b[1;33m\u001b[0m\u001b[1;33m\u001b[0m\u001b[0m\n\u001b[0m\u001b[0;32m    257\u001b[0m                 \u001b[0mshow_inline_matplotlib_plots\u001b[0m\u001b[1;33m(\u001b[0m\u001b[1;33m)\u001b[0m\u001b[1;33m\u001b[0m\u001b[1;33m\u001b[0m\u001b[0m\n\u001b[0;32m    258\u001b[0m                 \u001b[1;32mif\u001b[0m \u001b[0mself\u001b[0m\u001b[1;33m.\u001b[0m\u001b[0mauto_display\u001b[0m \u001b[1;32mand\u001b[0m \u001b[0mself\u001b[0m\u001b[1;33m.\u001b[0m\u001b[0mresult\u001b[0m \u001b[1;32mis\u001b[0m \u001b[1;32mnot\u001b[0m \u001b[1;32mNone\u001b[0m\u001b[1;33m:\u001b[0m\u001b[1;33m\u001b[0m\u001b[1;33m\u001b[0m\u001b[0m\n",
          "\u001b[1;32m<ipython-input-57-28f46a8ce36f>\u001b[0m in \u001b[0;36mshow_ts\u001b[1;34m(Parameter, Measurements)\u001b[0m\n\u001b[0;32m      3\u001b[0m \u001b[1;33m@\u001b[0m\u001b[0minteract\u001b[0m\u001b[1;33m\u001b[0m\u001b[1;33m\u001b[0m\u001b[0m\n\u001b[0;32m      4\u001b[0m \u001b[1;32mdef\u001b[0m \u001b[0mshow_ts\u001b[0m\u001b[1;33m(\u001b[0m\u001b[0mParameter\u001b[0m\u001b[1;33m=\u001b[0m\u001b[0mpar\u001b[0m\u001b[1;33m,\u001b[0m\u001b[0mMeasurements\u001b[0m\u001b[1;33m=\u001b[0m\u001b[0mmeas\u001b[0m\u001b[1;33m)\u001b[0m\u001b[1;33m:\u001b[0m\u001b[1;33m\u001b[0m\u001b[1;33m\u001b[0m\u001b[0m\n\u001b[1;32m----> 5\u001b[1;33m     \u001b[1;32mif\u001b[0m \u001b[0mmeasurements\u001b[0m \u001b[1;33m==\u001b[0m \u001b[1;34m'Annual'\u001b[0m\u001b[1;33m:\u001b[0m\u001b[1;33m\u001b[0m\u001b[1;33m\u001b[0m\u001b[0m\n\u001b[0m\u001b[0;32m      6\u001b[0m         \u001b[0mperform\u001b[0m \u001b[1;33m=\u001b[0m \u001b[0mcollect_param_df\u001b[0m\u001b[1;33m(\u001b[0m\u001b[0mall_Pbias\u001b[0m\u001b[1;33m,\u001b[0m \u001b[0mParameter\u001b[0m\u001b[1;33m)\u001b[0m\u001b[1;33m\u001b[0m\u001b[1;33m\u001b[0m\u001b[0m\n\u001b[0;32m      7\u001b[0m         \u001b[0mtmp\u001b[0m \u001b[1;33m=\u001b[0m \u001b[0mcollect_param_df\u001b[0m\u001b[1;33m(\u001b[0m\u001b[0mall_SRC\u001b[0m\u001b[1;33m,\u001b[0m \u001b[0mParameter\u001b[0m\u001b[1;33m)\u001b[0m\u001b[1;33m\u001b[0m\u001b[1;33m\u001b[0m\u001b[0m\n",
          "\u001b[1;31mNameError\u001b[0m: name 'measurements' is not defined"
         ]
        }
       ]
      }
     },
     "cdfb2ec0f39449a2ac24adf0a1a865d5": {
      "model_module": "@jupyter-widgets/controls",
      "model_module_version": "1.5.0",
      "model_name": "VBoxModel",
      "state": {
       "_dom_classes": [
        "widget-interact"
       ],
       "children": [
        "IPY_MODEL_4566324474ea4f00a2968970c25bd6b7",
        "IPY_MODEL_5e2998996b31486cab22c3ca4c68af34"
       ],
       "layout": "IPY_MODEL_b8932b0b080c41e1abca51abf062c4b6"
      }
     },
     "cf916aa5004442148ac8ccce27baf675": {
      "model_module": "@jupyter-widgets/base",
      "model_module_version": "1.2.0",
      "model_name": "LayoutModel",
      "state": {}
     },
     "cfb2c88052bc4fdeb9fc60e46815b7dd": {
      "model_module": "@jupyter-widgets/base",
      "model_module_version": "1.2.0",
      "model_name": "LayoutModel",
      "state": {}
     },
     "d048ed3b449a4b0fa6d8d1cb99996754": {
      "model_module": "@jupyter-widgets/base",
      "model_module_version": "1.2.0",
      "model_name": "LayoutModel",
      "state": {}
     },
     "d052cd0dd77949cea1bf0e5278218514": {
      "model_module": "@jupyter-widgets/controls",
      "model_module_version": "1.5.0",
      "model_name": "DescriptionStyleModel",
      "state": {
       "description_width": ""
      }
     },
     "d17a563717d34df8b5b9f9e21ab2f274": {
      "model_module": "@jupyter-widgets/controls",
      "model_module_version": "1.5.0",
      "model_name": "DropdownModel",
      "state": {
       "_options_labels": [
        "RKB1",
        "RKB10"
       ],
       "description": "station",
       "index": 1,
       "layout": "IPY_MODEL_591aa7f7b37f499481a509f94fbb234d",
       "style": "IPY_MODEL_038b40bca6fc43e1ab7b64b4b677f8c9"
      }
     },
     "d1a4eafa1a124198b8c4eba1dd7eed47": {
      "model_module": "@jupyter-widgets/base",
      "model_module_version": "1.2.0",
      "model_name": "LayoutModel",
      "state": {}
     },
     "d29b2baa3a0c446790def8c0c533694b": {
      "model_module": "@jupyter-widgets/controls",
      "model_module_version": "1.5.0",
      "model_name": "DescriptionStyleModel",
      "state": {
       "description_width": ""
      }
     },
     "d2d691e6cddb447296c09b2014fa3925": {
      "model_module": "@jupyter-widgets/controls",
      "model_module_version": "1.5.0",
      "model_name": "VBoxModel",
      "state": {
       "_dom_classes": [
        "widget-interact"
       ],
       "children": [
        "IPY_MODEL_b17a94bc20dd40e0986a74fe134ba16f",
        "IPY_MODEL_157b4f99c8744b23bffd46d87b5295ee"
       ],
       "layout": "IPY_MODEL_ebcfcd2f96cb4324a13104c11d996181"
      }
     },
     "d2e2a221ef3c458cb8c184af803d89d2": {
      "model_module": "@jupyter-widgets/controls",
      "model_module_version": "1.5.0",
      "model_name": "DropdownModel",
      "state": {
       "_options_labels": [
        "Percent_Bias",
        "Spearman_Rank_Correlation",
        "Efficiency_Factor",
        "Cost_Function",
        "R2"
       ],
       "description": "QMeasure",
       "index": 4,
       "layout": "IPY_MODEL_a94c4e2919ac4b8c99dcf4c802b8f503",
       "style": "IPY_MODEL_94de344faf53469da5407f423b18574b"
      }
     },
     "d384db5867d746ca998101542a11f84a": {
      "model_module": "@jupyter-widgets/base",
      "model_module_version": "1.2.0",
      "model_name": "LayoutModel",
      "state": {}
     },
     "d55af511feac4cdd802c9d97d64743c9": {
      "model_module": "@jupyter-widgets/controls",
      "model_module_version": "1.5.0",
      "model_name": "VBoxModel",
      "state": {
       "_dom_classes": [
        "widget-interact"
       ],
       "children": [
        "IPY_MODEL_e5e362e22eea4f5aa45cbd58168c1f69",
        "IPY_MODEL_23b6bfdd28744d23bd441a25bdfaf3e3"
       ],
       "layout": "IPY_MODEL_6972e371edb34391b22082646c72dae6"
      }
     },
     "d5c569e821d34bdd8f9d4e7b3e135ee2": {
      "model_module": "@jupyter-widgets/output",
      "model_module_version": "1.0.0",
      "model_name": "OutputModel",
      "state": {
       "layout": "IPY_MODEL_055e7efb4eba4512883ce78906101b68",
       "outputs": [
        {
         "data": {
          "text/html": "<div>\n<style scoped>\n    .dataframe tbody tr th:only-of-type {\n        vertical-align: middle;\n    }\n\n    .dataframe tbody tr th {\n        vertical-align: top;\n    }\n\n    .dataframe thead th {\n        text-align: right;\n    }\n</style>\n<table border=\"1\" class=\"dataframe\">\n  <thead>\n    <tr style=\"text-align: right;\">\n      <th></th>\n      <th>Standard TN</th>\n      <th>Standard TP</th>\n      <th>Standard PO4</th>\n      <th>Standard DIN</th>\n      <th>Standard CH</th>\n      <th>Standard DO</th>\n      <th>Standard KD</th>\n      <th>Summer Observations CH</th>\n      <th>Summer Observations KD</th>\n      <th>Winter Observations PO4</th>\n      <th>Winter Observations DIN</th>\n      <th>min. no. obs.</th>\n      <th>max. no. obs.</th>\n      <th>station</th>\n    </tr>\n  </thead>\n  <tbody>\n    <tr>\n      <th>0</th>\n      <td>39.12</td>\n      <td>29.53</td>\n      <td>41.46</td>\n      <td>51.79</td>\n      <td>32.91</td>\n      <td>3.33</td>\n      <td>41.77</td>\n      <td>9.53</td>\n      <td>36.14</td>\n      <td>56.66</td>\n      <td>22.77</td>\n      <td>104</td>\n      <td>618</td>\n      <td>RKB1</td>\n    </tr>\n    <tr>\n      <th>1</th>\n      <td>0.87</td>\n      <td>0.47</td>\n      <td>0.69</td>\n      <td>0.88</td>\n      <td>0.03</td>\n      <td>0.87</td>\n      <td>0.52</td>\n      <td>-0.05</td>\n      <td>0.29</td>\n      <td>-0.11</td>\n      <td>0.71</td>\n      <td>104</td>\n      <td>618</td>\n      <td>RKB1</td>\n    </tr>\n    <tr>\n      <th>2</th>\n      <td>0.41</td>\n      <td>0.03</td>\n      <td>-0.85</td>\n      <td>0.59</td>\n      <td>-1.42</td>\n      <td>0.63</td>\n      <td>0.00</td>\n      <td>-1.72</td>\n      <td>-0.11</td>\n      <td>-6.15</td>\n      <td>-0.31</td>\n      <td>104</td>\n      <td>618</td>\n      <td>RKB1</td>\n    </tr>\n    <tr>\n      <th>3</th>\n      <td>0.63</td>\n      <td>0.59</td>\n      <td>0.93</td>\n      <td>0.51</td>\n      <td>1.12</td>\n      <td>0.44</td>\n      <td>0.55</td>\n      <td>1.15</td>\n      <td>0.66</td>\n      <td>2.20</td>\n      <td>0.96</td>\n      <td>104</td>\n      <td>618</td>\n      <td>RKB1</td>\n    </tr>\n    <tr>\n      <th>4</th>\n      <td>0.82</td>\n      <td>0.16</td>\n      <td>0.42</td>\n      <td>0.84</td>\n      <td>0.00</td>\n      <td>0.73</td>\n      <td>0.24</td>\n      <td>0.01</td>\n      <td>0.15</td>\n      <td>0.00</td>\n      <td>0.53</td>\n      <td>104</td>\n      <td>618</td>\n      <td>RKB1</td>\n    </tr>\n    <tr>\n      <th>5</th>\n      <td>42.17</td>\n      <td>12.74</td>\n      <td>38.48</td>\n      <td>62.33</td>\n      <td>41.65</td>\n      <td>2.51</td>\n      <td>43.25</td>\n      <td>23.03</td>\n      <td>38.82</td>\n      <td>35.75</td>\n      <td>29.59</td>\n      <td>70</td>\n      <td>443</td>\n      <td>RKB10</td>\n    </tr>\n    <tr>\n      <th>6</th>\n      <td>0.85</td>\n      <td>0.45</td>\n      <td>0.70</td>\n      <td>0.86</td>\n      <td>0.20</td>\n      <td>0.86</td>\n      <td>0.59</td>\n      <td>-0.05</td>\n      <td>0.28</td>\n      <td>-0.04</td>\n      <td>0.72</td>\n      <td>70</td>\n      <td>443</td>\n      <td>RKB10</td>\n    </tr>\n    <tr>\n      <th>7</th>\n      <td>0.23</td>\n      <td>-0.35</td>\n      <td>-0.84</td>\n      <td>0.43</td>\n      <td>-1.81</td>\n      <td>0.67</td>\n      <td>0.05</td>\n      <td>-2.05</td>\n      <td>-0.21</td>\n      <td>-3.51</td>\n      <td>-0.83</td>\n      <td>70</td>\n      <td>443</td>\n      <td>RKB10</td>\n    </tr>\n    <tr>\n      <th>8</th>\n      <td>0.71</td>\n      <td>0.80</td>\n      <td>0.89</td>\n      <td>0.61</td>\n      <td>1.28</td>\n      <td>0.41</td>\n      <td>0.58</td>\n      <td>1.32</td>\n      <td>0.75</td>\n      <td>1.64</td>\n      <td>1.08</td>\n      <td>70</td>\n      <td>443</td>\n      <td>RKB10</td>\n    </tr>\n    <tr>\n      <th>9</th>\n      <td>0.78</td>\n      <td>0.18</td>\n      <td>0.44</td>\n      <td>0.82</td>\n      <td>0.00</td>\n      <td>0.72</td>\n      <td>0.45</td>\n      <td>0.01</td>\n      <td>0.19</td>\n      <td>0.00</td>\n      <td>0.50</td>\n      <td>70</td>\n      <td>443</td>\n      <td>RKB10</td>\n    </tr>\n  </tbody>\n</table>\n</div>",
          "text/plain": "   Standard TN  Standard TP  Standard PO4  Standard DIN  Standard CH  \\\n0        39.12        29.53         41.46         51.79        32.91   \n1         0.87         0.47          0.69          0.88         0.03   \n2         0.41         0.03         -0.85          0.59        -1.42   \n3         0.63         0.59          0.93          0.51         1.12   \n4         0.82         0.16          0.42          0.84         0.00   \n5        42.17        12.74         38.48         62.33        41.65   \n6         0.85         0.45          0.70          0.86         0.20   \n7         0.23        -0.35         -0.84          0.43        -1.81   \n8         0.71         0.80          0.89          0.61         1.28   \n9         0.78         0.18          0.44          0.82         0.00   \n\n   Standard DO  Standard KD  Summer Observations CH  Summer Observations KD  \\\n0         3.33        41.77                    9.53                   36.14   \n1         0.87         0.52                   -0.05                    0.29   \n2         0.63         0.00                   -1.72                   -0.11   \n3         0.44         0.55                    1.15                    0.66   \n4         0.73         0.24                    0.01                    0.15   \n5         2.51        43.25                   23.03                   38.82   \n6         0.86         0.59                   -0.05                    0.28   \n7         0.67         0.05                   -2.05                   -0.21   \n8         0.41         0.58                    1.32                    0.75   \n9         0.72         0.45                    0.01                    0.19   \n\n   Winter Observations PO4  Winter Observations DIN  min. no. obs.  \\\n0                    56.66                    22.77            104   \n1                    -0.11                     0.71            104   \n2                    -6.15                    -0.31            104   \n3                     2.20                     0.96            104   \n4                     0.00                     0.53            104   \n5                    35.75                    29.59             70   \n6                    -0.04                     0.72             70   \n7                    -3.51                    -0.83             70   \n8                     1.64                     1.08             70   \n9                     0.00                     0.50             70   \n\n   max. no. obs. station  \n0            618    RKB1  \n1            618    RKB1  \n2            618    RKB1  \n3            618    RKB1  \n4            618    RKB1  \n5            443   RKB10  \n6            443   RKB10  \n7            443   RKB10  \n8            443   RKB10  \n9            443   RKB10  "
         },
         "metadata": {},
         "output_type": "display_data"
        }
       ]
      }
     },
     "d762d4c3ca844539901e979473392f4f": {
      "model_module": "@jupyter-widgets/base",
      "model_module_version": "1.2.0",
      "model_name": "LayoutModel",
      "state": {}
     },
     "d7ba02d30bbb43489e60b49d5e35e1c4": {
      "model_module": "@jupyter-widgets/output",
      "model_module_version": "1.0.0",
      "model_name": "OutputModel",
      "state": {
       "layout": "IPY_MODEL_d1a4eafa1a124198b8c4eba1dd7eed47",
       "outputs": [
        {
         "data": {
          "text/html": "<div>\n<style scoped>\n    .dataframe tbody tr th:only-of-type {\n        vertical-align: middle;\n    }\n\n    .dataframe tbody tr th {\n        vertical-align: top;\n    }\n\n    .dataframe thead th {\n        text-align: right;\n    }\n</style>\n<table border=\"1\" class=\"dataframe\">\n  <thead>\n    <tr style=\"text-align: right;\">\n      <th></th>\n      <th>Standard TN</th>\n      <th>Standard TP</th>\n      <th>Standard PO4</th>\n      <th>Standard DIN</th>\n      <th>Standard CH</th>\n      <th>Standard DO</th>\n      <th>Standard KD</th>\n      <th>Summer Observations CH</th>\n      <th>Summer Observations KD</th>\n      <th>Winter Observations PO4</th>\n      <th>Winter Observations DIN</th>\n      <th>min. no. obs.</th>\n      <th>max. no. obs.</th>\n      <th>station</th>\n    </tr>\n  </thead>\n  <tbody>\n    <tr>\n      <th>0</th>\n      <td>0.82</td>\n      <td>0.16</td>\n      <td>0.42</td>\n      <td>0.84</td>\n      <td>0.0</td>\n      <td>0.73</td>\n      <td>0.24</td>\n      <td>0.01</td>\n      <td>0.15</td>\n      <td>0.0</td>\n      <td>0.53</td>\n      <td>104</td>\n      <td>618</td>\n      <td>RKB1</td>\n    </tr>\n    <tr>\n      <th>1</th>\n      <td>0.78</td>\n      <td>0.18</td>\n      <td>0.44</td>\n      <td>0.82</td>\n      <td>0.0</td>\n      <td>0.72</td>\n      <td>0.45</td>\n      <td>0.01</td>\n      <td>0.19</td>\n      <td>0.0</td>\n      <td>0.50</td>\n      <td>70</td>\n      <td>443</td>\n      <td>RKB10</td>\n    </tr>\n  </tbody>\n</table>\n</div>",
          "text/plain": "   Standard TN  Standard TP  Standard PO4  Standard DIN  Standard CH  \\\n0         0.82         0.16          0.42          0.84          0.0   \n1         0.78         0.18          0.44          0.82          0.0   \n\n   Standard DO  Standard KD  Summer Observations CH  Summer Observations KD  \\\n0         0.73         0.24                    0.01                    0.15   \n1         0.72         0.45                    0.01                    0.19   \n\n   Winter Observations PO4  Winter Observations DIN  min. no. obs.  \\\n0                      0.0                     0.53            104   \n1                      0.0                     0.50             70   \n\n   max. no. obs. station  \n0            618    RKB1  \n1            443   RKB10  "
         },
         "metadata": {},
         "output_type": "display_data"
        }
       ]
      }
     },
     "d85d168b41694d98b1a0402e1a1d3f4a": {
      "model_module": "@jupyter-widgets/controls",
      "model_module_version": "1.5.0",
      "model_name": "DropdownModel",
      "state": {
       "_options_labels": [
        "RKB1",
        "RKB10"
       ],
       "description": "Station",
       "index": 1,
       "layout": "IPY_MODEL_c1fd9dff6e0544989d31d1abbe666baf",
       "style": "IPY_MODEL_546efe5d01e247ff8dbfe2ab8d27539d"
      }
     },
     "d8c81409ed294e5aa0c9d911a2dbffed": {
      "model_module": "@jupyter-widgets/output",
      "model_module_version": "1.0.0",
      "model_name": "OutputModel",
      "state": {
       "layout": "IPY_MODEL_049445445e1f4f5e9ddd2ceabf185aee",
       "outputs": [
        {
         "data": {
          "text/html": "<div>\n<style scoped>\n    .dataframe tbody tr th:only-of-type {\n        vertical-align: middle;\n    }\n\n    .dataframe tbody tr th {\n        vertical-align: top;\n    }\n\n    .dataframe thead th {\n        text-align: right;\n    }\n</style>\n<table border=\"1\" class=\"dataframe\">\n  <thead>\n    <tr style=\"text-align: right;\">\n      <th></th>\n      <th>Standard TN</th>\n      <th>Standard TP</th>\n      <th>Standard PO4</th>\n      <th>Standard DIN</th>\n      <th>Standard CH</th>\n      <th>Standard DO</th>\n      <th>Standard KD</th>\n      <th>Summer Observations CH</th>\n      <th>Summer Observations KD</th>\n      <th>Winter Observations PO4</th>\n      <th>Winter Observations DIN</th>\n      <th>min. no. obs.</th>\n      <th>max. no. obs.</th>\n      <th>station</th>\n    </tr>\n  </thead>\n  <tbody>\n    <tr>\n      <th>0</th>\n      <td>39.12</td>\n      <td>29.53</td>\n      <td>41.46</td>\n      <td>51.79</td>\n      <td>32.91</td>\n      <td>3.33</td>\n      <td>41.77</td>\n      <td>9.53</td>\n      <td>36.14</td>\n      <td>56.66</td>\n      <td>22.77</td>\n      <td>104</td>\n      <td>618</td>\n      <td>RKB1</td>\n    </tr>\n    <tr>\n      <th>1</th>\n      <td>0.87</td>\n      <td>0.47</td>\n      <td>0.69</td>\n      <td>0.88</td>\n      <td>0.03</td>\n      <td>0.87</td>\n      <td>0.52</td>\n      <td>-0.05</td>\n      <td>0.29</td>\n      <td>-0.11</td>\n      <td>0.71</td>\n      <td>104</td>\n      <td>618</td>\n      <td>RKB1</td>\n    </tr>\n    <tr>\n      <th>2</th>\n      <td>0.41</td>\n      <td>0.03</td>\n      <td>-0.85</td>\n      <td>0.59</td>\n      <td>-1.42</td>\n      <td>0.63</td>\n      <td>0.00</td>\n      <td>-1.72</td>\n      <td>-0.11</td>\n      <td>-6.15</td>\n      <td>-0.31</td>\n      <td>104</td>\n      <td>618</td>\n      <td>RKB1</td>\n    </tr>\n    <tr>\n      <th>3</th>\n      <td>0.63</td>\n      <td>0.59</td>\n      <td>0.93</td>\n      <td>0.51</td>\n      <td>1.12</td>\n      <td>0.44</td>\n      <td>0.55</td>\n      <td>1.15</td>\n      <td>0.66</td>\n      <td>2.20</td>\n      <td>0.96</td>\n      <td>104</td>\n      <td>618</td>\n      <td>RKB1</td>\n    </tr>\n    <tr>\n      <th>4</th>\n      <td>0.82</td>\n      <td>0.16</td>\n      <td>0.42</td>\n      <td>0.84</td>\n      <td>0.00</td>\n      <td>0.73</td>\n      <td>0.24</td>\n      <td>0.01</td>\n      <td>0.15</td>\n      <td>0.00</td>\n      <td>0.53</td>\n      <td>104</td>\n      <td>618</td>\n      <td>RKB1</td>\n    </tr>\n    <tr>\n      <th>5</th>\n      <td>42.17</td>\n      <td>12.74</td>\n      <td>38.48</td>\n      <td>62.33</td>\n      <td>41.65</td>\n      <td>2.51</td>\n      <td>43.25</td>\n      <td>23.03</td>\n      <td>38.82</td>\n      <td>35.75</td>\n      <td>29.59</td>\n      <td>70</td>\n      <td>443</td>\n      <td>RKB10</td>\n    </tr>\n    <tr>\n      <th>6</th>\n      <td>0.85</td>\n      <td>0.45</td>\n      <td>0.70</td>\n      <td>0.86</td>\n      <td>0.20</td>\n      <td>0.86</td>\n      <td>0.59</td>\n      <td>-0.05</td>\n      <td>0.28</td>\n      <td>-0.04</td>\n      <td>0.72</td>\n      <td>70</td>\n      <td>443</td>\n      <td>RKB10</td>\n    </tr>\n    <tr>\n      <th>7</th>\n      <td>0.23</td>\n      <td>-0.35</td>\n      <td>-0.84</td>\n      <td>0.43</td>\n      <td>-1.81</td>\n      <td>0.67</td>\n      <td>0.05</td>\n      <td>-2.05</td>\n      <td>-0.21</td>\n      <td>-3.51</td>\n      <td>-0.83</td>\n      <td>70</td>\n      <td>443</td>\n      <td>RKB10</td>\n    </tr>\n    <tr>\n      <th>8</th>\n      <td>0.71</td>\n      <td>0.80</td>\n      <td>0.89</td>\n      <td>0.61</td>\n      <td>1.28</td>\n      <td>0.41</td>\n      <td>0.58</td>\n      <td>1.32</td>\n      <td>0.75</td>\n      <td>1.64</td>\n      <td>1.08</td>\n      <td>70</td>\n      <td>443</td>\n      <td>RKB10</td>\n    </tr>\n    <tr>\n      <th>9</th>\n      <td>0.78</td>\n      <td>0.18</td>\n      <td>0.44</td>\n      <td>0.82</td>\n      <td>0.00</td>\n      <td>0.72</td>\n      <td>0.45</td>\n      <td>0.01</td>\n      <td>0.19</td>\n      <td>0.00</td>\n      <td>0.50</td>\n      <td>70</td>\n      <td>443</td>\n      <td>RKB10</td>\n    </tr>\n  </tbody>\n</table>\n</div>",
          "text/plain": "   Standard TN  Standard TP  Standard PO4  Standard DIN  Standard CH  \\\n0        39.12        29.53         41.46         51.79        32.91   \n1         0.87         0.47          0.69          0.88         0.03   \n2         0.41         0.03         -0.85          0.59        -1.42   \n3         0.63         0.59          0.93          0.51         1.12   \n4         0.82         0.16          0.42          0.84         0.00   \n5        42.17        12.74         38.48         62.33        41.65   \n6         0.85         0.45          0.70          0.86         0.20   \n7         0.23        -0.35         -0.84          0.43        -1.81   \n8         0.71         0.80          0.89          0.61         1.28   \n9         0.78         0.18          0.44          0.82         0.00   \n\n   Standard DO  Standard KD  Summer Observations CH  Summer Observations KD  \\\n0         3.33        41.77                    9.53                   36.14   \n1         0.87         0.52                   -0.05                    0.29   \n2         0.63         0.00                   -1.72                   -0.11   \n3         0.44         0.55                    1.15                    0.66   \n4         0.73         0.24                    0.01                    0.15   \n5         2.51        43.25                   23.03                   38.82   \n6         0.86         0.59                   -0.05                    0.28   \n7         0.67         0.05                   -2.05                   -0.21   \n8         0.41         0.58                    1.32                    0.75   \n9         0.72         0.45                    0.01                    0.19   \n\n   Winter Observations PO4  Winter Observations DIN  min. no. obs.  \\\n0                    56.66                    22.77            104   \n1                    -0.11                     0.71            104   \n2                    -6.15                    -0.31            104   \n3                     2.20                     0.96            104   \n4                     0.00                     0.53            104   \n5                    35.75                    29.59             70   \n6                    -0.04                     0.72             70   \n7                    -3.51                    -0.83             70   \n8                     1.64                     1.08             70   \n9                     0.00                     0.50             70   \n\n   max. no. obs. station  \n0            618    RKB1  \n1            618    RKB1  \n2            618    RKB1  \n3            618    RKB1  \n4            618    RKB1  \n5            443   RKB10  \n6            443   RKB10  \n7            443   RKB10  \n8            443   RKB10  \n9            443   RKB10  "
         },
         "metadata": {},
         "output_type": "display_data"
        }
       ]
      }
     },
     "d944c739aee1471ab053c1938e1cc895": {
      "model_module": "@jupyter-widgets/controls",
      "model_module_version": "1.5.0",
      "model_name": "VBoxModel",
      "state": {
       "_dom_classes": [
        "widget-interact"
       ],
       "children": [
        "IPY_MODEL_d2e2a221ef3c458cb8c184af803d89d2",
        "IPY_MODEL_d7ba02d30bbb43489e60b49d5e35e1c4"
       ],
       "layout": "IPY_MODEL_fedb0ffd3e094eaa83c4667dfd47cae9"
      }
     },
     "da10fef176844007baa8dcc531ad20b7": {
      "model_module": "@jupyter-widgets/base",
      "model_module_version": "1.2.0",
      "model_name": "LayoutModel",
      "state": {}
     },
     "da616499abb641c6be8172e0fbf638fd": {
      "model_module": "@jupyter-widgets/base",
      "model_module_version": "1.2.0",
      "model_name": "LayoutModel",
      "state": {}
     },
     "da72dfd3ed2141d5afe2864709ce0254": {
      "model_module": "@jupyter-widgets/controls",
      "model_module_version": "1.5.0",
      "model_name": "DescriptionStyleModel",
      "state": {
       "description_width": ""
      }
     },
     "dbfedbadad7049eea9a3c50b8d7f19b1": {
      "model_module": "@jupyter-widgets/base",
      "model_module_version": "1.2.0",
      "model_name": "LayoutModel",
      "state": {}
     },
     "dc14e91973e54496b0601e6c4c60f878": {
      "model_module": "@jupyter-widgets/base",
      "model_module_version": "1.2.0",
      "model_name": "LayoutModel",
      "state": {}
     },
     "dc6d8810b5ff4538bb5dcd5c4aaf4b9a": {
      "model_module": "@jupyter-widgets/output",
      "model_module_version": "1.0.0",
      "model_name": "OutputModel",
      "state": {
       "layout": "IPY_MODEL_3cc71c35616043728acc776a035560ba",
       "outputs": [
        {
         "data": {
          "text/html": "<style  type=\"text/css\" >\n</style><table id=\"T_2c0d63a4_8eb3_11ea_9947_4889e7f3390e\" ><thead>    <tr>        <th class=\"col_heading level0 col0\" >Measurement</th>        <th class=\"col_heading level0 col1\" >Percent_Bias</th>        <th class=\"col_heading level0 col2\" >Spearman_Rank_Correlation</th>        <th class=\"col_heading level0 col3\" >Efficiency_Factor</th>        <th class=\"col_heading level0 col4\" >Cost_Function</th>        <th class=\"col_heading level0 col5\" >R2</th>        <th class=\"col_heading level0 col6\" >Total_Number_Of_Observations_1</th>    </tr></thead><tbody>\n                <tr>\n                                <td id=\"T_2c0d63a4_8eb3_11ea_9947_4889e7f3390erow0_col0\" class=\"data row0 col0\" >Standard TN</td>\n                        <td id=\"T_2c0d63a4_8eb3_11ea_9947_4889e7f3390erow0_col1\" class=\"data row0 col1\" >42.2</td>\n                        <td id=\"T_2c0d63a4_8eb3_11ea_9947_4889e7f3390erow0_col2\" class=\"data row0 col2\" >0.85</td>\n                        <td id=\"T_2c0d63a4_8eb3_11ea_9947_4889e7f3390erow0_col3\" class=\"data row0 col3\" >0.23</td>\n                        <td id=\"T_2c0d63a4_8eb3_11ea_9947_4889e7f3390erow0_col4\" class=\"data row0 col4\" >0.71</td>\n                        <td id=\"T_2c0d63a4_8eb3_11ea_9947_4889e7f3390erow0_col5\" class=\"data row0 col5\" >0.78</td>\n                        <td id=\"T_2c0d63a4_8eb3_11ea_9947_4889e7f3390erow0_col6\" class=\"data row0 col6\" >441</td>\n            </tr>\n            <tr>\n                                <td id=\"T_2c0d63a4_8eb3_11ea_9947_4889e7f3390erow1_col0\" class=\"data row1 col0\" >Standard TP</td>\n                        <td id=\"T_2c0d63a4_8eb3_11ea_9947_4889e7f3390erow1_col1\" class=\"data row1 col1\" >12.7</td>\n                        <td id=\"T_2c0d63a4_8eb3_11ea_9947_4889e7f3390erow1_col2\" class=\"data row1 col2\" >0.45</td>\n                        <td id=\"T_2c0d63a4_8eb3_11ea_9947_4889e7f3390erow1_col3\" class=\"data row1 col3\" >-0.35</td>\n                        <td id=\"T_2c0d63a4_8eb3_11ea_9947_4889e7f3390erow1_col4\" class=\"data row1 col4\" >0.8</td>\n                        <td id=\"T_2c0d63a4_8eb3_11ea_9947_4889e7f3390erow1_col5\" class=\"data row1 col5\" >0.18</td>\n                        <td id=\"T_2c0d63a4_8eb3_11ea_9947_4889e7f3390erow1_col6\" class=\"data row1 col6\" >443</td>\n            </tr>\n            <tr>\n                                <td id=\"T_2c0d63a4_8eb3_11ea_9947_4889e7f3390erow2_col0\" class=\"data row2 col0\" >Standard PO4</td>\n                        <td id=\"T_2c0d63a4_8eb3_11ea_9947_4889e7f3390erow2_col1\" class=\"data row2 col1\" >38.5</td>\n                        <td id=\"T_2c0d63a4_8eb3_11ea_9947_4889e7f3390erow2_col2\" class=\"data row2 col2\" >0.7</td>\n                        <td id=\"T_2c0d63a4_8eb3_11ea_9947_4889e7f3390erow2_col3\" class=\"data row2 col3\" >-0.84</td>\n                        <td id=\"T_2c0d63a4_8eb3_11ea_9947_4889e7f3390erow2_col4\" class=\"data row2 col4\" >0.89</td>\n                        <td id=\"T_2c0d63a4_8eb3_11ea_9947_4889e7f3390erow2_col5\" class=\"data row2 col5\" >0.44</td>\n                        <td id=\"T_2c0d63a4_8eb3_11ea_9947_4889e7f3390erow2_col6\" class=\"data row2 col6\" >442</td>\n            </tr>\n            <tr>\n                                <td id=\"T_2c0d63a4_8eb3_11ea_9947_4889e7f3390erow3_col0\" class=\"data row3 col0\" >Standard DIN</td>\n                        <td id=\"T_2c0d63a4_8eb3_11ea_9947_4889e7f3390erow3_col1\" class=\"data row3 col1\" >62.3</td>\n                        <td id=\"T_2c0d63a4_8eb3_11ea_9947_4889e7f3390erow3_col2\" class=\"data row3 col2\" >0.86</td>\n                        <td id=\"T_2c0d63a4_8eb3_11ea_9947_4889e7f3390erow3_col3\" class=\"data row3 col3\" >0.43</td>\n                        <td id=\"T_2c0d63a4_8eb3_11ea_9947_4889e7f3390erow3_col4\" class=\"data row3 col4\" >0.61</td>\n                        <td id=\"T_2c0d63a4_8eb3_11ea_9947_4889e7f3390erow3_col5\" class=\"data row3 col5\" >0.82</td>\n                        <td id=\"T_2c0d63a4_8eb3_11ea_9947_4889e7f3390erow3_col6\" class=\"data row3 col6\" >441</td>\n            </tr>\n            <tr>\n                                <td id=\"T_2c0d63a4_8eb3_11ea_9947_4889e7f3390erow4_col0\" class=\"data row4 col0\" >Standard CH</td>\n                        <td id=\"T_2c0d63a4_8eb3_11ea_9947_4889e7f3390erow4_col1\" class=\"data row4 col1\" >41.7</td>\n                        <td id=\"T_2c0d63a4_8eb3_11ea_9947_4889e7f3390erow4_col2\" class=\"data row4 col2\" >0.2</td>\n                        <td id=\"T_2c0d63a4_8eb3_11ea_9947_4889e7f3390erow4_col3\" class=\"data row4 col3\" >-1.81</td>\n                        <td id=\"T_2c0d63a4_8eb3_11ea_9947_4889e7f3390erow4_col4\" class=\"data row4 col4\" >1.28</td>\n                        <td id=\"T_2c0d63a4_8eb3_11ea_9947_4889e7f3390erow4_col5\" class=\"data row4 col5\" >0</td>\n                        <td id=\"T_2c0d63a4_8eb3_11ea_9947_4889e7f3390erow4_col6\" class=\"data row4 col6\" >443</td>\n            </tr>\n            <tr>\n                                <td id=\"T_2c0d63a4_8eb3_11ea_9947_4889e7f3390erow5_col0\" class=\"data row5 col0\" >Standard DO</td>\n                        <td id=\"T_2c0d63a4_8eb3_11ea_9947_4889e7f3390erow5_col1\" class=\"data row5 col1\" >2.5</td>\n                        <td id=\"T_2c0d63a4_8eb3_11ea_9947_4889e7f3390erow5_col2\" class=\"data row5 col2\" >0.86</td>\n                        <td id=\"T_2c0d63a4_8eb3_11ea_9947_4889e7f3390erow5_col3\" class=\"data row5 col3\" >0.67</td>\n                        <td id=\"T_2c0d63a4_8eb3_11ea_9947_4889e7f3390erow5_col4\" class=\"data row5 col4\" >0.41</td>\n                        <td id=\"T_2c0d63a4_8eb3_11ea_9947_4889e7f3390erow5_col5\" class=\"data row5 col5\" >0.72</td>\n                        <td id=\"T_2c0d63a4_8eb3_11ea_9947_4889e7f3390erow5_col6\" class=\"data row5 col6\" >355</td>\n            </tr>\n            <tr>\n                                <td id=\"T_2c0d63a4_8eb3_11ea_9947_4889e7f3390erow6_col0\" class=\"data row6 col0\" >Standard KD</td>\n                        <td id=\"T_2c0d63a4_8eb3_11ea_9947_4889e7f3390erow6_col1\" class=\"data row6 col1\" >43.2</td>\n                        <td id=\"T_2c0d63a4_8eb3_11ea_9947_4889e7f3390erow6_col2\" class=\"data row6 col2\" >0.59</td>\n                        <td id=\"T_2c0d63a4_8eb3_11ea_9947_4889e7f3390erow6_col3\" class=\"data row6 col3\" >0.05</td>\n                        <td id=\"T_2c0d63a4_8eb3_11ea_9947_4889e7f3390erow6_col4\" class=\"data row6 col4\" >0.58</td>\n                        <td id=\"T_2c0d63a4_8eb3_11ea_9947_4889e7f3390erow6_col5\" class=\"data row6 col5\" >0.45</td>\n                        <td id=\"T_2c0d63a4_8eb3_11ea_9947_4889e7f3390erow6_col6\" class=\"data row6 col6\" >119</td>\n            </tr>\n            <tr>\n                                <td id=\"T_2c0d63a4_8eb3_11ea_9947_4889e7f3390erow7_col0\" class=\"data row7 col0\" >Summer Observations CH</td>\n                        <td id=\"T_2c0d63a4_8eb3_11ea_9947_4889e7f3390erow7_col1\" class=\"data row7 col1\" >23</td>\n                        <td id=\"T_2c0d63a4_8eb3_11ea_9947_4889e7f3390erow7_col2\" class=\"data row7 col2\" >-0.05</td>\n                        <td id=\"T_2c0d63a4_8eb3_11ea_9947_4889e7f3390erow7_col3\" class=\"data row7 col3\" >-2.05</td>\n                        <td id=\"T_2c0d63a4_8eb3_11ea_9947_4889e7f3390erow7_col4\" class=\"data row7 col4\" >1.32</td>\n                        <td id=\"T_2c0d63a4_8eb3_11ea_9947_4889e7f3390erow7_col5\" class=\"data row7 col5\" >0.01</td>\n                        <td id=\"T_2c0d63a4_8eb3_11ea_9947_4889e7f3390erow7_col6\" class=\"data row7 col6\" >218</td>\n            </tr>\n            <tr>\n                                <td id=\"T_2c0d63a4_8eb3_11ea_9947_4889e7f3390erow8_col0\" class=\"data row8 col0\" >Summer Observations KD</td>\n                        <td id=\"T_2c0d63a4_8eb3_11ea_9947_4889e7f3390erow8_col1\" class=\"data row8 col1\" >38.8</td>\n                        <td id=\"T_2c0d63a4_8eb3_11ea_9947_4889e7f3390erow8_col2\" class=\"data row8 col2\" >0.28</td>\n                        <td id=\"T_2c0d63a4_8eb3_11ea_9947_4889e7f3390erow8_col3\" class=\"data row8 col3\" >-0.21</td>\n                        <td id=\"T_2c0d63a4_8eb3_11ea_9947_4889e7f3390erow8_col4\" class=\"data row8 col4\" >0.75</td>\n                        <td id=\"T_2c0d63a4_8eb3_11ea_9947_4889e7f3390erow8_col5\" class=\"data row8 col5\" >0.19</td>\n                        <td id=\"T_2c0d63a4_8eb3_11ea_9947_4889e7f3390erow8_col6\" class=\"data row8 col6\" >81</td>\n            </tr>\n            <tr>\n                                <td id=\"T_2c0d63a4_8eb3_11ea_9947_4889e7f3390erow9_col0\" class=\"data row9 col0\" >Winter Observations PO4</td>\n                        <td id=\"T_2c0d63a4_8eb3_11ea_9947_4889e7f3390erow9_col1\" class=\"data row9 col1\" >35.8</td>\n                        <td id=\"T_2c0d63a4_8eb3_11ea_9947_4889e7f3390erow9_col2\" class=\"data row9 col2\" >-0.04</td>\n                        <td id=\"T_2c0d63a4_8eb3_11ea_9947_4889e7f3390erow9_col3\" class=\"data row9 col3\" >-3.51</td>\n                        <td id=\"T_2c0d63a4_8eb3_11ea_9947_4889e7f3390erow9_col4\" class=\"data row9 col4\" >1.64</td>\n                        <td id=\"T_2c0d63a4_8eb3_11ea_9947_4889e7f3390erow9_col5\" class=\"data row9 col5\" >0</td>\n                        <td id=\"T_2c0d63a4_8eb3_11ea_9947_4889e7f3390erow9_col6\" class=\"data row9 col6\" >70</td>\n            </tr>\n            <tr>\n                                <td id=\"T_2c0d63a4_8eb3_11ea_9947_4889e7f3390erow10_col0\" class=\"data row10 col0\" >Winter Observations DIN</td>\n                        <td id=\"T_2c0d63a4_8eb3_11ea_9947_4889e7f3390erow10_col1\" class=\"data row10 col1\" >29.6</td>\n                        <td id=\"T_2c0d63a4_8eb3_11ea_9947_4889e7f3390erow10_col2\" class=\"data row10 col2\" >0.72</td>\n                        <td id=\"T_2c0d63a4_8eb3_11ea_9947_4889e7f3390erow10_col3\" class=\"data row10 col3\" >-0.83</td>\n                        <td id=\"T_2c0d63a4_8eb3_11ea_9947_4889e7f3390erow10_col4\" class=\"data row10 col4\" >1.08</td>\n                        <td id=\"T_2c0d63a4_8eb3_11ea_9947_4889e7f3390erow10_col5\" class=\"data row10 col5\" >0.5</td>\n                        <td id=\"T_2c0d63a4_8eb3_11ea_9947_4889e7f3390erow10_col6\" class=\"data row10 col6\" >70</td>\n            </tr>\n    </tbody></table>",
          "text/plain": "<pandas.io.formats.style.Styler at 0x1f2506eb4e0>"
         },
         "metadata": {},
         "output_type": "display_data"
        }
       ]
      }
     },
     "dc9dfc3ba0c24641ad573e4c1260b8e4": {
      "model_module": "@jupyter-widgets/output",
      "model_module_version": "1.0.0",
      "model_name": "OutputModel",
      "state": {
       "layout": "IPY_MODEL_da616499abb641c6be8172e0fbf638fd",
       "outputs": [
        {
         "data": {
          "text/html": "<style  type=\"text/css\" >\n</style><table id=\"T_04c3bce6_8ea6_11ea_a348_4889e7f3390e\" ><thead>    <tr>        <th class=\"col_heading level0 col0\" >Measurement</th>        <th class=\"col_heading level0 col1\" >Percent_Bias</th>        <th class=\"col_heading level0 col2\" >Spearman_Rank_Correlation</th>        <th class=\"col_heading level0 col3\" >Efficiency_Factor</th>        <th class=\"col_heading level0 col4\" >Cost_Function</th>        <th class=\"col_heading level0 col5\" >R2</th>        <th class=\"col_heading level0 col6\" >Total_Number_Of_Observations_1</th>    </tr></thead><tbody>\n                <tr>\n                                <td id=\"T_04c3bce6_8ea6_11ea_a348_4889e7f3390erow0_col0\" class=\"data row0 col0\" >Standard TN</td>\n                        <td id=\"T_04c3bce6_8ea6_11ea_a348_4889e7f3390erow0_col1\" class=\"data row0 col1\" >42.2</td>\n                        <td id=\"T_04c3bce6_8ea6_11ea_a348_4889e7f3390erow0_col2\" class=\"data row0 col2\" >0.85</td>\n                        <td id=\"T_04c3bce6_8ea6_11ea_a348_4889e7f3390erow0_col3\" class=\"data row0 col3\" >0.23</td>\n                        <td id=\"T_04c3bce6_8ea6_11ea_a348_4889e7f3390erow0_col4\" class=\"data row0 col4\" >0.71</td>\n                        <td id=\"T_04c3bce6_8ea6_11ea_a348_4889e7f3390erow0_col5\" class=\"data row0 col5\" >0.78</td>\n                        <td id=\"T_04c3bce6_8ea6_11ea_a348_4889e7f3390erow0_col6\" class=\"data row0 col6\" >441</td>\n            </tr>\n            <tr>\n                                <td id=\"T_04c3bce6_8ea6_11ea_a348_4889e7f3390erow1_col0\" class=\"data row1 col0\" >Standard TP</td>\n                        <td id=\"T_04c3bce6_8ea6_11ea_a348_4889e7f3390erow1_col1\" class=\"data row1 col1\" >12.7</td>\n                        <td id=\"T_04c3bce6_8ea6_11ea_a348_4889e7f3390erow1_col2\" class=\"data row1 col2\" >0.45</td>\n                        <td id=\"T_04c3bce6_8ea6_11ea_a348_4889e7f3390erow1_col3\" class=\"data row1 col3\" >-0.35</td>\n                        <td id=\"T_04c3bce6_8ea6_11ea_a348_4889e7f3390erow1_col4\" class=\"data row1 col4\" >0.8</td>\n                        <td id=\"T_04c3bce6_8ea6_11ea_a348_4889e7f3390erow1_col5\" class=\"data row1 col5\" >0.18</td>\n                        <td id=\"T_04c3bce6_8ea6_11ea_a348_4889e7f3390erow1_col6\" class=\"data row1 col6\" >443</td>\n            </tr>\n            <tr>\n                                <td id=\"T_04c3bce6_8ea6_11ea_a348_4889e7f3390erow2_col0\" class=\"data row2 col0\" >Standard PO4</td>\n                        <td id=\"T_04c3bce6_8ea6_11ea_a348_4889e7f3390erow2_col1\" class=\"data row2 col1\" >38.5</td>\n                        <td id=\"T_04c3bce6_8ea6_11ea_a348_4889e7f3390erow2_col2\" class=\"data row2 col2\" >0.7</td>\n                        <td id=\"T_04c3bce6_8ea6_11ea_a348_4889e7f3390erow2_col3\" class=\"data row2 col3\" >-0.84</td>\n                        <td id=\"T_04c3bce6_8ea6_11ea_a348_4889e7f3390erow2_col4\" class=\"data row2 col4\" >0.89</td>\n                        <td id=\"T_04c3bce6_8ea6_11ea_a348_4889e7f3390erow2_col5\" class=\"data row2 col5\" >0.44</td>\n                        <td id=\"T_04c3bce6_8ea6_11ea_a348_4889e7f3390erow2_col6\" class=\"data row2 col6\" >442</td>\n            </tr>\n            <tr>\n                                <td id=\"T_04c3bce6_8ea6_11ea_a348_4889e7f3390erow3_col0\" class=\"data row3 col0\" >Standard DIN</td>\n                        <td id=\"T_04c3bce6_8ea6_11ea_a348_4889e7f3390erow3_col1\" class=\"data row3 col1\" >62.3</td>\n                        <td id=\"T_04c3bce6_8ea6_11ea_a348_4889e7f3390erow3_col2\" class=\"data row3 col2\" >0.86</td>\n                        <td id=\"T_04c3bce6_8ea6_11ea_a348_4889e7f3390erow3_col3\" class=\"data row3 col3\" >0.43</td>\n                        <td id=\"T_04c3bce6_8ea6_11ea_a348_4889e7f3390erow3_col4\" class=\"data row3 col4\" >0.61</td>\n                        <td id=\"T_04c3bce6_8ea6_11ea_a348_4889e7f3390erow3_col5\" class=\"data row3 col5\" >0.82</td>\n                        <td id=\"T_04c3bce6_8ea6_11ea_a348_4889e7f3390erow3_col6\" class=\"data row3 col6\" >441</td>\n            </tr>\n            <tr>\n                                <td id=\"T_04c3bce6_8ea6_11ea_a348_4889e7f3390erow4_col0\" class=\"data row4 col0\" >Standard CH</td>\n                        <td id=\"T_04c3bce6_8ea6_11ea_a348_4889e7f3390erow4_col1\" class=\"data row4 col1\" >41.7</td>\n                        <td id=\"T_04c3bce6_8ea6_11ea_a348_4889e7f3390erow4_col2\" class=\"data row4 col2\" >0.2</td>\n                        <td id=\"T_04c3bce6_8ea6_11ea_a348_4889e7f3390erow4_col3\" class=\"data row4 col3\" >-1.81</td>\n                        <td id=\"T_04c3bce6_8ea6_11ea_a348_4889e7f3390erow4_col4\" class=\"data row4 col4\" >1.28</td>\n                        <td id=\"T_04c3bce6_8ea6_11ea_a348_4889e7f3390erow4_col5\" class=\"data row4 col5\" >0</td>\n                        <td id=\"T_04c3bce6_8ea6_11ea_a348_4889e7f3390erow4_col6\" class=\"data row4 col6\" >443</td>\n            </tr>\n            <tr>\n                                <td id=\"T_04c3bce6_8ea6_11ea_a348_4889e7f3390erow5_col0\" class=\"data row5 col0\" >Standard DO</td>\n                        <td id=\"T_04c3bce6_8ea6_11ea_a348_4889e7f3390erow5_col1\" class=\"data row5 col1\" >2.5</td>\n                        <td id=\"T_04c3bce6_8ea6_11ea_a348_4889e7f3390erow5_col2\" class=\"data row5 col2\" >0.86</td>\n                        <td id=\"T_04c3bce6_8ea6_11ea_a348_4889e7f3390erow5_col3\" class=\"data row5 col3\" >0.67</td>\n                        <td id=\"T_04c3bce6_8ea6_11ea_a348_4889e7f3390erow5_col4\" class=\"data row5 col4\" >0.41</td>\n                        <td id=\"T_04c3bce6_8ea6_11ea_a348_4889e7f3390erow5_col5\" class=\"data row5 col5\" >0.72</td>\n                        <td id=\"T_04c3bce6_8ea6_11ea_a348_4889e7f3390erow5_col6\" class=\"data row5 col6\" >355</td>\n            </tr>\n            <tr>\n                                <td id=\"T_04c3bce6_8ea6_11ea_a348_4889e7f3390erow6_col0\" class=\"data row6 col0\" >Standard KD</td>\n                        <td id=\"T_04c3bce6_8ea6_11ea_a348_4889e7f3390erow6_col1\" class=\"data row6 col1\" >43.2</td>\n                        <td id=\"T_04c3bce6_8ea6_11ea_a348_4889e7f3390erow6_col2\" class=\"data row6 col2\" >0.59</td>\n                        <td id=\"T_04c3bce6_8ea6_11ea_a348_4889e7f3390erow6_col3\" class=\"data row6 col3\" >0.05</td>\n                        <td id=\"T_04c3bce6_8ea6_11ea_a348_4889e7f3390erow6_col4\" class=\"data row6 col4\" >0.58</td>\n                        <td id=\"T_04c3bce6_8ea6_11ea_a348_4889e7f3390erow6_col5\" class=\"data row6 col5\" >0.45</td>\n                        <td id=\"T_04c3bce6_8ea6_11ea_a348_4889e7f3390erow6_col6\" class=\"data row6 col6\" >119</td>\n            </tr>\n            <tr>\n                                <td id=\"T_04c3bce6_8ea6_11ea_a348_4889e7f3390erow7_col0\" class=\"data row7 col0\" >Summer Observations CH</td>\n                        <td id=\"T_04c3bce6_8ea6_11ea_a348_4889e7f3390erow7_col1\" class=\"data row7 col1\" >23</td>\n                        <td id=\"T_04c3bce6_8ea6_11ea_a348_4889e7f3390erow7_col2\" class=\"data row7 col2\" >-0.05</td>\n                        <td id=\"T_04c3bce6_8ea6_11ea_a348_4889e7f3390erow7_col3\" class=\"data row7 col3\" >-2.05</td>\n                        <td id=\"T_04c3bce6_8ea6_11ea_a348_4889e7f3390erow7_col4\" class=\"data row7 col4\" >1.32</td>\n                        <td id=\"T_04c3bce6_8ea6_11ea_a348_4889e7f3390erow7_col5\" class=\"data row7 col5\" >0.01</td>\n                        <td id=\"T_04c3bce6_8ea6_11ea_a348_4889e7f3390erow7_col6\" class=\"data row7 col6\" >218</td>\n            </tr>\n            <tr>\n                                <td id=\"T_04c3bce6_8ea6_11ea_a348_4889e7f3390erow8_col0\" class=\"data row8 col0\" >Summer Observations KD</td>\n                        <td id=\"T_04c3bce6_8ea6_11ea_a348_4889e7f3390erow8_col1\" class=\"data row8 col1\" >38.8</td>\n                        <td id=\"T_04c3bce6_8ea6_11ea_a348_4889e7f3390erow8_col2\" class=\"data row8 col2\" >0.28</td>\n                        <td id=\"T_04c3bce6_8ea6_11ea_a348_4889e7f3390erow8_col3\" class=\"data row8 col3\" >-0.21</td>\n                        <td id=\"T_04c3bce6_8ea6_11ea_a348_4889e7f3390erow8_col4\" class=\"data row8 col4\" >0.75</td>\n                        <td id=\"T_04c3bce6_8ea6_11ea_a348_4889e7f3390erow8_col5\" class=\"data row8 col5\" >0.19</td>\n                        <td id=\"T_04c3bce6_8ea6_11ea_a348_4889e7f3390erow8_col6\" class=\"data row8 col6\" >81</td>\n            </tr>\n            <tr>\n                                <td id=\"T_04c3bce6_8ea6_11ea_a348_4889e7f3390erow9_col0\" class=\"data row9 col0\" >Winter Observations PO4</td>\n                        <td id=\"T_04c3bce6_8ea6_11ea_a348_4889e7f3390erow9_col1\" class=\"data row9 col1\" >35.8</td>\n                        <td id=\"T_04c3bce6_8ea6_11ea_a348_4889e7f3390erow9_col2\" class=\"data row9 col2\" >-0.04</td>\n                        <td id=\"T_04c3bce6_8ea6_11ea_a348_4889e7f3390erow9_col3\" class=\"data row9 col3\" >-3.51</td>\n                        <td id=\"T_04c3bce6_8ea6_11ea_a348_4889e7f3390erow9_col4\" class=\"data row9 col4\" >1.64</td>\n                        <td id=\"T_04c3bce6_8ea6_11ea_a348_4889e7f3390erow9_col5\" class=\"data row9 col5\" >0</td>\n                        <td id=\"T_04c3bce6_8ea6_11ea_a348_4889e7f3390erow9_col6\" class=\"data row9 col6\" >70</td>\n            </tr>\n            <tr>\n                                <td id=\"T_04c3bce6_8ea6_11ea_a348_4889e7f3390erow10_col0\" class=\"data row10 col0\" >Winter Observations DIN</td>\n                        <td id=\"T_04c3bce6_8ea6_11ea_a348_4889e7f3390erow10_col1\" class=\"data row10 col1\" >29.6</td>\n                        <td id=\"T_04c3bce6_8ea6_11ea_a348_4889e7f3390erow10_col2\" class=\"data row10 col2\" >0.72</td>\n                        <td id=\"T_04c3bce6_8ea6_11ea_a348_4889e7f3390erow10_col3\" class=\"data row10 col3\" >-0.83</td>\n                        <td id=\"T_04c3bce6_8ea6_11ea_a348_4889e7f3390erow10_col4\" class=\"data row10 col4\" >1.08</td>\n                        <td id=\"T_04c3bce6_8ea6_11ea_a348_4889e7f3390erow10_col5\" class=\"data row10 col5\" >0.5</td>\n                        <td id=\"T_04c3bce6_8ea6_11ea_a348_4889e7f3390erow10_col6\" class=\"data row10 col6\" >70</td>\n            </tr>\n    </tbody></table>",
          "text/plain": "<pandas.io.formats.style.Styler at 0x2c23cf32d30>"
         },
         "metadata": {},
         "output_type": "display_data"
        }
       ]
      }
     },
     "dcd39b242cbc428d829353c1de5d3374": {
      "model_module": "@jupyter-widgets/base",
      "model_module_version": "1.2.0",
      "model_name": "LayoutModel",
      "state": {}
     },
     "dce3222e7a1841b9a0fb4c978d588bb2": {
      "model_module": "@jupyter-widgets/base",
      "model_module_version": "1.2.0",
      "model_name": "LayoutModel",
      "state": {}
     },
     "dddb1553c8a346c0bb074d6d1d545947": {
      "model_module": "@jupyter-widgets/base",
      "model_module_version": "1.2.0",
      "model_name": "LayoutModel",
      "state": {}
     },
     "de3913e7561049149afe72e50d25c8b4": {
      "model_module": "@jupyter-widgets/controls",
      "model_module_version": "1.5.0",
      "model_name": "DescriptionStyleModel",
      "state": {
       "description_width": ""
      }
     },
     "dffeada7b42b436185d3bad94e639440": {
      "model_module": "@jupyter-widgets/controls",
      "model_module_version": "1.5.0",
      "model_name": "DropdownModel",
      "state": {
       "_options_labels": [
        "RKB1",
        "RKB10"
       ],
       "index": 1,
       "layout": "IPY_MODEL_a4e66192fae0495c9991f72c8cde398c",
       "style": "IPY_MODEL_da72dfd3ed2141d5afe2864709ce0254"
      }
     },
     "e030a56324c44954bf29578682a3c4d8": {
      "model_module": "@jupyter-widgets/base",
      "model_module_version": "1.2.0",
      "model_name": "LayoutModel",
      "state": {}
     },
     "e05f738e5cf84f78b049e8479366ee74": {
      "model_module": "@jupyter-widgets/controls",
      "model_module_version": "1.5.0",
      "model_name": "DropdownModel",
      "state": {
       "_options_labels": [
        "RKB1",
        "RKB10"
       ],
       "description": "Station",
       "index": 0,
       "layout": "IPY_MODEL_44039efb4e604405a5ebb88b11a4999f",
       "style": "IPY_MODEL_55979aa3f9224705a5c974997847da8f"
      }
     },
     "e060f17e5a4b43cd80827b227c9b0cca": {
      "model_module": "@jupyter-widgets/output",
      "model_module_version": "1.0.0",
      "model_name": "OutputModel",
      "state": {
       "layout": "IPY_MODEL_eb382120dda543058449203303fd7d26",
       "outputs": [
        {
         "data": {
          "text/html": "<style  type=\"text/css\" >\n</style><table id=\"T_f4c608ac_8ea2_11ea_8c22_4889e7f3390e\" ><thead>    <tr>        <th class=\"col_heading level0 col0\" >Measurement</th>        <th class=\"col_heading level0 col1\" >Percent_Bias</th>        <th class=\"col_heading level0 col2\" >Spearman_Rank_Correlation</th>        <th class=\"col_heading level0 col3\" >Efficiency_Factor</th>        <th class=\"col_heading level0 col4\" >Cost_Function</th>        <th class=\"col_heading level0 col5\" >R2</th>        <th class=\"col_heading level0 col6\" >Total_Number_Of_Observations_1</th>    </tr></thead><tbody>\n                <tr>\n                                <td id=\"T_f4c608ac_8ea2_11ea_8c22_4889e7f3390erow0_col0\" class=\"data row0 col0\" >Standard TN</td>\n                        <td id=\"T_f4c608ac_8ea2_11ea_8c22_4889e7f3390erow0_col1\" class=\"data row0 col1\" >39.1157</td>\n                        <td id=\"T_f4c608ac_8ea2_11ea_8c22_4889e7f3390erow0_col2\" class=\"data row0 col2\" >0.873207</td>\n                        <td id=\"T_f4c608ac_8ea2_11ea_8c22_4889e7f3390erow0_col3\" class=\"data row0 col3\" >0.413821</td>\n                        <td id=\"T_f4c608ac_8ea2_11ea_8c22_4889e7f3390erow0_col4\" class=\"data row0 col4\" >0.633255</td>\n                        <td id=\"T_f4c608ac_8ea2_11ea_8c22_4889e7f3390erow0_col5\" class=\"data row0 col5\" >0.81712</td>\n                        <td id=\"T_f4c608ac_8ea2_11ea_8c22_4889e7f3390erow0_col6\" class=\"data row0 col6\" >609</td>\n            </tr>\n            <tr>\n                                <td id=\"T_f4c608ac_8ea2_11ea_8c22_4889e7f3390erow1_col0\" class=\"data row1 col0\" >Standard TP</td>\n                        <td id=\"T_f4c608ac_8ea2_11ea_8c22_4889e7f3390erow1_col1\" class=\"data row1 col1\" >29.5324</td>\n                        <td id=\"T_f4c608ac_8ea2_11ea_8c22_4889e7f3390erow1_col2\" class=\"data row1 col2\" >0.469051</td>\n                        <td id=\"T_f4c608ac_8ea2_11ea_8c22_4889e7f3390erow1_col3\" class=\"data row1 col3\" >0.0333628</td>\n                        <td id=\"T_f4c608ac_8ea2_11ea_8c22_4889e7f3390erow1_col4\" class=\"data row1 col4\" >0.587006</td>\n                        <td id=\"T_f4c608ac_8ea2_11ea_8c22_4889e7f3390erow1_col5\" class=\"data row1 col5\" >0.164081</td>\n                        <td id=\"T_f4c608ac_8ea2_11ea_8c22_4889e7f3390erow1_col6\" class=\"data row1 col6\" >581</td>\n            </tr>\n            <tr>\n                                <td id=\"T_f4c608ac_8ea2_11ea_8c22_4889e7f3390erow2_col0\" class=\"data row2 col0\" >Standard PO4</td>\n                        <td id=\"T_f4c608ac_8ea2_11ea_8c22_4889e7f3390erow2_col1\" class=\"data row2 col1\" >41.4631</td>\n                        <td id=\"T_f4c608ac_8ea2_11ea_8c22_4889e7f3390erow2_col2\" class=\"data row2 col2\" >0.692828</td>\n                        <td id=\"T_f4c608ac_8ea2_11ea_8c22_4889e7f3390erow2_col3\" class=\"data row2 col3\" >-0.845658</td>\n                        <td id=\"T_f4c608ac_8ea2_11ea_8c22_4889e7f3390erow2_col4\" class=\"data row2 col4\" >0.927901</td>\n                        <td id=\"T_f4c608ac_8ea2_11ea_8c22_4889e7f3390erow2_col5\" class=\"data row2 col5\" >0.41927</td>\n                        <td id=\"T_f4c608ac_8ea2_11ea_8c22_4889e7f3390erow2_col6\" class=\"data row2 col6\" >608</td>\n            </tr>\n            <tr>\n                                <td id=\"T_f4c608ac_8ea2_11ea_8c22_4889e7f3390erow3_col0\" class=\"data row3 col0\" >Standard DIN</td>\n                        <td id=\"T_f4c608ac_8ea2_11ea_8c22_4889e7f3390erow3_col1\" class=\"data row3 col1\" >51.792</td>\n                        <td id=\"T_f4c608ac_8ea2_11ea_8c22_4889e7f3390erow3_col2\" class=\"data row3 col2\" >0.877799</td>\n                        <td id=\"T_f4c608ac_8ea2_11ea_8c22_4889e7f3390erow3_col3\" class=\"data row3 col3\" >0.585518</td>\n                        <td id=\"T_f4c608ac_8ea2_11ea_8c22_4889e7f3390erow3_col4\" class=\"data row3 col4\" >0.512632</td>\n                        <td id=\"T_f4c608ac_8ea2_11ea_8c22_4889e7f3390erow3_col5\" class=\"data row3 col5\" >0.840915</td>\n                        <td id=\"T_f4c608ac_8ea2_11ea_8c22_4889e7f3390erow3_col6\" class=\"data row3 col6\" >608</td>\n            </tr>\n            <tr>\n                                <td id=\"T_f4c608ac_8ea2_11ea_8c22_4889e7f3390erow4_col0\" class=\"data row4 col0\" >Standard CH</td>\n                        <td id=\"T_f4c608ac_8ea2_11ea_8c22_4889e7f3390erow4_col1\" class=\"data row4 col1\" >32.9084</td>\n                        <td id=\"T_f4c608ac_8ea2_11ea_8c22_4889e7f3390erow4_col2\" class=\"data row4 col2\" >0.0267875</td>\n                        <td id=\"T_f4c608ac_8ea2_11ea_8c22_4889e7f3390erow4_col3\" class=\"data row4 col3\" >-1.42283</td>\n                        <td id=\"T_f4c608ac_8ea2_11ea_8c22_4889e7f3390erow4_col4\" class=\"data row4 col4\" >1.12103</td>\n                        <td id=\"T_f4c608ac_8ea2_11ea_8c22_4889e7f3390erow4_col5\" class=\"data row4 col5\" >0.00113489</td>\n                        <td id=\"T_f4c608ac_8ea2_11ea_8c22_4889e7f3390erow4_col6\" class=\"data row4 col6\" >618</td>\n            </tr>\n            <tr>\n                                <td id=\"T_f4c608ac_8ea2_11ea_8c22_4889e7f3390erow5_col0\" class=\"data row5 col0\" >Standard DO</td>\n                        <td id=\"T_f4c608ac_8ea2_11ea_8c22_4889e7f3390erow5_col1\" class=\"data row5 col1\" >3.3281</td>\n                        <td id=\"T_f4c608ac_8ea2_11ea_8c22_4889e7f3390erow5_col2\" class=\"data row5 col2\" >0.868373</td>\n                        <td id=\"T_f4c608ac_8ea2_11ea_8c22_4889e7f3390erow5_col3\" class=\"data row5 col3\" >0.633824</td>\n                        <td id=\"T_f4c608ac_8ea2_11ea_8c22_4889e7f3390erow5_col4\" class=\"data row5 col4\" >0.443552</td>\n                        <td id=\"T_f4c608ac_8ea2_11ea_8c22_4889e7f3390erow5_col5\" class=\"data row5 col5\" >0.728378</td>\n                        <td id=\"T_f4c608ac_8ea2_11ea_8c22_4889e7f3390erow5_col6\" class=\"data row5 col6\" >544</td>\n            </tr>\n            <tr>\n                                <td id=\"T_f4c608ac_8ea2_11ea_8c22_4889e7f3390erow6_col0\" class=\"data row6 col0\" >Standard KD</td>\n                        <td id=\"T_f4c608ac_8ea2_11ea_8c22_4889e7f3390erow6_col1\" class=\"data row6 col1\" >41.768</td>\n                        <td id=\"T_f4c608ac_8ea2_11ea_8c22_4889e7f3390erow6_col2\" class=\"data row6 col2\" >0.51501</td>\n                        <td id=\"T_f4c608ac_8ea2_11ea_8c22_4889e7f3390erow6_col3\" class=\"data row6 col3\" >0.00283259</td>\n                        <td id=\"T_f4c608ac_8ea2_11ea_8c22_4889e7f3390erow6_col4\" class=\"data row6 col4\" >0.552024</td>\n                        <td id=\"T_f4c608ac_8ea2_11ea_8c22_4889e7f3390erow6_col5\" class=\"data row6 col5\" >0.241064</td>\n                        <td id=\"T_f4c608ac_8ea2_11ea_8c22_4889e7f3390erow6_col6\" class=\"data row6 col6\" >548</td>\n            </tr>\n            <tr>\n                                <td id=\"T_f4c608ac_8ea2_11ea_8c22_4889e7f3390erow7_col0\" class=\"data row7 col0\" >Summer Observations CH</td>\n                        <td id=\"T_f4c608ac_8ea2_11ea_8c22_4889e7f3390erow7_col1\" class=\"data row7 col1\" >9.52543</td>\n                        <td id=\"T_f4c608ac_8ea2_11ea_8c22_4889e7f3390erow7_col2\" class=\"data row7 col2\" >-0.0472167</td>\n                        <td id=\"T_f4c608ac_8ea2_11ea_8c22_4889e7f3390erow7_col3\" class=\"data row7 col3\" >-1.72268</td>\n                        <td id=\"T_f4c608ac_8ea2_11ea_8c22_4889e7f3390erow7_col4\" class=\"data row7 col4\" >1.14742</td>\n                        <td id=\"T_f4c608ac_8ea2_11ea_8c22_4889e7f3390erow7_col5\" class=\"data row7 col5\" >0.00846729</td>\n                        <td id=\"T_f4c608ac_8ea2_11ea_8c22_4889e7f3390erow7_col6\" class=\"data row7 col6\" >281</td>\n            </tr>\n            <tr>\n                                <td id=\"T_f4c608ac_8ea2_11ea_8c22_4889e7f3390erow8_col0\" class=\"data row8 col0\" >Summer Observations KD</td>\n                        <td id=\"T_f4c608ac_8ea2_11ea_8c22_4889e7f3390erow8_col1\" class=\"data row8 col1\" >36.1418</td>\n                        <td id=\"T_f4c608ac_8ea2_11ea_8c22_4889e7f3390erow8_col2\" class=\"data row8 col2\" >0.292576</td>\n                        <td id=\"T_f4c608ac_8ea2_11ea_8c22_4889e7f3390erow8_col3\" class=\"data row8 col3\" >-0.106144</td>\n                        <td id=\"T_f4c608ac_8ea2_11ea_8c22_4889e7f3390erow8_col4\" class=\"data row8 col4\" >0.662237</td>\n                        <td id=\"T_f4c608ac_8ea2_11ea_8c22_4889e7f3390erow8_col5\" class=\"data row8 col5\" >0.148025</td>\n                        <td id=\"T_f4c608ac_8ea2_11ea_8c22_4889e7f3390erow8_col6\" class=\"data row8 col6\" >355</td>\n            </tr>\n            <tr>\n                                <td id=\"T_f4c608ac_8ea2_11ea_8c22_4889e7f3390erow9_col0\" class=\"data row9 col0\" >Winter Observations PO4</td>\n                        <td id=\"T_f4c608ac_8ea2_11ea_8c22_4889e7f3390erow9_col1\" class=\"data row9 col1\" >56.6565</td>\n                        <td id=\"T_f4c608ac_8ea2_11ea_8c22_4889e7f3390erow9_col2\" class=\"data row9 col2\" >-0.106197</td>\n                        <td id=\"T_f4c608ac_8ea2_11ea_8c22_4889e7f3390erow9_col3\" class=\"data row9 col3\" >-6.15075</td>\n                        <td id=\"T_f4c608ac_8ea2_11ea_8c22_4889e7f3390erow9_col4\" class=\"data row9 col4\" >2.19825</td>\n                        <td id=\"T_f4c608ac_8ea2_11ea_8c22_4889e7f3390erow9_col5\" class=\"data row9 col5\" >0.00278445</td>\n                        <td id=\"T_f4c608ac_8ea2_11ea_8c22_4889e7f3390erow9_col6\" class=\"data row9 col6\" >104</td>\n            </tr>\n            <tr>\n                                <td id=\"T_f4c608ac_8ea2_11ea_8c22_4889e7f3390erow10_col0\" class=\"data row10 col0\" >Winter Observations DIN</td>\n                        <td id=\"T_f4c608ac_8ea2_11ea_8c22_4889e7f3390erow10_col1\" class=\"data row10 col1\" >22.7677</td>\n                        <td id=\"T_f4c608ac_8ea2_11ea_8c22_4889e7f3390erow10_col2\" class=\"data row10 col2\" >0.709791</td>\n                        <td id=\"T_f4c608ac_8ea2_11ea_8c22_4889e7f3390erow10_col3\" class=\"data row10 col3\" >-0.311532</td>\n                        <td id=\"T_f4c608ac_8ea2_11ea_8c22_4889e7f3390erow10_col4\" class=\"data row10 col4\" >0.961416</td>\n                        <td id=\"T_f4c608ac_8ea2_11ea_8c22_4889e7f3390erow10_col5\" class=\"data row10 col5\" >0.534153</td>\n                        <td id=\"T_f4c608ac_8ea2_11ea_8c22_4889e7f3390erow10_col6\" class=\"data row10 col6\" >104</td>\n            </tr>\n    </tbody></table>",
          "text/plain": "<pandas.io.formats.style.Styler at 0x2c23cf75b38>"
         },
         "metadata": {},
         "output_type": "display_data"
        }
       ]
      }
     },
     "e2753f3415224b4da34721097ea5fa9f": {
      "model_module": "@jupyter-widgets/output",
      "model_module_version": "1.0.0",
      "model_name": "OutputModel",
      "state": {
       "layout": "IPY_MODEL_fc7216d86b7243e98f0e565b697dcc08",
       "outputs": [
        {
         "ename": "NameError",
         "evalue": "name 'station' is not defined",
         "output_type": "error",
         "traceback": [
          "\u001b[1;31m---------------------------------------------------------------------------\u001b[0m",
          "\u001b[1;31mNameError\u001b[0m                                 Traceback (most recent call last)",
          "\u001b[1;32m~\\AppData\\Local\\Continuum\\anaconda3\\lib\\site-packages\\ipywidgets\\widgets\\interaction.py\u001b[0m in \u001b[0;36mupdate\u001b[1;34m(self, *args)\u001b[0m\n\u001b[0;32m    254\u001b[0m                     \u001b[0mvalue\u001b[0m \u001b[1;33m=\u001b[0m \u001b[0mwidget\u001b[0m\u001b[1;33m.\u001b[0m\u001b[0mget_interact_value\u001b[0m\u001b[1;33m(\u001b[0m\u001b[1;33m)\u001b[0m\u001b[1;33m\u001b[0m\u001b[1;33m\u001b[0m\u001b[0m\n\u001b[0;32m    255\u001b[0m                     \u001b[0mself\u001b[0m\u001b[1;33m.\u001b[0m\u001b[0mkwargs\u001b[0m\u001b[1;33m[\u001b[0m\u001b[0mwidget\u001b[0m\u001b[1;33m.\u001b[0m\u001b[0m_kwarg\u001b[0m\u001b[1;33m]\u001b[0m \u001b[1;33m=\u001b[0m \u001b[0mvalue\u001b[0m\u001b[1;33m\u001b[0m\u001b[1;33m\u001b[0m\u001b[0m\n\u001b[1;32m--> 256\u001b[1;33m                 \u001b[0mself\u001b[0m\u001b[1;33m.\u001b[0m\u001b[0mresult\u001b[0m \u001b[1;33m=\u001b[0m \u001b[0mself\u001b[0m\u001b[1;33m.\u001b[0m\u001b[0mf\u001b[0m\u001b[1;33m(\u001b[0m\u001b[1;33m**\u001b[0m\u001b[0mself\u001b[0m\u001b[1;33m.\u001b[0m\u001b[0mkwargs\u001b[0m\u001b[1;33m)\u001b[0m\u001b[1;33m\u001b[0m\u001b[1;33m\u001b[0m\u001b[0m\n\u001b[0m\u001b[0;32m    257\u001b[0m                 \u001b[0mshow_inline_matplotlib_plots\u001b[0m\u001b[1;33m(\u001b[0m\u001b[1;33m)\u001b[0m\u001b[1;33m\u001b[0m\u001b[1;33m\u001b[0m\u001b[0m\n\u001b[0;32m    258\u001b[0m                 \u001b[1;32mif\u001b[0m \u001b[0mself\u001b[0m\u001b[1;33m.\u001b[0m\u001b[0mauto_display\u001b[0m \u001b[1;32mand\u001b[0m \u001b[0mself\u001b[0m\u001b[1;33m.\u001b[0m\u001b[0mresult\u001b[0m \u001b[1;32mis\u001b[0m \u001b[1;32mnot\u001b[0m \u001b[1;32mNone\u001b[0m\u001b[1;33m:\u001b[0m\u001b[1;33m\u001b[0m\u001b[1;33m\u001b[0m\u001b[0m\n",
          "\u001b[1;32m<ipython-input-8-893616736b82>\u001b[0m in \u001b[0;36mshow_ts\u001b[1;34m(Station)\u001b[0m\n\u001b[0;32m      5\u001b[0m     \u001b[1;33m@\u001b[0m\u001b[0minteract\u001b[0m\u001b[1;33m\u001b[0m\u001b[1;33m\u001b[0m\u001b[0m\n\u001b[0;32m      6\u001b[0m     \u001b[1;32mdef\u001b[0m \u001b[0mshow_ts\u001b[0m\u001b[1;33m(\u001b[0m\u001b[0mStation\u001b[0m\u001b[1;33m=\u001b[0m\u001b[0mstations\u001b[0m\u001b[1;33m)\u001b[0m\u001b[1;33m:\u001b[0m\u001b[1;33m\u001b[0m\u001b[1;33m\u001b[0m\u001b[0m\n\u001b[1;32m----> 7\u001b[1;33m         \u001b[0mstation_table\u001b[0m \u001b[1;33m=\u001b[0m \u001b[0mdf_all\u001b[0m\u001b[1;33m.\u001b[0m\u001b[0mloc\u001b[0m\u001b[1;33m[\u001b[0m\u001b[0mdf_all\u001b[0m\u001b[1;33m[\u001b[0m\u001b[1;34m'Station'\u001b[0m\u001b[1;33m]\u001b[0m\u001b[1;33m==\u001b[0m\u001b[0mstation\u001b[0m\u001b[1;33m]\u001b[0m\u001b[1;33m\u001b[0m\u001b[1;33m\u001b[0m\u001b[0m\n\u001b[0m\u001b[0;32m      8\u001b[0m         \u001b[0mstation_table\u001b[0m \u001b[1;33m=\u001b[0m \u001b[0mstation_table\u001b[0m\u001b[1;33m.\u001b[0m\u001b[0mdrop\u001b[0m\u001b[1;33m(\u001b[0m\u001b[1;33m[\u001b[0m\u001b[1;34m'Station'\u001b[0m\u001b[1;33m,\u001b[0m\u001b[1;34m'Standard'\u001b[0m\u001b[1;33m,\u001b[0m\u001b[1;34m'Summer'\u001b[0m\u001b[1;33m,\u001b[0m\u001b[1;34m'Winter'\u001b[0m\u001b[1;33m]\u001b[0m\u001b[1;33m,\u001b[0m \u001b[0maxis\u001b[0m\u001b[1;33m=\u001b[0m\u001b[1;36m1\u001b[0m\u001b[1;33m)\u001b[0m\u001b[1;33m\u001b[0m\u001b[1;33m\u001b[0m\u001b[0m\n\u001b[0;32m      9\u001b[0m         \u001b[0mstation_table\u001b[0m\u001b[1;33m[\u001b[0m\u001b[1;34m'Percent_Bias'\u001b[0m\u001b[1;33m]\u001b[0m \u001b[1;33m=\u001b[0m \u001b[0mround\u001b[0m\u001b[1;33m(\u001b[0m\u001b[0mstation_table\u001b[0m\u001b[1;33m[\u001b[0m\u001b[1;34m'Percent_Bias'\u001b[0m\u001b[1;33m]\u001b[0m\u001b[1;33m,\u001b[0m\u001b[1;36m1\u001b[0m\u001b[1;33m)\u001b[0m\u001b[1;33m\u001b[0m\u001b[1;33m\u001b[0m\u001b[0m\n",
          "\u001b[1;31mNameError\u001b[0m: name 'station' is not defined"
         ]
        }
       ]
      }
     },
     "e2b48d90d13d4ab5b10a0395ca69f212": {
      "model_module": "@jupyter-widgets/controls",
      "model_module_version": "1.5.0",
      "model_name": "DropdownModel",
      "state": {
       "_options_labels": [
        "Percent_Bias",
        "Spearman_Rank_Correlation",
        "Efficiency_Factor",
        "Cost_Function",
        "R2"
       ],
       "description": "QMeasure",
       "index": 0,
       "layout": "IPY_MODEL_e343e3d5479b4b00a9df2e99139d1e3b",
       "style": "IPY_MODEL_832f6f84a76e400babc2153134de3eda"
      }
     },
     "e2e92d158d6143fa90996253834a82b3": {
      "model_module": "@jupyter-widgets/base",
      "model_module_version": "1.2.0",
      "model_name": "LayoutModel",
      "state": {}
     },
     "e30133351f104fa3b771538d8a052814": {
      "model_module": "@jupyter-widgets/controls",
      "model_module_version": "1.5.0",
      "model_name": "VBoxModel",
      "state": {
       "_dom_classes": [
        "widget-interact"
       ],
       "children": [
        "IPY_MODEL_84b23e492dcc4a7895b44fb1bc0f0d18",
        "IPY_MODEL_2153e0e205ec477280e8943d651fd528",
        "IPY_MODEL_acc5fc20c37443a3ab42d7fed92cfd96"
       ],
       "layout": "IPY_MODEL_6a86191bc159468cbeabf732cf4d57de"
      }
     },
     "e343e3d5479b4b00a9df2e99139d1e3b": {
      "model_module": "@jupyter-widgets/base",
      "model_module_version": "1.2.0",
      "model_name": "LayoutModel",
      "state": {}
     },
     "e49987355fd3405f892cea34535d79c8": {
      "model_module": "@jupyter-widgets/controls",
      "model_module_version": "1.5.0",
      "model_name": "DropdownModel",
      "state": {
       "_options_labels": [
        "RKB1",
        "RKB10"
       ],
       "description": "Station",
       "index": 0,
       "layout": "IPY_MODEL_da10fef176844007baa8dcc531ad20b7",
       "style": "IPY_MODEL_c4bb5aaaea0845af820b8707520db52c"
      }
     },
     "e5e362e22eea4f5aa45cbd58168c1f69": {
      "model_module": "@jupyter-widgets/controls",
      "model_module_version": "1.5.0",
      "model_name": "DropdownModel",
      "state": {
       "_options_labels": [
        "RKB1",
        "RKB10"
       ],
       "description": "Station",
       "index": 1,
       "layout": "IPY_MODEL_b7c6dddff3dc4781aab0d6eb05ebc10b",
       "style": "IPY_MODEL_2bb37cb0bfb5444991dab5c9bbff4b4a"
      }
     },
     "e6394430fff5476db3f6f0ef99ee5d54": {
      "model_module": "@jupyter-widgets/base",
      "model_module_version": "1.2.0",
      "model_name": "LayoutModel",
      "state": {}
     },
     "e6c786a185384fa5ab4dd838f98ae463": {
      "model_module": "@jupyter-widgets/controls",
      "model_module_version": "1.5.0",
      "model_name": "DescriptionStyleModel",
      "state": {
       "description_width": ""
      }
     },
     "e9f99cf383b94f1ca78b26af69793166": {
      "model_module": "@jupyter-widgets/output",
      "model_module_version": "1.0.0",
      "model_name": "OutputModel",
      "state": {
       "layout": "IPY_MODEL_a1231e718d8d4ec5adecca0ce123dc07",
       "outputs": [
        {
         "ename": "ValueError",
         "evalue": "Length mismatch: Expected axis has 1 elements, new values have 11 elements",
         "output_type": "error",
         "traceback": [
          "\u001b[1;31m---------------------------------------------------------------------------\u001b[0m",
          "\u001b[1;31mValueError\u001b[0m                                Traceback (most recent call last)",
          "\u001b[1;32m~\\AppData\\Local\\Continuum\\anaconda3\\lib\\site-packages\\ipywidgets\\widgets\\interaction.py\u001b[0m in \u001b[0;36mupdate\u001b[1;34m(self, *args)\u001b[0m\n\u001b[0;32m    254\u001b[0m                     \u001b[0mvalue\u001b[0m \u001b[1;33m=\u001b[0m \u001b[0mwidget\u001b[0m\u001b[1;33m.\u001b[0m\u001b[0mget_interact_value\u001b[0m\u001b[1;33m(\u001b[0m\u001b[1;33m)\u001b[0m\u001b[1;33m\u001b[0m\u001b[1;33m\u001b[0m\u001b[0m\n\u001b[0;32m    255\u001b[0m                     \u001b[0mself\u001b[0m\u001b[1;33m.\u001b[0m\u001b[0mkwargs\u001b[0m\u001b[1;33m[\u001b[0m\u001b[0mwidget\u001b[0m\u001b[1;33m.\u001b[0m\u001b[0m_kwarg\u001b[0m\u001b[1;33m]\u001b[0m \u001b[1;33m=\u001b[0m \u001b[0mvalue\u001b[0m\u001b[1;33m\u001b[0m\u001b[1;33m\u001b[0m\u001b[0m\n\u001b[1;32m--> 256\u001b[1;33m                 \u001b[0mself\u001b[0m\u001b[1;33m.\u001b[0m\u001b[0mresult\u001b[0m \u001b[1;33m=\u001b[0m \u001b[0mself\u001b[0m\u001b[1;33m.\u001b[0m\u001b[0mf\u001b[0m\u001b[1;33m(\u001b[0m\u001b[1;33m**\u001b[0m\u001b[0mself\u001b[0m\u001b[1;33m.\u001b[0m\u001b[0mkwargs\u001b[0m\u001b[1;33m)\u001b[0m\u001b[1;33m\u001b[0m\u001b[1;33m\u001b[0m\u001b[0m\n\u001b[0m\u001b[0;32m    257\u001b[0m                 \u001b[0mshow_inline_matplotlib_plots\u001b[0m\u001b[1;33m(\u001b[0m\u001b[1;33m)\u001b[0m\u001b[1;33m\u001b[0m\u001b[1;33m\u001b[0m\u001b[0m\n\u001b[0;32m    258\u001b[0m                 \u001b[1;32mif\u001b[0m \u001b[0mself\u001b[0m\u001b[1;33m.\u001b[0m\u001b[0mauto_display\u001b[0m \u001b[1;32mand\u001b[0m \u001b[0mself\u001b[0m\u001b[1;33m.\u001b[0m\u001b[0mresult\u001b[0m \u001b[1;32mis\u001b[0m \u001b[1;32mnot\u001b[0m \u001b[1;32mNone\u001b[0m\u001b[1;33m:\u001b[0m\u001b[1;33m\u001b[0m\u001b[1;33m\u001b[0m\u001b[0m\n",
          "\u001b[1;32m<ipython-input-84-6ab5ac44b3b8>\u001b[0m in \u001b[0;36mshow_ts\u001b[1;34m(QMeasure)\u001b[0m\n\u001b[0;32m     10\u001b[0m             \u001b[0mstation_Obs\u001b[0m \u001b[1;33m=\u001b[0m \u001b[0mstation_tab\u001b[0m\u001b[1;33m[\u001b[0m\u001b[1;34m'Total_Number_Of_Observations_1'\u001b[0m\u001b[1;33m]\u001b[0m\u001b[1;33m\u001b[0m\u001b[1;33m\u001b[0m\u001b[0m\n\u001b[0;32m     11\u001b[0m             \u001b[0mstation_stat\u001b[0m \u001b[1;33m=\u001b[0m \u001b[0mpd\u001b[0m\u001b[1;33m.\u001b[0m\u001b[0mDataFrame\u001b[0m\u001b[1;33m(\u001b[0m\u001b[0mround\u001b[0m\u001b[1;33m(\u001b[0m\u001b[0mstation_tab\u001b[0m\u001b[1;33m[\u001b[0m\u001b[0mQmeas\u001b[0m\u001b[1;33m]\u001b[0m\u001b[1;33m.\u001b[0m\u001b[0mT\u001b[0m\u001b[1;33m,\u001b[0m\u001b[1;36m2\u001b[0m\u001b[1;33m)\u001b[0m\u001b[1;33m)\u001b[0m\u001b[1;33m\u001b[0m\u001b[1;33m\u001b[0m\u001b[0m\n\u001b[1;32m---> 12\u001b[1;33m             \u001b[0mstation_stat\u001b[0m\u001b[1;33m.\u001b[0m\u001b[0mcolumns\u001b[0m \u001b[1;33m=\u001b[0m \u001b[0mstation_Meas\u001b[0m\u001b[1;33m\u001b[0m\u001b[1;33m\u001b[0m\u001b[0m\n\u001b[0m\u001b[0;32m     13\u001b[0m             \u001b[0mmin_obs\u001b[0m \u001b[1;33m=\u001b[0m \u001b[0mmin\u001b[0m\u001b[1;33m(\u001b[0m\u001b[0mstation_Obs\u001b[0m\u001b[1;33m)\u001b[0m\u001b[1;33m\u001b[0m\u001b[1;33m\u001b[0m\u001b[0m\n\u001b[0;32m     14\u001b[0m             \u001b[0mmax_obs\u001b[0m\u001b[1;33m=\u001b[0m \u001b[0mmax\u001b[0m\u001b[1;33m(\u001b[0m\u001b[0mstation_Obs\u001b[0m\u001b[1;33m)\u001b[0m\u001b[1;33m\u001b[0m\u001b[1;33m\u001b[0m\u001b[0m\n",
          "\u001b[1;32m~\\AppData\\Local\\Continuum\\anaconda3\\lib\\site-packages\\pandas\\core\\generic.py\u001b[0m in \u001b[0;36m__setattr__\u001b[1;34m(self, name, value)\u001b[0m\n\u001b[0;32m   5078\u001b[0m         \u001b[1;32mtry\u001b[0m\u001b[1;33m:\u001b[0m\u001b[1;33m\u001b[0m\u001b[1;33m\u001b[0m\u001b[0m\n\u001b[0;32m   5079\u001b[0m             \u001b[0mobject\u001b[0m\u001b[1;33m.\u001b[0m\u001b[0m__getattribute__\u001b[0m\u001b[1;33m(\u001b[0m\u001b[0mself\u001b[0m\u001b[1;33m,\u001b[0m \u001b[0mname\u001b[0m\u001b[1;33m)\u001b[0m\u001b[1;33m\u001b[0m\u001b[1;33m\u001b[0m\u001b[0m\n\u001b[1;32m-> 5080\u001b[1;33m             \u001b[1;32mreturn\u001b[0m \u001b[0mobject\u001b[0m\u001b[1;33m.\u001b[0m\u001b[0m__setattr__\u001b[0m\u001b[1;33m(\u001b[0m\u001b[0mself\u001b[0m\u001b[1;33m,\u001b[0m \u001b[0mname\u001b[0m\u001b[1;33m,\u001b[0m \u001b[0mvalue\u001b[0m\u001b[1;33m)\u001b[0m\u001b[1;33m\u001b[0m\u001b[1;33m\u001b[0m\u001b[0m\n\u001b[0m\u001b[0;32m   5081\u001b[0m         \u001b[1;32mexcept\u001b[0m \u001b[0mAttributeError\u001b[0m\u001b[1;33m:\u001b[0m\u001b[1;33m\u001b[0m\u001b[1;33m\u001b[0m\u001b[0m\n\u001b[0;32m   5082\u001b[0m             \u001b[1;32mpass\u001b[0m\u001b[1;33m\u001b[0m\u001b[1;33m\u001b[0m\u001b[0m\n",
          "\u001b[1;32mpandas/_libs/properties.pyx\u001b[0m in \u001b[0;36mpandas._libs.properties.AxisProperty.__set__\u001b[1;34m()\u001b[0m\n",
          "\u001b[1;32m~\\AppData\\Local\\Continuum\\anaconda3\\lib\\site-packages\\pandas\\core\\generic.py\u001b[0m in \u001b[0;36m_set_axis\u001b[1;34m(self, axis, labels)\u001b[0m\n\u001b[0;32m    636\u001b[0m \u001b[1;33m\u001b[0m\u001b[0m\n\u001b[0;32m    637\u001b[0m     \u001b[1;32mdef\u001b[0m \u001b[0m_set_axis\u001b[0m\u001b[1;33m(\u001b[0m\u001b[0mself\u001b[0m\u001b[1;33m,\u001b[0m \u001b[0maxis\u001b[0m\u001b[1;33m,\u001b[0m \u001b[0mlabels\u001b[0m\u001b[1;33m)\u001b[0m\u001b[1;33m:\u001b[0m\u001b[1;33m\u001b[0m\u001b[1;33m\u001b[0m\u001b[0m\n\u001b[1;32m--> 638\u001b[1;33m         \u001b[0mself\u001b[0m\u001b[1;33m.\u001b[0m\u001b[0m_data\u001b[0m\u001b[1;33m.\u001b[0m\u001b[0mset_axis\u001b[0m\u001b[1;33m(\u001b[0m\u001b[0maxis\u001b[0m\u001b[1;33m,\u001b[0m \u001b[0mlabels\u001b[0m\u001b[1;33m)\u001b[0m\u001b[1;33m\u001b[0m\u001b[1;33m\u001b[0m\u001b[0m\n\u001b[0m\u001b[0;32m    639\u001b[0m         \u001b[0mself\u001b[0m\u001b[1;33m.\u001b[0m\u001b[0m_clear_item_cache\u001b[0m\u001b[1;33m(\u001b[0m\u001b[1;33m)\u001b[0m\u001b[1;33m\u001b[0m\u001b[1;33m\u001b[0m\u001b[0m\n\u001b[0;32m    640\u001b[0m \u001b[1;33m\u001b[0m\u001b[0m\n",
          "\u001b[1;32m~\\AppData\\Local\\Continuum\\anaconda3\\lib\\site-packages\\pandas\\core\\internals\\managers.py\u001b[0m in \u001b[0;36mset_axis\u001b[1;34m(self, axis, new_labels)\u001b[0m\n\u001b[0;32m    153\u001b[0m             raise ValueError(\n\u001b[0;32m    154\u001b[0m                 \u001b[1;34m'Length mismatch: Expected axis has {old} elements, new '\u001b[0m\u001b[1;33m\u001b[0m\u001b[1;33m\u001b[0m\u001b[0m\n\u001b[1;32m--> 155\u001b[1;33m                 'values have {new} elements'.format(old=old_len, new=new_len))\n\u001b[0m\u001b[0;32m    156\u001b[0m \u001b[1;33m\u001b[0m\u001b[0m\n\u001b[0;32m    157\u001b[0m         \u001b[0mself\u001b[0m\u001b[1;33m.\u001b[0m\u001b[0maxes\u001b[0m\u001b[1;33m[\u001b[0m\u001b[0maxis\u001b[0m\u001b[1;33m]\u001b[0m \u001b[1;33m=\u001b[0m \u001b[0mnew_labels\u001b[0m\u001b[1;33m\u001b[0m\u001b[1;33m\u001b[0m\u001b[0m\n",
          "\u001b[1;31mValueError\u001b[0m: Length mismatch: Expected axis has 1 elements, new values have 11 elements"
         ]
        }
       ]
      }
     },
     "eb382120dda543058449203303fd7d26": {
      "model_module": "@jupyter-widgets/base",
      "model_module_version": "1.2.0",
      "model_name": "LayoutModel",
      "state": {}
     },
     "eb661a8a224c477ca2c4bc1a72dc2abe": {
      "model_module": "@jupyter-widgets/base",
      "model_module_version": "1.2.0",
      "model_name": "LayoutModel",
      "state": {}
     },
     "ebcfcd2f96cb4324a13104c11d996181": {
      "model_module": "@jupyter-widgets/base",
      "model_module_version": "1.2.0",
      "model_name": "LayoutModel",
      "state": {}
     },
     "ec6442d22610418c8e00b4702a1a03e7": {
      "model_module": "@jupyter-widgets/controls",
      "model_module_version": "1.5.0",
      "model_name": "VBoxModel",
      "state": {
       "_dom_classes": [
        "widget-interact"
       ],
       "children": [
        "IPY_MODEL_d85d168b41694d98b1a0402e1a1d3f4a",
        "IPY_MODEL_8195c9ac0b7e42f694de7f2fd27a5085",
        "IPY_MODEL_69f578c5d1c440f19a2276432bca34fe"
       ],
       "layout": "IPY_MODEL_6928251b602b43e39e29a3bd6443b3fb"
      }
     },
     "ec8ae177e92c452da05ecf90764e3b76": {
      "model_module": "@jupyter-widgets/base",
      "model_module_version": "1.2.0",
      "model_name": "LayoutModel",
      "state": {}
     },
     "ee70684160ca4a6a893237ffcafa795a": {
      "model_module": "@jupyter-widgets/base",
      "model_module_version": "1.2.0",
      "model_name": "LayoutModel",
      "state": {}
     },
     "ef8d6db7fe834eaa9997764ee36205f4": {
      "model_module": "@jupyter-widgets/controls",
      "model_module_version": "1.5.0",
      "model_name": "VBoxModel",
      "state": {
       "_dom_classes": [
        "widget-interact"
       ],
       "children": [
        "IPY_MODEL_048ba9c79d6342c7863cd66f492a874e",
        "IPY_MODEL_d5c569e821d34bdd8f9d4e7b3e135ee2"
       ],
       "layout": "IPY_MODEL_2e95dd92bdb3425e889a938427fb15b7"
      }
     },
     "efc9b89ccdad41fc8e307b72486a0a03": {
      "model_module": "@jupyter-widgets/controls",
      "model_module_version": "1.5.0",
      "model_name": "DescriptionStyleModel",
      "state": {
       "description_width": ""
      }
     },
     "f01707e747d246a5a1e62bd4468a40ed": {
      "model_module": "@jupyter-widgets/controls",
      "model_module_version": "1.5.0",
      "model_name": "DropdownModel",
      "state": {
       "_options_labels": [
        "RKB1",
        "RKB10"
       ],
       "description": "Station",
       "index": 0,
       "layout": "IPY_MODEL_ec8ae177e92c452da05ecf90764e3b76",
       "style": "IPY_MODEL_c5fd1fc007854a4b98033be5a2d04fb2"
      }
     },
     "f01d6e66b69441ba8bb113d93c81f6ab": {
      "model_module": "@jupyter-widgets/controls",
      "model_module_version": "1.5.0",
      "model_name": "DropdownModel",
      "state": {
       "_options_labels": [
        "CH",
        "DO",
        "KD",
        "DIN",
        "DIP",
        "TN",
        "TP"
       ],
       "description": "Parameter",
       "index": 0,
       "layout": "IPY_MODEL_0745072acbbb47c0a4de1509afe611d3",
       "style": "IPY_MODEL_0e5d362c18a34c6c9df45ba74f6f9119"
      }
     },
     "f05f46f9763f428aa12656e7475101fe": {
      "model_module": "@jupyter-widgets/base",
      "model_module_version": "1.2.0",
      "model_name": "LayoutModel",
      "state": {}
     },
     "f06c7d0d84004d249f79086a0b733bdc": {
      "model_module": "@jupyter-widgets/controls",
      "model_module_version": "1.5.0",
      "model_name": "DropdownModel",
      "state": {
       "_options_labels": [
        "RKB1",
        "RKB10"
       ],
       "description": "Station",
       "index": 0,
       "layout": "IPY_MODEL_90f94d70d48b49748f3b788b8054e535",
       "style": "IPY_MODEL_6b3afd32b1d24f09858d683ddcb78e97"
      }
     },
     "f103b95121834e70903ca063c33ecd4c": {
      "model_module": "@jupyter-widgets/base",
      "model_module_version": "1.2.0",
      "model_name": "LayoutModel",
      "state": {}
     },
     "f20ba55cb58b4ee0915d2bd17c110fe5": {
      "model_module": "@jupyter-widgets/base",
      "model_module_version": "1.2.0",
      "model_name": "LayoutModel",
      "state": {}
     },
     "f275f2e38b4f4cd5b062cc86417942be": {
      "model_module": "@jupyter-widgets/controls",
      "model_module_version": "1.5.0",
      "model_name": "DropdownModel",
      "state": {
       "_options_labels": [
        "Percent_Bias",
        "Spearman_Rank_Correlation",
        "Efficiency_Factor",
        "Cost_Function",
        "R2"
       ],
       "description": "QMeasure",
       "index": 0,
       "layout": "IPY_MODEL_a9ae1f33ed81467487b346c815aedf27",
       "style": "IPY_MODEL_2432d57ae8e642669c940f69aa4e697a"
      }
     },
     "f388f589e36c490694465d401e35a4f6": {
      "model_module": "@jupyter-widgets/base",
      "model_module_version": "1.2.0",
      "model_name": "LayoutModel",
      "state": {}
     },
     "f3b736cde4bd4396b1f804f064968ea6": {
      "model_module": "@jupyter-widgets/controls",
      "model_module_version": "1.5.0",
      "model_name": "DropdownModel",
      "state": {
       "_options_labels": [
        "Percent_Bias",
        "Spearman_Rank_Correlation",
        "Efficiency_Factor",
        "Cost_Function",
        "R2"
       ],
       "description": "QMeasure",
       "index": 0,
       "layout": "IPY_MODEL_f388f589e36c490694465d401e35a4f6",
       "style": "IPY_MODEL_66043d8a61374641ada9300a0b2ad5a1"
      }
     },
     "f3fc3e3aff8e4fb2b3d6179f533b5aa2": {
      "model_module": "@jupyter-widgets/base",
      "model_module_version": "1.2.0",
      "model_name": "LayoutModel",
      "state": {}
     },
     "f49796c055a14217bcc14a65f3083f30": {
      "model_module": "@jupyter-widgets/base",
      "model_module_version": "1.2.0",
      "model_name": "LayoutModel",
      "state": {}
     },
     "f502e2b0193446658830222abcaff712": {
      "model_module": "@jupyter-widgets/controls",
      "model_module_version": "1.5.0",
      "model_name": "IntSliderModel",
      "state": {
       "description": "x",
       "layout": "IPY_MODEL_18ca27686d594ebd9ba40b7e84b5f582",
       "max": 6,
       "min": -2,
       "style": "IPY_MODEL_73994694040d4d6e830c55479100b913",
       "value": 2
      }
     },
     "f50378ed048b4b63a77fbffb3fec9c56": {
      "model_module": "@jupyter-widgets/base",
      "model_module_version": "1.2.0",
      "model_name": "LayoutModel",
      "state": {}
     },
     "f51ae3eaa18d46dd9679d751192da27c": {
      "model_module": "@jupyter-widgets/controls",
      "model_module_version": "1.5.0",
      "model_name": "IntSliderModel",
      "state": {
       "description": "x",
       "layout": "IPY_MODEL_8ec5ff2f55d745bdadf9f5c5f4d6d209",
       "max": 3,
       "min": -1,
       "style": "IPY_MODEL_2e6b7fbe403c48b0a4d397104b110184",
       "value": 2
      }
     },
     "f7c937c6070f4d15b72416dfafced052": {
      "model_module": "@jupyter-widgets/controls",
      "model_module_version": "1.5.0",
      "model_name": "VBoxModel",
      "state": {
       "_dom_classes": [
        "widget-interact"
       ],
       "children": [
        "IPY_MODEL_c91003883db847ea9cd32f9cadd74a05",
        "IPY_MODEL_e9f99cf383b94f1ca78b26af69793166"
       ],
       "layout": "IPY_MODEL_dc14e91973e54496b0601e6c4c60f878"
      }
     },
     "f9f3fe557b594b30b2f62ec3daa63f41": {
      "model_module": "@jupyter-widgets/base",
      "model_module_version": "1.2.0",
      "model_name": "LayoutModel",
      "state": {}
     },
     "fa5ceec8b8154b7abbbc7a9f0433179a": {
      "model_module": "@jupyter-widgets/base",
      "model_module_version": "1.2.0",
      "model_name": "LayoutModel",
      "state": {}
     },
     "fac07a1e06644ff8b7d223038ee63b74": {
      "model_module": "@jupyter-widgets/controls",
      "model_module_version": "1.5.0",
      "model_name": "VBoxModel",
      "state": {
       "_dom_classes": [
        "widget-interact"
       ],
       "children": [
        "IPY_MODEL_f01d6e66b69441ba8bb113d93c81f6ab",
        "IPY_MODEL_04ee057b114a4ee1a7013245cff6dda4",
        "IPY_MODEL_a49366777f564ad19bbb4954c11fec0c"
       ],
       "layout": "IPY_MODEL_6dfea8f5e1e649dc8a8c9b080414ab7d"
      }
     },
     "fbe42a5877034b46a1b7b0b2da639569": {
      "model_module": "@jupyter-widgets/base",
      "model_module_version": "1.2.0",
      "model_name": "LayoutModel",
      "state": {}
     },
     "fbebb9ce6c184d9ca482006e9c794fb2": {
      "model_module": "@jupyter-widgets/controls",
      "model_module_version": "1.5.0",
      "model_name": "DescriptionStyleModel",
      "state": {
       "description_width": ""
      }
     },
     "fc7216d86b7243e98f0e565b697dcc08": {
      "model_module": "@jupyter-widgets/base",
      "model_module_version": "1.2.0",
      "model_name": "LayoutModel",
      "state": {}
     },
     "fedb0ffd3e094eaa83c4667dfd47cae9": {
      "model_module": "@jupyter-widgets/base",
      "model_module_version": "1.2.0",
      "model_name": "LayoutModel",
      "state": {}
     },
     "fee14a590efc46f8bfac80996e220765": {
      "model_module": "@jupyter-widgets/output",
      "model_module_version": "1.0.0",
      "model_name": "OutputModel",
      "state": {
       "layout": "IPY_MODEL_30b1ac2df18d48ffb008ca664b2fae6f",
       "outputs": [
        {
         "ename": "IndexError",
         "evalue": "index 2 is out of bounds for axis 0 with size 2",
         "output_type": "error",
         "traceback": [
          "\u001b[1;31m---------------------------------------------------------------------------\u001b[0m",
          "\u001b[1;31mIndexError\u001b[0m                                Traceback (most recent call last)",
          "\u001b[1;32m~\\AppData\\Local\\Continuum\\anaconda3\\lib\\site-packages\\ipywidgets\\widgets\\interaction.py\u001b[0m in \u001b[0;36mupdate\u001b[1;34m(self, *args)\u001b[0m\n\u001b[0;32m    254\u001b[0m                     \u001b[0mvalue\u001b[0m \u001b[1;33m=\u001b[0m \u001b[0mwidget\u001b[0m\u001b[1;33m.\u001b[0m\u001b[0mget_interact_value\u001b[0m\u001b[1;33m(\u001b[0m\u001b[1;33m)\u001b[0m\u001b[1;33m\u001b[0m\u001b[1;33m\u001b[0m\u001b[0m\n\u001b[0;32m    255\u001b[0m                     \u001b[0mself\u001b[0m\u001b[1;33m.\u001b[0m\u001b[0mkwargs\u001b[0m\u001b[1;33m[\u001b[0m\u001b[0mwidget\u001b[0m\u001b[1;33m.\u001b[0m\u001b[0m_kwarg\u001b[0m\u001b[1;33m]\u001b[0m \u001b[1;33m=\u001b[0m \u001b[0mvalue\u001b[0m\u001b[1;33m\u001b[0m\u001b[1;33m\u001b[0m\u001b[0m\n\u001b[1;32m--> 256\u001b[1;33m                 \u001b[0mself\u001b[0m\u001b[1;33m.\u001b[0m\u001b[0mresult\u001b[0m \u001b[1;33m=\u001b[0m \u001b[0mself\u001b[0m\u001b[1;33m.\u001b[0m\u001b[0mf\u001b[0m\u001b[1;33m(\u001b[0m\u001b[1;33m**\u001b[0m\u001b[0mself\u001b[0m\u001b[1;33m.\u001b[0m\u001b[0mkwargs\u001b[0m\u001b[1;33m)\u001b[0m\u001b[1;33m\u001b[0m\u001b[1;33m\u001b[0m\u001b[0m\n\u001b[0m\u001b[0;32m    257\u001b[0m                 \u001b[0mshow_inline_matplotlib_plots\u001b[0m\u001b[1;33m(\u001b[0m\u001b[1;33m)\u001b[0m\u001b[1;33m\u001b[0m\u001b[1;33m\u001b[0m\u001b[0m\n\u001b[0;32m    258\u001b[0m                 \u001b[1;32mif\u001b[0m \u001b[0mself\u001b[0m\u001b[1;33m.\u001b[0m\u001b[0mauto_display\u001b[0m \u001b[1;32mand\u001b[0m \u001b[0mself\u001b[0m\u001b[1;33m.\u001b[0m\u001b[0mresult\u001b[0m \u001b[1;32mis\u001b[0m \u001b[1;32mnot\u001b[0m \u001b[1;32mNone\u001b[0m\u001b[1;33m:\u001b[0m\u001b[1;33m\u001b[0m\u001b[1;33m\u001b[0m\u001b[0m\n",
          "\u001b[1;32m<ipython-input-14-b8d1da635b60>\u001b[0m in \u001b[0;36mshow_ts\u001b[1;34m(Station, x)\u001b[0m\n\u001b[0;32m      6\u001b[0m     \u001b[1;32mdef\u001b[0m \u001b[0mshow_ts\u001b[0m\u001b[1;33m(\u001b[0m\u001b[0mStation\u001b[0m\u001b[1;33m=\u001b[0m\u001b[0mstations\u001b[0m\u001b[1;33m,\u001b[0m \u001b[0mx\u001b[0m \u001b[1;33m=\u001b[0m \u001b[0mlen\u001b[0m\u001b[1;33m(\u001b[0m\u001b[0mstations\u001b[0m\u001b[1;33m)\u001b[0m\u001b[1;33m)\u001b[0m\u001b[1;33m:\u001b[0m\u001b[1;33m\u001b[0m\u001b[1;33m\u001b[0m\u001b[0m\n\u001b[0;32m      7\u001b[0m \u001b[1;33m\u001b[0m\u001b[0m\n\u001b[1;32m----> 8\u001b[1;33m         \u001b[0mstation_table\u001b[0m \u001b[1;33m=\u001b[0m \u001b[0mdf_all\u001b[0m\u001b[1;33m.\u001b[0m\u001b[0mloc\u001b[0m\u001b[1;33m[\u001b[0m\u001b[0mdf_all\u001b[0m\u001b[1;33m[\u001b[0m\u001b[1;34m'Station'\u001b[0m\u001b[1;33m]\u001b[0m\u001b[1;33m==\u001b[0m\u001b[0mstations\u001b[0m\u001b[1;33m[\u001b[0m\u001b[0mx\u001b[0m\u001b[1;33m]\u001b[0m\u001b[1;33m]\u001b[0m\u001b[1;33m\u001b[0m\u001b[1;33m\u001b[0m\u001b[0m\n\u001b[0m\u001b[0;32m      9\u001b[0m         \u001b[0mstation_table\u001b[0m \u001b[1;33m=\u001b[0m \u001b[0mstation_table\u001b[0m\u001b[1;33m.\u001b[0m\u001b[0mdrop\u001b[0m\u001b[1;33m(\u001b[0m\u001b[1;33m[\u001b[0m\u001b[1;34m'Station'\u001b[0m\u001b[1;33m,\u001b[0m\u001b[1;34m'Standard'\u001b[0m\u001b[1;33m,\u001b[0m\u001b[1;34m'Summer'\u001b[0m\u001b[1;33m,\u001b[0m\u001b[1;34m'Winter'\u001b[0m\u001b[1;33m]\u001b[0m\u001b[1;33m,\u001b[0m \u001b[0maxis\u001b[0m\u001b[1;33m=\u001b[0m\u001b[1;36m1\u001b[0m\u001b[1;33m)\u001b[0m\u001b[1;33m\u001b[0m\u001b[1;33m\u001b[0m\u001b[0m\n\u001b[0;32m     10\u001b[0m         \u001b[0mstation_table\u001b[0m\u001b[1;33m[\u001b[0m\u001b[1;34m'Percent_Bias'\u001b[0m\u001b[1;33m]\u001b[0m \u001b[1;33m=\u001b[0m \u001b[0mround\u001b[0m\u001b[1;33m(\u001b[0m\u001b[0mstation_table\u001b[0m\u001b[1;33m[\u001b[0m\u001b[1;34m'Percent_Bias'\u001b[0m\u001b[1;33m]\u001b[0m\u001b[1;33m,\u001b[0m\u001b[1;36m1\u001b[0m\u001b[1;33m)\u001b[0m\u001b[1;33m\u001b[0m\u001b[1;33m\u001b[0m\u001b[0m\n",
          "\u001b[1;31mIndexError\u001b[0m: index 2 is out of bounds for axis 0 with size 2"
         ]
        }
       ]
      }
     }
    },
    "version_major": 2,
    "version_minor": 0
   }
  }
 },
 "nbformat": 4,
 "nbformat_minor": 2
}
